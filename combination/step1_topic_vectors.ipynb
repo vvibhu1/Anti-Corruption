{
 "cells": [
  {
   "cell_type": "code",
   "execution_count": 2,
   "metadata": {},
   "outputs": [
    {
     "name": "stderr",
     "output_type": "stream",
     "text": [
      "/Users/yanglingxi/opt/anaconda3/envs/py37/lib/python3.7/site-packages/ipykernel/ipkernel.py:287: DeprecationWarning: `should_run_async` will not call `transform_cell` automatically in the future. Please pass the result to `transformed_cell` argument and any exception that happen during thetransform in `preprocessing_exc_tuple` in IPython 7.17 and above.\n",
      "  and should_run_async(code)\n"
     ]
    }
   ],
   "source": [
    "import numpy as np\n",
    "import pandas as pd\n",
    "import re, nltk, spacy, gensim\n",
    "\n",
    "# Sklearn\n",
    "from sklearn.decomposition import LatentDirichletAllocation, TruncatedSVD\n",
    "from sklearn.feature_extraction.text import CountVectorizer, TfidfVectorizer\n",
    "from sklearn.model_selection import GridSearchCV\n",
    "from pprint import pprint\n",
    "\n",
    "# Plotting tools\n",
    "import pyLDAvis\n",
    "import pyLDAvis.sklearn\n",
    "import matplotlib.pyplot as plt\n",
    "\n",
    "%matplotlib inline"
   ]
  },
  {
   "cell_type": "code",
   "execution_count": 3,
   "metadata": {},
   "outputs": [
    {
     "name": "stdout",
     "output_type": "stream",
     "text": [
      "/Users/yanglingxi/Desktop/deloitte\n"
     ]
    },
    {
     "name": "stderr",
     "output_type": "stream",
     "text": [
      "/Users/yanglingxi/opt/anaconda3/envs/py37/lib/python3.7/site-packages/ipykernel/ipkernel.py:287: DeprecationWarning: `should_run_async` will not call `transform_cell` automatically in the future. Please pass the result to `transformed_cell` argument and any exception that happen during thetransform in `preprocessing_exc_tuple` in IPython 7.17 and above.\n",
      "  and should_run_async(code)\n"
     ]
    }
   ],
   "source": [
    "cd /Users/yanglingxi/Desktop/deloitte"
   ]
  },
  {
   "cell_type": "code",
   "execution_count": 4,
   "metadata": {},
   "outputs": [
    {
     "name": "stderr",
     "output_type": "stream",
     "text": [
      "/Users/yanglingxi/opt/anaconda3/envs/py37/lib/python3.7/site-packages/ipykernel/ipkernel.py:287: DeprecationWarning: `should_run_async` will not call `transform_cell` automatically in the future. Please pass the result to `transformed_cell` argument and any exception that happen during thetransform in `preprocessing_exc_tuple` in IPython 7.17 and above.\n",
      "  and should_run_async(code)\n"
     ]
    }
   ],
   "source": [
    "# Import Dataset\n",
    "df= pd.read_csv('USAID_Anticorruption_Projects_Database.csv')\n",
    "df.drop(['proj_res','rfp_rftop','final_res','mind_eval','final_eval','audit','interim_rep','addl_docs','addl_info'],axis=1,inplace=True)"
   ]
  },
  {
   "cell_type": "code",
   "execution_count": 5,
   "metadata": {},
   "outputs": [
    {
     "name": "stdout",
     "output_type": "stream",
     "text": [
      "['The five components of this program seek to take what already exists and '\n",
      " 'improve upon it, implement it and find ways to ensure that the progress '\n",
      " 'achieved is sustainable over the long term. The project will help the '\n",
      " 'government of the Islamic Republic of Afghanistan strengthen its High Office '\n",
      " 'of Oversight (HOO) - making it a strong, effective institution that is able '\n",
      " 'to lead, monitor, coordinate and report on efforts to combat corruption '\n",
      " 'across the country. The project will work and implement a program of '\n",
      " 'institutional development and sustainability. It will also support the '\n",
      " 'office in carrying out its priority responsibilities in asset registration '\n",
      " 'and verification, complaints management and case tracking, and coordination '\n",
      " 'and monitoring of anticorruption performance across other government '\n",
      " 'agencies.']\n"
     ]
    },
    {
     "name": "stderr",
     "output_type": "stream",
     "text": [
      "/Users/yanglingxi/opt/anaconda3/envs/py37/lib/python3.7/site-packages/ipykernel/ipkernel.py:287: DeprecationWarning: `should_run_async` will not call `transform_cell` automatically in the future. Please pass the result to `transformed_cell` argument and any exception that happen during thetransform in `preprocessing_exc_tuple` in IPython 7.17 and above.\n",
      "  and should_run_async(code)\n"
     ]
    }
   ],
   "source": [
    "# Convert to list\n",
    "data = df.proj_desc.values.tolist()\n",
    "\n",
    "# Remove distracting single quotes\n",
    "data = [re.sub(\"\\'\", \"\", sent) for sent in data]\n",
    "\n",
    "pprint(data[:1])"
   ]
  },
  {
   "cell_type": "code",
   "execution_count": 6,
   "metadata": {},
   "outputs": [
    {
     "name": "stderr",
     "output_type": "stream",
     "text": [
      "/Users/yanglingxi/opt/anaconda3/envs/py37/lib/python3.7/site-packages/ipykernel/ipkernel.py:287: DeprecationWarning: `should_run_async` will not call `transform_cell` automatically in the future. Please pass the result to `transformed_cell` argument and any exception that happen during thetransform in `preprocessing_exc_tuple` in IPython 7.17 and above.\n",
      "  and should_run_async(code)\n"
     ]
    },
    {
     "name": "stdout",
     "output_type": "stream",
     "text": [
      "[['the', 'five', 'components', 'of', 'this', 'program', 'seek', 'to', 'take', 'what', 'already', 'exists', 'and', 'improve', 'upon', 'it', 'implement', 'it', 'and', 'find', 'ways', 'to', 'ensure', 'that', 'the', 'progress', 'achieved', 'is', 'sustainable', 'over', 'the', 'long', 'term', 'the', 'project', 'will', 'help', 'the', 'government', 'of', 'the', 'islamic', 'republic', 'of', 'afghanistan', 'strengthen', 'its', 'high', 'office', 'of', 'oversight', 'hoo', 'making', 'it', 'strong', 'effective', 'institution', 'that', 'is', 'able', 'to', 'lead', 'monitor', 'coordinate', 'and', 'report', 'on', 'efforts', 'to', 'combat', 'corruption', 'across', 'the', 'country', 'the', 'project', 'will', 'work', 'and', 'implement', 'program', 'of', 'institutional', 'development', 'and', 'sustainability', 'it', 'will', 'also', 'support', 'the', 'office', 'in', 'carrying', 'out', 'its', 'priority', 'in', 'asset', 'registration', 'and', 'verification', 'complaints', 'management', 'and', 'case', 'tracking', 'and', 'coordination', 'and', 'monitoring', 'of', 'anticorruption', 'performance', 'across', 'other', 'government', 'agencies']]\n"
     ]
    }
   ],
   "source": [
    "#tokenize and clean up using gensim \n",
    "\n",
    "def sent_to_words(sentences):\n",
    "    for sentence in sentences:\n",
    "        yield(gensim.utils.simple_preprocess(str(sentence), deacc=True))  # deacc=True removes punctuations\n",
    "\n",
    "data_words = list(sent_to_words(data))\n",
    "\n",
    "print(data_words[:1])\n"
   ]
  },
  {
   "cell_type": "code",
   "execution_count": 7,
   "metadata": {},
   "outputs": [
    {
     "name": "stderr",
     "output_type": "stream",
     "text": [
      "/Users/yanglingxi/opt/anaconda3/envs/py37/lib/python3.7/site-packages/ipykernel/ipkernel.py:287: DeprecationWarning: `should_run_async` will not call `transform_cell` automatically in the future. Please pass the result to `transformed_cell` argument and any exception that happen during thetransform in `preprocessing_exc_tuple` in IPython 7.17 and above.\n",
      "  and should_run_async(code)\n"
     ]
    },
    {
     "name": "stdout",
     "output_type": "stream",
     "text": [
      "['component program seek take already exist improve implement find way ensure progress achieve sustainable long term project will help government strengthen high office oversight hoo make strong effective institution able lead monitor coordinate report effort combat corruption country project will work implement program institutional development sustainability will also support office carry priority asset registration verification complaint management case tracking coordination monitoring anticorruption performance other government agency', 'overall goal program support rule law strategy specifically pillar improve justice sector reduce corruption pillar build leadership justice sector civil society support pillar contractor attempt develop capacity judiciary law school pillar contractor work raise public awareness encourage citizen resolve dispute formal justice sector program divide component capacity building judiciary capacity building court management system capacity building faculty law finally public legal outreach awareness strategic communication']\n"
     ]
    }
   ],
   "source": [
    "#lemmatization\n",
    "\n",
    "def lemmatization(texts, allowed_postags=['NOUN', 'ADJ', 'VERB', 'ADV']):\n",
    "    \"\"\"https://spacy.io/api/annotation\"\"\"\n",
    "    texts_out = []\n",
    "    for sent in texts:\n",
    "        doc = nlp(\" \".join(sent)) \n",
    "        texts_out.append(\" \".join([token.lemma_ if token.lemma_ not in ['-PRON-'] else '' for token in doc if token.pos_ in allowed_postags]))\n",
    "    return texts_out\n",
    "\n",
    "# Initialize spacy 'en' model, keeping only tagger component (for efficiency)\n",
    "# Run in terminal: python3 -m spacy download en\n",
    "nlp = spacy.load('en', disable=['parser', 'ner'])\n",
    "\n",
    "# Do lemmatization keeping only Noun, Adj, Verb, Adverb\n",
    "data_lemmatized = lemmatization(data_words, allowed_postags=['NOUN', 'ADJ', 'VERB', 'ADV'])\n",
    "\n",
    "print(data_lemmatized[:2])"
   ]
  },
  {
   "cell_type": "code",
   "execution_count": 8,
   "metadata": {},
   "outputs": [
    {
     "name": "stderr",
     "output_type": "stream",
     "text": [
      "/Users/yanglingxi/opt/anaconda3/envs/py37/lib/python3.7/site-packages/ipykernel/ipkernel.py:287: DeprecationWarning: `should_run_async` will not call `transform_cell` automatically in the future. Please pass the result to `transformed_cell` argument and any exception that happen during thetransform in `preprocessing_exc_tuple` in IPython 7.17 and above.\n",
      "  and should_run_async(code)\n"
     ]
    }
   ],
   "source": [
    "## TFIDF\n",
    "\n",
    "\n",
    "vectorizer = TfidfVectorizer(analyzer='word',       \n",
    "                             min_df=10,                        # minimum reqd occurences of a word \n",
    "                             stop_words='english',             # remove stop words\n",
    "                             lowercase=True,                   # convert all words to lowercase\n",
    "                             token_pattern='[a-zA-Z0-9]{3,}',  # num chars > 3\n",
    "                             ngram_range=(1,3)             # max number of uniq words\n",
    "                            )\n",
    "\n",
    "data_vectorized = vectorizer.fit_transform(data_lemmatized)"
   ]
  },
  {
   "cell_type": "code",
   "execution_count": 9,
   "metadata": {},
   "outputs": [
    {
     "name": "stdout",
     "output_type": "stream",
     "text": [
      "Sparsicity:  9.346462864981383 %\n"
     ]
    },
    {
     "name": "stderr",
     "output_type": "stream",
     "text": [
      "/Users/yanglingxi/opt/anaconda3/envs/py37/lib/python3.7/site-packages/ipykernel/ipkernel.py:287: DeprecationWarning: `should_run_async` will not call `transform_cell` automatically in the future. Please pass the result to `transformed_cell` argument and any exception that happen during thetransform in `preprocessing_exc_tuple` in IPython 7.17 and above.\n",
      "  and should_run_async(code)\n"
     ]
    }
   ],
   "source": [
    "#Checking the sparcity\n",
    "\n",
    "# Materialize the sparse data\n",
    "data_dense = data_vectorized.todense()\n",
    "\n",
    "# Compute Sparsicity = Percentage of Non-Zero cells\n",
    "print(\"Sparsicity: \", ((data_dense > 0).sum()/data_dense.size)*100, \"%\")"
   ]
  },
  {
   "cell_type": "code",
   "execution_count": 10,
   "metadata": {},
   "outputs": [
    {
     "name": "stderr",
     "output_type": "stream",
     "text": [
      "/Users/yanglingxi/opt/anaconda3/envs/py37/lib/python3.7/site-packages/ipykernel/ipkernel.py:287: DeprecationWarning: `should_run_async` will not call `transform_cell` automatically in the future. Please pass the result to `transformed_cell` argument and any exception that happen during thetransform in `preprocessing_exc_tuple` in IPython 7.17 and above.\n",
      "  and should_run_async(code)\n"
     ]
    },
    {
     "name": "stdout",
     "output_type": "stream",
     "text": [
      "LatentDirichletAllocation(learning_method='online', n_components=20, n_jobs=-1,\n",
      "                          random_state=100)\n"
     ]
    }
   ],
   "source": [
    "## BASE MODEL\n",
    "\n",
    "\n",
    "\n",
    "# Build LDA Model\n",
    "lda_model = LatentDirichletAllocation(n_components=20,               # Number of topics\n",
    "                                      max_iter=10,               # Max learning iterations\n",
    "                                      learning_method='online',   \n",
    "                                      random_state=100,          # Random state\n",
    "                                      batch_size=128,            # n docs in each learning iter\n",
    "                                      evaluate_every = -1,       # compute perplexity every n iters, default: Don't\n",
    "                                      n_jobs = -1,               # Use all available CPUs\n",
    "                                     )\n",
    "lda_output = lda_model.fit_transform(data_vectorized)\n",
    "\n",
    "print(lda_model)  # Model attributes"
   ]
  },
  {
   "cell_type": "code",
   "execution_count": 11,
   "metadata": {},
   "outputs": [
    {
     "name": "stdout",
     "output_type": "stream",
     "text": [
      "Log Likelihood:  -11555.739701306189\n"
     ]
    },
    {
     "name": "stderr",
     "output_type": "stream",
     "text": [
      "/Users/yanglingxi/opt/anaconda3/envs/py37/lib/python3.7/site-packages/ipykernel/ipkernel.py:287: DeprecationWarning: `should_run_async` will not call `transform_cell` automatically in the future. Please pass the result to `transformed_cell` argument and any exception that happen during thetransform in `preprocessing_exc_tuple` in IPython 7.17 and above.\n",
      "  and should_run_async(code)\n"
     ]
    },
    {
     "name": "stdout",
     "output_type": "stream",
     "text": [
      "Perplexity:  1993.3942208330284\n",
      "{'batch_size': 128,\n",
      " 'doc_topic_prior': None,\n",
      " 'evaluate_every': -1,\n",
      " 'learning_decay': 0.7,\n",
      " 'learning_method': 'online',\n",
      " 'learning_offset': 10.0,\n",
      " 'max_doc_update_iter': 100,\n",
      " 'max_iter': 10,\n",
      " 'mean_change_tol': 0.001,\n",
      " 'n_components': 20,\n",
      " 'n_jobs': -1,\n",
      " 'perp_tol': 0.1,\n",
      " 'random_state': 100,\n",
      " 'topic_word_prior': None,\n",
      " 'total_samples': 1000000.0,\n",
      " 'verbose': 0}\n"
     ]
    }
   ],
   "source": [
    "# Log Likelyhood: Higher the better\n",
    "print(\"Log Likelihood: \", lda_model.score(data_vectorized))\n",
    "\n",
    "# Perplexity: Lower the better. Perplexity = exp(-1. * log-likelihood per word)\n",
    "print(\"Perplexity: \", lda_model.perplexity(data_vectorized))\n",
    "\n",
    "# See model parameters\n",
    "pprint(lda_model.get_params())"
   ]
  },
  {
   "cell_type": "code",
   "execution_count": 12,
   "metadata": {},
   "outputs": [
    {
     "name": "stderr",
     "output_type": "stream",
     "text": [
      "/Users/yanglingxi/opt/anaconda3/envs/py37/lib/python3.7/site-packages/ipykernel/ipkernel.py:287: DeprecationWarning: `should_run_async` will not call `transform_cell` automatically in the future. Please pass the result to `transformed_cell` argument and any exception that happen during thetransform in `preprocessing_exc_tuple` in IPython 7.17 and above.\n",
      "  and should_run_async(code)\n"
     ]
    },
    {
     "data": {
      "text/plain": [
       "GridSearchCV(estimator=LatentDirichletAllocation(),\n",
       "             param_grid={'learning_decay': [0.3, 0.5, 0.7, 0.9],\n",
       "                         'n_components': [5, 6, 7, 8, 9, 10, 11, 12, 13, 14, 15,\n",
       "                                          16, 17, 18, 19, 20, 21, 22, 23, 24,\n",
       "                                          25, 26, 27, 28, 29]})"
      ]
     },
     "execution_count": 12,
     "metadata": {},
     "output_type": "execute_result"
    }
   ],
   "source": [
    "## HYPERPARAMETER TUNING\n",
    "\n",
    "# Define Search Param\n",
    "search_params = {'n_components': np.arange(5,30).tolist(), 'learning_decay': [.3,.5, .7, .9]}\n",
    "\n",
    "# Init the Model\n",
    "lda = LatentDirichletAllocation()\n",
    "\n",
    "# Init Grid Search Class\n",
    "model = GridSearchCV(lda, param_grid=search_params)\n",
    "\n",
    "# Do the Grid Search\n",
    "model.fit(data_vectorized)"
   ]
  },
  {
   "cell_type": "code",
   "execution_count": 13,
   "metadata": {},
   "outputs": [
    {
     "name": "stdout",
     "output_type": "stream",
     "text": [
      "Best Model's Params:  {'learning_decay': 0.3, 'n_components': 5}\n",
      "Best Log Likelihood Score:  -2451.526240918424\n",
      "Model Perplexity:  775.3861757911554\n"
     ]
    },
    {
     "name": "stderr",
     "output_type": "stream",
     "text": [
      "/Users/yanglingxi/opt/anaconda3/envs/py37/lib/python3.7/site-packages/ipykernel/ipkernel.py:287: DeprecationWarning: `should_run_async` will not call `transform_cell` automatically in the future. Please pass the result to `transformed_cell` argument and any exception that happen during thetransform in `preprocessing_exc_tuple` in IPython 7.17 and above.\n",
      "  and should_run_async(code)\n"
     ]
    }
   ],
   "source": [
    "## BEST TOPIC MODEL\n",
    "\n",
    "\n",
    "# Best Model\n",
    "best_lda_model = model.best_estimator_\n",
    "\n",
    "# Model Parameters\n",
    "print(\"Best Model's Params: \", model.best_params_)\n",
    "\n",
    "# Log Likelihood Score\n",
    "print(\"Best Log Likelihood Score: \", model.best_score_)\n",
    "\n",
    "# Perplexity\n",
    "print(\"Model Perplexity: \", best_lda_model.perplexity(data_vectorized))\n",
    "\n"
   ]
  },
  {
   "cell_type": "code",
   "execution_count": 14,
   "metadata": {},
   "outputs": [
    {
     "name": "stderr",
     "output_type": "stream",
     "text": [
      "/Users/yanglingxi/opt/anaconda3/envs/py37/lib/python3.7/site-packages/ipykernel/ipkernel.py:287: DeprecationWarning: `should_run_async` will not call `transform_cell` automatically in the future. Please pass the result to `transformed_cell` argument and any exception that happen during thetransform in `preprocessing_exc_tuple` in IPython 7.17 and above.\n",
      "  and should_run_async(code)\n"
     ]
    },
    {
     "data": {
      "text/html": [
       "<style  type=\"text/css\" >\n",
       "#T_ca891fc4_207e_11eb_b124_34363b69e2d6row0_col0,#T_ca891fc4_207e_11eb_b124_34363b69e2d6row0_col1,#T_ca891fc4_207e_11eb_b124_34363b69e2d6row0_col2,#T_ca891fc4_207e_11eb_b124_34363b69e2d6row0_col3,#T_ca891fc4_207e_11eb_b124_34363b69e2d6row1_col0,#T_ca891fc4_207e_11eb_b124_34363b69e2d6row1_col1,#T_ca891fc4_207e_11eb_b124_34363b69e2d6row1_col2,#T_ca891fc4_207e_11eb_b124_34363b69e2d6row2_col0,#T_ca891fc4_207e_11eb_b124_34363b69e2d6row2_col1,#T_ca891fc4_207e_11eb_b124_34363b69e2d6row2_col2,#T_ca891fc4_207e_11eb_b124_34363b69e2d6row2_col4,#T_ca891fc4_207e_11eb_b124_34363b69e2d6row3_col0,#T_ca891fc4_207e_11eb_b124_34363b69e2d6row3_col1,#T_ca891fc4_207e_11eb_b124_34363b69e2d6row3_col3,#T_ca891fc4_207e_11eb_b124_34363b69e2d6row4_col0,#T_ca891fc4_207e_11eb_b124_34363b69e2d6row4_col1,#T_ca891fc4_207e_11eb_b124_34363b69e2d6row4_col2,#T_ca891fc4_207e_11eb_b124_34363b69e2d6row5_col0,#T_ca891fc4_207e_11eb_b124_34363b69e2d6row5_col1,#T_ca891fc4_207e_11eb_b124_34363b69e2d6row5_col2,#T_ca891fc4_207e_11eb_b124_34363b69e2d6row5_col3,#T_ca891fc4_207e_11eb_b124_34363b69e2d6row6_col0,#T_ca891fc4_207e_11eb_b124_34363b69e2d6row6_col1,#T_ca891fc4_207e_11eb_b124_34363b69e2d6row6_col2,#T_ca891fc4_207e_11eb_b124_34363b69e2d6row6_col3,#T_ca891fc4_207e_11eb_b124_34363b69e2d6row7_col0,#T_ca891fc4_207e_11eb_b124_34363b69e2d6row7_col1,#T_ca891fc4_207e_11eb_b124_34363b69e2d6row7_col2,#T_ca891fc4_207e_11eb_b124_34363b69e2d6row7_col3,#T_ca891fc4_207e_11eb_b124_34363b69e2d6row8_col0,#T_ca891fc4_207e_11eb_b124_34363b69e2d6row8_col1,#T_ca891fc4_207e_11eb_b124_34363b69e2d6row8_col2,#T_ca891fc4_207e_11eb_b124_34363b69e2d6row8_col3,#T_ca891fc4_207e_11eb_b124_34363b69e2d6row9_col0,#T_ca891fc4_207e_11eb_b124_34363b69e2d6row9_col1,#T_ca891fc4_207e_11eb_b124_34363b69e2d6row9_col2,#T_ca891fc4_207e_11eb_b124_34363b69e2d6row9_col3,#T_ca891fc4_207e_11eb_b124_34363b69e2d6row10_col0,#T_ca891fc4_207e_11eb_b124_34363b69e2d6row10_col1,#T_ca891fc4_207e_11eb_b124_34363b69e2d6row10_col2,#T_ca891fc4_207e_11eb_b124_34363b69e2d6row10_col3,#T_ca891fc4_207e_11eb_b124_34363b69e2d6row11_col0,#T_ca891fc4_207e_11eb_b124_34363b69e2d6row11_col1,#T_ca891fc4_207e_11eb_b124_34363b69e2d6row11_col2,#T_ca891fc4_207e_11eb_b124_34363b69e2d6row11_col3,#T_ca891fc4_207e_11eb_b124_34363b69e2d6row12_col0,#T_ca891fc4_207e_11eb_b124_34363b69e2d6row12_col1,#T_ca891fc4_207e_11eb_b124_34363b69e2d6row12_col2,#T_ca891fc4_207e_11eb_b124_34363b69e2d6row12_col4,#T_ca891fc4_207e_11eb_b124_34363b69e2d6row13_col0,#T_ca891fc4_207e_11eb_b124_34363b69e2d6row13_col1,#T_ca891fc4_207e_11eb_b124_34363b69e2d6row13_col2,#T_ca891fc4_207e_11eb_b124_34363b69e2d6row13_col3,#T_ca891fc4_207e_11eb_b124_34363b69e2d6row14_col0,#T_ca891fc4_207e_11eb_b124_34363b69e2d6row14_col1,#T_ca891fc4_207e_11eb_b124_34363b69e2d6row14_col2,#T_ca891fc4_207e_11eb_b124_34363b69e2d6row14_col3{\n",
       "            color:  black;\n",
       "            font-weight:  400;\n",
       "        }#T_ca891fc4_207e_11eb_b124_34363b69e2d6row0_col4,#T_ca891fc4_207e_11eb_b124_34363b69e2d6row0_col5,#T_ca891fc4_207e_11eb_b124_34363b69e2d6row1_col3,#T_ca891fc4_207e_11eb_b124_34363b69e2d6row1_col4,#T_ca891fc4_207e_11eb_b124_34363b69e2d6row1_col5,#T_ca891fc4_207e_11eb_b124_34363b69e2d6row2_col3,#T_ca891fc4_207e_11eb_b124_34363b69e2d6row2_col5,#T_ca891fc4_207e_11eb_b124_34363b69e2d6row3_col2,#T_ca891fc4_207e_11eb_b124_34363b69e2d6row3_col4,#T_ca891fc4_207e_11eb_b124_34363b69e2d6row3_col5,#T_ca891fc4_207e_11eb_b124_34363b69e2d6row4_col3,#T_ca891fc4_207e_11eb_b124_34363b69e2d6row4_col4,#T_ca891fc4_207e_11eb_b124_34363b69e2d6row4_col5,#T_ca891fc4_207e_11eb_b124_34363b69e2d6row5_col4,#T_ca891fc4_207e_11eb_b124_34363b69e2d6row5_col5,#T_ca891fc4_207e_11eb_b124_34363b69e2d6row6_col4,#T_ca891fc4_207e_11eb_b124_34363b69e2d6row6_col5,#T_ca891fc4_207e_11eb_b124_34363b69e2d6row7_col4,#T_ca891fc4_207e_11eb_b124_34363b69e2d6row7_col5,#T_ca891fc4_207e_11eb_b124_34363b69e2d6row8_col4,#T_ca891fc4_207e_11eb_b124_34363b69e2d6row8_col5,#T_ca891fc4_207e_11eb_b124_34363b69e2d6row9_col4,#T_ca891fc4_207e_11eb_b124_34363b69e2d6row9_col5,#T_ca891fc4_207e_11eb_b124_34363b69e2d6row10_col4,#T_ca891fc4_207e_11eb_b124_34363b69e2d6row10_col5,#T_ca891fc4_207e_11eb_b124_34363b69e2d6row11_col4,#T_ca891fc4_207e_11eb_b124_34363b69e2d6row11_col5,#T_ca891fc4_207e_11eb_b124_34363b69e2d6row12_col3,#T_ca891fc4_207e_11eb_b124_34363b69e2d6row12_col5,#T_ca891fc4_207e_11eb_b124_34363b69e2d6row13_col4,#T_ca891fc4_207e_11eb_b124_34363b69e2d6row13_col5,#T_ca891fc4_207e_11eb_b124_34363b69e2d6row14_col4,#T_ca891fc4_207e_11eb_b124_34363b69e2d6row14_col5{\n",
       "            color:  green;\n",
       "            font-weight:  700;\n",
       "        }</style><table id=\"T_ca891fc4_207e_11eb_b124_34363b69e2d6\" ><thead>    <tr>        <th class=\"blank level0\" ></th>        <th class=\"col_heading level0 col0\" >Topic0</th>        <th class=\"col_heading level0 col1\" >Topic1</th>        <th class=\"col_heading level0 col2\" >Topic2</th>        <th class=\"col_heading level0 col3\" >Topic3</th>        <th class=\"col_heading level0 col4\" >Topic4</th>        <th class=\"col_heading level0 col5\" >dominant_topic</th>    </tr></thead><tbody>\n",
       "                <tr>\n",
       "                        <th id=\"T_ca891fc4_207e_11eb_b124_34363b69e2d6level0_row0\" class=\"row_heading level0 row0\" >Doc0</th>\n",
       "                        <td id=\"T_ca891fc4_207e_11eb_b124_34363b69e2d6row0_col0\" class=\"data row0 col0\" >0.030000</td>\n",
       "                        <td id=\"T_ca891fc4_207e_11eb_b124_34363b69e2d6row0_col1\" class=\"data row0 col1\" >0.030000</td>\n",
       "                        <td id=\"T_ca891fc4_207e_11eb_b124_34363b69e2d6row0_col2\" class=\"data row0 col2\" >0.030000</td>\n",
       "                        <td id=\"T_ca891fc4_207e_11eb_b124_34363b69e2d6row0_col3\" class=\"data row0 col3\" >0.030000</td>\n",
       "                        <td id=\"T_ca891fc4_207e_11eb_b124_34363b69e2d6row0_col4\" class=\"data row0 col4\" >0.890000</td>\n",
       "                        <td id=\"T_ca891fc4_207e_11eb_b124_34363b69e2d6row0_col5\" class=\"data row0 col5\" >4</td>\n",
       "            </tr>\n",
       "            <tr>\n",
       "                        <th id=\"T_ca891fc4_207e_11eb_b124_34363b69e2d6level0_row1\" class=\"row_heading level0 row1\" >Doc1</th>\n",
       "                        <td id=\"T_ca891fc4_207e_11eb_b124_34363b69e2d6row1_col0\" class=\"data row1 col0\" >0.030000</td>\n",
       "                        <td id=\"T_ca891fc4_207e_11eb_b124_34363b69e2d6row1_col1\" class=\"data row1 col1\" >0.030000</td>\n",
       "                        <td id=\"T_ca891fc4_207e_11eb_b124_34363b69e2d6row1_col2\" class=\"data row1 col2\" >0.030000</td>\n",
       "                        <td id=\"T_ca891fc4_207e_11eb_b124_34363b69e2d6row1_col3\" class=\"data row1 col3\" >0.410000</td>\n",
       "                        <td id=\"T_ca891fc4_207e_11eb_b124_34363b69e2d6row1_col4\" class=\"data row1 col4\" >0.490000</td>\n",
       "                        <td id=\"T_ca891fc4_207e_11eb_b124_34363b69e2d6row1_col5\" class=\"data row1 col5\" >4</td>\n",
       "            </tr>\n",
       "            <tr>\n",
       "                        <th id=\"T_ca891fc4_207e_11eb_b124_34363b69e2d6level0_row2\" class=\"row_heading level0 row2\" >Doc2</th>\n",
       "                        <td id=\"T_ca891fc4_207e_11eb_b124_34363b69e2d6row2_col0\" class=\"data row2 col0\" >0.050000</td>\n",
       "                        <td id=\"T_ca891fc4_207e_11eb_b124_34363b69e2d6row2_col1\" class=\"data row2 col1\" >0.050000</td>\n",
       "                        <td id=\"T_ca891fc4_207e_11eb_b124_34363b69e2d6row2_col2\" class=\"data row2 col2\" >0.050000</td>\n",
       "                        <td id=\"T_ca891fc4_207e_11eb_b124_34363b69e2d6row2_col3\" class=\"data row2 col3\" >0.810000</td>\n",
       "                        <td id=\"T_ca891fc4_207e_11eb_b124_34363b69e2d6row2_col4\" class=\"data row2 col4\" >0.050000</td>\n",
       "                        <td id=\"T_ca891fc4_207e_11eb_b124_34363b69e2d6row2_col5\" class=\"data row2 col5\" >3</td>\n",
       "            </tr>\n",
       "            <tr>\n",
       "                        <th id=\"T_ca891fc4_207e_11eb_b124_34363b69e2d6level0_row3\" class=\"row_heading level0 row3\" >Doc3</th>\n",
       "                        <td id=\"T_ca891fc4_207e_11eb_b124_34363b69e2d6row3_col0\" class=\"data row3 col0\" >0.040000</td>\n",
       "                        <td id=\"T_ca891fc4_207e_11eb_b124_34363b69e2d6row3_col1\" class=\"data row3 col1\" >0.040000</td>\n",
       "                        <td id=\"T_ca891fc4_207e_11eb_b124_34363b69e2d6row3_col2\" class=\"data row3 col2\" >0.120000</td>\n",
       "                        <td id=\"T_ca891fc4_207e_11eb_b124_34363b69e2d6row3_col3\" class=\"data row3 col3\" >0.040000</td>\n",
       "                        <td id=\"T_ca891fc4_207e_11eb_b124_34363b69e2d6row3_col4\" class=\"data row3 col4\" >0.740000</td>\n",
       "                        <td id=\"T_ca891fc4_207e_11eb_b124_34363b69e2d6row3_col5\" class=\"data row3 col5\" >4</td>\n",
       "            </tr>\n",
       "            <tr>\n",
       "                        <th id=\"T_ca891fc4_207e_11eb_b124_34363b69e2d6level0_row4\" class=\"row_heading level0 row4\" >Doc4</th>\n",
       "                        <td id=\"T_ca891fc4_207e_11eb_b124_34363b69e2d6row4_col0\" class=\"data row4 col0\" >0.040000</td>\n",
       "                        <td id=\"T_ca891fc4_207e_11eb_b124_34363b69e2d6row4_col1\" class=\"data row4 col1\" >0.040000</td>\n",
       "                        <td id=\"T_ca891fc4_207e_11eb_b124_34363b69e2d6row4_col2\" class=\"data row4 col2\" >0.040000</td>\n",
       "                        <td id=\"T_ca891fc4_207e_11eb_b124_34363b69e2d6row4_col3\" class=\"data row4 col3\" >0.460000</td>\n",
       "                        <td id=\"T_ca891fc4_207e_11eb_b124_34363b69e2d6row4_col4\" class=\"data row4 col4\" >0.430000</td>\n",
       "                        <td id=\"T_ca891fc4_207e_11eb_b124_34363b69e2d6row4_col5\" class=\"data row4 col5\" >3</td>\n",
       "            </tr>\n",
       "            <tr>\n",
       "                        <th id=\"T_ca891fc4_207e_11eb_b124_34363b69e2d6level0_row5\" class=\"row_heading level0 row5\" >Doc5</th>\n",
       "                        <td id=\"T_ca891fc4_207e_11eb_b124_34363b69e2d6row5_col0\" class=\"data row5 col0\" >0.030000</td>\n",
       "                        <td id=\"T_ca891fc4_207e_11eb_b124_34363b69e2d6row5_col1\" class=\"data row5 col1\" >0.030000</td>\n",
       "                        <td id=\"T_ca891fc4_207e_11eb_b124_34363b69e2d6row5_col2\" class=\"data row5 col2\" >0.030000</td>\n",
       "                        <td id=\"T_ca891fc4_207e_11eb_b124_34363b69e2d6row5_col3\" class=\"data row5 col3\" >0.030000</td>\n",
       "                        <td id=\"T_ca891fc4_207e_11eb_b124_34363b69e2d6row5_col4\" class=\"data row5 col4\" >0.870000</td>\n",
       "                        <td id=\"T_ca891fc4_207e_11eb_b124_34363b69e2d6row5_col5\" class=\"data row5 col5\" >4</td>\n",
       "            </tr>\n",
       "            <tr>\n",
       "                        <th id=\"T_ca891fc4_207e_11eb_b124_34363b69e2d6level0_row6\" class=\"row_heading level0 row6\" >Doc6</th>\n",
       "                        <td id=\"T_ca891fc4_207e_11eb_b124_34363b69e2d6row6_col0\" class=\"data row6 col0\" >0.030000</td>\n",
       "                        <td id=\"T_ca891fc4_207e_11eb_b124_34363b69e2d6row6_col1\" class=\"data row6 col1\" >0.030000</td>\n",
       "                        <td id=\"T_ca891fc4_207e_11eb_b124_34363b69e2d6row6_col2\" class=\"data row6 col2\" >0.030000</td>\n",
       "                        <td id=\"T_ca891fc4_207e_11eb_b124_34363b69e2d6row6_col3\" class=\"data row6 col3\" >0.030000</td>\n",
       "                        <td id=\"T_ca891fc4_207e_11eb_b124_34363b69e2d6row6_col4\" class=\"data row6 col4\" >0.880000</td>\n",
       "                        <td id=\"T_ca891fc4_207e_11eb_b124_34363b69e2d6row6_col5\" class=\"data row6 col5\" >4</td>\n",
       "            </tr>\n",
       "            <tr>\n",
       "                        <th id=\"T_ca891fc4_207e_11eb_b124_34363b69e2d6level0_row7\" class=\"row_heading level0 row7\" >Doc7</th>\n",
       "                        <td id=\"T_ca891fc4_207e_11eb_b124_34363b69e2d6row7_col0\" class=\"data row7 col0\" >0.040000</td>\n",
       "                        <td id=\"T_ca891fc4_207e_11eb_b124_34363b69e2d6row7_col1\" class=\"data row7 col1\" >0.040000</td>\n",
       "                        <td id=\"T_ca891fc4_207e_11eb_b124_34363b69e2d6row7_col2\" class=\"data row7 col2\" >0.080000</td>\n",
       "                        <td id=\"T_ca891fc4_207e_11eb_b124_34363b69e2d6row7_col3\" class=\"data row7 col3\" >0.040000</td>\n",
       "                        <td id=\"T_ca891fc4_207e_11eb_b124_34363b69e2d6row7_col4\" class=\"data row7 col4\" >0.800000</td>\n",
       "                        <td id=\"T_ca891fc4_207e_11eb_b124_34363b69e2d6row7_col5\" class=\"data row7 col5\" >4</td>\n",
       "            </tr>\n",
       "            <tr>\n",
       "                        <th id=\"T_ca891fc4_207e_11eb_b124_34363b69e2d6level0_row8\" class=\"row_heading level0 row8\" >Doc8</th>\n",
       "                        <td id=\"T_ca891fc4_207e_11eb_b124_34363b69e2d6row8_col0\" class=\"data row8 col0\" >0.040000</td>\n",
       "                        <td id=\"T_ca891fc4_207e_11eb_b124_34363b69e2d6row8_col1\" class=\"data row8 col1\" >0.040000</td>\n",
       "                        <td id=\"T_ca891fc4_207e_11eb_b124_34363b69e2d6row8_col2\" class=\"data row8 col2\" >0.040000</td>\n",
       "                        <td id=\"T_ca891fc4_207e_11eb_b124_34363b69e2d6row8_col3\" class=\"data row8 col3\" >0.040000</td>\n",
       "                        <td id=\"T_ca891fc4_207e_11eb_b124_34363b69e2d6row8_col4\" class=\"data row8 col4\" >0.860000</td>\n",
       "                        <td id=\"T_ca891fc4_207e_11eb_b124_34363b69e2d6row8_col5\" class=\"data row8 col5\" >4</td>\n",
       "            </tr>\n",
       "            <tr>\n",
       "                        <th id=\"T_ca891fc4_207e_11eb_b124_34363b69e2d6level0_row9\" class=\"row_heading level0 row9\" >Doc9</th>\n",
       "                        <td id=\"T_ca891fc4_207e_11eb_b124_34363b69e2d6row9_col0\" class=\"data row9 col0\" >0.030000</td>\n",
       "                        <td id=\"T_ca891fc4_207e_11eb_b124_34363b69e2d6row9_col1\" class=\"data row9 col1\" >0.030000</td>\n",
       "                        <td id=\"T_ca891fc4_207e_11eb_b124_34363b69e2d6row9_col2\" class=\"data row9 col2\" >0.030000</td>\n",
       "                        <td id=\"T_ca891fc4_207e_11eb_b124_34363b69e2d6row9_col3\" class=\"data row9 col3\" >0.030000</td>\n",
       "                        <td id=\"T_ca891fc4_207e_11eb_b124_34363b69e2d6row9_col4\" class=\"data row9 col4\" >0.880000</td>\n",
       "                        <td id=\"T_ca891fc4_207e_11eb_b124_34363b69e2d6row9_col5\" class=\"data row9 col5\" >4</td>\n",
       "            </tr>\n",
       "            <tr>\n",
       "                        <th id=\"T_ca891fc4_207e_11eb_b124_34363b69e2d6level0_row10\" class=\"row_heading level0 row10\" >Doc10</th>\n",
       "                        <td id=\"T_ca891fc4_207e_11eb_b124_34363b69e2d6row10_col0\" class=\"data row10 col0\" >0.030000</td>\n",
       "                        <td id=\"T_ca891fc4_207e_11eb_b124_34363b69e2d6row10_col1\" class=\"data row10 col1\" >0.030000</td>\n",
       "                        <td id=\"T_ca891fc4_207e_11eb_b124_34363b69e2d6row10_col2\" class=\"data row10 col2\" >0.030000</td>\n",
       "                        <td id=\"T_ca891fc4_207e_11eb_b124_34363b69e2d6row10_col3\" class=\"data row10 col3\" >0.030000</td>\n",
       "                        <td id=\"T_ca891fc4_207e_11eb_b124_34363b69e2d6row10_col4\" class=\"data row10 col4\" >0.860000</td>\n",
       "                        <td id=\"T_ca891fc4_207e_11eb_b124_34363b69e2d6row10_col5\" class=\"data row10 col5\" >4</td>\n",
       "            </tr>\n",
       "            <tr>\n",
       "                        <th id=\"T_ca891fc4_207e_11eb_b124_34363b69e2d6level0_row11\" class=\"row_heading level0 row11\" >Doc11</th>\n",
       "                        <td id=\"T_ca891fc4_207e_11eb_b124_34363b69e2d6row11_col0\" class=\"data row11 col0\" >0.030000</td>\n",
       "                        <td id=\"T_ca891fc4_207e_11eb_b124_34363b69e2d6row11_col1\" class=\"data row11 col1\" >0.030000</td>\n",
       "                        <td id=\"T_ca891fc4_207e_11eb_b124_34363b69e2d6row11_col2\" class=\"data row11 col2\" >0.030000</td>\n",
       "                        <td id=\"T_ca891fc4_207e_11eb_b124_34363b69e2d6row11_col3\" class=\"data row11 col3\" >0.030000</td>\n",
       "                        <td id=\"T_ca891fc4_207e_11eb_b124_34363b69e2d6row11_col4\" class=\"data row11 col4\" >0.870000</td>\n",
       "                        <td id=\"T_ca891fc4_207e_11eb_b124_34363b69e2d6row11_col5\" class=\"data row11 col5\" >4</td>\n",
       "            </tr>\n",
       "            <tr>\n",
       "                        <th id=\"T_ca891fc4_207e_11eb_b124_34363b69e2d6level0_row12\" class=\"row_heading level0 row12\" >Doc12</th>\n",
       "                        <td id=\"T_ca891fc4_207e_11eb_b124_34363b69e2d6row12_col0\" class=\"data row12 col0\" >0.040000</td>\n",
       "                        <td id=\"T_ca891fc4_207e_11eb_b124_34363b69e2d6row12_col1\" class=\"data row12 col1\" >0.040000</td>\n",
       "                        <td id=\"T_ca891fc4_207e_11eb_b124_34363b69e2d6row12_col2\" class=\"data row12 col2\" >0.040000</td>\n",
       "                        <td id=\"T_ca891fc4_207e_11eb_b124_34363b69e2d6row12_col3\" class=\"data row12 col3\" >0.820000</td>\n",
       "                        <td id=\"T_ca891fc4_207e_11eb_b124_34363b69e2d6row12_col4\" class=\"data row12 col4\" >0.050000</td>\n",
       "                        <td id=\"T_ca891fc4_207e_11eb_b124_34363b69e2d6row12_col5\" class=\"data row12 col5\" >3</td>\n",
       "            </tr>\n",
       "            <tr>\n",
       "                        <th id=\"T_ca891fc4_207e_11eb_b124_34363b69e2d6level0_row13\" class=\"row_heading level0 row13\" >Doc13</th>\n",
       "                        <td id=\"T_ca891fc4_207e_11eb_b124_34363b69e2d6row13_col0\" class=\"data row13 col0\" >0.030000</td>\n",
       "                        <td id=\"T_ca891fc4_207e_11eb_b124_34363b69e2d6row13_col1\" class=\"data row13 col1\" >0.030000</td>\n",
       "                        <td id=\"T_ca891fc4_207e_11eb_b124_34363b69e2d6row13_col2\" class=\"data row13 col2\" >0.030000</td>\n",
       "                        <td id=\"T_ca891fc4_207e_11eb_b124_34363b69e2d6row13_col3\" class=\"data row13 col3\" >0.030000</td>\n",
       "                        <td id=\"T_ca891fc4_207e_11eb_b124_34363b69e2d6row13_col4\" class=\"data row13 col4\" >0.870000</td>\n",
       "                        <td id=\"T_ca891fc4_207e_11eb_b124_34363b69e2d6row13_col5\" class=\"data row13 col5\" >4</td>\n",
       "            </tr>\n",
       "            <tr>\n",
       "                        <th id=\"T_ca891fc4_207e_11eb_b124_34363b69e2d6level0_row14\" class=\"row_heading level0 row14\" >Doc14</th>\n",
       "                        <td id=\"T_ca891fc4_207e_11eb_b124_34363b69e2d6row14_col0\" class=\"data row14 col0\" >0.030000</td>\n",
       "                        <td id=\"T_ca891fc4_207e_11eb_b124_34363b69e2d6row14_col1\" class=\"data row14 col1\" >0.030000</td>\n",
       "                        <td id=\"T_ca891fc4_207e_11eb_b124_34363b69e2d6row14_col2\" class=\"data row14 col2\" >0.030000</td>\n",
       "                        <td id=\"T_ca891fc4_207e_11eb_b124_34363b69e2d6row14_col3\" class=\"data row14 col3\" >0.070000</td>\n",
       "                        <td id=\"T_ca891fc4_207e_11eb_b124_34363b69e2d6row14_col4\" class=\"data row14 col4\" >0.820000</td>\n",
       "                        <td id=\"T_ca891fc4_207e_11eb_b124_34363b69e2d6row14_col5\" class=\"data row14 col5\" >4</td>\n",
       "            </tr>\n",
       "    </tbody></table>"
      ],
      "text/plain": [
       "<pandas.io.formats.style.Styler at 0x1a1e36f2d0>"
      ]
     },
     "execution_count": 14,
     "metadata": {},
     "output_type": "execute_result"
    }
   ],
   "source": [
    "### DOMINANT TOPIC IN EACH DOCUMENT\n",
    "\n",
    "\n",
    "# Create Document - Topic Matrix\n",
    "lda_output = best_lda_model.transform(data_vectorized)\n",
    "\n",
    "# column names\n",
    "topicnames = [\"Topic\" + str(i) for i in range(best_lda_model.n_components)]\n",
    "\n",
    "# index names\n",
    "docnames = [\"Doc\" + str(i) for i in range(len(data))]\n",
    "\n",
    "# Make the pandas dataframe\n",
    "df_document_topic = pd.DataFrame(np.round(lda_output, 2), columns=topicnames, index=docnames)\n",
    "\n",
    "# Get dominant topic for each document\n",
    "dominant_topic = np.argmax(df_document_topic.values, axis=1)\n",
    "df_document_topic['dominant_topic'] = dominant_topic\n",
    "\n",
    "# Styling\n",
    "def color_green(val):\n",
    "    color = 'green' if val > .1 else 'black'\n",
    "    return 'color: {col}'.format(col=color)\n",
    "\n",
    "def make_bold(val):\n",
    "    weight = 700 if val > .1 else 400\n",
    "    return 'font-weight: {weight}'.format(weight=weight)\n",
    "\n",
    "# Apply Style\n",
    "df_document_topics = df_document_topic.head(15).style.applymap(color_green).applymap(make_bold)\n",
    "df_document_topics\n",
    "\n",
    "\n"
   ]
  },
  {
   "cell_type": "code",
   "execution_count": 15,
   "metadata": {},
   "outputs": [
    {
     "name": "stderr",
     "output_type": "stream",
     "text": [
      "/Users/yanglingxi/opt/anaconda3/envs/py37/lib/python3.7/site-packages/ipykernel/ipkernel.py:287: DeprecationWarning: `should_run_async` will not call `transform_cell` automatically in the future. Please pass the result to `transformed_cell` argument and any exception that happen during thetransform in `preprocessing_exc_tuple` in IPython 7.17 and above.\n",
      "  and should_run_async(code)\n"
     ]
    },
    {
     "data": {
      "text/html": [
       "\n",
       "<link rel=\"stylesheet\" type=\"text/css\" href=\"https://cdn.rawgit.com/bmabey/pyLDAvis/files/ldavis.v1.0.0.css\">\n",
       "\n",
       "\n",
       "<div id=\"ldavis_el27541122385115681534080047\"></div>\n",
       "<script type=\"text/javascript\">\n",
       "\n",
       "var ldavis_el27541122385115681534080047_data = {\"mdsDat\": {\"x\": [150.22215270996094, 51.16336441040039, -73.1445541381836, -66.4101333618164, 54.41732406616211], \"y\": [-72.2695541381836, -159.968017578125, 21.523815155029297, -110.60643768310547, 12.44344425201416], \"topics\": [1, 2, 3, 4, 5], \"cluster\": [1, 1, 1, 1, 1], \"Freq\": [62.779574406322745, 25.433260370343756, 4.403370722208988, 3.9744172572846495, 3.4093772438398493]}, \"tinfo\": {\"Term\": [\"health\", \"assessment\", \"tax\", \"procurement\", \"justice\", \"judicial\", \"reduce\", \"political\", \"public procurement\", \"identify\", \"corruption\", \"court\", \"law\", \"reduce corruption\", \"rule\", \"overall\", \"right\", \"legal\", \"trade\", \"rule law\", \"local\", \"sector\", \"design\", \"judiciary\", \"project design\", \"opportunity\", \"education\", \"base\", \"country\", \"business\", \"local\", \"governance\", \"local government\", \"democratic\", \"municipality\", \"municipal\", \"community\", \"good\", \"civil\", \"level\", \"civil society\", \"participation\", \"medium\", \"anticorruption\", \"society\", \"local governance\", \"national\", \"anti\", \"delivery\", \"woman\", \"official\", \"good governance\", \"anti corruption\", \"citizen participation\", \"corruption\", \"political\", \"organization\", \"society organization\", \"civil society organization\", \"democracy\", \"citizen\", \"government\", \"service\", \"work\", \"capacity\", \"program\", \"project\", \"development\", \"transparency\", \"public\", \"accountability\", \"support\", \"strengthen\", \"improve\", \"aim\", \"provide\", \"increase\", \"reform\", \"promote\", \"justice\", \"judicial\", \"court\", \"rule\", \"rule law\", \"trade\", \"judiciary\", \"justice sector\", \"commercial\", \"independence\", \"judge\", \"streamline\", \"law\", \"investment\", \"support implementation\", \"education\", \"legal\", \"enforcement\", \"business\", \"regulatory\", \"change\", \"professional\", \"case\", \"high\", \"administrative\", \"sector\", \"support government\", \"establishment\", \"increase public\", \"relate\", \"right\", \"access\", \"reform\", \"technical\", \"improve\", \"increase\", \"strengthen\", \"support\", \"project\", \"program\", \"public\", \"aim\", \"develop\", \"assistance\", \"capacity\", \"government\", \"health\", \"assessment\", \"identify\", \"stakeholder\", \"project design\", \"actor\", \"association\", \"conduct\", \"strategy\", \"right\", \"structure\", \"base\", \"country\", \"political\", \"opportunity\", \"commission\", \"introduce\", \"better\", \"knowledge\", \"primary\", \"design\", \"capacity civil\", \"capacity civil society\", \"sustainability\", \"improve quality\", \"train\", \"relate\", \"advance\", \"sector reform\", \"overall goal\", \"education\", \"strategic\", \"include\", \"corruption\", \"initiative\", \"information\", \"economic\", \"sector\", \"key\", \"need\", \"project\", \"framework\", \"anticorruption\", \"program\", \"tax\", \"public procurement\", \"reduce corruption\", \"procurement\", \"enforcement\", \"overall\", \"reduce\", \"improve public\", \"great\", \"introduce\", \"better\", \"commission\", \"primary\", \"knowledge\", \"sustainability\", \"capacity civil\", \"capacity civil society\", \"train\", \"improve quality\", \"authority\", \"overall goal\", \"relate\", \"sector reform\", \"legal framework\", \"legislation\", \"finance\", \"democratic governance\", \"public service\", \"dialogue\", \"empower\", \"approach\", \"opportunity\", \"administration\", \"program\", \"raise\", \"corruption\", \"efficiency\", \"streamline\", \"public private\", \"business\", \"use\", \"public\", \"project support\", \"judiciary\", \"partner\", \"achieve\", \"design\", \"revenue\", \"high\", \"technology\", \"fiscal\", \"transparency\", \"implementation\", \"case\", \"internal\", \"reform\", \"transparency accountability\", \"introduce\", \"better\", \"commission\", \"primary\", \"knowledge\", \"sustainability\", \"capacity civil\", \"capacity civil society\", \"train\", \"improve quality\", \"overall goal\", \"relate\", \"sector reform\", \"non\", \"legal framework\", \"legislation\", \"democratic governance\", \"finance\", \"public service\", \"dialogue\", \"empower\", \"cost\", \"program work\", \"decision make\", \"deliver\", \"unit\", \"coordination\", \"program support\", \"basic\", \"raise\", \"governmental\", \"support implementation\", \"year\", \"report\", \"improve public\", \"anticorruption\", \"use\", \"enforcement\", \"corruption\", \"focus\", \"organization\", \"program focus\", \"program\", \"government institution\", \"streamline\", \"rule\", \"education\", \"great\", \"actor\", \"reduce corruption\", \"regional\", \"afghan\", \"law\", \"network\", \"economic development\", \"facilitate\"], \"Freq\": [5.0, 5.0, 3.0, 5.0, 9.0, 8.0, 6.0, 6.0, 2.0, 4.0, 16.0, 6.0, 8.0, 2.0, 6.0, 4.0, 5.0, 8.0, 5.0, 5.0, 16.0, 9.0, 6.0, 5.0, 3.0, 5.0, 5.0, 4.0, 4.0, 6.0, 15.670846661617988, 10.744947436389744, 7.405903395140193, 6.590264306891932, 6.462614084229015, 6.337136521554009, 7.761188070174719, 5.5850704338630734, 8.365161891590299, 7.222112360038456, 7.747113423639115, 5.95391444619966, 5.423636155776768, 4.754266325777111, 7.8953910588359655, 4.093140474922841, 5.924499931595128, 3.905385101794599, 3.824535229717949, 3.7273661652229038, 3.7123183110300606, 3.6518778744069955, 3.4026523379412614, 3.257745517569479, 13.886146391288877, 5.817251053689086, 5.147674230638749, 3.193291367727869, 3.1932913677278703, 3.229008669468697, 7.817810989791603, 13.966375601169506, 8.76527314167951, 6.6004842501596395, 9.508318557805298, 11.70941901854471, 12.502679275346962, 6.988535698581862, 7.024333725571587, 9.44426438881891, 5.916233994005688, 9.372201887448103, 8.695491798489781, 9.093909178095867, 7.828175488592132, 6.972799324343156, 7.264099521341766, 6.8737259177891445, 6.190369350665873, 8.515710042827584, 8.158899213491054, 5.860416025887729, 5.474104948383914, 4.960558788772474, 4.996423802453332, 4.357136198594873, 3.5679212409302608, 3.0108798008102045, 2.5255466196482432, 1.9825614484227008, 2.0517438865239286, 6.449607691425343, 3.773078591954606, 1.685353160771171, 3.5923992365178883, 5.924172306310828, 1.721328116871006, 4.356635613951027, 2.3635877935929703, 1.497779521840188, 1.7397629987198353, 2.3870990268245444, 1.6968613944460793, 2.6835524938213533, 5.040127845990923, 1.4981726990254143, 1.5969897912922562, 1.4567932284510263, 1.1356887222866487, 2.6598963384261616, 2.608016428761009, 5.283994712314041, 3.0967476449065083, 5.157134543268048, 4.407326267984533, 4.431368216957116, 4.591750771486559, 4.934763663202446, 4.126105609749352, 3.651435582034045, 3.3954867498627523, 2.8152574653677696, 2.802712456928229, 2.8587127953589633, 2.798172534575861, 5.069935646969518, 4.744939140191577, 1.2027499532562558, 0.571061910435098, 0.6339615567571417, 0.4773489914812614, 0.3537522313873689, 0.37285551397527483, 0.4379219270791388, 0.6534931734278189, 0.3022310505657862, 0.49704657882365266, 0.4700174633156351, 0.6714258657202148, 0.4425718555212171, 0.16331877641060258, 0.154342494425947, 0.15404685464548826, 0.15625309912809224, 0.15405519435879786, 0.47819646804648286, 0.15484049523071325, 0.1548404952307046, 0.15405511685090614, 0.15622460293566193, 0.154059109089461, 0.15666022612708763, 0.17210833190393393, 0.15509806659872846, 0.15406611635917147, 0.34795275334414444, 0.22656401930049985, 0.3126041072498513, 0.6363770433282528, 0.22480687427959756, 0.29952439226778443, 0.29909360899324194, 0.29699638962327407, 0.22958055549677384, 0.2125674338485464, 0.30355785472830393, 0.2047114561467707, 0.20542382873170903, 0.21524814386494528, 3.1566236895363873, 2.129092636433606, 0.9945946069276294, 1.223802729515331, 0.44188942790013197, 0.6668629510005193, 0.8904835887028886, 0.27997991998537014, 0.37739873132515084, 0.15767929479935255, 0.157663136245296, 0.15774711043364065, 0.15767452814060404, 0.15769205954553148, 0.15785655199746215, 0.15765052082044437, 0.15765052082044376, 0.15767942037838656, 0.1576741842984006, 0.16877205469723697, 0.1576880403627156, 0.15768696596990903, 0.15766010220760293, 0.15766908503505703, 0.15768778606274675, 0.1578446640105963, 0.15762789801265317, 0.15791015588690882, 0.15762913133097292, 0.15770038711541162, 0.18751772897953076, 0.22804210963718238, 0.22456918463446565, 0.3675937870178329, 0.15875620595262013, 0.24829866128980638, 0.17667840587580355, 0.15996454270686858, 0.1582320796958583, 0.1698481242054828, 0.16375429134399452, 0.17303196481714964, 0.1614275509071835, 0.1635652281277449, 0.15877882752542996, 0.16089342209537966, 0.1634143456586061, 0.15964290868913195, 0.15917600501130857, 0.15892254875664458, 0.1593025422849119, 0.16240889543943937, 0.16047201632914032, 0.15978595802450687, 0.15936029040706245, 0.15997843004401185, 0.1596115874932057, 0.15997623677833714, 0.1599560362557793, 0.16005828741262335, 0.15996938290583884, 0.15999084393316398, 0.15996815329625513, 0.15993972288093447, 0.15993972288093372, 0.1599741422440478, 0.15996950053696418, 0.15998284816618083, 0.15999408503602264, 0.15995282884408143, 0.16742949828126077, 0.1599636040198057, 0.15998567293161592, 0.1599143577920988, 0.1599936685870256, 0.1599144022428341, 0.1599157959805117, 0.15996602144920197, 0.159963848722018, 0.16001138176052543, 0.1598991128570576, 0.15990880385109327, 0.1599724037550568, 0.15995854112168625, 0.15999758468014563, 0.16002040987562843, 0.16000158711160997, 0.16575671532469957, 0.16036052107200344, 0.1631723936228275, 0.16313091160128687, 0.16014377618291492, 0.16390211723720743, 0.16147304574577295, 0.1602983689787105, 0.16137177332170038, 0.16130422276833895, 0.16041830886699562, 0.16021593987888985, 0.16021152814879522, 0.16018357320787976, 0.16016532202049177, 0.16010484632621413, 0.16006158702485587, 0.16004947114429988, 0.16004158952909492, 0.16002976166388116, 0.1600282583199373, 0.1600247288401483, 0.16001475359397777, 0.16001282696176908, 0.1600122066880908, 0.160009957211335], \"Total\": [5.0, 5.0, 3.0, 5.0, 9.0, 8.0, 6.0, 6.0, 2.0, 4.0, 16.0, 6.0, 8.0, 2.0, 6.0, 4.0, 5.0, 8.0, 5.0, 5.0, 16.0, 9.0, 6.0, 5.0, 3.0, 5.0, 5.0, 4.0, 4.0, 6.0, 16.303320954340084, 11.52585172840668, 8.037889365686478, 7.222840947315673, 7.094612167984554, 6.969019562004593, 8.583387321115792, 6.224105677499735, 9.43080454454229, 8.159730261727207, 8.843038410746583, 6.808802862022876, 6.217198660160799, 5.45198574837383, 9.075425464870449, 4.725236295305493, 6.86443818042698, 4.538578927034191, 4.457438685451304, 4.360972723827714, 4.3446304537089695, 4.283862740456463, 4.035844120079562, 3.891800107299713, 16.612530123128053, 6.967646227708658, 6.166853593096509, 3.827575608104395, 3.8275756081043957, 3.8837963082567097, 9.52842658943106, 17.23701731011856, 10.76229285795476, 8.32020870684963, 12.83900968758219, 16.578578087325635, 18.05906670439478, 9.261542992762276, 9.420066933716077, 13.58303249715054, 7.745610168692854, 14.436470707985862, 13.598962006746554, 14.723764468236714, 11.696018235958245, 9.79631545575474, 12.143879538612662, 12.659459375922905, 8.59673281048978, 9.160152813065439, 8.80208827271133, 6.505984017923104, 6.129592222822862, 5.603361014319686, 5.6545549978441185, 5.0082315253990926, 4.208664823854846, 3.652630587127302, 3.165780579859268, 2.6345218932156995, 2.737107586762365, 8.780971467030717, 5.311655392401284, 2.466834917617069, 5.368412618541538, 8.97645450516188, 2.7226044157210674, 6.984625630114333, 3.8232460769425467, 2.5455542885207723, 2.9679063599311184, 4.288960963565071, 3.1121389290830193, 5.039311973394972, 9.506070836581095, 2.8780082260288453, 3.128935555390173, 2.9316067243788497, 2.342671352358609, 5.622182794957035, 5.5356772041024795, 12.659459375922905, 7.381054381423462, 14.723764468236714, 12.143879538612662, 13.598962006746554, 14.436470707985862, 18.05906670439478, 16.578578087325635, 13.58303249715054, 11.696018235958245, 7.229328818877001, 8.813436256859987, 12.83900968758219, 17.23701731011856, 5.723695956376642, 5.402081810167851, 4.028265859523537, 2.9470185764002763, 3.61174129135376, 3.2657984497055828, 2.568411194046859, 2.854803353098695, 3.4515240589809113, 5.622182794957035, 2.700641077170588, 4.4475456610331925, 4.291902035432965, 6.967646227708658, 5.0197549996450785, 2.1274051543096544, 2.1204858875080177, 2.124099202223386, 2.241312639341396, 2.213507800853662, 6.971969555661823, 2.2648567007303617, 2.2648567007304243, 2.2648043768491917, 2.3110596238681653, 2.2861300611865967, 2.342671352358609, 2.5780605945543322, 2.34314899135529, 2.3359150300323988, 5.368412618541538, 3.6912386582691323, 5.92075556374982, 16.612530123128053, 4.050813447000099, 6.811672788510355, 7.721641040516501, 9.506070836581095, 5.449909696897198, 5.217803569643819, 18.05906670439478, 5.303748600564434, 5.45198574837383, 16.578578087325635, 3.918625373546181, 2.86690339886967, 2.9222809569076986, 5.042422152101414, 2.7226044157210674, 4.506404866135315, 6.589355030684419, 2.4862635212261335, 3.4045168605721994, 2.1204858875080177, 2.124099202223386, 2.1274051543096544, 2.213507800853662, 2.241312639341396, 2.2648043768491917, 2.2648567007303617, 2.2648567007304243, 2.2861300611865967, 2.3110596238681653, 2.4982795863682865, 2.3359150300323988, 2.342671352358609, 2.34314899135529, 2.3732757022750963, 2.3740552550964344, 2.380355289317954, 2.3780371467198353, 2.3851263624720347, 2.3987907189793702, 2.403024624241503, 3.09092696454671, 5.0197549996450785, 5.115769622612854, 16.578578087325635, 2.437523863944833, 16.612530123128053, 4.3046057165148515, 2.737107586762365, 2.4374283151960676, 6.984625630114333, 4.419037587373962, 13.58303249715054, 3.5931329637458145, 5.0082315253990926, 2.6539360113503676, 3.875049748721953, 6.971969555661823, 3.361225828280088, 3.1121389290830193, 2.9051553778813926, 3.2808266179904675, 9.420066933716077, 5.421013592800606, 4.288960963565071, 3.3709506927171162, 12.659459375922905, 4.579897967301777, 2.1204858875080177, 2.124099202223386, 2.1274051543096544, 2.213507800853662, 2.241312639341396, 2.2648043768491917, 2.2648567007303617, 2.2648567007304243, 2.2861300611865967, 2.3110596238681653, 2.3359150300323988, 2.342671352358609, 2.34314899135529, 2.47182907701474, 2.3732757022750963, 2.3740552550964344, 2.3780371467198353, 2.380355289317954, 2.3851263624720347, 2.3987907189793702, 2.403024624241503, 2.403356953364193, 2.4090524977274526, 2.4133166799486245, 2.421956152634238, 2.423479422659003, 2.4244717528833646, 2.429937294702709, 2.431019424099963, 2.437523863944833, 2.6572763167886113, 2.466834917617069, 2.7899168359645437, 2.8136874790039617, 2.4862635212261335, 5.45198574837383, 4.419037587373962, 2.7226044157210674, 16.612530123128053, 7.096760886900303, 6.166853593096509, 2.951239367712344, 16.578578087325635, 2.9439820341700345, 2.737107586762365, 6.129592222822862, 5.368412618541538, 3.4045168605721994, 3.2657984497055828, 2.9222809569076986, 4.177427903740544, 3.3652444302599163, 8.780971467030717, 3.3837014144446207, 2.8512198487122253, 2.949790697619942], \"Category\": [\"Default\", \"Default\", \"Default\", \"Default\", \"Default\", \"Default\", \"Default\", \"Default\", \"Default\", \"Default\", \"Default\", \"Default\", \"Default\", \"Default\", \"Default\", \"Default\", \"Default\", \"Default\", \"Default\", \"Default\", \"Default\", \"Default\", \"Default\", \"Default\", \"Default\", \"Default\", \"Default\", \"Default\", \"Default\", \"Default\", \"Topic1\", \"Topic1\", \"Topic1\", \"Topic1\", \"Topic1\", \"Topic1\", \"Topic1\", \"Topic1\", \"Topic1\", \"Topic1\", \"Topic1\", \"Topic1\", \"Topic1\", \"Topic1\", \"Topic1\", \"Topic1\", \"Topic1\", \"Topic1\", \"Topic1\", \"Topic1\", \"Topic1\", \"Topic1\", \"Topic1\", \"Topic1\", \"Topic1\", \"Topic1\", \"Topic1\", \"Topic1\", \"Topic1\", \"Topic1\", \"Topic1\", \"Topic1\", \"Topic1\", \"Topic1\", \"Topic1\", \"Topic1\", \"Topic1\", \"Topic1\", \"Topic1\", \"Topic1\", \"Topic1\", \"Topic1\", \"Topic1\", \"Topic1\", \"Topic1\", \"Topic1\", \"Topic1\", \"Topic1\", \"Topic1\", \"Topic2\", \"Topic2\", \"Topic2\", \"Topic2\", \"Topic2\", \"Topic2\", \"Topic2\", \"Topic2\", \"Topic2\", \"Topic2\", \"Topic2\", \"Topic2\", \"Topic2\", \"Topic2\", \"Topic2\", \"Topic2\", \"Topic2\", \"Topic2\", \"Topic2\", \"Topic2\", \"Topic2\", \"Topic2\", \"Topic2\", \"Topic2\", \"Topic2\", \"Topic2\", \"Topic2\", \"Topic2\", \"Topic2\", \"Topic2\", \"Topic2\", \"Topic2\", \"Topic2\", \"Topic2\", \"Topic2\", \"Topic2\", \"Topic2\", \"Topic2\", \"Topic2\", \"Topic2\", \"Topic2\", \"Topic2\", \"Topic2\", \"Topic2\", \"Topic2\", \"Topic2\", \"Topic3\", \"Topic3\", \"Topic3\", \"Topic3\", \"Topic3\", \"Topic3\", \"Topic3\", \"Topic3\", \"Topic3\", \"Topic3\", \"Topic3\", \"Topic3\", \"Topic3\", \"Topic3\", \"Topic3\", \"Topic3\", \"Topic3\", \"Topic3\", \"Topic3\", \"Topic3\", \"Topic3\", \"Topic3\", \"Topic3\", \"Topic3\", \"Topic3\", \"Topic3\", \"Topic3\", \"Topic3\", \"Topic3\", \"Topic3\", \"Topic3\", \"Topic3\", \"Topic3\", \"Topic3\", \"Topic3\", \"Topic3\", \"Topic3\", \"Topic3\", \"Topic3\", \"Topic3\", \"Topic3\", \"Topic3\", \"Topic3\", \"Topic3\", \"Topic4\", \"Topic4\", \"Topic4\", \"Topic4\", \"Topic4\", \"Topic4\", \"Topic4\", \"Topic4\", \"Topic4\", \"Topic4\", \"Topic4\", \"Topic4\", \"Topic4\", \"Topic4\", \"Topic4\", \"Topic4\", \"Topic4\", \"Topic4\", \"Topic4\", \"Topic4\", \"Topic4\", \"Topic4\", \"Topic4\", \"Topic4\", \"Topic4\", \"Topic4\", \"Topic4\", \"Topic4\", \"Topic4\", \"Topic4\", \"Topic4\", \"Topic4\", \"Topic4\", \"Topic4\", \"Topic4\", \"Topic4\", \"Topic4\", \"Topic4\", \"Topic4\", \"Topic4\", \"Topic4\", \"Topic4\", \"Topic4\", \"Topic4\", \"Topic4\", \"Topic4\", \"Topic4\", \"Topic4\", \"Topic4\", \"Topic4\", \"Topic4\", \"Topic4\", \"Topic4\", \"Topic4\", \"Topic4\", \"Topic4\", \"Topic4\", \"Topic5\", \"Topic5\", \"Topic5\", \"Topic5\", \"Topic5\", \"Topic5\", \"Topic5\", \"Topic5\", \"Topic5\", \"Topic5\", \"Topic5\", \"Topic5\", \"Topic5\", \"Topic5\", \"Topic5\", \"Topic5\", \"Topic5\", \"Topic5\", \"Topic5\", \"Topic5\", \"Topic5\", \"Topic5\", \"Topic5\", \"Topic5\", \"Topic5\", \"Topic5\", \"Topic5\", \"Topic5\", \"Topic5\", \"Topic5\", \"Topic5\", \"Topic5\", \"Topic5\", \"Topic5\", \"Topic5\", \"Topic5\", \"Topic5\", \"Topic5\", \"Topic5\", \"Topic5\", \"Topic5\", \"Topic5\", \"Topic5\", \"Topic5\", \"Topic5\", \"Topic5\", \"Topic5\", \"Topic5\", \"Topic5\", \"Topic5\", \"Topic5\", \"Topic5\", \"Topic5\", \"Topic5\", \"Topic5\", \"Topic5\"], \"logprob\": [30.0, 29.0, 28.0, 27.0, 26.0, 25.0, 24.0, 23.0, 22.0, 21.0, 20.0, 19.0, 18.0, 17.0, 16.0, 15.0, 14.0, 13.0, 12.0, 11.0, 10.0, 9.0, 8.0, 7.0, 6.0, 5.0, 4.0, 3.0, 2.0, 1.0, -4.1098, -4.4871, -4.8593, -4.976, -4.9955, -5.0151, -4.8124, -5.1415, -4.7375, -4.8844, -4.8142, -5.0775, -5.1708, -5.3025, -4.7953, -5.4523, -5.0825, -5.4992, -5.5201, -5.5459, -5.5499, -5.5663, -5.637, -5.6805, -4.2307, -5.1007, -5.223, -5.7005, -5.7005, -5.6894, -4.8052, -4.2249, -4.6908, -4.9744, -4.6094, -4.4012, -4.3356, -4.9173, -4.9122, -4.6162, -5.0839, -4.6238, -4.6988, -4.654, -4.8038, -4.9195, -4.8786, -4.9339, -5.0386, -3.8161, -3.8589, -4.1898, -4.258, -4.3565, -4.3493, -4.4862, -4.686, -4.8558, -5.0315, -5.2736, -5.2393, -4.094, -4.6301, -5.436, -4.6792, -4.179, -5.4149, -4.4863, -5.0978, -5.554, -5.4042, -5.0879, -5.4292, -4.9709, -4.3406, -5.5537, -5.4899, -5.5818, -5.8308, -4.9797, -4.9994, -4.2933, -4.8276, -4.3176, -4.4747, -4.4693, -4.4337, -4.3617, -4.5407, -4.6629, -4.7355, -4.9229, -4.9274, -4.9076, -4.929, -2.581, -2.6472, -4.0197, -4.7646, -4.6601, -4.9438, -5.2435, -5.1909, -5.03, -4.6297, -5.4009, -4.9034, -4.9593, -4.6027, -5.0195, -6.0164, -6.0729, -6.0748, -6.0606, -6.0748, -4.942, -6.0697, -6.0697, -6.0748, -6.0608, -6.0747, -6.058, -5.9639, -6.068, -6.0747, -5.26, -5.689, -5.3671, -4.6563, -5.6968, -5.4099, -5.4113, -5.4183, -5.6758, -5.7528, -5.3965, -5.7905, -5.787, -5.7403, -2.9523, -3.3461, -4.1072, -3.8999, -4.9185, -4.507, -4.2178, -5.3749, -5.0763, -5.949, -5.9491, -5.9486, -5.949, -5.9489, -5.9479, -5.9492, -5.9492, -5.949, -5.949, -5.881, -5.949, -5.949, -5.9491, -5.9491, -5.949, -5.948, -5.9493, -5.9475, -5.9493, -5.9489, -5.7757, -5.58, -5.5954, -5.1026, -5.9422, -5.4949, -5.8352, -5.9346, -5.9455, -5.8747, -5.9112, -5.8561, -5.9255, -5.9124, -5.9421, -5.9288, -5.9133, -5.9366, -5.9396, -5.9412, -5.9388, -5.9195, -5.9314, -5.9357, -5.9384, -5.9345, -5.9368, -5.7812, -5.7813, -5.7807, -5.7812, -5.7811, -5.7812, -5.7814, -5.7814, -5.7812, -5.7812, -5.7812, -5.7811, -5.7813, -5.7357, -5.7813, -5.7811, -5.7816, -5.7811, -5.7816, -5.7816, -5.7813, -5.7813, -5.781, -5.7817, -5.7816, -5.7812, -5.7813, -5.7811, -5.7809, -5.781, -5.7457, -5.7788, -5.7614, -5.7617, -5.7801, -5.757, -5.7719, -5.7792, -5.7725, -5.7729, -5.7784, -5.7797, -5.7797, -5.7799, -5.78, -5.7804, -5.7807, -5.7807, -5.7808, -5.7809, -5.7809, -5.7809, -5.781, -5.781, -5.781, -5.781], \"loglift\": [30.0, 29.0, 28.0, 27.0, 26.0, 25.0, 24.0, 23.0, 22.0, 21.0, 20.0, 19.0, 18.0, 17.0, 16.0, 15.0, 14.0, 13.0, 12.0, 11.0, 10.0, 9.0, 8.0, 7.0, 6.0, 5.0, 4.0, 3.0, 2.0, 1.0, 0.426, 0.3954, 0.3837, 0.3739, 0.3722, 0.3705, 0.3648, 0.3572, 0.3456, 0.3435, 0.3332, 0.3314, 0.329, 0.3286, 0.3262, 0.3219, 0.3183, 0.3153, 0.3124, 0.3085, 0.3083, 0.3059, 0.2949, 0.2877, 0.2863, 0.2851, 0.2849, 0.2844, 0.2844, 0.2809, 0.2677, 0.2551, 0.2603, 0.234, 0.1652, 0.1178, 0.0978, 0.1839, 0.1721, 0.1021, 0.1961, 0.0335, 0.0184, -0.0163, 0.064, 0.1256, -0.0483, -0.1452, 0.1372, 1.2962, 1.2932, 1.2646, 1.256, 1.2473, 1.2454, 1.2298, 1.204, 1.1759, 1.1432, 1.0848, 1.0809, 1.0605, 1.0271, 0.9882, 0.9674, 0.9535, 0.9106, 0.8971, 0.8882, 0.8387, 0.835, 0.7831, 0.7626, 0.739, 0.7346, 0.7163, 0.6965, 0.6698, 0.6451, 0.6207, 0.6165, 0.4954, 0.5005, 0.32, 0.3556, 0.2478, 0.2236, 0.0718, -0.0217, 0.0554, 0.1323, 0.426, 0.2234, -0.133, -0.449, 3.0015, 2.9931, 1.9141, 1.4817, 1.3828, 1.1998, 1.1404, 1.0872, 1.0583, 0.9707, 0.9327, 0.9314, 0.9111, 0.7832, 0.6943, 0.5558, 0.5026, 0.499, 0.4595, 0.4578, 0.4432, 0.4399, 0.4399, 0.4349, 0.4286, 0.4255, 0.4178, 0.4161, 0.4076, 0.404, 0.3866, 0.3321, 0.1815, -0.1393, 0.2314, -0.0014, -0.1282, -0.3432, -0.0443, -0.0778, -0.963, -0.1318, -0.1559, -1.2213, 3.0091, 2.9278, 2.1475, 1.8094, 1.407, 1.3146, 1.2238, 1.0415, 1.0257, 0.6265, 0.6246, 0.6236, 0.5835, 0.5711, 0.5617, 0.5604, 0.5604, 0.5512, 0.5404, 0.5305, 0.5298, 0.5269, 0.5265, 0.5138, 0.5136, 0.5119, 0.5115, 0.5103, 0.5028, 0.5015, 0.4229, 0.1337, 0.0994, -0.5836, 0.4939, -0.978, 0.0322, 0.3856, 0.4907, -0.4913, -0.07, -1.1378, 0.1226, -0.1963, 0.409, 0.0437, -0.5281, 0.1782, 0.2522, 0.3195, 0.2002, -0.8352, -0.2946, -0.0647, 0.1735, -1.1458, -0.1314, 0.7943, 0.7924, 0.7915, 0.7513, 0.7389, 0.7284, 0.7282, 0.7282, 0.719, 0.7082, 0.6975, 0.6947, 0.6943, 0.6865, 0.6816, 0.6814, 0.6792, 0.6788, 0.6763, 0.6706, 0.6691, 0.669, 0.6669, 0.6644, 0.6609, 0.6607, 0.6602, 0.6582, 0.6579, 0.6551, 0.6041, 0.6454, 0.5397, 0.5309, 0.6362, -0.1258, 0.0693, 0.5463, -1.2556, -0.4055, -0.2705, 0.4652, -1.2607, 0.4674, 0.5402, -0.2664, -0.1341, 0.3213, 0.3628, 0.4739, 0.1165, 0.3327, -0.6264, 0.3272, 0.4984, 0.4644]}, \"token.table\": {\"Topic\": [1, 2, 1, 2, 1, 2, 1, 1, 2, 1, 2, 1, 2, 1, 1, 2, 1, 1, 1, 1, 2, 3, 1, 2, 1, 2, 1, 1, 2, 1, 1, 2, 1, 2, 1, 2, 1, 1, 1, 2, 1, 2, 1, 2, 1, 1, 2, 1, 2, 1, 2, 1, 1, 1, 1, 2, 1, 2, 3, 1, 2, 1, 2, 2, 1, 1, 1, 1, 1, 1, 1, 2, 1, 2, 1, 2, 1, 1, 2, 1, 1, 2, 1, 2, 1, 2, 2, 1, 2, 1, 1, 1, 2, 1, 2, 1, 2, 1, 1, 1, 1, 2, 1, 2, 1, 2, 1, 3, 1, 2, 1, 3, 1, 2, 1, 2, 1, 1, 2, 1, 2, 1, 2, 1, 2, 2, 1, 2, 1, 2, 1, 2, 1, 2, 1, 2, 2, 2, 2, 2, 2, 1, 2, 1, 2, 1, 2, 1, 2, 1, 2, 1, 1, 1, 1, 1, 1, 1, 1, 1, 1, 2, 1, 1, 2, 1, 1, 2, 1, 2, 1, 2, 4, 1, 1, 1, 2, 1, 3, 1, 1, 4, 1, 2, 1, 2, 1, 1, 1, 1, 2, 1, 2, 3, 1, 2, 1, 2, 1, 2, 1, 2, 1, 2, 4, 1, 1, 1, 2, 4, 1, 4, 1, 2, 1, 1, 2, 1, 2, 1, 1, 1, 2, 3, 2, 2, 1, 2, 1, 2, 1, 2, 1, 2, 1, 1, 2, 3, 1, 1, 2, 2, 1, 2, 1, 2, 1, 2, 1, 2, 2, 1, 2, 4, 1, 2, 1, 2, 2, 1, 2, 1, 2, 1, 2, 1, 2, 1, 1, 1, 2, 1], \"Freq\": [0.3612927427411779, 0.5419391141117669, 0.7746323232547292, 0.12910538720912154, 0.5161224060825615, 0.2580612030412808, 0.6124076640982861, 0.5864220286111642, 0.3909480190741095, 0.3968795761324149, 0.5953193641986224, 0.38788847791720327, 0.38788847791720327, 0.891465705440093, 0.6839934615871918, 0.25649754809519687, 0.8813331362761748, 0.7433389176440388, 0.9170970414754579, 0.647055081837983, 0.3235275409189915, 0.9255691001548609, 0.6807787365943524, 0.3403893682971762, 0.38934575675336963, 0.38934575675336963, 0.8005509114803966, 0.44968622076729564, 0.22484311038364782, 0.8227001315468553, 0.4707878045212092, 0.4707878045212092, 0.28634319230753985, 0.5726863846150797, 0.7788762718725836, 0.2336628815617751, 0.8830580757515688, 0.8830580757515444, 0.2331567035687776, 0.4663134071375552, 0.3928417494411806, 0.3928417494411806, 0.839592972135988, 0.1049491215169985, 0.7708515127416244, 0.8482839361387982, 0.10603549201734977, 0.9046664311983454, 0.11308330389979318, 0.7837859541292636, 0.8213258714343246, 0.4700562081342241, 0.9320329726143647, 0.7005736482091265, 0.4124609819894683, 0.4124609819894683, 0.8427373733101092, 0.1203910533300156, 0.0601955266650078, 0.4160846763108621, 0.4160846763108621, 0.6989907913164568, 0.23299693043881892, 0.9222279033380367, 0.8287350005149663, 0.8257787812651778, 0.8973763370106818, 0.7724400977523426, 0.9691477427038608, 0.8410297554681667, 0.5737259705547144, 0.2868629852773572, 0.5533017103268734, 0.414976282745155, 0.7558135837052605, 0.215946738201503, 0.8337534342516356, 0.7770368977937699, 0.12950614963229498, 0.7014541515987675, 0.18627480245206537, 0.7450992098082615, 0.4646186275149179, 0.4646186275149179, 0.416142219231583, 0.416142219231583, 0.7345907427650706, 0.3195975060199991, 0.6391950120399982, 0.6780142067753191, 0.8402107067693506, 0.6096024669615171, 0.30480123348075855, 0.5636374204721311, 0.28181871023606553, 0.7541835598267823, 0.18854588995669558, 0.9639939150921101, 0.9337367330246868, 0.9543763236940952, 0.8122054847494786, 0.17404403244631686, 0.6793519718485098, 0.3396759859242549, 0.7526503688622992, 0.3763251844311496, 0.5874548671390215, 0.8735614257129803, 0.32132241612190704, 0.6426448322438141, 0.49649155982881427, 0.24824577991440713, 0.5534020434820822, 0.3689346956547215, 0.6112567217042573, 0.33958706761347623, 0.8044199590772557, 0.4327019474842615, 0.4327019474842615, 0.5066920881462629, 0.3377947254308419, 0.5764220550560313, 0.3293840314605893, 0.34110987387364533, 0.34110987387364533, 0.9476335849319546, 0.7340340846133699, 0.146806816922674, 0.7405919920162461, 0.24686399733874873, 0.5933044361405129, 0.29665221807025643, 0.4715900284416389, 0.4715900284416389, 0.18826522545694022, 0.7530609018277609, 0.7591510266626779, 0.9088752296204522, 0.7986851206287334, 0.9825163601160662, 0.9504201848833085, 0.7339571153403375, 0.18348927883508437, 0.44616711762882283, 0.44616711762882283, 0.227765231615802, 0.683295694847406, 0.33420767612366997, 0.6684153522473399, 0.42135854635067, 0.42135854635067, 0.842440375263616, 0.8578714951930627, 0.9813951430392875, 0.8465185125184083, 0.8708753855063994, 0.8042207227572622, 0.8609532440850458, 0.845712190875754, 0.8740700756994493, 0.5749545685187202, 0.1916515228395734, 0.8866030516739317, 0.40455871698366497, 0.40455871698366497, 0.9206766933618573, 0.5976387294224748, 0.1992129098074916, 0.8107862339390147, 0.16215724678780294, 0.44381276414588916, 0.22190638207294458, 0.22190638207294458, 0.8561955269290169, 0.8812121780564252, 0.7535976720789007, 0.37679883603945036, 0.8611229393563983, 0.14352048989273303, 0.45177161770757696, 0.5949521697126765, 0.19831738990422548, 0.33693785407138277, 0.6738757081427655, 0.7238256463727749, 0.24127521545759165, 0.677681391038878, 0.8230665064320889, 0.8302019162665294, 0.7198600134101267, 0.2768692359269718, 0.553749518213791, 0.2768747591068955, 0.2768747591068955, 0.5566173086773318, 0.2783086543386659, 0.6979395698652827, 0.23264652328842758, 0.7145543680800851, 0.20415839088002433, 0.6625913618249848, 0.29448504969999323, 0.41026847590369425, 0.41026847590369425, 0.6976168087102402, 0.8385299963424683, 0.8205047874949809, 0.4552797635018913, 0.3035198423345942, 0.1517599211672971, 0.3421984452371687, 0.3421984452371687, 0.5529462034779572, 0.3949615739128266, 0.718145248494593, 0.2615578437471911, 0.5231156874943822, 0.4268631188891249, 0.4268631188891249, 0.710810996219095, 0.5950210138136965, 0.3557337199697514, 0.5336005799546271, 0.1778668599848757, 0.8157149477877256, 0.8923215882792908, 0.42078373586353573, 0.5259796698294197, 0.42677610501481367, 0.42677610501481367, 0.836253028865295, 0.18583400641451, 0.8815013721358571, 0.11018767151698214, 0.7837859541292638, 0.3393259913622532, 0.3393259913622532, 0.3393259913622532, 0.8127353112970315, 0.5794541674411839, 0.28972708372059197, 0.7306983509426952, 0.6618152176272739, 0.2941400967232328, 0.3702824519901332, 0.3702824519901332, 0.6234210689058126, 0.34634503828100704, 0.3474625231977976, 0.3474625231977976, 0.8107555093033848, 0.4415392385417435, 0.4415392385417435, 0.7655745864997383, 0.5419279947411234, 0.40644599605584253, 0.6884313366600432, 0.3442156683300216, 0.8842428806345191, 0.4374204324494812, 0.4374204324494812, 0.74309450763516, 0.21231271646718858, 0.8733819025135573, 0.21834547562838932, 0.41262987036333737, 0.41262987036333737, 0.9051744686283654, 0.9172265577687722, 0.8413250492427232, 0.12018929274896047, 0.7168672464419715], \"Term\": [\"access\", \"access\", \"accountability\", \"accountability\", \"achieve\", \"achieve\", \"actor\", \"administration\", \"administration\", \"administrative\", \"administrative\", \"advance\", \"advance\", \"afghan\", \"aim\", \"aim\", \"anti\", \"anti corruption\", \"anticorruption\", \"approach\", \"approach\", \"assessment\", \"assistance\", \"assistance\", \"association\", \"association\", \"authority\", \"base\", \"base\", \"basic\", \"better\", \"better\", \"business\", \"business\", \"capacity\", \"capacity\", \"capacity civil\", \"capacity civil society\", \"case\", \"case\", \"change\", \"change\", \"citizen\", \"citizen\", \"citizen participation\", \"civil\", \"civil\", \"civil society\", \"civil society\", \"civil society organization\", \"commercial\", \"commission\", \"community\", \"conduct\", \"coordination\", \"coordination\", \"corruption\", \"corruption\", \"corruption\", \"cost\", \"cost\", \"country\", \"country\", \"court\", \"decision make\", \"deliver\", \"delivery\", \"democracy\", \"democratic\", \"democratic governance\", \"design\", \"design\", \"develop\", \"develop\", \"development\", \"development\", \"dialogue\", \"economic\", \"economic\", \"economic development\", \"education\", \"education\", \"efficiency\", \"efficiency\", \"empower\", \"empower\", \"enforcement\", \"establishment\", \"establishment\", \"facilitate\", \"finance\", \"fiscal\", \"fiscal\", \"focus\", \"focus\", \"framework\", \"framework\", \"good\", \"good governance\", \"governance\", \"government\", \"government\", \"government institution\", \"government institution\", \"governmental\", \"governmental\", \"great\", \"health\", \"high\", \"high\", \"identify\", \"identify\", \"implementation\", \"implementation\", \"improve\", \"improve\", \"improve public\", \"improve quality\", \"improve quality\", \"include\", \"include\", \"increase\", \"increase\", \"increase public\", \"increase public\", \"independence\", \"information\", \"information\", \"initiative\", \"initiative\", \"internal\", \"internal\", \"introduce\", \"introduce\", \"investment\", \"investment\", \"judge\", \"judicial\", \"judiciary\", \"justice\", \"justice sector\", \"key\", \"key\", \"knowledge\", \"knowledge\", \"law\", \"law\", \"legal\", \"legal\", \"legal framework\", \"legal framework\", \"legislation\", \"level\", \"local\", \"local governance\", \"local government\", \"medium\", \"municipal\", \"municipality\", \"national\", \"need\", \"need\", \"network\", \"non\", \"non\", \"official\", \"opportunity\", \"opportunity\", \"organization\", \"organization\", \"overall\", \"overall\", \"overall\", \"overall goal\", \"participation\", \"partner\", \"partner\", \"political\", \"political\", \"primary\", \"procurement\", \"procurement\", \"professional\", \"professional\", \"program\", \"program\", \"program focus\", \"program support\", \"program work\", \"project\", \"project\", \"project design\", \"project design\", \"project design\", \"project support\", \"project support\", \"promote\", \"promote\", \"provide\", \"provide\", \"public\", \"public\", \"public private\", \"public private\", \"public procurement\", \"public service\", \"raise\", \"reduce\", \"reduce\", \"reduce\", \"reduce corruption\", \"reduce corruption\", \"reform\", \"reform\", \"regional\", \"regulatory\", \"regulatory\", \"relate\", \"relate\", \"report\", \"revenue\", \"right\", \"right\", \"right\", \"rule\", \"rule law\", \"sector\", \"sector\", \"sector reform\", \"sector reform\", \"service\", \"service\", \"society\", \"society\", \"society organization\", \"stakeholder\", \"stakeholder\", \"stakeholder\", \"strategic\", \"strategy\", \"strategy\", \"streamline\", \"strengthen\", \"strengthen\", \"structure\", \"structure\", \"support\", \"support\", \"support government\", \"support government\", \"support implementation\", \"sustainability\", \"sustainability\", \"tax\", \"technical\", \"technical\", \"technology\", \"technology\", \"trade\", \"train\", \"train\", \"transparency\", \"transparency\", \"transparency accountability\", \"transparency accountability\", \"unit\", \"unit\", \"use\", \"woman\", \"work\", \"work\", \"year\"]}, \"R\": 30, \"lambda.step\": 0.01, \"plot.opts\": {\"xlab\": \"PC1\", \"ylab\": \"PC2\"}, \"topic.order\": [5, 4, 3, 2, 1]};\n",
       "\n",
       "function LDAvis_load_lib(url, callback){\n",
       "  var s = document.createElement('script');\n",
       "  s.src = url;\n",
       "  s.async = true;\n",
       "  s.onreadystatechange = s.onload = callback;\n",
       "  s.onerror = function(){console.warn(\"failed to load library \" + url);};\n",
       "  document.getElementsByTagName(\"head\")[0].appendChild(s);\n",
       "}\n",
       "\n",
       "if(typeof(LDAvis) !== \"undefined\"){\n",
       "   // already loaded: just create the visualization\n",
       "   !function(LDAvis){\n",
       "       new LDAvis(\"#\" + \"ldavis_el27541122385115681534080047\", ldavis_el27541122385115681534080047_data);\n",
       "   }(LDAvis);\n",
       "}else if(typeof define === \"function\" && define.amd){\n",
       "   // require.js is available: use it to load d3/LDAvis\n",
       "   require.config({paths: {d3: \"https://cdnjs.cloudflare.com/ajax/libs/d3/3.5.5/d3.min\"}});\n",
       "   require([\"d3\"], function(d3){\n",
       "      window.d3 = d3;\n",
       "      LDAvis_load_lib(\"https://cdn.rawgit.com/bmabey/pyLDAvis/files/ldavis.v1.0.0.js\", function(){\n",
       "        new LDAvis(\"#\" + \"ldavis_el27541122385115681534080047\", ldavis_el27541122385115681534080047_data);\n",
       "      });\n",
       "    });\n",
       "}else{\n",
       "    // require.js not available: dynamically load d3 & LDAvis\n",
       "    LDAvis_load_lib(\"https://cdnjs.cloudflare.com/ajax/libs/d3/3.5.5/d3.min.js\", function(){\n",
       "         LDAvis_load_lib(\"https://cdn.rawgit.com/bmabey/pyLDAvis/files/ldavis.v1.0.0.js\", function(){\n",
       "                 new LDAvis(\"#\" + \"ldavis_el27541122385115681534080047\", ldavis_el27541122385115681534080047_data);\n",
       "            })\n",
       "         });\n",
       "}\n",
       "</script>"
      ],
      "text/plain": [
       "PreparedData(topic_coordinates=                x           y  topics  cluster       Freq\n",
       "topic                                                    \n",
       "4      150.222153  -72.269554       1        1  62.779574\n",
       "3       51.163364 -159.968018       2        1  25.433260\n",
       "2      -73.144554   21.523815       3        1   4.403371\n",
       "1      -66.410133 -110.606438       4        1   3.974417\n",
       "0       54.417324   12.443444       5        1   3.409377, topic_info=                     Term      Freq     Total Category  logprob  loglift\n",
       "134                health  5.000000  5.000000  Default  30.0000  30.0000\n",
       "25             assessment  5.000000  5.000000  Default  29.0000  29.0000\n",
       "305                   tax  3.000000  3.000000  Default  28.0000  28.0000\n",
       "231           procurement  5.000000  5.000000  Default  27.0000  27.0000\n",
       "169               justice  9.000000  9.000000  Default  26.0000  26.0000\n",
       "..                    ...       ...       ...      ...      ...      ...\n",
       "14                 afghan  0.160025  3.365244   Topic5  -5.7809   0.3327\n",
       "173                   law  0.160015  8.780971   Topic5  -5.7810  -0.6264\n",
       "199               network  0.160013  3.383701   Topic5  -5.7810   0.3272\n",
       "91   economic development  0.160012  2.851220   Topic5  -5.7810   0.4984\n",
       "114            facilitate  0.160010  2.949791   Topic5  -5.7810   0.4644\n",
       "\n",
       "[282 rows x 6 columns], token_table=      Topic      Freq            Term\n",
       "term                                 \n",
       "1         1  0.361293          access\n",
       "1         2  0.541939          access\n",
       "2         1  0.774632  accountability\n",
       "2         2  0.129105  accountability\n",
       "4         1  0.516122         achieve\n",
       "...     ...       ...             ...\n",
       "320       1  0.905174             use\n",
       "321       1  0.917227           woman\n",
       "322       1  0.841325            work\n",
       "322       2  0.120189            work\n",
       "323       1  0.716867            year\n",
       "\n",
       "[272 rows x 3 columns], R=30, lambda_step=0.01, plot_opts={'xlab': 'PC1', 'ylab': 'PC2'}, topic_order=[5, 4, 3, 2, 1])"
      ]
     },
     "execution_count": 15,
     "metadata": {},
     "output_type": "execute_result"
    }
   ],
   "source": [
    "pyLDAvis.enable_notebook()\n",
    "panel = pyLDAvis.sklearn.prepare(best_lda_model, data_vectorized, vectorizer, mds='tsne')\n",
    "panel"
   ]
  },
  {
   "cell_type": "code",
   "execution_count": 16,
   "metadata": {},
   "outputs": [
    {
     "name": "stderr",
     "output_type": "stream",
     "text": [
      "/Users/yanglingxi/opt/anaconda3/envs/py37/lib/python3.7/site-packages/ipykernel/ipkernel.py:287: DeprecationWarning: `should_run_async` will not call `transform_cell` automatically in the future. Please pass the result to `transformed_cell` argument and any exception that happen during thetransform in `preprocessing_exc_tuple` in IPython 7.17 and above.\n",
      "  and should_run_async(code)\n"
     ]
    },
    {
     "data": {
      "text/html": [
       "<div>\n",
       "<style scoped>\n",
       "    .dataframe tbody tr th:only-of-type {\n",
       "        vertical-align: middle;\n",
       "    }\n",
       "\n",
       "    .dataframe tbody tr th {\n",
       "        vertical-align: top;\n",
       "    }\n",
       "\n",
       "    .dataframe thead th {\n",
       "        text-align: right;\n",
       "    }\n",
       "</style>\n",
       "<table border=\"1\" class=\"dataframe\">\n",
       "  <thead>\n",
       "    <tr style=\"text-align: right;\">\n",
       "      <th></th>\n",
       "      <th>ability</th>\n",
       "      <th>access</th>\n",
       "      <th>accountability</th>\n",
       "      <th>accountable</th>\n",
       "      <th>achieve</th>\n",
       "      <th>action</th>\n",
       "      <th>activity</th>\n",
       "      <th>actor</th>\n",
       "      <th>address</th>\n",
       "      <th>administration</th>\n",
       "      <th>...</th>\n",
       "      <th>training</th>\n",
       "      <th>transition</th>\n",
       "      <th>transparency</th>\n",
       "      <th>transparency accountability</th>\n",
       "      <th>transparent</th>\n",
       "      <th>unit</th>\n",
       "      <th>use</th>\n",
       "      <th>woman</th>\n",
       "      <th>work</th>\n",
       "      <th>year</th>\n",
       "    </tr>\n",
       "  </thead>\n",
       "  <tbody>\n",
       "    <tr>\n",
       "      <th>Topic0</th>\n",
       "      <td>0.200170</td>\n",
       "      <td>0.200171</td>\n",
       "      <td>0.200148</td>\n",
       "      <td>0.200159</td>\n",
       "      <td>0.200171</td>\n",
       "      <td>0.200173</td>\n",
       "      <td>0.200149</td>\n",
       "      <td>0.200277</td>\n",
       "      <td>0.200176</td>\n",
       "      <td>0.200174</td>\n",
       "      <td>...</td>\n",
       "      <td>0.200149</td>\n",
       "      <td>0.200145</td>\n",
       "      <td>0.200162</td>\n",
       "      <td>0.200163</td>\n",
       "      <td>0.200153</td>\n",
       "      <td>0.200190</td>\n",
       "      <td>0.202068</td>\n",
       "      <td>0.200126</td>\n",
       "      <td>0.200162</td>\n",
       "      <td>0.204195</td>\n",
       "    </tr>\n",
       "    <tr>\n",
       "      <th>Topic1</th>\n",
       "      <td>0.200148</td>\n",
       "      <td>0.200704</td>\n",
       "      <td>0.201139</td>\n",
       "      <td>0.200136</td>\n",
       "      <td>0.204247</td>\n",
       "      <td>0.200572</td>\n",
       "      <td>0.200464</td>\n",
       "      <td>0.200237</td>\n",
       "      <td>0.200149</td>\n",
       "      <td>0.285080</td>\n",
       "      <td>...</td>\n",
       "      <td>0.200375</td>\n",
       "      <td>0.200123</td>\n",
       "      <td>0.206170</td>\n",
       "      <td>0.202619</td>\n",
       "      <td>0.200243</td>\n",
       "      <td>0.200165</td>\n",
       "      <td>0.207878</td>\n",
       "      <td>0.200177</td>\n",
       "      <td>0.200560</td>\n",
       "      <td>0.200957</td>\n",
       "    </tr>\n",
       "    <tr>\n",
       "      <th>Topic2</th>\n",
       "      <td>0.200296</td>\n",
       "      <td>0.201400</td>\n",
       "      <td>0.200366</td>\n",
       "      <td>0.200119</td>\n",
       "      <td>0.200534</td>\n",
       "      <td>0.201948</td>\n",
       "      <td>0.200332</td>\n",
       "      <td>0.620140</td>\n",
       "      <td>0.202095</td>\n",
       "      <td>0.200130</td>\n",
       "      <td>...</td>\n",
       "      <td>0.200218</td>\n",
       "      <td>0.200107</td>\n",
       "      <td>0.200208</td>\n",
       "      <td>0.200362</td>\n",
       "      <td>0.200154</td>\n",
       "      <td>0.200794</td>\n",
       "      <td>0.201073</td>\n",
       "      <td>0.200860</td>\n",
       "      <td>0.200703</td>\n",
       "      <td>0.210839</td>\n",
       "    </tr>\n",
       "    <tr>\n",
       "      <th>Topic3</th>\n",
       "      <td>1.672589</td>\n",
       "      <td>3.253618</td>\n",
       "      <td>1.692621</td>\n",
       "      <td>1.081156</td>\n",
       "      <td>1.251673</td>\n",
       "      <td>0.537532</td>\n",
       "      <td>2.018454</td>\n",
       "      <td>0.373058</td>\n",
       "      <td>1.506041</td>\n",
       "      <td>2.373422</td>\n",
       "      <td>...</td>\n",
       "      <td>2.446377</td>\n",
       "      <td>0.203318</td>\n",
       "      <td>2.394370</td>\n",
       "      <td>0.700667</td>\n",
       "      <td>1.148181</td>\n",
       "      <td>0.655546</td>\n",
       "      <td>0.370514</td>\n",
       "      <td>0.201337</td>\n",
       "      <td>1.556057</td>\n",
       "      <td>0.202255</td>\n",
       "    </tr>\n",
       "    <tr>\n",
       "      <th>Topic4</th>\n",
       "      <td>1.201845</td>\n",
       "      <td>2.914411</td>\n",
       "      <td>7.024572</td>\n",
       "      <td>3.404151</td>\n",
       "      <td>2.845492</td>\n",
       "      <td>2.016174</td>\n",
       "      <td>4.937615</td>\n",
       "      <td>2.578471</td>\n",
       "      <td>3.888574</td>\n",
       "      <td>3.175796</td>\n",
       "      <td>...</td>\n",
       "      <td>5.837550</td>\n",
       "      <td>2.875085</td>\n",
       "      <td>8.340261</td>\n",
       "      <td>4.208488</td>\n",
       "      <td>4.798523</td>\n",
       "      <td>1.692908</td>\n",
       "      <td>4.324336</td>\n",
       "      <td>4.425645</td>\n",
       "      <td>7.837008</td>\n",
       "      <td>2.545687</td>\n",
       "    </tr>\n",
       "  </tbody>\n",
       "</table>\n",
       "<p>5 rows × 324 columns</p>\n",
       "</div>"
      ],
      "text/plain": [
       "         ability    access  accountability  accountable   achieve    action  \\\n",
       "Topic0  0.200170  0.200171        0.200148     0.200159  0.200171  0.200173   \n",
       "Topic1  0.200148  0.200704        0.201139     0.200136  0.204247  0.200572   \n",
       "Topic2  0.200296  0.201400        0.200366     0.200119  0.200534  0.201948   \n",
       "Topic3  1.672589  3.253618        1.692621     1.081156  1.251673  0.537532   \n",
       "Topic4  1.201845  2.914411        7.024572     3.404151  2.845492  2.016174   \n",
       "\n",
       "        activity     actor   address  administration  ...  training  \\\n",
       "Topic0  0.200149  0.200277  0.200176        0.200174  ...  0.200149   \n",
       "Topic1  0.200464  0.200237  0.200149        0.285080  ...  0.200375   \n",
       "Topic2  0.200332  0.620140  0.202095        0.200130  ...  0.200218   \n",
       "Topic3  2.018454  0.373058  1.506041        2.373422  ...  2.446377   \n",
       "Topic4  4.937615  2.578471  3.888574        3.175796  ...  5.837550   \n",
       "\n",
       "        transition  transparency  transparency accountability  transparent  \\\n",
       "Topic0    0.200145      0.200162                     0.200163     0.200153   \n",
       "Topic1    0.200123      0.206170                     0.202619     0.200243   \n",
       "Topic2    0.200107      0.200208                     0.200362     0.200154   \n",
       "Topic3    0.203318      2.394370                     0.700667     1.148181   \n",
       "Topic4    2.875085      8.340261                     4.208488     4.798523   \n",
       "\n",
       "            unit       use     woman      work      year  \n",
       "Topic0  0.200190  0.202068  0.200126  0.200162  0.204195  \n",
       "Topic1  0.200165  0.207878  0.200177  0.200560  0.200957  \n",
       "Topic2  0.200794  0.201073  0.200860  0.200703  0.210839  \n",
       "Topic3  0.655546  0.370514  0.201337  1.556057  0.202255  \n",
       "Topic4  1.692908  4.324336  4.425645  7.837008  2.545687  \n",
       "\n",
       "[5 rows x 324 columns]"
      ]
     },
     "execution_count": 16,
     "metadata": {},
     "output_type": "execute_result"
    }
   ],
   "source": [
    "### TOPIC KEYWORDS ###\n",
    "\n",
    "# Topic-Keyword Matrix\n",
    "df_topic_keywords = pd.DataFrame(best_lda_model.components_)\n",
    "\n",
    "# Assign Column and Index\n",
    "df_topic_keywords.columns = vectorizer.get_feature_names()\n",
    "df_topic_keywords.index = topicnames\n",
    "\n",
    "# View\n",
    "df_topic_keywords.head()"
   ]
  },
  {
   "cell_type": "code",
   "execution_count": 17,
   "metadata": {},
   "outputs": [
    {
     "name": "stderr",
     "output_type": "stream",
     "text": [
      "/Users/yanglingxi/opt/anaconda3/envs/py37/lib/python3.7/site-packages/ipykernel/ipkernel.py:287: DeprecationWarning: `should_run_async` will not call `transform_cell` automatically in the future. Please pass the result to `transformed_cell` argument and any exception that happen during thetransform in `preprocessing_exc_tuple` in IPython 7.17 and above.\n",
      "  and should_run_async(code)\n"
     ]
    },
    {
     "data": {
      "text/html": [
       "<div>\n",
       "<style scoped>\n",
       "    .dataframe tbody tr th:only-of-type {\n",
       "        vertical-align: middle;\n",
       "    }\n",
       "\n",
       "    .dataframe tbody tr th {\n",
       "        vertical-align: top;\n",
       "    }\n",
       "\n",
       "    .dataframe thead th {\n",
       "        text-align: right;\n",
       "    }\n",
       "</style>\n",
       "<table border=\"1\" class=\"dataframe\">\n",
       "  <thead>\n",
       "    <tr style=\"text-align: right;\">\n",
       "      <th></th>\n",
       "      <th>Word 0</th>\n",
       "      <th>Word 1</th>\n",
       "      <th>Word 2</th>\n",
       "      <th>Word 3</th>\n",
       "      <th>Word 4</th>\n",
       "      <th>Word 5</th>\n",
       "      <th>Word 6</th>\n",
       "      <th>Word 7</th>\n",
       "      <th>Word 8</th>\n",
       "      <th>Word 9</th>\n",
       "      <th>Word 10</th>\n",
       "      <th>Word 11</th>\n",
       "      <th>Word 12</th>\n",
       "      <th>Word 13</th>\n",
       "      <th>Word 14</th>\n",
       "    </tr>\n",
       "  </thead>\n",
       "  <tbody>\n",
       "    <tr>\n",
       "      <th>Topic 0</th>\n",
       "      <td>non</td>\n",
       "      <td>governmental</td>\n",
       "      <td>anticorruption</td>\n",
       "      <td>year</td>\n",
       "      <td>report</td>\n",
       "      <td>use</td>\n",
       "      <td>corruption</td>\n",
       "      <td>focus</td>\n",
       "      <td>organization</td>\n",
       "      <td>support implementation</td>\n",
       "      <td>enforcement</td>\n",
       "      <td>program focus</td>\n",
       "      <td>program</td>\n",
       "      <td>government institution</td>\n",
       "      <td>streamline</td>\n",
       "    </tr>\n",
       "    <tr>\n",
       "      <th>Topic 1</th>\n",
       "      <td>tax</td>\n",
       "      <td>public procurement</td>\n",
       "      <td>procurement</td>\n",
       "      <td>reduce corruption</td>\n",
       "      <td>reduce</td>\n",
       "      <td>overall</td>\n",
       "      <td>enforcement</td>\n",
       "      <td>great</td>\n",
       "      <td>program</td>\n",
       "      <td>improve public</td>\n",
       "      <td>corruption</td>\n",
       "      <td>opportunity</td>\n",
       "      <td>administration</td>\n",
       "      <td>approach</td>\n",
       "      <td>efficiency</td>\n",
       "    </tr>\n",
       "    <tr>\n",
       "      <th>Topic 2</th>\n",
       "      <td>health</td>\n",
       "      <td>assessment</td>\n",
       "      <td>identify</td>\n",
       "      <td>political</td>\n",
       "      <td>right</td>\n",
       "      <td>corruption</td>\n",
       "      <td>project design</td>\n",
       "      <td>stakeholder</td>\n",
       "      <td>base</td>\n",
       "      <td>design</td>\n",
       "      <td>actor</td>\n",
       "      <td>country</td>\n",
       "      <td>opportunity</td>\n",
       "      <td>strategy</td>\n",
       "      <td>conduct</td>\n",
       "    </tr>\n",
       "    <tr>\n",
       "      <th>Topic 3</th>\n",
       "      <td>justice</td>\n",
       "      <td>judicial</td>\n",
       "      <td>law</td>\n",
       "      <td>legal</td>\n",
       "      <td>court</td>\n",
       "      <td>rule</td>\n",
       "      <td>reform</td>\n",
       "      <td>improve</td>\n",
       "      <td>sector</td>\n",
       "      <td>trade</td>\n",
       "      <td>rule law</td>\n",
       "      <td>project</td>\n",
       "      <td>support</td>\n",
       "      <td>strengthen</td>\n",
       "      <td>increase</td>\n",
       "    </tr>\n",
       "    <tr>\n",
       "      <th>Topic 4</th>\n",
       "      <td>local</td>\n",
       "      <td>government</td>\n",
       "      <td>corruption</td>\n",
       "      <td>project</td>\n",
       "      <td>program</td>\n",
       "      <td>governance</td>\n",
       "      <td>capacity</td>\n",
       "      <td>public</td>\n",
       "      <td>support</td>\n",
       "      <td>improve</td>\n",
       "      <td>service</td>\n",
       "      <td>strengthen</td>\n",
       "      <td>civil</td>\n",
       "      <td>society</td>\n",
       "      <td>aim</td>\n",
       "    </tr>\n",
       "  </tbody>\n",
       "</table>\n",
       "</div>"
      ],
      "text/plain": [
       "          Word 0              Word 1          Word 2             Word 3  \\\n",
       "Topic 0      non        governmental  anticorruption               year   \n",
       "Topic 1      tax  public procurement     procurement  reduce corruption   \n",
       "Topic 2   health          assessment        identify          political   \n",
       "Topic 3  justice            judicial             law              legal   \n",
       "Topic 4    local          government      corruption            project   \n",
       "\n",
       "          Word 4      Word 5          Word 6       Word 7        Word 8  \\\n",
       "Topic 0   report         use      corruption        focus  organization   \n",
       "Topic 1   reduce     overall     enforcement        great       program   \n",
       "Topic 2    right  corruption  project design  stakeholder          base   \n",
       "Topic 3    court        rule          reform      improve        sector   \n",
       "Topic 4  program  governance        capacity       public       support   \n",
       "\n",
       "                         Word 9      Word 10        Word 11         Word 12  \\\n",
       "Topic 0  support implementation  enforcement  program focus         program   \n",
       "Topic 1          improve public   corruption    opportunity  administration   \n",
       "Topic 2                  design        actor        country     opportunity   \n",
       "Topic 3                   trade     rule law        project         support   \n",
       "Topic 4                 improve      service     strengthen           civil   \n",
       "\n",
       "                        Word 13     Word 14  \n",
       "Topic 0  government institution  streamline  \n",
       "Topic 1                approach  efficiency  \n",
       "Topic 2                strategy     conduct  \n",
       "Topic 3              strengthen    increase  \n",
       "Topic 4                 society         aim  "
      ]
     },
     "execution_count": 17,
     "metadata": {},
     "output_type": "execute_result"
    }
   ],
   "source": [
    "### TOP 15 KEYWORDS FOR EACH TOPIC ###\n",
    "\n",
    "# Show top n keywords for each topic\n",
    "def show_topics(vectorizer=vectorizer, lda_model=lda_model, n_words=20):\n",
    "    keywords = np.array(vectorizer.get_feature_names())\n",
    "    topic_keywords = []\n",
    "    for topic_weights in lda_model.components_:\n",
    "        top_keyword_locs = (-topic_weights).argsort()[:n_words]\n",
    "        topic_keywords.append(keywords.take(top_keyword_locs))\n",
    "    return topic_keywords\n",
    "\n",
    "topic_keywords = show_topics(vectorizer=vectorizer, lda_model=best_lda_model, n_words=15)        \n",
    "\n",
    "# Topic - Keywords Dataframe\n",
    "df_topic_keywords = pd.DataFrame(topic_keywords)\n",
    "df_topic_keywords.columns = ['Word '+str(i) for i in range(df_topic_keywords.shape[1])]\n",
    "df_topic_keywords.index = ['Topic '+str(i) for i in range(df_topic_keywords.shape[0])]\n",
    "df_topic_keywords"
   ]
  },
  {
   "cell_type": "code",
   "execution_count": 22,
   "metadata": {},
   "outputs": [
    {
     "name": "stdout",
     "output_type": "stream",
     "text": [
      "/Users/yanglingxi/Desktop\n"
     ]
    },
    {
     "name": "stderr",
     "output_type": "stream",
     "text": [
      "/Users/yanglingxi/opt/anaconda3/envs/py37/lib/python3.7/site-packages/ipykernel/ipkernel.py:287: DeprecationWarning: `should_run_async` will not call `transform_cell` automatically in the future. Please pass the result to `transformed_cell` argument and any exception that happen during thetransform in `preprocessing_exc_tuple` in IPython 7.17 and above.\n",
      "  and should_run_async(code)\n"
     ]
    }
   ],
   "source": [
    "cd /Users/yanglingxi/Desktop"
   ]
  },
  {
   "cell_type": "code",
   "execution_count": 23,
   "metadata": {},
   "outputs": [
    {
     "name": "stderr",
     "output_type": "stream",
     "text": [
      "/Users/yanglingxi/opt/anaconda3/envs/py37/lib/python3.7/site-packages/ipykernel/ipkernel.py:287: DeprecationWarning: `should_run_async` will not call `transform_cell` automatically in the future. Please pass the result to `transformed_cell` argument and any exception that happen during thetransform in `preprocessing_exc_tuple` in IPython 7.17 and above.\n",
      "  and should_run_async(code)\n"
     ]
    }
   ],
   "source": [
    "df_document_topic.to_csv('df_document_topic.csv')"
   ]
  },
  {
   "cell_type": "code",
   "execution_count": null,
   "metadata": {},
   "outputs": [],
   "source": []
  }
 ],
 "metadata": {
  "kernelspec": {
   "display_name": "Python 3",
   "language": "python",
   "name": "python3"
  },
  "language_info": {
   "codemirror_mode": {
    "name": "ipython",
    "version": 3
   },
   "file_extension": ".py",
   "mimetype": "text/x-python",
   "name": "python",
   "nbconvert_exporter": "python",
   "pygments_lexer": "ipython3",
   "version": "3.7.7"
  }
 },
 "nbformat": 4,
 "nbformat_minor": 4
}
