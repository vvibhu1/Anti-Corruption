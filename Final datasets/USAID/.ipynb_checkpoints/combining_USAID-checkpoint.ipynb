{
 "cells": [
  {
   "cell_type": "code",
   "execution_count": 34,
   "metadata": {},
   "outputs": [],
   "source": [
    "import pandas as pd\n",
    "import numpy as np\n",
    "import matplotlib.pyplot as plt\n",
    "import seaborn as sns\n",
    "sns.set()"
   ]
  },
  {
   "cell_type": "code",
   "execution_count": 35,
   "metadata": {},
   "outputs": [],
   "source": [
    "# original USAID dataset\n",
    "usaid = usaid = pd.read_csv('/Users/thuyt/Documents/GitHub/Anti-Corruption/Data Provided/USAID_Project_Data/USAID_Anticorruption_Projects_Database.csv')"
   ]
  },
  {
   "cell_type": "code",
   "execution_count": 36,
   "metadata": {},
   "outputs": [],
   "source": [
    "# sentiment scores for project description\n",
    "desc_sent = pd.read_csv('/Users/thuyt/Documents/GitHub/Anti-Corruption/Text Mining/sentiment_analysis_official/proj_desc_sentiment_scores.csv')"
   ]
  },
  {
   "cell_type": "code",
   "execution_count": 37,
   "metadata": {},
   "outputs": [],
   "source": [
    "# sentiment scores for project results\n",
    "res_sent = pd.read_csv('/Users/thuyt/Documents/GitHub/Anti-Corruption/Text Mining/sentiment_analysis_official/proj_res_sentiment_scores.csv')"
   ]
  },
  {
   "cell_type": "code",
   "execution_count": 38,
   "metadata": {},
   "outputs": [],
   "source": [
    "# topic vector scores\n",
    "topic_model = pd.read_csv('/Users/thuyt/Documents/GitHub/Anti-Corruption/Text Mining/topic_modeling/df_document_topic.csv')"
   ]
  },
  {
   "cell_type": "code",
   "execution_count": 39,
   "metadata": {},
   "outputs": [],
   "source": [
    "# cosine similarities\n",
    "cos_sim = pd.read_csv('/Users/thuyt/Documents/GitHub/Anti-Corruption/Text Mining/cosine_similarity/cosine_sim.csv')"
   ]
  },
  {
   "cell_type": "code",
   "execution_count": 40,
   "metadata": {
    "scrolled": true
   },
   "outputs": [
    {
     "data": {
      "text/html": [
       "<div>\n",
       "<style scoped>\n",
       "    .dataframe tbody tr th:only-of-type {\n",
       "        vertical-align: middle;\n",
       "    }\n",
       "\n",
       "    .dataframe tbody tr th {\n",
       "        vertical-align: top;\n",
       "    }\n",
       "\n",
       "    .dataframe thead th {\n",
       "        text-align: right;\n",
       "    }\n",
       "</style>\n",
       "<table border=\"1\" class=\"dataframe\">\n",
       "  <thead>\n",
       "    <tr style=\"text-align: right;\">\n",
       "      <th></th>\n",
       "      <th>uuid</th>\n",
       "      <th>region</th>\n",
       "      <th>country</th>\n",
       "      <th>proj_nm</th>\n",
       "      <th>st_date</th>\n",
       "      <th>end_date</th>\n",
       "      <th>awd_amount</th>\n",
       "      <th>awd_value</th>\n",
       "      <th>implementer</th>\n",
       "      <th>sector</th>\n",
       "      <th>...</th>\n",
       "      <th>rfp_rftop</th>\n",
       "      <th>final_res</th>\n",
       "      <th>mind_eval</th>\n",
       "      <th>final_eval</th>\n",
       "      <th>audit</th>\n",
       "      <th>interim_rep</th>\n",
       "      <th>addl_docs</th>\n",
       "      <th>addl_info</th>\n",
       "      <th>corruption</th>\n",
       "      <th>stability</th>\n",
       "    </tr>\n",
       "  </thead>\n",
       "  <tbody>\n",
       "    <tr>\n",
       "      <td>0</td>\n",
       "      <td>1</td>\n",
       "      <td>South and Central Asia (SCA)</td>\n",
       "      <td>Afghanistan</td>\n",
       "      <td>Assistance for Afghanistan's Anti-Corruption A...</td>\n",
       "      <td>2010</td>\n",
       "      <td>2013</td>\n",
       "      <td>e) $25 M-$50 M</td>\n",
       "      <td>26642989</td>\n",
       "      <td>Management Systems International (MSI)</td>\n",
       "      <td>Independent Agencies, Civil Society</td>\n",
       "      <td>...</td>\n",
       "      <td>NaN</td>\n",
       "      <td>http://pdf.usaid.gov/pdf_docs/PA00JP3T.pdf</td>\n",
       "      <td>NaN</td>\n",
       "      <td>NaN</td>\n",
       "      <td>NaN</td>\n",
       "      <td>NaN</td>\n",
       "      <td>http://www.msiworldwide.com/project/supporting...</td>\n",
       "      <td>NaN</td>\n",
       "      <td>High Corruption</td>\n",
       "      <td>Unstable</td>\n",
       "    </tr>\n",
       "    <tr>\n",
       "      <td>1</td>\n",
       "      <td>2</td>\n",
       "      <td>South and Central Asia (SCA)</td>\n",
       "      <td>Afghanistan</td>\n",
       "      <td>Rule of Law Stabilization Program - Formal Com...</td>\n",
       "      <td>2010</td>\n",
       "      <td>2012</td>\n",
       "      <td>e) $25 M-$50 M</td>\n",
       "      <td>33700000</td>\n",
       "      <td>TetraTech ARD</td>\n",
       "      <td>Rule of Law</td>\n",
       "      <td>...</td>\n",
       "      <td>NaN</td>\n",
       "      <td>NaN</td>\n",
       "      <td>NaN</td>\n",
       "      <td>http://pdf.usaid.gov/pdf_docs/PDACU496.pdf</td>\n",
       "      <td>NaN</td>\n",
       "      <td>NaN</td>\n",
       "      <td>NaN</td>\n",
       "      <td>NaN</td>\n",
       "      <td>Very High Corruption</td>\n",
       "      <td>Very Unstable</td>\n",
       "    </tr>\n",
       "  </tbody>\n",
       "</table>\n",
       "<p>2 rows × 24 columns</p>\n",
       "</div>"
      ],
      "text/plain": [
       "   uuid                        region      country  \\\n",
       "0     1  South and Central Asia (SCA)  Afghanistan   \n",
       "1     2  South and Central Asia (SCA)  Afghanistan   \n",
       "\n",
       "                                             proj_nm  st_date end_date  \\\n",
       "0  Assistance for Afghanistan's Anti-Corruption A...     2010     2013   \n",
       "1  Rule of Law Stabilization Program - Formal Com...     2010     2012   \n",
       "\n",
       "       awd_amount awd_value                             implementer  \\\n",
       "0  e) $25 M-$50 M  26642989  Management Systems International (MSI)   \n",
       "1  e) $25 M-$50 M  33700000                           TetraTech ARD   \n",
       "\n",
       "                                sector  ... rfp_rftop  \\\n",
       "0  Independent Agencies, Civil Society  ...       NaN   \n",
       "1                          Rule of Law  ...       NaN   \n",
       "\n",
       "                                    final_res mind_eval  \\\n",
       "0  http://pdf.usaid.gov/pdf_docs/PA00JP3T.pdf       NaN   \n",
       "1                                         NaN       NaN   \n",
       "\n",
       "                                   final_eval audit interim_rep  \\\n",
       "0                                         NaN   NaN         NaN   \n",
       "1  http://pdf.usaid.gov/pdf_docs/PDACU496.pdf   NaN         NaN   \n",
       "\n",
       "                                           addl_docs addl_info  \\\n",
       "0  http://www.msiworldwide.com/project/supporting...       NaN   \n",
       "1                                                NaN       NaN   \n",
       "\n",
       "             corruption      stability  \n",
       "0       High Corruption       Unstable  \n",
       "1  Very High Corruption  Very Unstable  \n",
       "\n",
       "[2 rows x 24 columns]"
      ]
     },
     "execution_count": 40,
     "metadata": {},
     "output_type": "execute_result"
    }
   ],
   "source": [
    "usaid.head(2)"
   ]
  },
  {
   "cell_type": "code",
   "execution_count": 41,
   "metadata": {},
   "outputs": [
    {
     "data": {
      "text/html": [
       "<div>\n",
       "<style scoped>\n",
       "    .dataframe tbody tr th:only-of-type {\n",
       "        vertical-align: middle;\n",
       "    }\n",
       "\n",
       "    .dataframe tbody tr th {\n",
       "        vertical-align: top;\n",
       "    }\n",
       "\n",
       "    .dataframe thead th {\n",
       "        text-align: right;\n",
       "    }\n",
       "</style>\n",
       "<table border=\"1\" class=\"dataframe\">\n",
       "  <thead>\n",
       "    <tr style=\"text-align: right;\">\n",
       "      <th></th>\n",
       "      <th>proj_desc</th>\n",
       "      <th>desc_senti_score</th>\n",
       "      <th>desc_sub_score</th>\n",
       "    </tr>\n",
       "  </thead>\n",
       "  <tbody>\n",
       "    <tr>\n",
       "      <td>0</td>\n",
       "      <td>compon program seek exist improv implement way...</td>\n",
       "      <td>-0.051333</td>\n",
       "      <td>0.574667</td>\n",
       "    </tr>\n",
       "    <tr>\n",
       "      <td>1</td>\n",
       "      <td>overal goal program support rule strategi afgh...</td>\n",
       "      <td>-0.060000</td>\n",
       "      <td>0.466667</td>\n",
       "    </tr>\n",
       "  </tbody>\n",
       "</table>\n",
       "</div>"
      ],
      "text/plain": [
       "                                           proj_desc  desc_senti_score  \\\n",
       "0  compon program seek exist improv implement way...         -0.051333   \n",
       "1  overal goal program support rule strategi afgh...         -0.060000   \n",
       "\n",
       "   desc_sub_score  \n",
       "0        0.574667  \n",
       "1        0.466667  "
      ]
     },
     "execution_count": 41,
     "metadata": {},
     "output_type": "execute_result"
    }
   ],
   "source": [
    "desc_sent.head(2)"
   ]
  },
  {
   "cell_type": "code",
   "execution_count": 42,
   "metadata": {},
   "outputs": [],
   "source": [
    "desc_sent.drop(columns = 'proj_desc', inplace = True)"
   ]
  },
  {
   "cell_type": "code",
   "execution_count": 43,
   "metadata": {},
   "outputs": [
    {
     "data": {
      "text/html": [
       "<div>\n",
       "<style scoped>\n",
       "    .dataframe tbody tr th:only-of-type {\n",
       "        vertical-align: middle;\n",
       "    }\n",
       "\n",
       "    .dataframe tbody tr th {\n",
       "        vertical-align: top;\n",
       "    }\n",
       "\n",
       "    .dataframe thead th {\n",
       "        text-align: right;\n",
       "    }\n",
       "</style>\n",
       "<table border=\"1\" class=\"dataframe\">\n",
       "  <thead>\n",
       "    <tr style=\"text-align: right;\">\n",
       "      <th></th>\n",
       "      <th>proj_res</th>\n",
       "      <th>res_senti_score</th>\n",
       "      <th>res_sub_score</th>\n",
       "    </tr>\n",
       "  </thead>\n",
       "  <tbody>\n",
       "    <tr>\n",
       "      <td>0</td>\n",
       "      <td>program develop work relationship high offic o...</td>\n",
       "      <td>0.120000</td>\n",
       "      <td>0.713333</td>\n",
       "    </tr>\n",
       "    <tr>\n",
       "      <td>1</td>\n",
       "      <td>project legal educ train judg help modern judi...</td>\n",
       "      <td>-0.033333</td>\n",
       "      <td>0.500000</td>\n",
       "    </tr>\n",
       "  </tbody>\n",
       "</table>\n",
       "</div>"
      ],
      "text/plain": [
       "                                            proj_res  res_senti_score  \\\n",
       "0  program develop work relationship high offic o...         0.120000   \n",
       "1  project legal educ train judg help modern judi...        -0.033333   \n",
       "\n",
       "   res_sub_score  \n",
       "0       0.713333  \n",
       "1       0.500000  "
      ]
     },
     "execution_count": 43,
     "metadata": {},
     "output_type": "execute_result"
    }
   ],
   "source": [
    "res_sent.head(2)"
   ]
  },
  {
   "cell_type": "code",
   "execution_count": 44,
   "metadata": {},
   "outputs": [],
   "source": [
    "res_sent.drop(columns = 'proj_res', inplace = True)"
   ]
  },
  {
   "cell_type": "code",
   "execution_count": 45,
   "metadata": {},
   "outputs": [
    {
     "data": {
      "text/html": [
       "<div>\n",
       "<style scoped>\n",
       "    .dataframe tbody tr th:only-of-type {\n",
       "        vertical-align: middle;\n",
       "    }\n",
       "\n",
       "    .dataframe tbody tr th {\n",
       "        vertical-align: top;\n",
       "    }\n",
       "\n",
       "    .dataframe thead th {\n",
       "        text-align: right;\n",
       "    }\n",
       "</style>\n",
       "<table border=\"1\" class=\"dataframe\">\n",
       "  <thead>\n",
       "    <tr style=\"text-align: right;\">\n",
       "      <th></th>\n",
       "      <th>Topic0</th>\n",
       "      <th>Topic1</th>\n",
       "      <th>Topic2</th>\n",
       "      <th>Topic3</th>\n",
       "      <th>Topic4</th>\n",
       "      <th>dominant_topic</th>\n",
       "    </tr>\n",
       "  </thead>\n",
       "  <tbody>\n",
       "    <tr>\n",
       "      <td>0</td>\n",
       "      <td>0.03</td>\n",
       "      <td>0.03</td>\n",
       "      <td>0.03</td>\n",
       "      <td>0.03</td>\n",
       "      <td>0.89</td>\n",
       "      <td>4</td>\n",
       "    </tr>\n",
       "    <tr>\n",
       "      <td>1</td>\n",
       "      <td>0.03</td>\n",
       "      <td>0.03</td>\n",
       "      <td>0.03</td>\n",
       "      <td>0.41</td>\n",
       "      <td>0.49</td>\n",
       "      <td>4</td>\n",
       "    </tr>\n",
       "  </tbody>\n",
       "</table>\n",
       "</div>"
      ],
      "text/plain": [
       "   Topic0  Topic1  Topic2  Topic3  Topic4  dominant_topic\n",
       "0    0.03    0.03    0.03    0.03    0.89               4\n",
       "1    0.03    0.03    0.03    0.41    0.49               4"
      ]
     },
     "execution_count": 45,
     "metadata": {},
     "output_type": "execute_result"
    }
   ],
   "source": [
    "topic_model.head(2)"
   ]
  },
  {
   "cell_type": "code",
   "execution_count": 46,
   "metadata": {},
   "outputs": [
    {
     "data": {
      "text/html": [
       "<div>\n",
       "<style scoped>\n",
       "    .dataframe tbody tr th:only-of-type {\n",
       "        vertical-align: middle;\n",
       "    }\n",
       "\n",
       "    .dataframe tbody tr th {\n",
       "        vertical-align: top;\n",
       "    }\n",
       "\n",
       "    .dataframe thead th {\n",
       "        text-align: right;\n",
       "    }\n",
       "</style>\n",
       "<table border=\"1\" class=\"dataframe\">\n",
       "  <thead>\n",
       "    <tr style=\"text-align: right;\">\n",
       "      <th></th>\n",
       "      <th>cosine_sim_cluster</th>\n",
       "    </tr>\n",
       "  </thead>\n",
       "  <tbody>\n",
       "    <tr>\n",
       "      <td>0</td>\n",
       "      <td>82</td>\n",
       "    </tr>\n",
       "    <tr>\n",
       "      <td>1</td>\n",
       "      <td>11</td>\n",
       "    </tr>\n",
       "  </tbody>\n",
       "</table>\n",
       "</div>"
      ],
      "text/plain": [
       "   cosine_sim_cluster\n",
       "0                  82\n",
       "1                  11"
      ]
     },
     "execution_count": 46,
     "metadata": {},
     "output_type": "execute_result"
    }
   ],
   "source": [
    "cos_sim.head(2)"
   ]
  },
  {
   "cell_type": "code",
   "execution_count": 47,
   "metadata": {},
   "outputs": [],
   "source": [
    "df = pd.concat([usaid,desc_sent,res_sent,topic_model,cos_sim], axis=1)"
   ]
  },
  {
   "cell_type": "code",
   "execution_count": 48,
   "metadata": {},
   "outputs": [
    {
     "data": {
      "text/html": [
       "<div>\n",
       "<style scoped>\n",
       "    .dataframe tbody tr th:only-of-type {\n",
       "        vertical-align: middle;\n",
       "    }\n",
       "\n",
       "    .dataframe tbody tr th {\n",
       "        vertical-align: top;\n",
       "    }\n",
       "\n",
       "    .dataframe thead th {\n",
       "        text-align: right;\n",
       "    }\n",
       "</style>\n",
       "<table border=\"1\" class=\"dataframe\">\n",
       "  <thead>\n",
       "    <tr style=\"text-align: right;\">\n",
       "      <th></th>\n",
       "      <th>uuid</th>\n",
       "      <th>region</th>\n",
       "      <th>country</th>\n",
       "      <th>proj_nm</th>\n",
       "      <th>st_date</th>\n",
       "      <th>end_date</th>\n",
       "      <th>awd_amount</th>\n",
       "      <th>awd_value</th>\n",
       "      <th>implementer</th>\n",
       "      <th>sector</th>\n",
       "      <th>...</th>\n",
       "      <th>desc_sub_score</th>\n",
       "      <th>res_senti_score</th>\n",
       "      <th>res_sub_score</th>\n",
       "      <th>Topic0</th>\n",
       "      <th>Topic1</th>\n",
       "      <th>Topic2</th>\n",
       "      <th>Topic3</th>\n",
       "      <th>Topic4</th>\n",
       "      <th>dominant_topic</th>\n",
       "      <th>cosine_sim_cluster</th>\n",
       "    </tr>\n",
       "  </thead>\n",
       "  <tbody>\n",
       "    <tr>\n",
       "      <td>0</td>\n",
       "      <td>1</td>\n",
       "      <td>South and Central Asia (SCA)</td>\n",
       "      <td>Afghanistan</td>\n",
       "      <td>Assistance for Afghanistan's Anti-Corruption A...</td>\n",
       "      <td>2010</td>\n",
       "      <td>2013</td>\n",
       "      <td>e) $25 M-$50 M</td>\n",
       "      <td>26642989</td>\n",
       "      <td>Management Systems International (MSI)</td>\n",
       "      <td>Independent Agencies, Civil Society</td>\n",
       "      <td>...</td>\n",
       "      <td>0.574667</td>\n",
       "      <td>0.120000</td>\n",
       "      <td>0.713333</td>\n",
       "      <td>0.03</td>\n",
       "      <td>0.03</td>\n",
       "      <td>0.03</td>\n",
       "      <td>0.03</td>\n",
       "      <td>0.89</td>\n",
       "      <td>4</td>\n",
       "      <td>82</td>\n",
       "    </tr>\n",
       "    <tr>\n",
       "      <td>1</td>\n",
       "      <td>2</td>\n",
       "      <td>South and Central Asia (SCA)</td>\n",
       "      <td>Afghanistan</td>\n",
       "      <td>Rule of Law Stabilization Program - Formal Com...</td>\n",
       "      <td>2010</td>\n",
       "      <td>2012</td>\n",
       "      <td>e) $25 M-$50 M</td>\n",
       "      <td>33700000</td>\n",
       "      <td>TetraTech ARD</td>\n",
       "      <td>Rule of Law</td>\n",
       "      <td>...</td>\n",
       "      <td>0.466667</td>\n",
       "      <td>-0.033333</td>\n",
       "      <td>0.500000</td>\n",
       "      <td>0.03</td>\n",
       "      <td>0.03</td>\n",
       "      <td>0.03</td>\n",
       "      <td>0.41</td>\n",
       "      <td>0.49</td>\n",
       "      <td>4</td>\n",
       "      <td>11</td>\n",
       "    </tr>\n",
       "  </tbody>\n",
       "</table>\n",
       "<p>2 rows × 35 columns</p>\n",
       "</div>"
      ],
      "text/plain": [
       "   uuid                        region      country  \\\n",
       "0     1  South and Central Asia (SCA)  Afghanistan   \n",
       "1     2  South and Central Asia (SCA)  Afghanistan   \n",
       "\n",
       "                                             proj_nm  st_date end_date  \\\n",
       "0  Assistance for Afghanistan's Anti-Corruption A...     2010     2013   \n",
       "1  Rule of Law Stabilization Program - Formal Com...     2010     2012   \n",
       "\n",
       "       awd_amount awd_value                             implementer  \\\n",
       "0  e) $25 M-$50 M  26642989  Management Systems International (MSI)   \n",
       "1  e) $25 M-$50 M  33700000                           TetraTech ARD   \n",
       "\n",
       "                                sector  ... desc_sub_score res_senti_score  \\\n",
       "0  Independent Agencies, Civil Society  ...       0.574667        0.120000   \n",
       "1                          Rule of Law  ...       0.466667       -0.033333   \n",
       "\n",
       "  res_sub_score Topic0 Topic1 Topic2 Topic3 Topic4 dominant_topic  \\\n",
       "0      0.713333   0.03   0.03   0.03   0.03   0.89              4   \n",
       "1      0.500000   0.03   0.03   0.03   0.41   0.49              4   \n",
       "\n",
       "  cosine_sim_cluster  \n",
       "0                 82  \n",
       "1                 11  \n",
       "\n",
       "[2 rows x 35 columns]"
      ]
     },
     "execution_count": 48,
     "metadata": {},
     "output_type": "execute_result"
    }
   ],
   "source": [
    "df.head(2)"
   ]
  },
  {
   "cell_type": "code",
   "execution_count": 50,
   "metadata": {},
   "outputs": [],
   "source": [
    "df.to_csv('combined_usaid_Nov_18.csv')"
   ]
  }
 ],
 "metadata": {
  "kernelspec": {
   "display_name": "Python 3",
   "language": "python",
   "name": "python3"
  },
  "language_info": {
   "codemirror_mode": {
    "name": "ipython",
    "version": 3
   },
   "file_extension": ".py",
   "mimetype": "text/x-python",
   "name": "python",
   "nbconvert_exporter": "python",
   "pygments_lexer": "ipython3",
   "version": "3.7.4"
  }
 },
 "nbformat": 4,
 "nbformat_minor": 2
}
