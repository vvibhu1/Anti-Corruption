{
 "cells": [
  {
   "cell_type": "code",
   "execution_count": 157,
   "metadata": {},
   "outputs": [],
   "source": [
    "import pandas as pd\n",
    "import numpy as np"
   ]
  },
  {
   "cell_type": "code",
   "execution_count": 158,
   "metadata": {},
   "outputs": [],
   "source": [
    "df = pd.read_csv('C:/Users/thuyt/Documents/GitHub/Anti-Corruption/Final datasets/USAID/combined_usaid_Nov_18.csv')"
   ]
  },
  {
   "cell_type": "code",
   "execution_count": 159,
   "metadata": {
    "scrolled": true
   },
   "outputs": [
    {
     "data": {
      "text/html": [
       "<div>\n",
       "<style scoped>\n",
       "    .dataframe tbody tr th:only-of-type {\n",
       "        vertical-align: middle;\n",
       "    }\n",
       "\n",
       "    .dataframe tbody tr th {\n",
       "        vertical-align: top;\n",
       "    }\n",
       "\n",
       "    .dataframe thead th {\n",
       "        text-align: right;\n",
       "    }\n",
       "</style>\n",
       "<table border=\"1\" class=\"dataframe\">\n",
       "  <thead>\n",
       "    <tr style=\"text-align: right;\">\n",
       "      <th></th>\n",
       "      <th>desc_senti_score</th>\n",
       "      <th>desc_sub_score</th>\n",
       "      <th>res_senti_score</th>\n",
       "      <th>res_sub_score</th>\n",
       "      <th>intervention_type</th>\n",
       "    </tr>\n",
       "  </thead>\n",
       "  <tbody>\n",
       "    <tr>\n",
       "      <td>0</td>\n",
       "      <td>-0.051333</td>\n",
       "      <td>0.574667</td>\n",
       "      <td>0.120000</td>\n",
       "      <td>0.713333</td>\n",
       "      <td>Awareness, Accountability</td>\n",
       "    </tr>\n",
       "    <tr>\n",
       "      <td>1</td>\n",
       "      <td>-0.060000</td>\n",
       "      <td>0.466667</td>\n",
       "      <td>-0.033333</td>\n",
       "      <td>0.500000</td>\n",
       "      <td>Transparency, Awareness</td>\n",
       "    </tr>\n",
       "  </tbody>\n",
       "</table>\n",
       "</div>"
      ],
      "text/plain": [
       "   desc_senti_score  desc_sub_score  res_senti_score  res_sub_score  \\\n",
       "0         -0.051333        0.574667         0.120000       0.713333   \n",
       "1         -0.060000        0.466667        -0.033333       0.500000   \n",
       "\n",
       "           intervention_type  \n",
       "0  Awareness, Accountability  \n",
       "1    Transparency, Awareness  "
      ]
     },
     "execution_count": 159,
     "metadata": {},
     "output_type": "execute_result"
    }
   ],
   "source": [
    "# columns that needs to be aggregated by country, then by region\n",
    "df[['desc_senti_score', 'desc_sub_score', 'res_senti_score', 'res_sub_score', 'intervention_type']].head(2)"
   ]
  },
  {
   "cell_type": "code",
   "execution_count": 160,
   "metadata": {},
   "outputs": [],
   "source": [
    "df = df.sort_values(by=['country'], ascending=1) #sort df by country columns alphabetically"
   ]
  },
  {
   "cell_type": "code",
   "execution_count": 161,
   "metadata": {},
   "outputs": [],
   "source": [
    "#df.head(30)"
   ]
  },
  {
   "cell_type": "markdown",
   "metadata": {},
   "source": [
    "# Group by Country"
   ]
  },
  {
   "cell_type": "markdown",
   "metadata": {},
   "source": [
    "## 1. Continuous variables"
   ]
  },
  {
   "cell_type": "code",
   "execution_count": 162,
   "metadata": {},
   "outputs": [],
   "source": [
    "df1 = df[['country','desc_senti_score','desc_sub_score','res_senti_score','res_sub_score' ]]"
   ]
  },
  {
   "cell_type": "markdown",
   "metadata": {},
   "source": [
    "### a. Median"
   ]
  },
  {
   "cell_type": "code",
   "execution_count": 163,
   "metadata": {
    "scrolled": true
   },
   "outputs": [
    {
     "data": {
      "text/html": [
       "<div>\n",
       "<style scoped>\n",
       "    .dataframe tbody tr th:only-of-type {\n",
       "        vertical-align: middle;\n",
       "    }\n",
       "\n",
       "    .dataframe tbody tr th {\n",
       "        vertical-align: top;\n",
       "    }\n",
       "\n",
       "    .dataframe thead th {\n",
       "        text-align: right;\n",
       "    }\n",
       "</style>\n",
       "<table border=\"1\" class=\"dataframe\">\n",
       "  <thead>\n",
       "    <tr style=\"text-align: right;\">\n",
       "      <th></th>\n",
       "      <th>desc_senti_score</th>\n",
       "      <th>desc_sub_score</th>\n",
       "      <th>res_senti_score</th>\n",
       "      <th>res_sub_score</th>\n",
       "    </tr>\n",
       "    <tr>\n",
       "      <th>country</th>\n",
       "      <th></th>\n",
       "      <th></th>\n",
       "      <th></th>\n",
       "      <th></th>\n",
       "    </tr>\n",
       "  </thead>\n",
       "  <tbody>\n",
       "    <tr>\n",
       "      <td>Afghanistan</td>\n",
       "      <td>0.000000</td>\n",
       "      <td>0.200000</td>\n",
       "      <td>0.007407</td>\n",
       "      <td>0.442262</td>\n",
       "    </tr>\n",
       "    <tr>\n",
       "      <td>Albania</td>\n",
       "      <td>0.025000</td>\n",
       "      <td>0.421111</td>\n",
       "      <td>-0.055508</td>\n",
       "      <td>0.291667</td>\n",
       "    </tr>\n",
       "    <tr>\n",
       "      <td>Angola</td>\n",
       "      <td>0.140625</td>\n",
       "      <td>0.219792</td>\n",
       "      <td>-0.188889</td>\n",
       "      <td>0.320833</td>\n",
       "    </tr>\n",
       "    <tr>\n",
       "      <td>Armenia</td>\n",
       "      <td>-0.103125</td>\n",
       "      <td>0.310417</td>\n",
       "      <td>0.000000</td>\n",
       "      <td>0.347470</td>\n",
       "    </tr>\n",
       "    <tr>\n",
       "      <td>Azerbaijan</td>\n",
       "      <td>-0.015625</td>\n",
       "      <td>0.463750</td>\n",
       "      <td>0.000000</td>\n",
       "      <td>0.314892</td>\n",
       "    </tr>\n",
       "  </tbody>\n",
       "</table>\n",
       "</div>"
      ],
      "text/plain": [
       "             desc_senti_score  desc_sub_score  res_senti_score  res_sub_score\n",
       "country                                                                      \n",
       "Afghanistan          0.000000        0.200000         0.007407       0.442262\n",
       "Albania              0.025000        0.421111        -0.055508       0.291667\n",
       "Angola               0.140625        0.219792        -0.188889       0.320833\n",
       "Armenia             -0.103125        0.310417         0.000000       0.347470\n",
       "Azerbaijan          -0.015625        0.463750         0.000000       0.314892"
      ]
     },
     "execution_count": 163,
     "metadata": {},
     "output_type": "execute_result"
    }
   ],
   "source": [
    "df1_median = df1.groupby('country').median()\n",
    "df1_median.head()"
   ]
  },
  {
   "cell_type": "code",
   "execution_count": 164,
   "metadata": {
    "scrolled": true
   },
   "outputs": [
    {
     "data": {
      "text/html": [
       "<div>\n",
       "<style scoped>\n",
       "    .dataframe tbody tr th:only-of-type {\n",
       "        vertical-align: middle;\n",
       "    }\n",
       "\n",
       "    .dataframe tbody tr th {\n",
       "        vertical-align: top;\n",
       "    }\n",
       "\n",
       "    .dataframe thead th {\n",
       "        text-align: right;\n",
       "    }\n",
       "</style>\n",
       "<table border=\"1\" class=\"dataframe\">\n",
       "  <thead>\n",
       "    <tr style=\"text-align: right;\">\n",
       "      <th></th>\n",
       "      <th>country</th>\n",
       "      <th>desc_senti_score_median</th>\n",
       "      <th>desc_sub_score_median</th>\n",
       "      <th>res_senti_score_median</th>\n",
       "      <th>res_sub_score_median</th>\n",
       "    </tr>\n",
       "  </thead>\n",
       "  <tbody>\n",
       "    <tr>\n",
       "      <td>0</td>\n",
       "      <td>Afghanistan</td>\n",
       "      <td>0.000</td>\n",
       "      <td>0.200000</td>\n",
       "      <td>0.007407</td>\n",
       "      <td>0.442262</td>\n",
       "    </tr>\n",
       "    <tr>\n",
       "      <td>1</td>\n",
       "      <td>Albania</td>\n",
       "      <td>0.025</td>\n",
       "      <td>0.421111</td>\n",
       "      <td>-0.055508</td>\n",
       "      <td>0.291667</td>\n",
       "    </tr>\n",
       "  </tbody>\n",
       "</table>\n",
       "</div>"
      ],
      "text/plain": [
       "       country  desc_senti_score_median  desc_sub_score_median  \\\n",
       "0  Afghanistan                    0.000               0.200000   \n",
       "1      Albania                    0.025               0.421111   \n",
       "\n",
       "   res_senti_score_median  res_sub_score_median  \n",
       "0                0.007407              0.442262  \n",
       "1               -0.055508              0.291667  "
      ]
     },
     "execution_count": 164,
     "metadata": {},
     "output_type": "execute_result"
    }
   ],
   "source": [
    "df1_median.columns = ['desc_senti_score_median','desc_sub_score_median','res_senti_score_median', 'res_sub_score_median']\n",
    "df1_median.reset_index(level=0, inplace=True)\n",
    "df1_median.head(2)"
   ]
  },
  {
   "cell_type": "markdown",
   "metadata": {},
   "source": [
    "### b. Mean"
   ]
  },
  {
   "cell_type": "code",
   "execution_count": 165,
   "metadata": {
    "scrolled": true
   },
   "outputs": [
    {
     "data": {
      "text/html": [
       "<div>\n",
       "<style scoped>\n",
       "    .dataframe tbody tr th:only-of-type {\n",
       "        vertical-align: middle;\n",
       "    }\n",
       "\n",
       "    .dataframe tbody tr th {\n",
       "        vertical-align: top;\n",
       "    }\n",
       "\n",
       "    .dataframe thead th {\n",
       "        text-align: right;\n",
       "    }\n",
       "</style>\n",
       "<table border=\"1\" class=\"dataframe\">\n",
       "  <thead>\n",
       "    <tr style=\"text-align: right;\">\n",
       "      <th></th>\n",
       "      <th>country</th>\n",
       "      <th>desc_senti_score_mean</th>\n",
       "      <th>desc_sub_score_mean</th>\n",
       "      <th>res_senti_score_mean</th>\n",
       "      <th>res_sub_score_mean</th>\n",
       "    </tr>\n",
       "  </thead>\n",
       "  <tbody>\n",
       "    <tr>\n",
       "      <td>0</td>\n",
       "      <td>Afghanistan</td>\n",
       "      <td>0.002660</td>\n",
       "      <td>0.250124</td>\n",
       "      <td>0.095316</td>\n",
       "      <td>0.392658</td>\n",
       "    </tr>\n",
       "    <tr>\n",
       "      <td>1</td>\n",
       "      <td>Albania</td>\n",
       "      <td>0.053542</td>\n",
       "      <td>0.411111</td>\n",
       "      <td>-0.092047</td>\n",
       "      <td>0.338218</td>\n",
       "    </tr>\n",
       "  </tbody>\n",
       "</table>\n",
       "</div>"
      ],
      "text/plain": [
       "       country  desc_senti_score_mean  desc_sub_score_mean  \\\n",
       "0  Afghanistan               0.002660             0.250124   \n",
       "1      Albania               0.053542             0.411111   \n",
       "\n",
       "   res_senti_score_mean  res_sub_score_mean  \n",
       "0              0.095316            0.392658  \n",
       "1             -0.092047            0.338218  "
      ]
     },
     "execution_count": 165,
     "metadata": {},
     "output_type": "execute_result"
    }
   ],
   "source": [
    "df1_mean = df1.groupby('country').mean()\n",
    "df1_mean.columns = ['desc_senti_score_mean','desc_sub_score_mean','res_senti_score_mean', 'res_sub_score_mean']\n",
    "df1_mean.reset_index(level=0, inplace=True)\n",
    "df1_mean.head(2)"
   ]
  },
  {
   "cell_type": "markdown",
   "metadata": {},
   "source": [
    "### c. Min"
   ]
  },
  {
   "cell_type": "code",
   "execution_count": 166,
   "metadata": {},
   "outputs": [
    {
     "data": {
      "text/html": [
       "<div>\n",
       "<style scoped>\n",
       "    .dataframe tbody tr th:only-of-type {\n",
       "        vertical-align: middle;\n",
       "    }\n",
       "\n",
       "    .dataframe tbody tr th {\n",
       "        vertical-align: top;\n",
       "    }\n",
       "\n",
       "    .dataframe thead th {\n",
       "        text-align: right;\n",
       "    }\n",
       "</style>\n",
       "<table border=\"1\" class=\"dataframe\">\n",
       "  <thead>\n",
       "    <tr style=\"text-align: right;\">\n",
       "      <th></th>\n",
       "      <th>country</th>\n",
       "      <th>desc_senti_score_min</th>\n",
       "      <th>desc_sub_score_min</th>\n",
       "      <th>res_senti_score_min</th>\n",
       "      <th>res_sub_score_min</th>\n",
       "    </tr>\n",
       "  </thead>\n",
       "  <tbody>\n",
       "    <tr>\n",
       "      <td>0</td>\n",
       "      <td>Afghanistan</td>\n",
       "      <td>-0.355556</td>\n",
       "      <td>0.000000</td>\n",
       "      <td>-0.45</td>\n",
       "      <td>0.0</td>\n",
       "    </tr>\n",
       "    <tr>\n",
       "      <td>1</td>\n",
       "      <td>Albania</td>\n",
       "      <td>-0.250000</td>\n",
       "      <td>0.008333</td>\n",
       "      <td>-0.23</td>\n",
       "      <td>0.0</td>\n",
       "    </tr>\n",
       "  </tbody>\n",
       "</table>\n",
       "</div>"
      ],
      "text/plain": [
       "       country  desc_senti_score_min  desc_sub_score_min  res_senti_score_min  \\\n",
       "0  Afghanistan             -0.355556            0.000000                -0.45   \n",
       "1      Albania             -0.250000            0.008333                -0.23   \n",
       "\n",
       "   res_sub_score_min  \n",
       "0                0.0  \n",
       "1                0.0  "
      ]
     },
     "execution_count": 166,
     "metadata": {},
     "output_type": "execute_result"
    }
   ],
   "source": [
    "df1_min = df1.groupby('country').min()\n",
    "df1_min.columns = ['desc_senti_score_min','desc_sub_score_min','res_senti_score_min', 'res_sub_score_min']\n",
    "df1_min.reset_index(level=0, inplace=True)\n",
    "df1_min.head(2)"
   ]
  },
  {
   "cell_type": "markdown",
   "metadata": {},
   "source": [
    "### d. Max"
   ]
  },
  {
   "cell_type": "code",
   "execution_count": 167,
   "metadata": {},
   "outputs": [
    {
     "data": {
      "text/html": [
       "<div>\n",
       "<style scoped>\n",
       "    .dataframe tbody tr th:only-of-type {\n",
       "        vertical-align: middle;\n",
       "    }\n",
       "\n",
       "    .dataframe tbody tr th {\n",
       "        vertical-align: top;\n",
       "    }\n",
       "\n",
       "    .dataframe thead th {\n",
       "        text-align: right;\n",
       "    }\n",
       "</style>\n",
       "<table border=\"1\" class=\"dataframe\">\n",
       "  <thead>\n",
       "    <tr style=\"text-align: right;\">\n",
       "      <th></th>\n",
       "      <th>country</th>\n",
       "      <th>desc_senti_score_max</th>\n",
       "      <th>desc_sub_score_max</th>\n",
       "      <th>res_senti_score_max</th>\n",
       "      <th>res_sub_score_max</th>\n",
       "    </tr>\n",
       "  </thead>\n",
       "  <tbody>\n",
       "    <tr>\n",
       "      <td>0</td>\n",
       "      <td>Afghanistan</td>\n",
       "      <td>0.497143</td>\n",
       "      <td>0.827143</td>\n",
       "      <td>0.900000</td>\n",
       "      <td>0.800000</td>\n",
       "    </tr>\n",
       "    <tr>\n",
       "      <td>1</td>\n",
       "      <td>Albania</td>\n",
       "      <td>0.300000</td>\n",
       "      <td>0.950000</td>\n",
       "      <td>0.044643</td>\n",
       "      <td>0.700833</td>\n",
       "    </tr>\n",
       "  </tbody>\n",
       "</table>\n",
       "</div>"
      ],
      "text/plain": [
       "       country  desc_senti_score_max  desc_sub_score_max  res_senti_score_max  \\\n",
       "0  Afghanistan              0.497143            0.827143             0.900000   \n",
       "1      Albania              0.300000            0.950000             0.044643   \n",
       "\n",
       "   res_sub_score_max  \n",
       "0           0.800000  \n",
       "1           0.700833  "
      ]
     },
     "execution_count": 167,
     "metadata": {},
     "output_type": "execute_result"
    }
   ],
   "source": [
    "df1_max = df1.groupby('country').max()\n",
    "df1_max.columns = ['desc_senti_score_max','desc_sub_score_max','res_senti_score_max', 'res_sub_score_max']\n",
    "df1_max.reset_index(level=0, inplace=True)\n",
    "df1_max.head(2)"
   ]
  },
  {
   "cell_type": "code",
   "execution_count": 168,
   "metadata": {},
   "outputs": [],
   "source": [
    "# Merge together?"
   ]
  },
  {
   "cell_type": "markdown",
   "metadata": {},
   "source": [
    "## 2. Categorical variable: 'intervention_type'"
   ]
  },
  {
   "cell_type": "code",
   "execution_count": 169,
   "metadata": {},
   "outputs": [],
   "source": [
    "# `combined_usaid_Nov_18 - intervention_type` is the file I have modified outside of this Jupyter Notebook. \n",
    "# the modification is that I split the cells where there are more than 1 intervention types, and changed the file so that\n",
    "# each row only contains one intervention type by adding the second/third/fourth intervention_type in new separate rows\n",
    "# I trimmed spaces in cells\n",
    "# I sorted the dataset by country in alphabetical order.\n",
    "df2 = pd.read_csv('C:/Users/thuyt/Documents/GitHub/Anti-Corruption/country-level aggregation form/combined_usaid_Nov_18 - intervention_type.csv')"
   ]
  },
  {
   "cell_type": "code",
   "execution_count": 170,
   "metadata": {},
   "outputs": [
    {
     "data": {
      "text/html": [
       "<div>\n",
       "<style scoped>\n",
       "    .dataframe tbody tr th:only-of-type {\n",
       "        vertical-align: middle;\n",
       "    }\n",
       "\n",
       "    .dataframe tbody tr th {\n",
       "        vertical-align: top;\n",
       "    }\n",
       "\n",
       "    .dataframe thead th {\n",
       "        text-align: right;\n",
       "    }\n",
       "</style>\n",
       "<table border=\"1\" class=\"dataframe\">\n",
       "  <thead>\n",
       "    <tr style=\"text-align: right;\">\n",
       "      <th></th>\n",
       "      <th>country</th>\n",
       "      <th>intervention_type</th>\n",
       "    </tr>\n",
       "  </thead>\n",
       "  <tbody>\n",
       "    <tr>\n",
       "      <td>0</td>\n",
       "      <td>Afghanistan</td>\n",
       "      <td>Awareness</td>\n",
       "    </tr>\n",
       "    <tr>\n",
       "      <td>1</td>\n",
       "      <td>Afghanistan</td>\n",
       "      <td>Transparency</td>\n",
       "    </tr>\n",
       "    <tr>\n",
       "      <td>2</td>\n",
       "      <td>Afghanistan</td>\n",
       "      <td>Awareness</td>\n",
       "    </tr>\n",
       "    <tr>\n",
       "      <td>3</td>\n",
       "      <td>Afghanistan</td>\n",
       "      <td>Assessment</td>\n",
       "    </tr>\n",
       "    <tr>\n",
       "      <td>4</td>\n",
       "      <td>Afghanistan</td>\n",
       "      <td>Transparency</td>\n",
       "    </tr>\n",
       "  </tbody>\n",
       "</table>\n",
       "</div>"
      ],
      "text/plain": [
       "       country intervention_type\n",
       "0  Afghanistan         Awareness\n",
       "1  Afghanistan      Transparency\n",
       "2  Afghanistan         Awareness\n",
       "3  Afghanistan        Assessment\n",
       "4  Afghanistan      Transparency"
      ]
     },
     "execution_count": 170,
     "metadata": {},
     "output_type": "execute_result"
    }
   ],
   "source": [
    "df2.head(5)"
   ]
  },
  {
   "cell_type": "code",
   "execution_count": 171,
   "metadata": {},
   "outputs": [
    {
     "data": {
      "text/plain": [
       "array(['Awareness', 'Transparency', 'Assessment', 'Accountability',\n",
       "       'Participation', 'Enforcement', 'Study',\n",
       "       'Citizen/Media/Business Engagement/Participation'], dtype=object)"
      ]
     },
     "execution_count": 171,
     "metadata": {},
     "output_type": "execute_result"
    }
   ],
   "source": [
    "df2['intervention_type'].unique() #unique intervention types"
   ]
  },
  {
   "cell_type": "code",
   "execution_count": 172,
   "metadata": {},
   "outputs": [
    {
     "data": {
      "text/plain": [
       "74"
      ]
     },
     "execution_count": 172,
     "metadata": {},
     "output_type": "execute_result"
    }
   ],
   "source": [
    "df2['country'].nunique() #number of unique countries"
   ]
  },
  {
   "cell_type": "code",
   "execution_count": 173,
   "metadata": {},
   "outputs": [],
   "source": [
    "intervention_type_Awareness_count=df2[df2['intervention_type'] == 'Awareness' ].groupby('country')['intervention_type'].count()\n",
    "# Re-create a new array of levels, now including all countries"
   ]
  },
  {
   "cell_type": "code",
   "execution_count": 174,
   "metadata": {},
   "outputs": [],
   "source": [
    "# we do thing similarly for other intervention types\n",
    "intervention_type_Transparency_count=df2[df2['intervention_type'] == 'Transparency' ].groupby('country')['intervention_type'].count()\n",
    "intervention_type_Assessment_count=df2[df2['intervention_type'] == 'Assessment' ].groupby('country')['intervention_type'].count()\n",
    "intervention_type_Accountability_count=df2[df2['intervention_type'] == 'Accountability' ].groupby('country')['intervention_type'].count()\n",
    "intervention_type_Participation_count=df2[df2['intervention_type'] == 'Participation' ].groupby('country')['intervention_type'].count()\n",
    "intervention_type_Enforcement_count=df2[df2['intervention_type'] == 'Enforcement' ].groupby('country')['intervention_type'].count()\n",
    "intervention_type_Study_count=df2[df2['intervention_type'] == 'Study' ].groupby('country')['intervention_type'].count()"
   ]
  },
  {
   "cell_type": "code",
   "execution_count": 175,
   "metadata": {},
   "outputs": [],
   "source": [
    "intervention_type_Citizen_Media_Business_Engagement_Participation_count=df2[df2['intervention_type'] == 'Citizen/Media/Business Engagement/Participation' ].groupby('country')['intervention_type'].count()"
   ]
  },
  {
   "cell_type": "code",
   "execution_count": 176,
   "metadata": {},
   "outputs": [
    {
     "data": {
      "text/html": [
       "<div>\n",
       "<style scoped>\n",
       "    .dataframe tbody tr th:only-of-type {\n",
       "        vertical-align: middle;\n",
       "    }\n",
       "\n",
       "    .dataframe tbody tr th {\n",
       "        vertical-align: top;\n",
       "    }\n",
       "\n",
       "    .dataframe thead th {\n",
       "        text-align: right;\n",
       "    }\n",
       "</style>\n",
       "<table border=\"1\" class=\"dataframe\">\n",
       "  <thead>\n",
       "    <tr style=\"text-align: right;\">\n",
       "      <th></th>\n",
       "      <th>intervention_type_x</th>\n",
       "      <th>intervention_type_y</th>\n",
       "      <th>intervention_type_x</th>\n",
       "      <th>intervention_type_y</th>\n",
       "      <th>intervention_type_x</th>\n",
       "      <th>intervention_type_y</th>\n",
       "      <th>intervention_type_x</th>\n",
       "      <th>intervention_type_y</th>\n",
       "    </tr>\n",
       "    <tr>\n",
       "      <th>country</th>\n",
       "      <th></th>\n",
       "      <th></th>\n",
       "      <th></th>\n",
       "      <th></th>\n",
       "      <th></th>\n",
       "      <th></th>\n",
       "      <th></th>\n",
       "      <th></th>\n",
       "    </tr>\n",
       "  </thead>\n",
       "  <tbody>\n",
       "    <tr>\n",
       "      <td>Afghanistan</td>\n",
       "      <td>8.0</td>\n",
       "      <td>13.0</td>\n",
       "      <td>4.0</td>\n",
       "      <td>14.0</td>\n",
       "      <td>13.0</td>\n",
       "      <td>0.0</td>\n",
       "      <td>0.0</td>\n",
       "      <td>0.0</td>\n",
       "    </tr>\n",
       "    <tr>\n",
       "      <td>Albania</td>\n",
       "      <td>1.0</td>\n",
       "      <td>8.0</td>\n",
       "      <td>0.0</td>\n",
       "      <td>6.0</td>\n",
       "      <td>2.0</td>\n",
       "      <td>3.0</td>\n",
       "      <td>0.0</td>\n",
       "      <td>0.0</td>\n",
       "    </tr>\n",
       "    <tr>\n",
       "      <td>Armenia</td>\n",
       "      <td>1.0</td>\n",
       "      <td>1.0</td>\n",
       "      <td>0.0</td>\n",
       "      <td>0.0</td>\n",
       "      <td>2.0</td>\n",
       "      <td>1.0</td>\n",
       "      <td>0.0</td>\n",
       "      <td>0.0</td>\n",
       "    </tr>\n",
       "    <tr>\n",
       "      <td>Azerbaijan</td>\n",
       "      <td>1.0</td>\n",
       "      <td>3.0</td>\n",
       "      <td>0.0</td>\n",
       "      <td>2.0</td>\n",
       "      <td>1.0</td>\n",
       "      <td>1.0</td>\n",
       "      <td>0.0</td>\n",
       "      <td>0.0</td>\n",
       "    </tr>\n",
       "    <tr>\n",
       "      <td>Bangladesh</td>\n",
       "      <td>2.0</td>\n",
       "      <td>1.0</td>\n",
       "      <td>0.0</td>\n",
       "      <td>1.0</td>\n",
       "      <td>3.0</td>\n",
       "      <td>0.0</td>\n",
       "      <td>0.0</td>\n",
       "      <td>0.0</td>\n",
       "    </tr>\n",
       "  </tbody>\n",
       "</table>\n",
       "</div>"
      ],
      "text/plain": [
       "             intervention_type_x  intervention_type_y  intervention_type_x  \\\n",
       "country                                                                      \n",
       "Afghanistan                  8.0                 13.0                  4.0   \n",
       "Albania                      1.0                  8.0                  0.0   \n",
       "Armenia                      1.0                  1.0                  0.0   \n",
       "Azerbaijan                   1.0                  3.0                  0.0   \n",
       "Bangladesh                   2.0                  1.0                  0.0   \n",
       "\n",
       "             intervention_type_y  intervention_type_x  intervention_type_y  \\\n",
       "country                                                                      \n",
       "Afghanistan                 14.0                 13.0                  0.0   \n",
       "Albania                      6.0                  2.0                  3.0   \n",
       "Armenia                      0.0                  2.0                  1.0   \n",
       "Azerbaijan                   2.0                  1.0                  1.0   \n",
       "Bangladesh                   1.0                  3.0                  0.0   \n",
       "\n",
       "             intervention_type_x  intervention_type_y  \n",
       "country                                                \n",
       "Afghanistan                  0.0                  0.0  \n",
       "Albania                      0.0                  0.0  \n",
       "Armenia                      0.0                  0.0  \n",
       "Azerbaijan                   0.0                  0.0  \n",
       "Bangladesh                   0.0                  0.0  "
      ]
     },
     "execution_count": 176,
     "metadata": {},
     "output_type": "execute_result"
    }
   ],
   "source": [
    "import functools\n",
    "\n",
    "df2s = [intervention_type_Awareness_count, intervention_type_Transparency_count,\n",
    "       intervention_type_Assessment_count,intervention_type_Accountability_count,\n",
    "       intervention_type_Participation_count,intervention_type_Enforcement_count,\n",
    "       intervention_type_Study_count,intervention_type_Citizen_Media_Business_Engagement_Participation_count]\n",
    "\n",
    "df_intervention_type= functools.reduce(lambda left,right: pd.merge(left,right,on=[\"country\"], how=\"outer\"), df2s).fillna(0)\n",
    "df_intervention_type.head()"
   ]
  },
  {
   "cell_type": "code",
   "execution_count": 177,
   "metadata": {},
   "outputs": [],
   "source": [
    "df_intervention_type.columns =['intervention_type_Awareness_count', 'intervention_type_Transparency_count',\n",
    "       'intervention_type_Assessment_count','intervention_type_Accountability_count',\n",
    "       'intervention_type_Participation_count','intervention_type_Enforcement_count',\n",
    "       'intervention_type_Study_count','intervention_type_Citizen_Media_Business_Engagement_Participation_count']"
   ]
  },
  {
   "cell_type": "code",
   "execution_count": 178,
   "metadata": {},
   "outputs": [
    {
     "data": {
      "text/html": [
       "<div>\n",
       "<style scoped>\n",
       "    .dataframe tbody tr th:only-of-type {\n",
       "        vertical-align: middle;\n",
       "    }\n",
       "\n",
       "    .dataframe tbody tr th {\n",
       "        vertical-align: top;\n",
       "    }\n",
       "\n",
       "    .dataframe thead th {\n",
       "        text-align: right;\n",
       "    }\n",
       "</style>\n",
       "<table border=\"1\" class=\"dataframe\">\n",
       "  <thead>\n",
       "    <tr style=\"text-align: right;\">\n",
       "      <th></th>\n",
       "      <th>intervention_type_Awareness_count</th>\n",
       "      <th>intervention_type_Transparency_count</th>\n",
       "      <th>intervention_type_Assessment_count</th>\n",
       "      <th>intervention_type_Accountability_count</th>\n",
       "      <th>intervention_type_Participation_count</th>\n",
       "      <th>intervention_type_Enforcement_count</th>\n",
       "      <th>intervention_type_Study_count</th>\n",
       "      <th>intervention_type_Citizen_Media_Business_Engagement_Participation_count</th>\n",
       "    </tr>\n",
       "    <tr>\n",
       "      <th>country</th>\n",
       "      <th></th>\n",
       "      <th></th>\n",
       "      <th></th>\n",
       "      <th></th>\n",
       "      <th></th>\n",
       "      <th></th>\n",
       "      <th></th>\n",
       "      <th></th>\n",
       "    </tr>\n",
       "  </thead>\n",
       "  <tbody>\n",
       "    <tr>\n",
       "      <td>Afghanistan</td>\n",
       "      <td>8.0</td>\n",
       "      <td>13.0</td>\n",
       "      <td>4.0</td>\n",
       "      <td>14.0</td>\n",
       "      <td>13.0</td>\n",
       "      <td>0.0</td>\n",
       "      <td>0.0</td>\n",
       "      <td>0.0</td>\n",
       "    </tr>\n",
       "    <tr>\n",
       "      <td>Albania</td>\n",
       "      <td>1.0</td>\n",
       "      <td>8.0</td>\n",
       "      <td>0.0</td>\n",
       "      <td>6.0</td>\n",
       "      <td>2.0</td>\n",
       "      <td>3.0</td>\n",
       "      <td>0.0</td>\n",
       "      <td>0.0</td>\n",
       "    </tr>\n",
       "    <tr>\n",
       "      <td>Armenia</td>\n",
       "      <td>1.0</td>\n",
       "      <td>1.0</td>\n",
       "      <td>0.0</td>\n",
       "      <td>0.0</td>\n",
       "      <td>2.0</td>\n",
       "      <td>1.0</td>\n",
       "      <td>0.0</td>\n",
       "      <td>0.0</td>\n",
       "    </tr>\n",
       "    <tr>\n",
       "      <td>Azerbaijan</td>\n",
       "      <td>1.0</td>\n",
       "      <td>3.0</td>\n",
       "      <td>0.0</td>\n",
       "      <td>2.0</td>\n",
       "      <td>1.0</td>\n",
       "      <td>1.0</td>\n",
       "      <td>0.0</td>\n",
       "      <td>0.0</td>\n",
       "    </tr>\n",
       "    <tr>\n",
       "      <td>Bangladesh</td>\n",
       "      <td>2.0</td>\n",
       "      <td>1.0</td>\n",
       "      <td>0.0</td>\n",
       "      <td>1.0</td>\n",
       "      <td>3.0</td>\n",
       "      <td>0.0</td>\n",
       "      <td>0.0</td>\n",
       "      <td>0.0</td>\n",
       "    </tr>\n",
       "  </tbody>\n",
       "</table>\n",
       "</div>"
      ],
      "text/plain": [
       "             intervention_type_Awareness_count  \\\n",
       "country                                          \n",
       "Afghanistan                                8.0   \n",
       "Albania                                    1.0   \n",
       "Armenia                                    1.0   \n",
       "Azerbaijan                                 1.0   \n",
       "Bangladesh                                 2.0   \n",
       "\n",
       "             intervention_type_Transparency_count  \\\n",
       "country                                             \n",
       "Afghanistan                                  13.0   \n",
       "Albania                                       8.0   \n",
       "Armenia                                       1.0   \n",
       "Azerbaijan                                    3.0   \n",
       "Bangladesh                                    1.0   \n",
       "\n",
       "             intervention_type_Assessment_count  \\\n",
       "country                                           \n",
       "Afghanistan                                 4.0   \n",
       "Albania                                     0.0   \n",
       "Armenia                                     0.0   \n",
       "Azerbaijan                                  0.0   \n",
       "Bangladesh                                  0.0   \n",
       "\n",
       "             intervention_type_Accountability_count  \\\n",
       "country                                               \n",
       "Afghanistan                                    14.0   \n",
       "Albania                                         6.0   \n",
       "Armenia                                         0.0   \n",
       "Azerbaijan                                      2.0   \n",
       "Bangladesh                                      1.0   \n",
       "\n",
       "             intervention_type_Participation_count  \\\n",
       "country                                              \n",
       "Afghanistan                                   13.0   \n",
       "Albania                                        2.0   \n",
       "Armenia                                        2.0   \n",
       "Azerbaijan                                     1.0   \n",
       "Bangladesh                                     3.0   \n",
       "\n",
       "             intervention_type_Enforcement_count  \\\n",
       "country                                            \n",
       "Afghanistan                                  0.0   \n",
       "Albania                                      3.0   \n",
       "Armenia                                      1.0   \n",
       "Azerbaijan                                   1.0   \n",
       "Bangladesh                                   0.0   \n",
       "\n",
       "             intervention_type_Study_count  \\\n",
       "country                                      \n",
       "Afghanistan                            0.0   \n",
       "Albania                                0.0   \n",
       "Armenia                                0.0   \n",
       "Azerbaijan                             0.0   \n",
       "Bangladesh                             0.0   \n",
       "\n",
       "             intervention_type_Citizen_Media_Business_Engagement_Participation_count  \n",
       "country                                                                               \n",
       "Afghanistan                                                0.0                        \n",
       "Albania                                                    0.0                        \n",
       "Armenia                                                    0.0                        \n",
       "Azerbaijan                                                 0.0                        \n",
       "Bangladesh                                                 0.0                        "
      ]
     },
     "execution_count": 178,
     "metadata": {},
     "output_type": "execute_result"
    }
   ],
   "source": [
    "df_intervention_type.head()"
   ]
  },
  {
   "cell_type": "code",
   "execution_count": 179,
   "metadata": {},
   "outputs": [],
   "source": [
    "df_intervention_type.reset_index(level=0, inplace=True)"
   ]
  },
  {
   "cell_type": "code",
   "execution_count": 186,
   "metadata": {},
   "outputs": [],
   "source": [
    "df_intervention_type.sort_values(by = ['country'], ascending = 1, inplace = True)"
   ]
  },
  {
   "cell_type": "markdown",
   "metadata": {},
   "source": [
    "### Combine all the datasets so far"
   ]
  },
  {
   "cell_type": "code",
   "execution_count": 187,
   "metadata": {},
   "outputs": [],
   "source": [
    "# compile the list of dataframes you want to merge\n",
    "data_frames = [df1_median, df1_mean, df1_min, df1_max,df_intervention_type]"
   ]
  },
  {
   "cell_type": "code",
   "execution_count": 188,
   "metadata": {},
   "outputs": [],
   "source": [
    "from functools import reduce\n",
    "df_merged = reduce(lambda  left,right: pd.merge(left,right,on=['country'],\n",
    "                                            how='outer'), data_frames)"
   ]
  },
  {
   "cell_type": "code",
   "execution_count": 190,
   "metadata": {},
   "outputs": [
    {
     "data": {
      "text/html": [
       "<div>\n",
       "<style scoped>\n",
       "    .dataframe tbody tr th:only-of-type {\n",
       "        vertical-align: middle;\n",
       "    }\n",
       "\n",
       "    .dataframe tbody tr th {\n",
       "        vertical-align: top;\n",
       "    }\n",
       "\n",
       "    .dataframe thead th {\n",
       "        text-align: right;\n",
       "    }\n",
       "</style>\n",
       "<table border=\"1\" class=\"dataframe\">\n",
       "  <thead>\n",
       "    <tr style=\"text-align: right;\">\n",
       "      <th></th>\n",
       "      <th>country</th>\n",
       "      <th>desc_senti_score_median</th>\n",
       "      <th>desc_sub_score_median</th>\n",
       "      <th>res_senti_score_median</th>\n",
       "      <th>res_sub_score_median</th>\n",
       "      <th>desc_senti_score_mean</th>\n",
       "      <th>desc_sub_score_mean</th>\n",
       "      <th>res_senti_score_mean</th>\n",
       "      <th>res_sub_score_mean</th>\n",
       "      <th>desc_senti_score_min</th>\n",
       "      <th>...</th>\n",
       "      <th>res_senti_score_max</th>\n",
       "      <th>res_sub_score_max</th>\n",
       "      <th>intervention_type_Awareness_count</th>\n",
       "      <th>intervention_type_Transparency_count</th>\n",
       "      <th>intervention_type_Assessment_count</th>\n",
       "      <th>intervention_type_Accountability_count</th>\n",
       "      <th>intervention_type_Participation_count</th>\n",
       "      <th>intervention_type_Enforcement_count</th>\n",
       "      <th>intervention_type_Study_count</th>\n",
       "      <th>intervention_type_Citizen_Media_Business_Engagement_Participation_count</th>\n",
       "    </tr>\n",
       "  </thead>\n",
       "  <tbody>\n",
       "    <tr>\n",
       "      <td>0</td>\n",
       "      <td>Afghanistan</td>\n",
       "      <td>0.000000</td>\n",
       "      <td>0.200000</td>\n",
       "      <td>0.007407</td>\n",
       "      <td>0.442262</td>\n",
       "      <td>0.002660</td>\n",
       "      <td>0.250124</td>\n",
       "      <td>0.095316</td>\n",
       "      <td>0.392658</td>\n",
       "      <td>-0.355556</td>\n",
       "      <td>...</td>\n",
       "      <td>0.900000</td>\n",
       "      <td>0.800000</td>\n",
       "      <td>8.0</td>\n",
       "      <td>13.0</td>\n",
       "      <td>4.0</td>\n",
       "      <td>14.0</td>\n",
       "      <td>13.0</td>\n",
       "      <td>0.0</td>\n",
       "      <td>0.0</td>\n",
       "      <td>0.0</td>\n",
       "    </tr>\n",
       "    <tr>\n",
       "      <td>1</td>\n",
       "      <td>Albania</td>\n",
       "      <td>0.025000</td>\n",
       "      <td>0.421111</td>\n",
       "      <td>-0.055508</td>\n",
       "      <td>0.291667</td>\n",
       "      <td>0.053542</td>\n",
       "      <td>0.411111</td>\n",
       "      <td>-0.092047</td>\n",
       "      <td>0.338218</td>\n",
       "      <td>-0.250000</td>\n",
       "      <td>...</td>\n",
       "      <td>0.044643</td>\n",
       "      <td>0.700833</td>\n",
       "      <td>1.0</td>\n",
       "      <td>8.0</td>\n",
       "      <td>0.0</td>\n",
       "      <td>6.0</td>\n",
       "      <td>2.0</td>\n",
       "      <td>3.0</td>\n",
       "      <td>0.0</td>\n",
       "      <td>0.0</td>\n",
       "    </tr>\n",
       "    <tr>\n",
       "      <td>2</td>\n",
       "      <td>Angola</td>\n",
       "      <td>0.140625</td>\n",
       "      <td>0.219792</td>\n",
       "      <td>-0.188889</td>\n",
       "      <td>0.320833</td>\n",
       "      <td>0.140625</td>\n",
       "      <td>0.219792</td>\n",
       "      <td>-0.188889</td>\n",
       "      <td>0.320833</td>\n",
       "      <td>0.140625</td>\n",
       "      <td>...</td>\n",
       "      <td>-0.188889</td>\n",
       "      <td>0.320833</td>\n",
       "      <td>0.0</td>\n",
       "      <td>1.0</td>\n",
       "      <td>0.0</td>\n",
       "      <td>1.0</td>\n",
       "      <td>0.0</td>\n",
       "      <td>0.0</td>\n",
       "      <td>0.0</td>\n",
       "      <td>0.0</td>\n",
       "    </tr>\n",
       "    <tr>\n",
       "      <td>3</td>\n",
       "      <td>Armenia</td>\n",
       "      <td>-0.103125</td>\n",
       "      <td>0.310417</td>\n",
       "      <td>0.000000</td>\n",
       "      <td>0.347470</td>\n",
       "      <td>-0.108705</td>\n",
       "      <td>0.348065</td>\n",
       "      <td>-0.045443</td>\n",
       "      <td>0.346354</td>\n",
       "      <td>-0.328571</td>\n",
       "      <td>...</td>\n",
       "      <td>0.023810</td>\n",
       "      <td>0.690476</td>\n",
       "      <td>1.0</td>\n",
       "      <td>1.0</td>\n",
       "      <td>0.0</td>\n",
       "      <td>0.0</td>\n",
       "      <td>2.0</td>\n",
       "      <td>1.0</td>\n",
       "      <td>0.0</td>\n",
       "      <td>0.0</td>\n",
       "    </tr>\n",
       "    <tr>\n",
       "      <td>4</td>\n",
       "      <td>Azerbaijan</td>\n",
       "      <td>-0.015625</td>\n",
       "      <td>0.463750</td>\n",
       "      <td>0.000000</td>\n",
       "      <td>0.314892</td>\n",
       "      <td>0.021792</td>\n",
       "      <td>0.342333</td>\n",
       "      <td>-0.078747</td>\n",
       "      <td>0.281026</td>\n",
       "      <td>-0.250000</td>\n",
       "      <td>...</td>\n",
       "      <td>0.011905</td>\n",
       "      <td>0.620000</td>\n",
       "      <td>1.0</td>\n",
       "      <td>3.0</td>\n",
       "      <td>0.0</td>\n",
       "      <td>2.0</td>\n",
       "      <td>1.0</td>\n",
       "      <td>1.0</td>\n",
       "      <td>0.0</td>\n",
       "      <td>0.0</td>\n",
       "    </tr>\n",
       "  </tbody>\n",
       "</table>\n",
       "<p>5 rows × 25 columns</p>\n",
       "</div>"
      ],
      "text/plain": [
       "       country  desc_senti_score_median  desc_sub_score_median  \\\n",
       "0  Afghanistan                 0.000000               0.200000   \n",
       "1      Albania                 0.025000               0.421111   \n",
       "2       Angola                 0.140625               0.219792   \n",
       "3      Armenia                -0.103125               0.310417   \n",
       "4   Azerbaijan                -0.015625               0.463750   \n",
       "\n",
       "   res_senti_score_median  res_sub_score_median  desc_senti_score_mean  \\\n",
       "0                0.007407              0.442262               0.002660   \n",
       "1               -0.055508              0.291667               0.053542   \n",
       "2               -0.188889              0.320833               0.140625   \n",
       "3                0.000000              0.347470              -0.108705   \n",
       "4                0.000000              0.314892               0.021792   \n",
       "\n",
       "   desc_sub_score_mean  res_senti_score_mean  res_sub_score_mean  \\\n",
       "0             0.250124              0.095316            0.392658   \n",
       "1             0.411111             -0.092047            0.338218   \n",
       "2             0.219792             -0.188889            0.320833   \n",
       "3             0.348065             -0.045443            0.346354   \n",
       "4             0.342333             -0.078747            0.281026   \n",
       "\n",
       "   desc_senti_score_min  ...  res_senti_score_max  res_sub_score_max  \\\n",
       "0             -0.355556  ...             0.900000           0.800000   \n",
       "1             -0.250000  ...             0.044643           0.700833   \n",
       "2              0.140625  ...            -0.188889           0.320833   \n",
       "3             -0.328571  ...             0.023810           0.690476   \n",
       "4             -0.250000  ...             0.011905           0.620000   \n",
       "\n",
       "   intervention_type_Awareness_count  intervention_type_Transparency_count  \\\n",
       "0                                8.0                                  13.0   \n",
       "1                                1.0                                   8.0   \n",
       "2                                0.0                                   1.0   \n",
       "3                                1.0                                   1.0   \n",
       "4                                1.0                                   3.0   \n",
       "\n",
       "   intervention_type_Assessment_count  intervention_type_Accountability_count  \\\n",
       "0                                 4.0                                    14.0   \n",
       "1                                 0.0                                     6.0   \n",
       "2                                 0.0                                     1.0   \n",
       "3                                 0.0                                     0.0   \n",
       "4                                 0.0                                     2.0   \n",
       "\n",
       "   intervention_type_Participation_count  intervention_type_Enforcement_count  \\\n",
       "0                                   13.0                                  0.0   \n",
       "1                                    2.0                                  3.0   \n",
       "2                                    0.0                                  0.0   \n",
       "3                                    2.0                                  1.0   \n",
       "4                                    1.0                                  1.0   \n",
       "\n",
       "   intervention_type_Study_count  \\\n",
       "0                            0.0   \n",
       "1                            0.0   \n",
       "2                            0.0   \n",
       "3                            0.0   \n",
       "4                            0.0   \n",
       "\n",
       "   intervention_type_Citizen_Media_Business_Engagement_Participation_count  \n",
       "0                                                0.0                        \n",
       "1                                                0.0                        \n",
       "2                                                0.0                        \n",
       "3                                                0.0                        \n",
       "4                                                0.0                        \n",
       "\n",
       "[5 rows x 25 columns]"
      ]
     },
     "execution_count": 190,
     "metadata": {},
     "output_type": "execute_result"
    }
   ],
   "source": [
    "df_merged.head()"
   ]
  },
  {
   "cell_type": "code",
   "execution_count": 191,
   "metadata": {},
   "outputs": [
    {
     "data": {
      "text/plain": [
       "(74, 25)"
      ]
     },
     "execution_count": 191,
     "metadata": {},
     "output_type": "execute_result"
    }
   ],
   "source": [
    "df_merged.shape #the number of countries are preserved"
   ]
  },
  {
   "cell_type": "code",
   "execution_count": 192,
   "metadata": {},
   "outputs": [],
   "source": [
    "df_merged.to_csv('country_level_Jen.csv')"
   ]
  },
  {
   "cell_type": "code",
   "execution_count": null,
   "metadata": {},
   "outputs": [],
   "source": []
  }
 ],
 "metadata": {
  "kernelspec": {
   "display_name": "Python 3",
   "language": "python",
   "name": "python3"
  },
  "language_info": {
   "codemirror_mode": {
    "name": "ipython",
    "version": 3
   },
   "file_extension": ".py",
   "mimetype": "text/x-python",
   "name": "python",
   "nbconvert_exporter": "python",
   "pygments_lexer": "ipython3",
   "version": "3.7.4"
  }
 },
 "nbformat": 4,
 "nbformat_minor": 2
}
