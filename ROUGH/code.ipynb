{
 "cells": [
  {
   "cell_type": "code",
   "execution_count": 53,
   "metadata": {},
   "outputs": [],
   "source": [
    "import pandas as pd"
   ]
  },
  {
   "cell_type": "code",
   "execution_count": 54,
   "metadata": {},
   "outputs": [],
   "source": [
    "df = pd.read_csv('/Users/vibhuverma/Desktop/CLASSWORK/BUSINESS PRACTICUM/Anti-Corruption/Final datasets/USAID/combined_usaid_Nov_18.csv')"
   ]
  },
  {
   "cell_type": "code",
   "execution_count": 55,
   "metadata": {},
   "outputs": [
    {
     "data": {
      "text/plain": [
       "Index(['uuid', 'region', 'country', 'proj_nm', 'st_date', 'end_date',\n",
       "       'awd_amount', 'awd_value', 'implementer', 'sector', 'intervention',\n",
       "       'intervention_type', 'proj_desc', 'proj_res', 'rfp_rftop', 'final_res',\n",
       "       'mind_eval', 'final_eval', 'audit', 'interim_rep', 'addl_docs',\n",
       "       'addl_info', 'corruption', 'stability', 'desc_senti_score',\n",
       "       'desc_sub_score', 'res_senti_score', 'res_sub_score', 'Topic0',\n",
       "       'Topic1', 'Topic2', 'Topic3', 'Topic4', 'dominant_topic',\n",
       "       'cosine_sim_cluster'],\n",
       "      dtype='object')"
      ]
     },
     "execution_count": 55,
     "metadata": {},
     "output_type": "execute_result"
    }
   ],
   "source": [
    "df.columns"
   ]
  },
  {
   "cell_type": "code",
   "execution_count": null,
   "metadata": {},
   "outputs": [],
   "source": []
  },
  {
   "cell_type": "code",
   "execution_count": 56,
   "metadata": {},
   "outputs": [],
   "source": [
    "df.drop([ 'proj_nm', 'st_date', 'end_date',\n",
    "       'awd_amount', 'awd_value', 'implementer', 'sector', 'intervention',\n",
    "       'intervention_type', 'proj_desc', 'proj_res', 'rfp_rftop', 'final_res',\n",
    "       'mind_eval', 'final_eval', 'audit', 'interim_rep', 'addl_docs',\n",
    "       'addl_info', 'desc_senti_score',\n",
    "       'desc_sub_score', 'res_senti_score', 'res_sub_score', 'Topic0',\n",
    "       'Topic1', 'Topic2', 'Topic3', 'Topic4', 'dominant_topic',\n",
    "       'cosine_sim_cluster'], axis =1, inplace =True)"
   ]
  },
  {
   "cell_type": "code",
   "execution_count": 57,
   "metadata": {},
   "outputs": [
    {
     "data": {
      "text/plain": [
       "Index(['uuid', 'region', 'country', 'corruption', 'stability'], dtype='object')"
      ]
     },
     "execution_count": 57,
     "metadata": {},
     "output_type": "execute_result"
    }
   ],
   "source": [
    "df.columns"
   ]
  },
  {
   "cell_type": "code",
   "execution_count": 59,
   "metadata": {},
   "outputs": [],
   "source": [
    "agg = df[['region', 'stability']].groupby(['region']).agg(['count'])"
   ]
  },
  {
   "cell_type": "code",
   "execution_count": 60,
   "metadata": {},
   "outputs": [
    {
     "data": {
      "text/plain": [
       "array(['Unstable', 'Very Unstable'], dtype=object)"
      ]
     },
     "execution_count": 60,
     "metadata": {},
     "output_type": "execute_result"
    }
   ],
   "source": [
    "df.stability.unique()"
   ]
  },
  {
   "cell_type": "code",
   "execution_count": 61,
   "metadata": {},
   "outputs": [
    {
     "data": {
      "text/plain": [
       "array(['High Corruption', 'Very High Corruption'], dtype=object)"
      ]
     },
     "execution_count": 61,
     "metadata": {},
     "output_type": "execute_result"
    }
   ],
   "source": [
    "df.corruption.unique()"
   ]
  },
  {
   "cell_type": "code",
   "execution_count": 62,
   "metadata": {},
   "outputs": [],
   "source": [
    "df.loc[df.stability == 'Unstable', 'stability'] = 0\n",
    "df.loc[df.stability == 'Very Unstable', 'stability'] = 1"
   ]
  },
  {
   "cell_type": "code",
   "execution_count": 63,
   "metadata": {},
   "outputs": [],
   "source": [
    "df.loc[df.corruption == 'High Corruption', 'corruption'] = 0\n",
    "df.loc[df.corruption == 'Very High Corruption', 'corruption'] = 1"
   ]
  },
  {
   "cell_type": "code",
   "execution_count": 64,
   "metadata": {},
   "outputs": [
    {
     "data": {
      "text/html": [
       "<div>\n",
       "<style scoped>\n",
       "    .dataframe tbody tr th:only-of-type {\n",
       "        vertical-align: middle;\n",
       "    }\n",
       "\n",
       "    .dataframe tbody tr th {\n",
       "        vertical-align: top;\n",
       "    }\n",
       "\n",
       "    .dataframe thead th {\n",
       "        text-align: right;\n",
       "    }\n",
       "</style>\n",
       "<table border=\"1\" class=\"dataframe\">\n",
       "  <thead>\n",
       "    <tr style=\"text-align: right;\">\n",
       "      <th></th>\n",
       "      <th>uuid</th>\n",
       "      <th>region</th>\n",
       "      <th>country</th>\n",
       "      <th>corruption</th>\n",
       "      <th>stability</th>\n",
       "    </tr>\n",
       "  </thead>\n",
       "  <tbody>\n",
       "    <tr>\n",
       "      <th>0</th>\n",
       "      <td>1</td>\n",
       "      <td>South and Central Asia (SCA)</td>\n",
       "      <td>Afghanistan</td>\n",
       "      <td>0</td>\n",
       "      <td>0</td>\n",
       "    </tr>\n",
       "    <tr>\n",
       "      <th>1</th>\n",
       "      <td>2</td>\n",
       "      <td>South and Central Asia (SCA)</td>\n",
       "      <td>Afghanistan</td>\n",
       "      <td>1</td>\n",
       "      <td>1</td>\n",
       "    </tr>\n",
       "    <tr>\n",
       "      <th>2</th>\n",
       "      <td>3</td>\n",
       "      <td>South and Central Asia (SCA)</td>\n",
       "      <td>Afghanistan</td>\n",
       "      <td>1</td>\n",
       "      <td>1</td>\n",
       "    </tr>\n",
       "    <tr>\n",
       "      <th>3</th>\n",
       "      <td>4</td>\n",
       "      <td>South and Central Asia (SCA)</td>\n",
       "      <td>Afghanistan</td>\n",
       "      <td>1</td>\n",
       "      <td>1</td>\n",
       "    </tr>\n",
       "    <tr>\n",
       "      <th>4</th>\n",
       "      <td>5</td>\n",
       "      <td>South and Central Asia (SCA)</td>\n",
       "      <td>Afghanistan</td>\n",
       "      <td>1</td>\n",
       "      <td>1</td>\n",
       "    </tr>\n",
       "  </tbody>\n",
       "</table>\n",
       "</div>"
      ],
      "text/plain": [
       "   uuid                        region      country corruption stability\n",
       "0     1  South and Central Asia (SCA)  Afghanistan          0         0\n",
       "1     2  South and Central Asia (SCA)  Afghanistan          1         1\n",
       "2     3  South and Central Asia (SCA)  Afghanistan          1         1\n",
       "3     4  South and Central Asia (SCA)  Afghanistan          1         1\n",
       "4     5  South and Central Asia (SCA)  Afghanistan          1         1"
      ]
     },
     "execution_count": 64,
     "metadata": {},
     "output_type": "execute_result"
    }
   ],
   "source": [
    "df.head()"
   ]
  },
  {
   "cell_type": "code",
   "execution_count": 65,
   "metadata": {},
   "outputs": [],
   "source": [
    "df['corruption'] = df.corruption.astype(int) \n",
    "df['stability'] = df.stability.astype(int) "
   ]
  },
  {
   "cell_type": "code",
   "execution_count": 66,
   "metadata": {},
   "outputs": [
    {
     "name": "stdout",
     "output_type": "stream",
     "text": [
      "<class 'pandas.core.frame.DataFrame'>\n",
      "RangeIndex: 315 entries, 0 to 314\n",
      "Data columns (total 5 columns):\n",
      " #   Column      Non-Null Count  Dtype \n",
      "---  ------      --------------  ----- \n",
      " 0   uuid        315 non-null    int64 \n",
      " 1   region      315 non-null    object\n",
      " 2   country     315 non-null    object\n",
      " 3   corruption  315 non-null    int64 \n",
      " 4   stability   315 non-null    int64 \n",
      "dtypes: int64(3), object(2)\n",
      "memory usage: 12.4+ KB\n"
     ]
    }
   ],
   "source": [
    "df.info()"
   ]
  },
  {
   "cell_type": "code",
   "execution_count": 67,
   "metadata": {},
   "outputs": [],
   "source": [
    "agg = df[['region', 'stability','corruption']].groupby(['region']).agg(['count','median'])"
   ]
  },
  {
   "cell_type": "code",
   "execution_count": 68,
   "metadata": {},
   "outputs": [],
   "source": [
    "agg.to_csv('x.csv')"
   ]
  },
  {
   "cell_type": "code",
   "execution_count": 69,
   "metadata": {},
   "outputs": [],
   "source": [
    "# did the manual workj in excel\n",
    "\n",
    "df = pd.read_csv('x.csv')"
   ]
  },
  {
   "cell_type": "code",
   "execution_count": 70,
   "metadata": {},
   "outputs": [
    {
     "data": {
      "text/html": [
       "<div>\n",
       "<style scoped>\n",
       "    .dataframe tbody tr th:only-of-type {\n",
       "        vertical-align: middle;\n",
       "    }\n",
       "\n",
       "    .dataframe tbody tr th {\n",
       "        vertical-align: top;\n",
       "    }\n",
       "\n",
       "    .dataframe thead th {\n",
       "        text-align: right;\n",
       "    }\n",
       "</style>\n",
       "<table border=\"1\" class=\"dataframe\">\n",
       "  <thead>\n",
       "    <tr style=\"text-align: right;\">\n",
       "      <th></th>\n",
       "      <th>region</th>\n",
       "      <th>stability_median</th>\n",
       "      <th>Number_of_projects</th>\n",
       "      <th>corruption_median</th>\n",
       "    </tr>\n",
       "  </thead>\n",
       "  <tbody>\n",
       "    <tr>\n",
       "      <th>0</th>\n",
       "      <td>East Asia and Pacific (EAP)</td>\n",
       "      <td>0</td>\n",
       "      <td>56</td>\n",
       "      <td>0</td>\n",
       "    </tr>\n",
       "    <tr>\n",
       "      <th>1</th>\n",
       "      <td>Europe and Eurasia (E&amp;E)</td>\n",
       "      <td>0</td>\n",
       "      <td>69</td>\n",
       "      <td>0</td>\n",
       "    </tr>\n",
       "    <tr>\n",
       "      <th>2</th>\n",
       "      <td>Global</td>\n",
       "      <td>0</td>\n",
       "      <td>1</td>\n",
       "      <td>0</td>\n",
       "    </tr>\n",
       "    <tr>\n",
       "      <th>3</th>\n",
       "      <td>Latin America and Caribbean (LAC)</td>\n",
       "      <td>0</td>\n",
       "      <td>49</td>\n",
       "      <td>0</td>\n",
       "    </tr>\n",
       "    <tr>\n",
       "      <th>4</th>\n",
       "      <td>Middle East and North Africa (MENA)</td>\n",
       "      <td>0</td>\n",
       "      <td>51</td>\n",
       "      <td>0</td>\n",
       "    </tr>\n",
       "    <tr>\n",
       "      <th>5</th>\n",
       "      <td>South and Central Asia (SCA)</td>\n",
       "      <td>1</td>\n",
       "      <td>57</td>\n",
       "      <td>1</td>\n",
       "    </tr>\n",
       "    <tr>\n",
       "      <th>6</th>\n",
       "      <td>Sub-Saharan Africa (SSA)</td>\n",
       "      <td>0</td>\n",
       "      <td>32</td>\n",
       "      <td>0</td>\n",
       "    </tr>\n",
       "  </tbody>\n",
       "</table>\n",
       "</div>"
      ],
      "text/plain": [
       "                                region  stability_median  Number_of_projects  \\\n",
       "0          East Asia and Pacific (EAP)                 0                  56   \n",
       "1             Europe and Eurasia (E&E)                 0                  69   \n",
       "2                               Global                 0                   1   \n",
       "3    Latin America and Caribbean (LAC)                 0                  49   \n",
       "4  Middle East and North Africa (MENA)                 0                  51   \n",
       "5         South and Central Asia (SCA)                 1                  57   \n",
       "6             Sub-Saharan Africa (SSA)                 0                  32   \n",
       "\n",
       "   corruption_median  \n",
       "0                  0  \n",
       "1                  0  \n",
       "2                  0  \n",
       "3                  0  \n",
       "4                  0  \n",
       "5                  1  \n",
       "6                  0  "
      ]
     },
     "execution_count": 70,
     "metadata": {},
     "output_type": "execute_result"
    }
   ],
   "source": [
    "df"
   ]
  },
  {
   "cell_type": "code",
   "execution_count": 71,
   "metadata": {},
   "outputs": [],
   "source": [
    "#df.loc[df.corruption_median ==0 , 'corruption_median'] = 'High Corruption'\n",
    "#df.loc[df.corruption_median ==1, 'corruption_median'] = 'Very High Corruption'\n",
    "\n",
    "#df.loc[df.stability_median ==0 , 'stability_median'] = 'Unstable'\n",
    "#df.loc[df.stability_median ==1, 'stability_median'] = 'Very Unstable'"
   ]
  },
  {
   "cell_type": "code",
   "execution_count": 72,
   "metadata": {},
   "outputs": [
    {
     "data": {
      "text/plain": [
       "Index(['uuid', 'region', 'country', 'proj_nm', 'st_date', 'end_date',\n",
       "       'awd_amount', 'awd_value', 'implementer', 'sector', 'intervention',\n",
       "       'intervention_type', 'proj_desc', 'proj_res', 'rfp_rftop', 'final_res',\n",
       "       'mind_eval', 'final_eval', 'audit', 'interim_rep', 'addl_docs',\n",
       "       'addl_info', 'corruption', 'stability', 'desc_senti_score',\n",
       "       'desc_sub_score', 'res_senti_score', 'res_sub_score', 'Topic0',\n",
       "       'Topic1', 'Topic2', 'Topic3', 'Topic4', 'dominant_topic',\n",
       "       'cosine_sim_cluster'],\n",
       "      dtype='object')"
      ]
     },
     "execution_count": 72,
     "metadata": {},
     "output_type": "execute_result"
    }
   ],
   "source": [
    "###\n",
    "df1 = pd.read_csv('/Users/vibhuverma/Desktop/CLASSWORK/BUSINESS PRACTICUM/Anti-Corruption/Final datasets/USAID/combined_usaid_Nov_18.csv')\n",
    "\n",
    "df1.columns"
   ]
  },
  {
   "cell_type": "code",
   "execution_count": 73,
   "metadata": {},
   "outputs": [],
   "source": [
    "df1.sort_values(by=['st_date'])\n",
    "df1.drop([ 'proj_nm', 'end_date',\n",
    "       'awd_amount', 'awd_value', 'implementer', 'sector', 'intervention',\n",
    "       'intervention_type', 'proj_desc', 'proj_res', 'rfp_rftop', 'final_res',\n",
    "       'mind_eval', 'final_eval', 'audit', 'interim_rep', 'addl_docs',\n",
    "       'addl_info', 'desc_senti_score',\n",
    "       'desc_sub_score', 'res_senti_score', 'res_sub_score', 'Topic0',\n",
    "       'Topic1', 'Topic2', 'Topic3', 'Topic4', 'dominant_topic',\n",
    "       'cosine_sim_cluster'], axis =1, inplace =True)"
   ]
  },
  {
   "cell_type": "code",
   "execution_count": 74,
   "metadata": {},
   "outputs": [
    {
     "data": {
      "text/html": [
       "<div>\n",
       "<style scoped>\n",
       "    .dataframe tbody tr th:only-of-type {\n",
       "        vertical-align: middle;\n",
       "    }\n",
       "\n",
       "    .dataframe tbody tr th {\n",
       "        vertical-align: top;\n",
       "    }\n",
       "\n",
       "    .dataframe thead th {\n",
       "        text-align: right;\n",
       "    }\n",
       "</style>\n",
       "<table border=\"1\" class=\"dataframe\">\n",
       "  <thead>\n",
       "    <tr style=\"text-align: right;\">\n",
       "      <th></th>\n",
       "      <th>uuid</th>\n",
       "      <th>region</th>\n",
       "      <th>country</th>\n",
       "      <th>st_date</th>\n",
       "      <th>corruption</th>\n",
       "      <th>stability</th>\n",
       "    </tr>\n",
       "  </thead>\n",
       "  <tbody>\n",
       "    <tr>\n",
       "      <th>0</th>\n",
       "      <td>1</td>\n",
       "      <td>South and Central Asia (SCA)</td>\n",
       "      <td>Afghanistan</td>\n",
       "      <td>2010</td>\n",
       "      <td>High Corruption</td>\n",
       "      <td>Unstable</td>\n",
       "    </tr>\n",
       "    <tr>\n",
       "      <th>1</th>\n",
       "      <td>2</td>\n",
       "      <td>South and Central Asia (SCA)</td>\n",
       "      <td>Afghanistan</td>\n",
       "      <td>2010</td>\n",
       "      <td>Very High Corruption</td>\n",
       "      <td>Very Unstable</td>\n",
       "    </tr>\n",
       "    <tr>\n",
       "      <th>2</th>\n",
       "      <td>3</td>\n",
       "      <td>South and Central Asia (SCA)</td>\n",
       "      <td>Afghanistan</td>\n",
       "      <td>2011</td>\n",
       "      <td>Very High Corruption</td>\n",
       "      <td>Very Unstable</td>\n",
       "    </tr>\n",
       "    <tr>\n",
       "      <th>3</th>\n",
       "      <td>4</td>\n",
       "      <td>South and Central Asia (SCA)</td>\n",
       "      <td>Afghanistan</td>\n",
       "      <td>2012</td>\n",
       "      <td>Very High Corruption</td>\n",
       "      <td>Very Unstable</td>\n",
       "    </tr>\n",
       "    <tr>\n",
       "      <th>4</th>\n",
       "      <td>5</td>\n",
       "      <td>South and Central Asia (SCA)</td>\n",
       "      <td>Afghanistan</td>\n",
       "      <td>2010</td>\n",
       "      <td>Very High Corruption</td>\n",
       "      <td>Very Unstable</td>\n",
       "    </tr>\n",
       "    <tr>\n",
       "      <th>...</th>\n",
       "      <td>...</td>\n",
       "      <td>...</td>\n",
       "      <td>...</td>\n",
       "      <td>...</td>\n",
       "      <td>...</td>\n",
       "      <td>...</td>\n",
       "    </tr>\n",
       "    <tr>\n",
       "      <th>310</th>\n",
       "      <td>311</td>\n",
       "      <td>Middle East and North Africa (MENA)</td>\n",
       "      <td>Yemen</td>\n",
       "      <td>2010</td>\n",
       "      <td>High Corruption</td>\n",
       "      <td>Very Unstable</td>\n",
       "    </tr>\n",
       "    <tr>\n",
       "      <th>311</th>\n",
       "      <td>312</td>\n",
       "      <td>Middle East and North Africa (MENA)</td>\n",
       "      <td>Yemen</td>\n",
       "      <td>2007</td>\n",
       "      <td>High Corruption</td>\n",
       "      <td>Very Unstable</td>\n",
       "    </tr>\n",
       "    <tr>\n",
       "      <th>312</th>\n",
       "      <td>313</td>\n",
       "      <td>Middle East and North Africa (MENA)</td>\n",
       "      <td>Yemen</td>\n",
       "      <td>2006</td>\n",
       "      <td>High Corruption</td>\n",
       "      <td>Very Unstable</td>\n",
       "    </tr>\n",
       "    <tr>\n",
       "      <th>313</th>\n",
       "      <td>314</td>\n",
       "      <td>Sub-Saharan Africa (SSA)</td>\n",
       "      <td>Zambia</td>\n",
       "      <td>2006</td>\n",
       "      <td>High Corruption</td>\n",
       "      <td>Unstable</td>\n",
       "    </tr>\n",
       "    <tr>\n",
       "      <th>314</th>\n",
       "      <td>315</td>\n",
       "      <td>Sub-Saharan Africa (SSA)</td>\n",
       "      <td>Zambia</td>\n",
       "      <td>2010</td>\n",
       "      <td>High Corruption</td>\n",
       "      <td>Unstable</td>\n",
       "    </tr>\n",
       "  </tbody>\n",
       "</table>\n",
       "<p>315 rows × 6 columns</p>\n",
       "</div>"
      ],
      "text/plain": [
       "     uuid                               region      country  st_date  \\\n",
       "0       1         South and Central Asia (SCA)  Afghanistan     2010   \n",
       "1       2         South and Central Asia (SCA)  Afghanistan     2010   \n",
       "2       3         South and Central Asia (SCA)  Afghanistan     2011   \n",
       "3       4         South and Central Asia (SCA)  Afghanistan     2012   \n",
       "4       5         South and Central Asia (SCA)  Afghanistan     2010   \n",
       "..    ...                                  ...          ...      ...   \n",
       "310   311  Middle East and North Africa (MENA)        Yemen     2010   \n",
       "311   312  Middle East and North Africa (MENA)        Yemen     2007   \n",
       "312   313  Middle East and North Africa (MENA)        Yemen     2006   \n",
       "313   314             Sub-Saharan Africa (SSA)       Zambia     2006   \n",
       "314   315             Sub-Saharan Africa (SSA)       Zambia     2010   \n",
       "\n",
       "               corruption      stability  \n",
       "0         High Corruption       Unstable  \n",
       "1    Very High Corruption  Very Unstable  \n",
       "2    Very High Corruption  Very Unstable  \n",
       "3    Very High Corruption  Very Unstable  \n",
       "4    Very High Corruption  Very Unstable  \n",
       "..                    ...            ...  \n",
       "310       High Corruption  Very Unstable  \n",
       "311       High Corruption  Very Unstable  \n",
       "312       High Corruption  Very Unstable  \n",
       "313       High Corruption       Unstable  \n",
       "314       High Corruption       Unstable  \n",
       "\n",
       "[315 rows x 6 columns]"
      ]
     },
     "execution_count": 74,
     "metadata": {},
     "output_type": "execute_result"
    }
   ],
   "source": [
    "df1"
   ]
  },
  {
   "cell_type": "code",
   "execution_count": 75,
   "metadata": {},
   "outputs": [],
   "source": [
    "grouped_df = df1.groupby(\"region\")"
   ]
  },
  {
   "cell_type": "code",
   "execution_count": 76,
   "metadata": {},
   "outputs": [],
   "source": [
    "first_values = grouped_df.first()"
   ]
  },
  {
   "cell_type": "code",
   "execution_count": 77,
   "metadata": {},
   "outputs": [],
   "source": [
    "first_values.drop(['uuid','country','st_date'],axis=1,inplace = True)\n",
    "\n",
    "first_values.loc[first_values.corruption == 'High Corruption', 'corruption'] = 0\n",
    "first_values.loc[first_values.corruption == 'Very High Corruption', 'corruption'] = 1\n",
    "\n",
    "\n",
    "first_values.loc[first_values.stability == 'Unstable', 'stability'] = 0\n",
    "first_values.loc[first_values.stability == 'Very Unstable', 'stability'] = 1\n"
   ]
  },
  {
   "cell_type": "code",
   "execution_count": 78,
   "metadata": {},
   "outputs": [],
   "source": [
    "first_values.to_csv('y.csv')"
   ]
  },
  {
   "cell_type": "code",
   "execution_count": 79,
   "metadata": {},
   "outputs": [],
   "source": [
    "df2 = pd.read_csv('y.csv')\n",
    "# did manual work"
   ]
  },
  {
   "cell_type": "code",
   "execution_count": 80,
   "metadata": {},
   "outputs": [],
   "source": [
    "result = pd.merge(df2, df, how='inner', on=['region', 'region'])"
   ]
  },
  {
   "cell_type": "code",
   "execution_count": 81,
   "metadata": {},
   "outputs": [],
   "source": [
    "result['change_s'] = result['stability_initial'] - result['stability_median']\n",
    "result['change_c'] = result['corruption_initial'] - result['corruption_median']"
   ]
  },
  {
   "cell_type": "code",
   "execution_count": 82,
   "metadata": {},
   "outputs": [
    {
     "data": {
      "text/html": [
       "<div>\n",
       "<style scoped>\n",
       "    .dataframe tbody tr th:only-of-type {\n",
       "        vertical-align: middle;\n",
       "    }\n",
       "\n",
       "    .dataframe tbody tr th {\n",
       "        vertical-align: top;\n",
       "    }\n",
       "\n",
       "    .dataframe thead th {\n",
       "        text-align: right;\n",
       "    }\n",
       "</style>\n",
       "<table border=\"1\" class=\"dataframe\">\n",
       "  <thead>\n",
       "    <tr style=\"text-align: right;\">\n",
       "      <th></th>\n",
       "      <th>region</th>\n",
       "      <th>corruption_initial</th>\n",
       "      <th>stability_initial</th>\n",
       "      <th>stability_median</th>\n",
       "      <th>Number_of_projects</th>\n",
       "      <th>corruption_median</th>\n",
       "      <th>change_s</th>\n",
       "      <th>change_c</th>\n",
       "    </tr>\n",
       "  </thead>\n",
       "  <tbody>\n",
       "    <tr>\n",
       "      <th>0</th>\n",
       "      <td>East Asia and Pacific (EAP)</td>\n",
       "      <td>0</td>\n",
       "      <td>0</td>\n",
       "      <td>0</td>\n",
       "      <td>56</td>\n",
       "      <td>0</td>\n",
       "      <td>0</td>\n",
       "      <td>0</td>\n",
       "    </tr>\n",
       "    <tr>\n",
       "      <th>1</th>\n",
       "      <td>Europe and Eurasia (E&amp;E)</td>\n",
       "      <td>0</td>\n",
       "      <td>0</td>\n",
       "      <td>0</td>\n",
       "      <td>69</td>\n",
       "      <td>0</td>\n",
       "      <td>0</td>\n",
       "      <td>0</td>\n",
       "    </tr>\n",
       "    <tr>\n",
       "      <th>2</th>\n",
       "      <td>Global</td>\n",
       "      <td>0</td>\n",
       "      <td>0</td>\n",
       "      <td>0</td>\n",
       "      <td>1</td>\n",
       "      <td>0</td>\n",
       "      <td>0</td>\n",
       "      <td>0</td>\n",
       "    </tr>\n",
       "    <tr>\n",
       "      <th>3</th>\n",
       "      <td>Latin America and Caribbean (LAC)</td>\n",
       "      <td>0</td>\n",
       "      <td>0</td>\n",
       "      <td>0</td>\n",
       "      <td>49</td>\n",
       "      <td>0</td>\n",
       "      <td>0</td>\n",
       "      <td>0</td>\n",
       "    </tr>\n",
       "    <tr>\n",
       "      <th>4</th>\n",
       "      <td>Middle East and North Africa (MENA)</td>\n",
       "      <td>0</td>\n",
       "      <td>0</td>\n",
       "      <td>0</td>\n",
       "      <td>51</td>\n",
       "      <td>0</td>\n",
       "      <td>0</td>\n",
       "      <td>0</td>\n",
       "    </tr>\n",
       "    <tr>\n",
       "      <th>5</th>\n",
       "      <td>South and Central Asia (SCA)</td>\n",
       "      <td>0</td>\n",
       "      <td>0</td>\n",
       "      <td>1</td>\n",
       "      <td>57</td>\n",
       "      <td>1</td>\n",
       "      <td>-1</td>\n",
       "      <td>-1</td>\n",
       "    </tr>\n",
       "    <tr>\n",
       "      <th>6</th>\n",
       "      <td>Sub-Saharan Africa (SSA)</td>\n",
       "      <td>0</td>\n",
       "      <td>0</td>\n",
       "      <td>0</td>\n",
       "      <td>32</td>\n",
       "      <td>0</td>\n",
       "      <td>0</td>\n",
       "      <td>0</td>\n",
       "    </tr>\n",
       "  </tbody>\n",
       "</table>\n",
       "</div>"
      ],
      "text/plain": [
       "                                region  corruption_initial  stability_initial  \\\n",
       "0          East Asia and Pacific (EAP)                   0                  0   \n",
       "1             Europe and Eurasia (E&E)                   0                  0   \n",
       "2                               Global                   0                  0   \n",
       "3    Latin America and Caribbean (LAC)                   0                  0   \n",
       "4  Middle East and North Africa (MENA)                   0                  0   \n",
       "5         South and Central Asia (SCA)                   0                  0   \n",
       "6             Sub-Saharan Africa (SSA)                   0                  0   \n",
       "\n",
       "   stability_median  Number_of_projects  corruption_median  change_s  change_c  \n",
       "0                 0                  56                  0         0         0  \n",
       "1                 0                  69                  0         0         0  \n",
       "2                 0                   1                  0         0         0  \n",
       "3                 0                  49                  0         0         0  \n",
       "4                 0                  51                  0         0         0  \n",
       "5                 1                  57                  1        -1        -1  \n",
       "6                 0                  32                  0         0         0  "
      ]
     },
     "execution_count": 82,
     "metadata": {},
     "output_type": "execute_result"
    }
   ],
   "source": [
    "result"
   ]
  },
  {
   "cell_type": "code",
   "execution_count": 83,
   "metadata": {},
   "outputs": [],
   "source": [
    "result.loc[result.corruption_median ==0 , 'corruption_median'] = 'High Corruption'\n",
    "result.loc[result.corruption_median ==1, 'corruption_median'] = 'Very High Corruption'\n",
    "\n",
    "result.loc[result.stability_median ==0 , 'stability_median'] = 'Unstable'\n",
    "result.loc[result.stability_median ==1, 'stability_median'] = 'Very Unstable'\n",
    "\n",
    "\n",
    "result.loc[result.corruption_initial ==0 , 'corruption_initial'] = 'High Corruption'\n",
    "result.loc[result.corruption_initial ==1, 'corruption_initial'] = 'Very High Corruption'\n",
    "\n",
    "result.loc[result.stability_initial ==0 , 'stability_initial'] = 'Unstable'\n",
    "result.loc[result.stability_initial ==1, 'stability_initial'] = 'Very Unstable'\n",
    "\n",
    "result['change_s'] = result.change_s.astype(int) \n",
    "result['change_c'] = result.change_c.astype(int)\n",
    "\n",
    "\n",
    "\n",
    "result.loc[result.change_s ==0 , 'change_s'] = 'Same'\n",
    "result.loc[result.change_s ==1, 'change_s'] = 'Better'\n",
    "result.loc[result.change_s ==-1, 'change_s'] = 'Worse'\n",
    "\n",
    "result.loc[result.change_c ==0 , 'change_c'] = 'Same'\n",
    "result.loc[result.change_c ==1, 'change_c'] = 'Better'\n",
    "result.loc[result.change_c ==-1, 'change_c'] = 'Worse'"
   ]
  },
  {
   "cell_type": "code",
   "execution_count": 84,
   "metadata": {},
   "outputs": [
    {
     "data": {
      "text/html": [
       "<div>\n",
       "<style scoped>\n",
       "    .dataframe tbody tr th:only-of-type {\n",
       "        vertical-align: middle;\n",
       "    }\n",
       "\n",
       "    .dataframe tbody tr th {\n",
       "        vertical-align: top;\n",
       "    }\n",
       "\n",
       "    .dataframe thead th {\n",
       "        text-align: right;\n",
       "    }\n",
       "</style>\n",
       "<table border=\"1\" class=\"dataframe\">\n",
       "  <thead>\n",
       "    <tr style=\"text-align: right;\">\n",
       "      <th></th>\n",
       "      <th>region</th>\n",
       "      <th>corruption_initial</th>\n",
       "      <th>stability_initial</th>\n",
       "      <th>stability_median</th>\n",
       "      <th>Number_of_projects</th>\n",
       "      <th>corruption_median</th>\n",
       "      <th>change_s</th>\n",
       "      <th>change_c</th>\n",
       "    </tr>\n",
       "  </thead>\n",
       "  <tbody>\n",
       "    <tr>\n",
       "      <th>0</th>\n",
       "      <td>East Asia and Pacific (EAP)</td>\n",
       "      <td>High Corruption</td>\n",
       "      <td>Unstable</td>\n",
       "      <td>Unstable</td>\n",
       "      <td>56</td>\n",
       "      <td>High Corruption</td>\n",
       "      <td>Same</td>\n",
       "      <td>Same</td>\n",
       "    </tr>\n",
       "    <tr>\n",
       "      <th>1</th>\n",
       "      <td>Europe and Eurasia (E&amp;E)</td>\n",
       "      <td>High Corruption</td>\n",
       "      <td>Unstable</td>\n",
       "      <td>Unstable</td>\n",
       "      <td>69</td>\n",
       "      <td>High Corruption</td>\n",
       "      <td>Same</td>\n",
       "      <td>Same</td>\n",
       "    </tr>\n",
       "    <tr>\n",
       "      <th>2</th>\n",
       "      <td>Global</td>\n",
       "      <td>High Corruption</td>\n",
       "      <td>Unstable</td>\n",
       "      <td>Unstable</td>\n",
       "      <td>1</td>\n",
       "      <td>High Corruption</td>\n",
       "      <td>Same</td>\n",
       "      <td>Same</td>\n",
       "    </tr>\n",
       "    <tr>\n",
       "      <th>3</th>\n",
       "      <td>Latin America and Caribbean (LAC)</td>\n",
       "      <td>High Corruption</td>\n",
       "      <td>Unstable</td>\n",
       "      <td>Unstable</td>\n",
       "      <td>49</td>\n",
       "      <td>High Corruption</td>\n",
       "      <td>Same</td>\n",
       "      <td>Same</td>\n",
       "    </tr>\n",
       "    <tr>\n",
       "      <th>4</th>\n",
       "      <td>Middle East and North Africa (MENA)</td>\n",
       "      <td>High Corruption</td>\n",
       "      <td>Unstable</td>\n",
       "      <td>Unstable</td>\n",
       "      <td>51</td>\n",
       "      <td>High Corruption</td>\n",
       "      <td>Same</td>\n",
       "      <td>Same</td>\n",
       "    </tr>\n",
       "    <tr>\n",
       "      <th>5</th>\n",
       "      <td>South and Central Asia (SCA)</td>\n",
       "      <td>High Corruption</td>\n",
       "      <td>Unstable</td>\n",
       "      <td>Very Unstable</td>\n",
       "      <td>57</td>\n",
       "      <td>Very High Corruption</td>\n",
       "      <td>Worse</td>\n",
       "      <td>Worse</td>\n",
       "    </tr>\n",
       "    <tr>\n",
       "      <th>6</th>\n",
       "      <td>Sub-Saharan Africa (SSA)</td>\n",
       "      <td>High Corruption</td>\n",
       "      <td>Unstable</td>\n",
       "      <td>Unstable</td>\n",
       "      <td>32</td>\n",
       "      <td>High Corruption</td>\n",
       "      <td>Same</td>\n",
       "      <td>Same</td>\n",
       "    </tr>\n",
       "  </tbody>\n",
       "</table>\n",
       "</div>"
      ],
      "text/plain": [
       "                                region corruption_initial stability_initial  \\\n",
       "0          East Asia and Pacific (EAP)    High Corruption          Unstable   \n",
       "1             Europe and Eurasia (E&E)    High Corruption          Unstable   \n",
       "2                               Global    High Corruption          Unstable   \n",
       "3    Latin America and Caribbean (LAC)    High Corruption          Unstable   \n",
       "4  Middle East and North Africa (MENA)    High Corruption          Unstable   \n",
       "5         South and Central Asia (SCA)    High Corruption          Unstable   \n",
       "6             Sub-Saharan Africa (SSA)    High Corruption          Unstable   \n",
       "\n",
       "  stability_median  Number_of_projects     corruption_median change_s change_c  \n",
       "0         Unstable                  56       High Corruption     Same     Same  \n",
       "1         Unstable                  69       High Corruption     Same     Same  \n",
       "2         Unstable                   1       High Corruption     Same     Same  \n",
       "3         Unstable                  49       High Corruption     Same     Same  \n",
       "4         Unstable                  51       High Corruption     Same     Same  \n",
       "5    Very Unstable                  57  Very High Corruption    Worse    Worse  \n",
       "6         Unstable                  32       High Corruption     Same     Same  "
      ]
     },
     "execution_count": 84,
     "metadata": {},
     "output_type": "execute_result"
    }
   ],
   "source": [
    "result"
   ]
  },
  {
   "cell_type": "code",
   "execution_count": 85,
   "metadata": {},
   "outputs": [
    {
     "data": {
      "text/plain": [
       "array(['Same', 'Worse'], dtype=object)"
      ]
     },
     "execution_count": 85,
     "metadata": {},
     "output_type": "execute_result"
    }
   ],
   "source": [
    "result.change_s.unique()"
   ]
  },
  {
   "cell_type": "code",
   "execution_count": 86,
   "metadata": {},
   "outputs": [
    {
     "data": {
      "text/plain": [
       "array(['Same', 'Worse'], dtype=object)"
      ]
     },
     "execution_count": 86,
     "metadata": {},
     "output_type": "execute_result"
    }
   ],
   "source": [
    "result.change_c.unique()"
   ]
  },
  {
   "cell_type": "code",
   "execution_count": 87,
   "metadata": {},
   "outputs": [],
   "source": [
    "result.to_csv('/Users/vibhuverma/Desktop/CLASSWORK/BUSINESS PRACTICUM/Anti-Corruption/Final datasets/USAID/regional-level datasets/regional_level_vibhu.csv')"
   ]
  },
  {
   "cell_type": "code",
   "execution_count": null,
   "metadata": {},
   "outputs": [],
   "source": []
  }
 ],
 "metadata": {
  "kernelspec": {
   "display_name": "Python 3",
   "language": "python",
   "name": "python3"
  },
  "language_info": {
   "codemirror_mode": {
    "name": "ipython",
    "version": 3
   },
   "file_extension": ".py",
   "mimetype": "text/x-python",
   "name": "python",
   "nbconvert_exporter": "python",
   "pygments_lexer": "ipython3",
   "version": "3.7.7"
  }
 },
 "nbformat": 4,
 "nbformat_minor": 4
}
