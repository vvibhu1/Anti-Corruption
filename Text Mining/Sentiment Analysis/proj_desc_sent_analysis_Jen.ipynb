{
 "cells": [
  {
   "cell_type": "code",
   "execution_count": 3,
   "metadata": {},
   "outputs": [],
   "source": [
    "import pandas as pd\n",
    "import matplotlib.pyplot as plt\n",
    "%matplotlib inline  \n",
    "import nltk\n",
    "from nltk import word_tokenize, sent_tokenize\n",
    "from nltk.corpus import stopwords\n",
    "from nltk.stem import LancasterStemmer, WordNetLemmatizer, PorterStemmer\n",
    "from wordcloud import WordCloud, STOPWORDS\n",
    "from textblob import TextBlob\n",
    "import seaborn as sns\n",
    "sns.set()"
   ]
  },
  {
   "cell_type": "code",
   "execution_count": 4,
   "metadata": {},
   "outputs": [],
   "source": [
    "df = pd.read_csv('USAID_Anticorruption_Projects_Database.csv')"
   ]
  },
  {
   "cell_type": "code",
   "execution_count": 5,
   "metadata": {},
   "outputs": [],
   "source": [
    "df.drop(['proj_res','rfp_rftop','final_res','mind_eval','final_eval','audit','interim_rep',\n",
    "            'addl_docs','addl_info'],axis=1,inplace=True)"
   ]
  },
  {
   "cell_type": "code",
   "execution_count": 6,
   "metadata": {},
   "outputs": [
    {
     "data": {
      "text/html": [
       "<div>\n",
       "<style scoped>\n",
       "    .dataframe tbody tr th:only-of-type {\n",
       "        vertical-align: middle;\n",
       "    }\n",
       "\n",
       "    .dataframe tbody tr th {\n",
       "        vertical-align: top;\n",
       "    }\n",
       "\n",
       "    .dataframe thead th {\n",
       "        text-align: right;\n",
       "    }\n",
       "</style>\n",
       "<table border=\"1\" class=\"dataframe\">\n",
       "  <thead>\n",
       "    <tr style=\"text-align: right;\">\n",
       "      <th></th>\n",
       "      <th>uuid</th>\n",
       "      <th>region</th>\n",
       "      <th>country</th>\n",
       "      <th>proj_nm</th>\n",
       "      <th>st_date</th>\n",
       "      <th>end_date</th>\n",
       "      <th>awd_amount</th>\n",
       "      <th>awd_value</th>\n",
       "      <th>implementer</th>\n",
       "      <th>sector</th>\n",
       "      <th>intervention</th>\n",
       "      <th>intervention_type</th>\n",
       "      <th>proj_desc</th>\n",
       "      <th>corruption</th>\n",
       "      <th>stability</th>\n",
       "    </tr>\n",
       "  </thead>\n",
       "  <tbody>\n",
       "    <tr>\n",
       "      <td>0</td>\n",
       "      <td>1</td>\n",
       "      <td>South and Central Asia (SCA)</td>\n",
       "      <td>Afghanistan</td>\n",
       "      <td>Assistance for Afghanistan's Anti-Corruption A...</td>\n",
       "      <td>2010</td>\n",
       "      <td>2013</td>\n",
       "      <td>e) $25 M-$50 M</td>\n",
       "      <td>26642989</td>\n",
       "      <td>Management Systems International (MSI)</td>\n",
       "      <td>Independent Agencies, Civil Society</td>\n",
       "      <td>Corruption Prevention, Public Awareness</td>\n",
       "      <td>Awareness, Accountability</td>\n",
       "      <td>The five components of this program seek to ta...</td>\n",
       "      <td>High Corruption</td>\n",
       "      <td>Unstable</td>\n",
       "    </tr>\n",
       "    <tr>\n",
       "      <td>1</td>\n",
       "      <td>2</td>\n",
       "      <td>South and Central Asia (SCA)</td>\n",
       "      <td>Afghanistan</td>\n",
       "      <td>Rule of Law Stabilization Program - Formal Com...</td>\n",
       "      <td>2010</td>\n",
       "      <td>2012</td>\n",
       "      <td>e) $25 M-$50 M</td>\n",
       "      <td>33700000</td>\n",
       "      <td>TetraTech ARD</td>\n",
       "      <td>Rule of Law</td>\n",
       "      <td>Court Administration, Professional Legal Educa...</td>\n",
       "      <td>Transparency, Awareness</td>\n",
       "      <td>The overall goal of the program was to support...</td>\n",
       "      <td>Very High Corruption</td>\n",
       "      <td>Very Unstable</td>\n",
       "    </tr>\n",
       "    <tr>\n",
       "      <td>2</td>\n",
       "      <td>3</td>\n",
       "      <td>South and Central Asia (SCA)</td>\n",
       "      <td>Afghanistan</td>\n",
       "      <td>Afghanistan Rule of Law Stabilization Project ...</td>\n",
       "      <td>2011</td>\n",
       "      <td>2012</td>\n",
       "      <td>c) $5 M-$10 M</td>\n",
       "      <td>10000000</td>\n",
       "      <td>Checchi and Company Consulting, Inc.</td>\n",
       "      <td>Rule of Law</td>\n",
       "      <td>Access to Justice</td>\n",
       "      <td>Awareness, Accountability</td>\n",
       "      <td>The project focused on strengthening and impro...</td>\n",
       "      <td>Very High Corruption</td>\n",
       "      <td>Very Unstable</td>\n",
       "    </tr>\n",
       "    <tr>\n",
       "      <td>3</td>\n",
       "      <td>4</td>\n",
       "      <td>South and Central Asia (SCA)</td>\n",
       "      <td>Afghanistan</td>\n",
       "      <td>Political Party Assessment</td>\n",
       "      <td>2012</td>\n",
       "      <td>2012</td>\n",
       "      <td>a) &lt;$1 M</td>\n",
       "      <td>NaN</td>\n",
       "      <td>Checchi and Company Consulting, Inc.</td>\n",
       "      <td>Elections and Political Processes</td>\n",
       "      <td>Assessment</td>\n",
       "      <td>Assessment</td>\n",
       "      <td>The Political Party Assessment team aimed to r...</td>\n",
       "      <td>Very High Corruption</td>\n",
       "      <td>Very Unstable</td>\n",
       "    </tr>\n",
       "    <tr>\n",
       "      <td>4</td>\n",
       "      <td>30</td>\n",
       "      <td>Europe and Eurasia (E&amp;E)</td>\n",
       "      <td>Albania</td>\n",
       "      <td>Justice Sector Strengthening Project (JuST)</td>\n",
       "      <td>2010</td>\n",
       "      <td>2015</td>\n",
       "      <td>c) $5 M-$10 M</td>\n",
       "      <td>9012613</td>\n",
       "      <td>Chemonics</td>\n",
       "      <td>Rule of Law, Civil Society</td>\n",
       "      <td>Legal/Institutional Strengthening/Reform, Cour...</td>\n",
       "      <td>Transparency, Accountability, Awareness</td>\n",
       "      <td>The Justice Sector Strengthening Project (JuST...</td>\n",
       "      <td>High Corruption</td>\n",
       "      <td>Unstable</td>\n",
       "    </tr>\n",
       "  </tbody>\n",
       "</table>\n",
       "</div>"
      ],
      "text/plain": [
       "   uuid                        region      country  \\\n",
       "0     1  South and Central Asia (SCA)  Afghanistan   \n",
       "1     2  South and Central Asia (SCA)  Afghanistan   \n",
       "2     3  South and Central Asia (SCA)  Afghanistan   \n",
       "3     4  South and Central Asia (SCA)  Afghanistan   \n",
       "4    30      Europe and Eurasia (E&E)      Albania   \n",
       "\n",
       "                                             proj_nm  st_date end_date  \\\n",
       "0  Assistance for Afghanistan's Anti-Corruption A...     2010     2013   \n",
       "1  Rule of Law Stabilization Program - Formal Com...     2010     2012   \n",
       "2  Afghanistan Rule of Law Stabilization Project ...     2011     2012   \n",
       "3                         Political Party Assessment     2012     2012   \n",
       "4        Justice Sector Strengthening Project (JuST)     2010     2015   \n",
       "\n",
       "       awd_amount awd_value                             implementer  \\\n",
       "0  e) $25 M-$50 M  26642989  Management Systems International (MSI)   \n",
       "1  e) $25 M-$50 M  33700000                           TetraTech ARD   \n",
       "2   c) $5 M-$10 M  10000000    Checchi and Company Consulting, Inc.   \n",
       "3        a) <$1 M       NaN    Checchi and Company Consulting, Inc.   \n",
       "4   c) $5 M-$10 M   9012613                               Chemonics   \n",
       "\n",
       "                                sector  \\\n",
       "0  Independent Agencies, Civil Society   \n",
       "1                          Rule of Law   \n",
       "2                          Rule of Law   \n",
       "3    Elections and Political Processes   \n",
       "4           Rule of Law, Civil Society   \n",
       "\n",
       "                                        intervention  \\\n",
       "0            Corruption Prevention, Public Awareness   \n",
       "1  Court Administration, Professional Legal Educa...   \n",
       "2                                  Access to Justice   \n",
       "3                                         Assessment   \n",
       "4  Legal/Institutional Strengthening/Reform, Cour...   \n",
       "\n",
       "                         intervention_type  \\\n",
       "0                Awareness, Accountability   \n",
       "1                  Transparency, Awareness   \n",
       "2                Awareness, Accountability   \n",
       "3                               Assessment   \n",
       "4  Transparency, Accountability, Awareness   \n",
       "\n",
       "                                           proj_desc            corruption  \\\n",
       "0  The five components of this program seek to ta...       High Corruption   \n",
       "1  The overall goal of the program was to support...  Very High Corruption   \n",
       "2  The project focused on strengthening and impro...  Very High Corruption   \n",
       "3  The Political Party Assessment team aimed to r...  Very High Corruption   \n",
       "4  The Justice Sector Strengthening Project (JuST...       High Corruption   \n",
       "\n",
       "       stability  \n",
       "0       Unstable  \n",
       "1  Very Unstable  \n",
       "2  Very Unstable  \n",
       "3  Very Unstable  \n",
       "4       Unstable  "
      ]
     },
     "execution_count": 6,
     "metadata": {},
     "output_type": "execute_result"
    }
   ],
   "source": [
    "df.head()"
   ]
  },
  {
   "cell_type": "code",
   "execution_count": 7,
   "metadata": {},
   "outputs": [],
   "source": [
    "#df['awd_amount'].value_counts().plot(kind='bar')"
   ]
  },
  {
   "cell_type": "markdown",
   "metadata": {},
   "source": [
    "## Data pre-processing for textual variables"
   ]
  },
  {
   "cell_type": "markdown",
   "metadata": {},
   "source": [
    "### 1. Lowercasing"
   ]
  },
  {
   "cell_type": "code",
   "execution_count": 8,
   "metadata": {},
   "outputs": [],
   "source": [
    "df['proj_desc'] = df['proj_desc'].astype(str)"
   ]
  },
  {
   "cell_type": "code",
   "execution_count": 9,
   "metadata": {},
   "outputs": [],
   "source": [
    "## Lowercase all descriptions\n",
    "df['proj_desc'] = df['proj_desc'].apply(lambda x: \" \".join(x.lower() for x in x.split()))"
   ]
  },
  {
   "cell_type": "markdown",
   "metadata": {},
   "source": [
    "### 2. Special characters"
   ]
  },
  {
   "cell_type": "code",
   "execution_count": 10,
   "metadata": {},
   "outputs": [],
   "source": [
    "## remove punctuation\n",
    "df['proj_desc'] = df['proj_desc'].str.replace('[^\\w\\s]','')"
   ]
  },
  {
   "cell_type": "markdown",
   "metadata": {},
   "source": [
    "### 3. Stopwords"
   ]
  },
  {
   "cell_type": "code",
   "execution_count": 11,
   "metadata": {},
   "outputs": [],
   "source": [
    "stop = stopwords.words('english')\n",
    "df['proj_desc'] = df['proj_desc'].apply(lambda x: \" \".join(x for x in x.split() if x not in stop))"
   ]
  },
  {
   "cell_type": "markdown",
   "metadata": {},
   "source": [
    "### 4. Stemming"
   ]
  },
  {
   "cell_type": "markdown",
   "metadata": {},
   "source": [
    "\"This will help us in text classification to deal with the curse of dimensionality but to calculate the sentiment score this process is not useful.\""
   ]
  },
  {
   "cell_type": "code",
   "execution_count": 12,
   "metadata": {},
   "outputs": [],
   "source": [
    "st = PorterStemmer()\n",
    "df['proj_desc'] = df['proj_desc'].apply(lambda x: \" \".join([st.stem(word) for word in x.split()]))"
   ]
  },
  {
   "cell_type": "markdown",
   "metadata": {},
   "source": [
    "## Sentiment Score"
   ]
  },
  {
   "cell_type": "code",
   "execution_count": 13,
   "metadata": {},
   "outputs": [],
   "source": [
    "## Define a function which can be applied to calculate the score for the whole dataset\n",
    " \n",
    "def senti(x):\n",
    "    return TextBlob(x).sentiment"
   ]
  },
  {
   "cell_type": "code",
   "execution_count": 14,
   "metadata": {},
   "outputs": [],
   "source": [
    "df['senti_score'] = df['proj_desc'].apply(senti)"
   ]
  },
  {
   "cell_type": "code",
   "execution_count": 15,
   "metadata": {},
   "outputs": [
    {
     "data": {
      "text/plain": [
       "0    (-0.05133333333333333, 0.5746666666666667)\n",
       "1                   (-0.06, 0.4666666666666667)\n",
       "2                                    (0.0, 0.0)\n",
       "3             (-0.028124999999999997, 0.421875)\n",
       "4     (0.27499999999999997, 0.3416666666666667)\n",
       "Name: senti_score, dtype: object"
      ]
     },
     "execution_count": 15,
     "metadata": {},
     "output_type": "execute_result"
    }
   ],
   "source": [
    "df.senti_score.head()"
   ]
  },
  {
   "cell_type": "markdown",
   "metadata": {},
   "source": [
    "\"As it can be observed there are two scores: the first score is sentiment polarity which tells if the sentiment is positive or negative and the second score is subjectivity score to tell how subjective is the text\". The subjectivity is a float within the range [0.0, 1.0] where 0.0 is very objective and 1.0 is very subjective."
   ]
  },
  {
   "cell_type": "code",
   "execution_count": 31,
   "metadata": {},
   "outputs": [],
   "source": [
    "df2 = df[['senti_score']]"
   ]
  },
  {
   "cell_type": "code",
   "execution_count": 17,
   "metadata": {},
   "outputs": [
    {
     "name": "stderr",
     "output_type": "stream",
     "text": [
      "C:\\ProgramData\\Anaconda3\\lib\\site-packages\\pandas\\core\\frame.py:3494: SettingWithCopyWarning: \n",
      "A value is trying to be set on a copy of a slice from a DataFrame.\n",
      "Try using .loc[row_indexer,col_indexer] = value instead\n",
      "\n",
      "See the caveats in the documentation: http://pandas.pydata.org/pandas-docs/stable/user_guide/indexing.html#returning-a-view-versus-a-copy\n",
      "  self[k1] = value[k2]\n"
     ]
    }
   ],
   "source": [
    "df2[['desc_polarity', 'desc_subjectivity']] = pd.DataFrame(df2['senti_score'].tolist()) #split senti_score to polarity and subjectivity"
   ]
  },
  {
   "cell_type": "code",
   "execution_count": 18,
   "metadata": {},
   "outputs": [
    {
     "data": {
      "text/html": [
       "<div>\n",
       "<style scoped>\n",
       "    .dataframe tbody tr th:only-of-type {\n",
       "        vertical-align: middle;\n",
       "    }\n",
       "\n",
       "    .dataframe tbody tr th {\n",
       "        vertical-align: top;\n",
       "    }\n",
       "\n",
       "    .dataframe thead th {\n",
       "        text-align: right;\n",
       "    }\n",
       "</style>\n",
       "<table border=\"1\" class=\"dataframe\">\n",
       "  <thead>\n",
       "    <tr style=\"text-align: right;\">\n",
       "      <th></th>\n",
       "      <th>uuid</th>\n",
       "      <th>proj_desc</th>\n",
       "      <th>senti_score</th>\n",
       "      <th>desc_polarity</th>\n",
       "      <th>desc_subjectivity</th>\n",
       "    </tr>\n",
       "  </thead>\n",
       "  <tbody>\n",
       "    <tr>\n",
       "      <td>0</td>\n",
       "      <td>1</td>\n",
       "      <td>five compon program seek take alreadi exist im...</td>\n",
       "      <td>(-0.05133333333333333, 0.5746666666666667)</td>\n",
       "      <td>-0.051333</td>\n",
       "      <td>0.574667</td>\n",
       "    </tr>\n",
       "    <tr>\n",
       "      <td>1</td>\n",
       "      <td>2</td>\n",
       "      <td>overal goal program support rule law strategi ...</td>\n",
       "      <td>(-0.06, 0.4666666666666667)</td>\n",
       "      <td>-0.060000</td>\n",
       "      <td>0.466667</td>\n",
       "    </tr>\n",
       "    <tr>\n",
       "      <td>2</td>\n",
       "      <td>3</td>\n",
       "      <td>project focus strengthen improv tradit disput ...</td>\n",
       "      <td>(0.0, 0.0)</td>\n",
       "      <td>0.000000</td>\n",
       "      <td>0.000000</td>\n",
       "    </tr>\n",
       "    <tr>\n",
       "      <td>3</td>\n",
       "      <td>4</td>\n",
       "      <td>polit parti assess team aim review materi prod...</td>\n",
       "      <td>(-0.028124999999999997, 0.421875)</td>\n",
       "      <td>-0.028125</td>\n",
       "      <td>0.421875</td>\n",
       "    </tr>\n",
       "    <tr>\n",
       "      <td>4</td>\n",
       "      <td>30</td>\n",
       "      <td>justic sector strengthen project promot court ...</td>\n",
       "      <td>(0.27499999999999997, 0.3416666666666667)</td>\n",
       "      <td>0.275000</td>\n",
       "      <td>0.341667</td>\n",
       "    </tr>\n",
       "  </tbody>\n",
       "</table>\n",
       "</div>"
      ],
      "text/plain": [
       "   uuid                                          proj_desc  \\\n",
       "0     1  five compon program seek take alreadi exist im...   \n",
       "1     2  overal goal program support rule law strategi ...   \n",
       "2     3  project focus strengthen improv tradit disput ...   \n",
       "3     4  polit parti assess team aim review materi prod...   \n",
       "4    30  justic sector strengthen project promot court ...   \n",
       "\n",
       "                                  senti_score  desc_polarity  \\\n",
       "0  (-0.05133333333333333, 0.5746666666666667)      -0.051333   \n",
       "1                 (-0.06, 0.4666666666666667)      -0.060000   \n",
       "2                                  (0.0, 0.0)       0.000000   \n",
       "3           (-0.028124999999999997, 0.421875)      -0.028125   \n",
       "4   (0.27499999999999997, 0.3416666666666667)       0.275000   \n",
       "\n",
       "   desc_subjectivity  \n",
       "0           0.574667  \n",
       "1           0.466667  \n",
       "2           0.000000  \n",
       "3           0.421875  \n",
       "4           0.341667  "
      ]
     },
     "execution_count": 18,
     "metadata": {},
     "output_type": "execute_result"
    }
   ],
   "source": [
    "df2.head()"
   ]
  },
  {
   "cell_type": "code",
   "execution_count": 19,
   "metadata": {},
   "outputs": [],
   "source": [
    "df3 = df2[['uuid', 'proj_desc','desc_polarity','desc_subjectivity']]"
   ]
  },
  {
   "cell_type": "code",
   "execution_count": 20,
   "metadata": {},
   "outputs": [
    {
     "data": {
      "text/html": [
       "<div>\n",
       "<style scoped>\n",
       "    .dataframe tbody tr th:only-of-type {\n",
       "        vertical-align: middle;\n",
       "    }\n",
       "\n",
       "    .dataframe tbody tr th {\n",
       "        vertical-align: top;\n",
       "    }\n",
       "\n",
       "    .dataframe thead th {\n",
       "        text-align: right;\n",
       "    }\n",
       "</style>\n",
       "<table border=\"1\" class=\"dataframe\">\n",
       "  <thead>\n",
       "    <tr style=\"text-align: right;\">\n",
       "      <th></th>\n",
       "      <th>uuid</th>\n",
       "      <th>proj_desc</th>\n",
       "      <th>desc_polarity</th>\n",
       "      <th>desc_subjectivity</th>\n",
       "    </tr>\n",
       "  </thead>\n",
       "  <tbody>\n",
       "    <tr>\n",
       "      <td>0</td>\n",
       "      <td>1</td>\n",
       "      <td>five compon program seek take alreadi exist im...</td>\n",
       "      <td>-0.051333</td>\n",
       "      <td>0.574667</td>\n",
       "    </tr>\n",
       "    <tr>\n",
       "      <td>1</td>\n",
       "      <td>2</td>\n",
       "      <td>overal goal program support rule law strategi ...</td>\n",
       "      <td>-0.060000</td>\n",
       "      <td>0.466667</td>\n",
       "    </tr>\n",
       "    <tr>\n",
       "      <td>2</td>\n",
       "      <td>3</td>\n",
       "      <td>project focus strengthen improv tradit disput ...</td>\n",
       "      <td>0.000000</td>\n",
       "      <td>0.000000</td>\n",
       "    </tr>\n",
       "    <tr>\n",
       "      <td>3</td>\n",
       "      <td>4</td>\n",
       "      <td>polit parti assess team aim review materi prod...</td>\n",
       "      <td>-0.028125</td>\n",
       "      <td>0.421875</td>\n",
       "    </tr>\n",
       "    <tr>\n",
       "      <td>4</td>\n",
       "      <td>30</td>\n",
       "      <td>justic sector strengthen project promot court ...</td>\n",
       "      <td>0.275000</td>\n",
       "      <td>0.341667</td>\n",
       "    </tr>\n",
       "  </tbody>\n",
       "</table>\n",
       "</div>"
      ],
      "text/plain": [
       "   uuid                                          proj_desc  desc_polarity  \\\n",
       "0     1  five compon program seek take alreadi exist im...      -0.051333   \n",
       "1     2  overal goal program support rule law strategi ...      -0.060000   \n",
       "2     3  project focus strengthen improv tradit disput ...       0.000000   \n",
       "3     4  polit parti assess team aim review materi prod...      -0.028125   \n",
       "4    30  justic sector strengthen project promot court ...       0.275000   \n",
       "\n",
       "   desc_subjectivity  \n",
       "0           0.574667  \n",
       "1           0.466667  \n",
       "2           0.000000  \n",
       "3           0.421875  \n",
       "4           0.341667  "
      ]
     },
     "execution_count": 20,
     "metadata": {},
     "output_type": "execute_result"
    }
   ],
   "source": [
    "df3.head()"
   ]
  },
  {
   "cell_type": "code",
   "execution_count": 21,
   "metadata": {},
   "outputs": [],
   "source": [
    "def label_polarity (row):\n",
    "   if row['desc_polarity'] > 0 :\n",
    "      return 'positive'\n",
    "   elif row['desc_polarity'] == 0:\n",
    "      return 'neutral'\n",
    "   else: \n",
    "      return 'negative'"
   ]
  },
  {
   "cell_type": "code",
   "execution_count": 22,
   "metadata": {},
   "outputs": [],
   "source": [
    "def label_subj (row):\n",
    "   if row['desc_subjectivity'] > 0.5 :\n",
    "      return 'subjective'\n",
    "   else: \n",
    "      return 'objective'"
   ]
  },
  {
   "cell_type": "code",
   "execution_count": 23,
   "metadata": {},
   "outputs": [],
   "source": [
    "df3['desc_polarity_label'] = df3.apply (lambda row: label_polarity(row), axis=1)"
   ]
  },
  {
   "cell_type": "code",
   "execution_count": 24,
   "metadata": {},
   "outputs": [],
   "source": [
    "df3['desc_subjectivity_label'] = df3.apply (lambda row: label_subj(row), axis=1)"
   ]
  },
  {
   "cell_type": "code",
   "execution_count": 25,
   "metadata": {},
   "outputs": [
    {
     "data": {
      "text/html": [
       "<div>\n",
       "<style scoped>\n",
       "    .dataframe tbody tr th:only-of-type {\n",
       "        vertical-align: middle;\n",
       "    }\n",
       "\n",
       "    .dataframe tbody tr th {\n",
       "        vertical-align: top;\n",
       "    }\n",
       "\n",
       "    .dataframe thead th {\n",
       "        text-align: right;\n",
       "    }\n",
       "</style>\n",
       "<table border=\"1\" class=\"dataframe\">\n",
       "  <thead>\n",
       "    <tr style=\"text-align: right;\">\n",
       "      <th></th>\n",
       "      <th>uuid</th>\n",
       "      <th>proj_desc</th>\n",
       "      <th>desc_polarity</th>\n",
       "      <th>desc_subjectivity</th>\n",
       "      <th>desc_polarity_label</th>\n",
       "      <th>desc_subjectivity_label</th>\n",
       "    </tr>\n",
       "  </thead>\n",
       "  <tbody>\n",
       "    <tr>\n",
       "      <td>0</td>\n",
       "      <td>1</td>\n",
       "      <td>five compon program seek take alreadi exist im...</td>\n",
       "      <td>-0.051333</td>\n",
       "      <td>0.574667</td>\n",
       "      <td>negative</td>\n",
       "      <td>subjective</td>\n",
       "    </tr>\n",
       "    <tr>\n",
       "      <td>1</td>\n",
       "      <td>2</td>\n",
       "      <td>overal goal program support rule law strategi ...</td>\n",
       "      <td>-0.060000</td>\n",
       "      <td>0.466667</td>\n",
       "      <td>negative</td>\n",
       "      <td>objective</td>\n",
       "    </tr>\n",
       "    <tr>\n",
       "      <td>2</td>\n",
       "      <td>3</td>\n",
       "      <td>project focus strengthen improv tradit disput ...</td>\n",
       "      <td>0.000000</td>\n",
       "      <td>0.000000</td>\n",
       "      <td>neutral</td>\n",
       "      <td>objective</td>\n",
       "    </tr>\n",
       "    <tr>\n",
       "      <td>3</td>\n",
       "      <td>4</td>\n",
       "      <td>polit parti assess team aim review materi prod...</td>\n",
       "      <td>-0.028125</td>\n",
       "      <td>0.421875</td>\n",
       "      <td>negative</td>\n",
       "      <td>objective</td>\n",
       "    </tr>\n",
       "    <tr>\n",
       "      <td>4</td>\n",
       "      <td>30</td>\n",
       "      <td>justic sector strengthen project promot court ...</td>\n",
       "      <td>0.275000</td>\n",
       "      <td>0.341667</td>\n",
       "      <td>positive</td>\n",
       "      <td>objective</td>\n",
       "    </tr>\n",
       "  </tbody>\n",
       "</table>\n",
       "</div>"
      ],
      "text/plain": [
       "   uuid                                          proj_desc  desc_polarity  \\\n",
       "0     1  five compon program seek take alreadi exist im...      -0.051333   \n",
       "1     2  overal goal program support rule law strategi ...      -0.060000   \n",
       "2     3  project focus strengthen improv tradit disput ...       0.000000   \n",
       "3     4  polit parti assess team aim review materi prod...      -0.028125   \n",
       "4    30  justic sector strengthen project promot court ...       0.275000   \n",
       "\n",
       "   desc_subjectivity desc_polarity_label desc_subjectivity_label  \n",
       "0           0.574667            negative              subjective  \n",
       "1           0.466667            negative               objective  \n",
       "2           0.000000             neutral               objective  \n",
       "3           0.421875            negative               objective  \n",
       "4           0.341667            positive               objective  "
      ]
     },
     "execution_count": 25,
     "metadata": {},
     "output_type": "execute_result"
    }
   ],
   "source": [
    "df3.head()"
   ]
  },
  {
   "cell_type": "code",
   "execution_count": 26,
   "metadata": {},
   "outputs": [],
   "source": [
    "df3.to_csv('proj_desc_sentiment_Jen1.csv') #export to csv"
   ]
  },
  {
   "cell_type": "code",
   "execution_count": 27,
   "metadata": {},
   "outputs": [
    {
     "data": {
      "text/plain": [
       "Text(0.5, 1.0, 'Distribution of sentiment polarity score - proj_desc')"
      ]
     },
     "execution_count": 27,
     "metadata": {},
     "output_type": "execute_result"
    },
    {
     "data": {
      "image/png": "[encoded data removed]",
      "text/plain": [
       "<Figure size 432x288 with 1 Axes>"
      ]
     },
     "metadata": {},
     "output_type": "display_data"
    }
   ],
   "source": [
    "plot = df3['desc_polarity_label'].value_counts().plot(kind='bar')\n",
    "plt.ylabel('number of projects', fontsize = 15)\n",
    "plot.set_xticklabels(plot.get_xticklabels(), rotation=45, horizontalalignment='right')\n",
    "plt.title('Distribution of sentiment polarity score - proj_desc', fontsize = 15)"
   ]
  },
  {
   "cell_type": "code",
   "execution_count": 28,
   "metadata": {},
   "outputs": [
    {
     "data": {
      "text/plain": [
       "Text(0.5, 1.0, 'Distribution of sentiment subjectivity score - proj_desc')"
      ]
     },
     "execution_count": 28,
     "metadata": {},
     "output_type": "execute_result"
    },
    {
     "data": {
      "image/png": "[encoded data removed]",
      "text/plain": [
       "<Figure size 432x288 with 1 Axes>"
      ]
     },
     "metadata": {},
     "output_type": "display_data"
    }
   ],
   "source": [
    "plot = df3['desc_subjectivity_label'].value_counts().plot(kind='bar')\n",
    "plt.ylabel('number of projects', fontsize = 15)\n",
    "plot.set_xticklabels(plot.get_xticklabels(), rotation=45, horizontalalignment='right')\n",
    "plt.title('Distribution of sentiment subjectivity score - proj_desc', fontsize = 15)"
   ]
  },
  {
   "cell_type": "code",
   "execution_count": 29,
   "metadata": {},
   "outputs": [
    {
     "data": {
      "text/plain": [
       "Text(0.5, 1.0, 'Distribution of sentiment polarity score - proj_desc')"
      ]
     },
     "execution_count": 29,
     "metadata": {},
     "output_type": "execute_result"
    },
    {
     "data": {
      "image/png": "[encoded data removed]",
      "text/plain": [
       "<Figure size 432x288 with 1 Axes>"
      ]
     },
     "metadata": {},
     "output_type": "display_data"
    }
   ],
   "source": [
    "df3['desc_polarity'].hist() #distribution of polarity scores\n",
    "plt.ylabel('number of projects', fontsize = 15)\n",
    "plt.title('Distribution of sentiment polarity score - proj_desc', fontsize = 15)"
   ]
  },
  {
   "cell_type": "code",
   "execution_count": 30,
   "metadata": {},
   "outputs": [
    {
     "data": {
      "text/plain": [
       "Text(0.5, 1.0, 'Distribution of sentiment subjectivity score - proj_desc')"
      ]
     },
     "execution_count": 30,
     "metadata": {},
     "output_type": "execute_result"
    },
    {
     "data": {
      "image/png": "[encoded data removed]",
      "text/plain": [
       "<Figure size 432x288 with 1 Axes>"
      ]
     },
     "metadata": {},
     "output_type": "display_data"
    }
   ],
   "source": [
    "df3['desc_subjectivity'].hist() #distribution of subjectivity scores\n",
    "plt.ylabel('number of projects', fontsize = 15)\n",
    "plt.title('Distribution of sentiment subjectivity score - proj_desc', fontsize = 15)"
   ]
  },
  {
   "cell_type": "code",
   "execution_count": null,
   "metadata": {},
   "outputs": [],
   "source": []
  }
 ],
 "metadata": {
  "kernelspec": {
   "display_name": "Python 3",
   "language": "python",
   "name": "python3"
  },
  "language_info": {
   "codemirror_mode": {
    "name": "ipython",
    "version": 3
   },
   "file_extension": ".py",
   "mimetype": "text/x-python",
   "name": "python",
   "nbconvert_exporter": "python",
   "pygments_lexer": "ipython3",
   "version": "3.7.4"
  }
 },
 "nbformat": 4,
 "nbformat_minor": 2
}
