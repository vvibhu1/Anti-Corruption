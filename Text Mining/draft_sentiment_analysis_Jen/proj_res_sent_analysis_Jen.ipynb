{
 "cells": [
  {
   "cell_type": "code",
   "execution_count": 54,
   "metadata": {},
   "outputs": [],
   "source": [
    "import pandas as pd\n",
    "import matplotlib.pyplot as plt\n",
    "%matplotlib inline  \n",
    "import nltk\n",
    "from nltk import word_tokenize, sent_tokenize\n",
    "from nltk.corpus import stopwords\n",
    "from nltk.stem import LancasterStemmer, WordNetLemmatizer, PorterStemmer\n",
    "from wordcloud import WordCloud, STOPWORDS\n",
    "from textblob import TextBlob\n",
    "import seaborn as sns\n",
    "sns.set()"
   ]
  },
  {
   "cell_type": "code",
   "execution_count": 55,
   "metadata": {},
   "outputs": [],
   "source": [
    "df = pd.read_csv('USAID_Anticorruption_Projects_Database.csv')"
   ]
  },
  {
   "cell_type": "code",
   "execution_count": 56,
   "metadata": {},
   "outputs": [
    {
     "data": {
      "text/html": [
       "<div>\n",
       "<style scoped>\n",
       "    .dataframe tbody tr th:only-of-type {\n",
       "        vertical-align: middle;\n",
       "    }\n",
       "\n",
       "    .dataframe tbody tr th {\n",
       "        vertical-align: top;\n",
       "    }\n",
       "\n",
       "    .dataframe thead th {\n",
       "        text-align: right;\n",
       "    }\n",
       "</style>\n",
       "<table border=\"1\" class=\"dataframe\">\n",
       "  <thead>\n",
       "    <tr style=\"text-align: right;\">\n",
       "      <th></th>\n",
       "      <th>uuid</th>\n",
       "      <th>region</th>\n",
       "      <th>country</th>\n",
       "      <th>proj_nm</th>\n",
       "      <th>st_date</th>\n",
       "      <th>end_date</th>\n",
       "      <th>awd_amount</th>\n",
       "      <th>awd_value</th>\n",
       "      <th>implementer</th>\n",
       "      <th>sector</th>\n",
       "      <th>...</th>\n",
       "      <th>rfp_rftop</th>\n",
       "      <th>final_res</th>\n",
       "      <th>mind_eval</th>\n",
       "      <th>final_eval</th>\n",
       "      <th>audit</th>\n",
       "      <th>interim_rep</th>\n",
       "      <th>addl_docs</th>\n",
       "      <th>addl_info</th>\n",
       "      <th>corruption</th>\n",
       "      <th>stability</th>\n",
       "    </tr>\n",
       "  </thead>\n",
       "  <tbody>\n",
       "    <tr>\n",
       "      <td>0</td>\n",
       "      <td>1</td>\n",
       "      <td>South and Central Asia (SCA)</td>\n",
       "      <td>Afghanistan</td>\n",
       "      <td>Assistance for Afghanistan's Anti-Corruption A...</td>\n",
       "      <td>2010</td>\n",
       "      <td>2013</td>\n",
       "      <td>e) $25 M-$50 M</td>\n",
       "      <td>26642989</td>\n",
       "      <td>Management Systems International (MSI)</td>\n",
       "      <td>Independent Agencies, Civil Society</td>\n",
       "      <td>...</td>\n",
       "      <td>NaN</td>\n",
       "      <td>http://pdf.usaid.gov/pdf_docs/PA00JP3T.pdf</td>\n",
       "      <td>NaN</td>\n",
       "      <td>NaN</td>\n",
       "      <td>NaN</td>\n",
       "      <td>NaN</td>\n",
       "      <td>http://www.msiworldwide.com/project/supporting...</td>\n",
       "      <td>NaN</td>\n",
       "      <td>High Corruption</td>\n",
       "      <td>Unstable</td>\n",
       "    </tr>\n",
       "    <tr>\n",
       "      <td>1</td>\n",
       "      <td>2</td>\n",
       "      <td>South and Central Asia (SCA)</td>\n",
       "      <td>Afghanistan</td>\n",
       "      <td>Rule of Law Stabilization Program - Formal Com...</td>\n",
       "      <td>2010</td>\n",
       "      <td>2012</td>\n",
       "      <td>e) $25 M-$50 M</td>\n",
       "      <td>33700000</td>\n",
       "      <td>TetraTech ARD</td>\n",
       "      <td>Rule of Law</td>\n",
       "      <td>...</td>\n",
       "      <td>NaN</td>\n",
       "      <td>NaN</td>\n",
       "      <td>NaN</td>\n",
       "      <td>http://pdf.usaid.gov/pdf_docs/PDACU496.pdf</td>\n",
       "      <td>NaN</td>\n",
       "      <td>NaN</td>\n",
       "      <td>NaN</td>\n",
       "      <td>NaN</td>\n",
       "      <td>Very High Corruption</td>\n",
       "      <td>Very Unstable</td>\n",
       "    </tr>\n",
       "    <tr>\n",
       "      <td>2</td>\n",
       "      <td>3</td>\n",
       "      <td>South and Central Asia (SCA)</td>\n",
       "      <td>Afghanistan</td>\n",
       "      <td>Afghanistan Rule of Law Stabilization Project ...</td>\n",
       "      <td>2011</td>\n",
       "      <td>2012</td>\n",
       "      <td>c) $5 M-$10 M</td>\n",
       "      <td>10000000</td>\n",
       "      <td>Checchi and Company Consulting, Inc.</td>\n",
       "      <td>Rule of Law</td>\n",
       "      <td>...</td>\n",
       "      <td>NaN</td>\n",
       "      <td>http://pdf.usaid.gov/pdf_docs/PDACY340.pdf</td>\n",
       "      <td>NaN</td>\n",
       "      <td>http://pdf.usaid.gov/pdf_docs/PDACW029.pdf</td>\n",
       "      <td>NaN</td>\n",
       "      <td>NaN</td>\n",
       "      <td>http://www.checchiconsulting.com/index.php?opt...</td>\n",
       "      <td>NaN</td>\n",
       "      <td>Very High Corruption</td>\n",
       "      <td>Very Unstable</td>\n",
       "    </tr>\n",
       "    <tr>\n",
       "      <td>3</td>\n",
       "      <td>4</td>\n",
       "      <td>South and Central Asia (SCA)</td>\n",
       "      <td>Afghanistan</td>\n",
       "      <td>Political Party Assessment</td>\n",
       "      <td>2012</td>\n",
       "      <td>2012</td>\n",
       "      <td>a) &lt;$1 M</td>\n",
       "      <td>NaN</td>\n",
       "      <td>Checchi and Company Consulting, Inc.</td>\n",
       "      <td>Elections and Political Processes</td>\n",
       "      <td>...</td>\n",
       "      <td>NaN</td>\n",
       "      <td>http://pdf.usaid.gov/pdf_docs/PNADZ833.pdf</td>\n",
       "      <td>NaN</td>\n",
       "      <td>NaN</td>\n",
       "      <td>NaN</td>\n",
       "      <td>NaN</td>\n",
       "      <td>NaN</td>\n",
       "      <td>NaN</td>\n",
       "      <td>Very High Corruption</td>\n",
       "      <td>Very Unstable</td>\n",
       "    </tr>\n",
       "    <tr>\n",
       "      <td>4</td>\n",
       "      <td>30</td>\n",
       "      <td>Europe and Eurasia (E&amp;E)</td>\n",
       "      <td>Albania</td>\n",
       "      <td>Justice Sector Strengthening Project (JuST)</td>\n",
       "      <td>2010</td>\n",
       "      <td>2015</td>\n",
       "      <td>c) $5 M-$10 M</td>\n",
       "      <td>9012613</td>\n",
       "      <td>Chemonics</td>\n",
       "      <td>Rule of Law, Civil Society</td>\n",
       "      <td>...</td>\n",
       "      <td>https://www.fbo.gov/index?s=opportunity&amp;mode=f...</td>\n",
       "      <td>NaN</td>\n",
       "      <td>NaN</td>\n",
       "      <td>NaN</td>\n",
       "      <td>NaN</td>\n",
       "      <td>http://pdf.usaid.gov/pdf_docs/PA00HWM1.pdf</td>\n",
       "      <td>NaN</td>\n",
       "      <td>NaN</td>\n",
       "      <td>High Corruption</td>\n",
       "      <td>Unstable</td>\n",
       "    </tr>\n",
       "  </tbody>\n",
       "</table>\n",
       "<p>5 rows × 24 columns</p>\n",
       "</div>"
      ],
      "text/plain": [
       "   uuid                        region      country  \\\n",
       "0     1  South and Central Asia (SCA)  Afghanistan   \n",
       "1     2  South and Central Asia (SCA)  Afghanistan   \n",
       "2     3  South and Central Asia (SCA)  Afghanistan   \n",
       "3     4  South and Central Asia (SCA)  Afghanistan   \n",
       "4    30      Europe and Eurasia (E&E)      Albania   \n",
       "\n",
       "                                             proj_nm  st_date end_date  \\\n",
       "0  Assistance for Afghanistan's Anti-Corruption A...     2010     2013   \n",
       "1  Rule of Law Stabilization Program - Formal Com...     2010     2012   \n",
       "2  Afghanistan Rule of Law Stabilization Project ...     2011     2012   \n",
       "3                         Political Party Assessment     2012     2012   \n",
       "4        Justice Sector Strengthening Project (JuST)     2010     2015   \n",
       "\n",
       "       awd_amount awd_value                             implementer  \\\n",
       "0  e) $25 M-$50 M  26642989  Management Systems International (MSI)   \n",
       "1  e) $25 M-$50 M  33700000                           TetraTech ARD   \n",
       "2   c) $5 M-$10 M  10000000    Checchi and Company Consulting, Inc.   \n",
       "3        a) <$1 M       NaN    Checchi and Company Consulting, Inc.   \n",
       "4   c) $5 M-$10 M   9012613                               Chemonics   \n",
       "\n",
       "                                sector  ...  \\\n",
       "0  Independent Agencies, Civil Society  ...   \n",
       "1                          Rule of Law  ...   \n",
       "2                          Rule of Law  ...   \n",
       "3    Elections and Political Processes  ...   \n",
       "4           Rule of Law, Civil Society  ...   \n",
       "\n",
       "                                           rfp_rftop  \\\n",
       "0                                                NaN   \n",
       "1                                                NaN   \n",
       "2                                                NaN   \n",
       "3                                                NaN   \n",
       "4  https://www.fbo.gov/index?s=opportunity&mode=f...   \n",
       "\n",
       "                                    final_res mind_eval  \\\n",
       "0  http://pdf.usaid.gov/pdf_docs/PA00JP3T.pdf       NaN   \n",
       "1                                         NaN       NaN   \n",
       "2  http://pdf.usaid.gov/pdf_docs/PDACY340.pdf       NaN   \n",
       "3  http://pdf.usaid.gov/pdf_docs/PNADZ833.pdf       NaN   \n",
       "4                                         NaN       NaN   \n",
       "\n",
       "                                   final_eval audit  \\\n",
       "0                                         NaN   NaN   \n",
       "1  http://pdf.usaid.gov/pdf_docs/PDACU496.pdf   NaN   \n",
       "2  http://pdf.usaid.gov/pdf_docs/PDACW029.pdf   NaN   \n",
       "3                                         NaN   NaN   \n",
       "4                                         NaN   NaN   \n",
       "\n",
       "                                  interim_rep  \\\n",
       "0                                         NaN   \n",
       "1                                         NaN   \n",
       "2                                         NaN   \n",
       "3                                         NaN   \n",
       "4  http://pdf.usaid.gov/pdf_docs/PA00HWM1.pdf   \n",
       "\n",
       "                                           addl_docs addl_info  \\\n",
       "0  http://www.msiworldwide.com/project/supporting...       NaN   \n",
       "1                                                NaN       NaN   \n",
       "2  http://www.checchiconsulting.com/index.php?opt...       NaN   \n",
       "3                                                NaN       NaN   \n",
       "4                                                NaN       NaN   \n",
       "\n",
       "             corruption      stability  \n",
       "0       High Corruption       Unstable  \n",
       "1  Very High Corruption  Very Unstable  \n",
       "2  Very High Corruption  Very Unstable  \n",
       "3  Very High Corruption  Very Unstable  \n",
       "4       High Corruption       Unstable  \n",
       "\n",
       "[5 rows x 24 columns]"
      ]
     },
     "execution_count": 56,
     "metadata": {},
     "output_type": "execute_result"
    }
   ],
   "source": [
    "df.head()"
   ]
  },
  {
   "cell_type": "markdown",
   "metadata": {},
   "source": [
    "## Data pre-processing for textual variables"
   ]
  },
  {
   "cell_type": "markdown",
   "metadata": {},
   "source": [
    "### 1. Lowercasing"
   ]
  },
  {
   "cell_type": "code",
   "execution_count": 57,
   "metadata": {},
   "outputs": [],
   "source": [
    "df['proj_res'] = df['proj_res'].astype(str)"
   ]
  },
  {
   "cell_type": "code",
   "execution_count": 58,
   "metadata": {},
   "outputs": [],
   "source": [
    "## Lowercase all descriptions\n",
    "df['proj_res'] = df['proj_res'].apply(lambda x: \" \".join(x.lower() for x in x.split()))"
   ]
  },
  {
   "cell_type": "markdown",
   "metadata": {},
   "source": [
    "### 2. Special characters"
   ]
  },
  {
   "cell_type": "code",
   "execution_count": 59,
   "metadata": {},
   "outputs": [],
   "source": [
    "## remove punctuation\n",
    "df['proj_res'] = df['proj_res'].str.replace('[^\\w\\s]','')"
   ]
  },
  {
   "cell_type": "markdown",
   "metadata": {},
   "source": [
    "### 3. Stopwords"
   ]
  },
  {
   "cell_type": "code",
   "execution_count": 60,
   "metadata": {},
   "outputs": [],
   "source": [
    "stop = stopwords.words('english')\n",
    "df['proj_res'] = df['proj_res'].apply(lambda x: \" \".join(x for x in x.split() if x not in stop))"
   ]
  },
  {
   "cell_type": "markdown",
   "metadata": {},
   "source": [
    "### 4. Stemming"
   ]
  },
  {
   "cell_type": "markdown",
   "metadata": {},
   "source": [
    "\"This will help us in text classification to deal with the curse of dimensionality but to calculate the sentiment score this process is not useful.\""
   ]
  },
  {
   "cell_type": "code",
   "execution_count": 61,
   "metadata": {},
   "outputs": [],
   "source": [
    "st = PorterStemmer()\n",
    "df['proj_res'] = df['proj_res'].apply(lambda x: \" \".join([st.stem(word) for word in x.split()]))"
   ]
  },
  {
   "cell_type": "markdown",
   "metadata": {},
   "source": [
    "## Sentiment Score"
   ]
  },
  {
   "cell_type": "code",
   "execution_count": 62,
   "metadata": {},
   "outputs": [],
   "source": [
    "## Define a function which can be applied to calculate the score for the whole dataset\n",
    " \n",
    "def senti(x):\n",
    "    return TextBlob(x).sentiment"
   ]
  },
  {
   "cell_type": "code",
   "execution_count": 63,
   "metadata": {},
   "outputs": [],
   "source": [
    "df['senti_score'] = df['proj_res'].apply(senti)"
   ]
  },
  {
   "cell_type": "code",
   "execution_count": 64,
   "metadata": {},
   "outputs": [
    {
     "data": {
      "text/plain": [
       "0                     (0.43, 0.5700000000000001)\n",
       "1    (0.009090909090909094, 0.48863636363636365)\n",
       "2                                     (0.0, 0.0)\n",
       "3       (0.3888888888888889, 0.6388888888888888)\n",
       "4     (0.11000000000000001, 0.33999999999999997)\n",
       "Name: senti_score, dtype: object"
      ]
     },
     "execution_count": 64,
     "metadata": {},
     "output_type": "execute_result"
    }
   ],
   "source": [
    "df.senti_score.head()"
   ]
  },
  {
   "cell_type": "markdown",
   "metadata": {},
   "source": [
    "\"As it can be observed there are two scores: the first score is sentiment polarity which tells if the sentiment is positive or negative and the second score is subjectivity score to tell how subjective is the text\". The subjectivity is a float within the range [0.0, 1.0] where 0.0 is very objective and 1.0 is very subjective."
   ]
  },
  {
   "cell_type": "code",
   "execution_count": 65,
   "metadata": {},
   "outputs": [],
   "source": [
    "df2 = df[['uuid','proj_res', 'senti_score']]"
   ]
  },
  {
   "cell_type": "code",
   "execution_count": 66,
   "metadata": {},
   "outputs": [],
   "source": [
    "df2[['res_polarity', 'res_subjectivity']] = pd.DataFrame(df2['senti_score'].tolist()) #split senti_score to polarity and subjectivity"
   ]
  },
  {
   "cell_type": "code",
   "execution_count": 67,
   "metadata": {},
   "outputs": [
    {
     "data": {
      "text/html": [
       "<div>\n",
       "<style scoped>\n",
       "    .dataframe tbody tr th:only-of-type {\n",
       "        vertical-align: middle;\n",
       "    }\n",
       "\n",
       "    .dataframe tbody tr th {\n",
       "        vertical-align: top;\n",
       "    }\n",
       "\n",
       "    .dataframe thead th {\n",
       "        text-align: right;\n",
       "    }\n",
       "</style>\n",
       "<table border=\"1\" class=\"dataframe\">\n",
       "  <thead>\n",
       "    <tr style=\"text-align: right;\">\n",
       "      <th></th>\n",
       "      <th>uuid</th>\n",
       "      <th>proj_res</th>\n",
       "      <th>senti_score</th>\n",
       "      <th>res_polarity</th>\n",
       "      <th>res_subjectivity</th>\n",
       "    </tr>\n",
       "  </thead>\n",
       "  <tbody>\n",
       "    <tr>\n",
       "      <td>0</td>\n",
       "      <td>1</td>\n",
       "      <td>program develop work relationship high offic o...</td>\n",
       "      <td>(0.43, 0.5700000000000001)</td>\n",
       "      <td>0.430000</td>\n",
       "      <td>0.570000</td>\n",
       "    </tr>\n",
       "    <tr>\n",
       "      <td>1</td>\n",
       "      <td>2</td>\n",
       "      <td>project set legal educ train judg help modern ...</td>\n",
       "      <td>(0.009090909090909094, 0.48863636363636365)</td>\n",
       "      <td>0.009091</td>\n",
       "      <td>0.488636</td>\n",
       "    </tr>\n",
       "    <tr>\n",
       "      <td>2</td>\n",
       "      <td>3</td>\n",
       "      <td>project reach 37583 particip phase 1 project a...</td>\n",
       "      <td>(0.0, 0.0)</td>\n",
       "      <td>0.000000</td>\n",
       "      <td>0.000000</td>\n",
       "    </tr>\n",
       "    <tr>\n",
       "      <td>3</td>\n",
       "      <td>4</td>\n",
       "      <td>assess team found develop polit organ whether ...</td>\n",
       "      <td>(0.3888888888888889, 0.6388888888888888)</td>\n",
       "      <td>0.388889</td>\n",
       "      <td>0.638889</td>\n",
       "    </tr>\n",
       "    <tr>\n",
       "      <td>4</td>\n",
       "      <td>30</td>\n",
       "      <td>septemb 30 2012 project instal digit record eq...</td>\n",
       "      <td>(0.11000000000000001, 0.33999999999999997)</td>\n",
       "      <td>0.110000</td>\n",
       "      <td>0.340000</td>\n",
       "    </tr>\n",
       "  </tbody>\n",
       "</table>\n",
       "</div>"
      ],
      "text/plain": [
       "   uuid                                           proj_res  \\\n",
       "0     1  program develop work relationship high offic o...   \n",
       "1     2  project set legal educ train judg help modern ...   \n",
       "2     3  project reach 37583 particip phase 1 project a...   \n",
       "3     4  assess team found develop polit organ whether ...   \n",
       "4    30  septemb 30 2012 project instal digit record eq...   \n",
       "\n",
       "                                   senti_score  res_polarity  res_subjectivity  \n",
       "0                   (0.43, 0.5700000000000001)      0.430000          0.570000  \n",
       "1  (0.009090909090909094, 0.48863636363636365)      0.009091          0.488636  \n",
       "2                                   (0.0, 0.0)      0.000000          0.000000  \n",
       "3     (0.3888888888888889, 0.6388888888888888)      0.388889          0.638889  \n",
       "4   (0.11000000000000001, 0.33999999999999997)      0.110000          0.340000  "
      ]
     },
     "execution_count": 67,
     "metadata": {},
     "output_type": "execute_result"
    }
   ],
   "source": [
    "df2.head()"
   ]
  },
  {
   "cell_type": "code",
   "execution_count": 68,
   "metadata": {},
   "outputs": [],
   "source": [
    "df3 = df2[['uuid', 'proj_res','res_polarity','res_subjectivity']]"
   ]
  },
  {
   "cell_type": "code",
   "execution_count": 69,
   "metadata": {},
   "outputs": [
    {
     "data": {
      "text/html": [
       "<div>\n",
       "<style scoped>\n",
       "    .dataframe tbody tr th:only-of-type {\n",
       "        vertical-align: middle;\n",
       "    }\n",
       "\n",
       "    .dataframe tbody tr th {\n",
       "        vertical-align: top;\n",
       "    }\n",
       "\n",
       "    .dataframe thead th {\n",
       "        text-align: right;\n",
       "    }\n",
       "</style>\n",
       "<table border=\"1\" class=\"dataframe\">\n",
       "  <thead>\n",
       "    <tr style=\"text-align: right;\">\n",
       "      <th></th>\n",
       "      <th>uuid</th>\n",
       "      <th>proj_res</th>\n",
       "      <th>res_polarity</th>\n",
       "      <th>res_subjectivity</th>\n",
       "    </tr>\n",
       "  </thead>\n",
       "  <tbody>\n",
       "    <tr>\n",
       "      <td>0</td>\n",
       "      <td>1</td>\n",
       "      <td>program develop work relationship high offic o...</td>\n",
       "      <td>0.430000</td>\n",
       "      <td>0.570000</td>\n",
       "    </tr>\n",
       "    <tr>\n",
       "      <td>1</td>\n",
       "      <td>2</td>\n",
       "      <td>project set legal educ train judg help modern ...</td>\n",
       "      <td>0.009091</td>\n",
       "      <td>0.488636</td>\n",
       "    </tr>\n",
       "    <tr>\n",
       "      <td>2</td>\n",
       "      <td>3</td>\n",
       "      <td>project reach 37583 particip phase 1 project a...</td>\n",
       "      <td>0.000000</td>\n",
       "      <td>0.000000</td>\n",
       "    </tr>\n",
       "    <tr>\n",
       "      <td>3</td>\n",
       "      <td>4</td>\n",
       "      <td>assess team found develop polit organ whether ...</td>\n",
       "      <td>0.388889</td>\n",
       "      <td>0.638889</td>\n",
       "    </tr>\n",
       "    <tr>\n",
       "      <td>4</td>\n",
       "      <td>30</td>\n",
       "      <td>septemb 30 2012 project instal digit record eq...</td>\n",
       "      <td>0.110000</td>\n",
       "      <td>0.340000</td>\n",
       "    </tr>\n",
       "  </tbody>\n",
       "</table>\n",
       "</div>"
      ],
      "text/plain": [
       "   uuid                                           proj_res  res_polarity  \\\n",
       "0     1  program develop work relationship high offic o...      0.430000   \n",
       "1     2  project set legal educ train judg help modern ...      0.009091   \n",
       "2     3  project reach 37583 particip phase 1 project a...      0.000000   \n",
       "3     4  assess team found develop polit organ whether ...      0.388889   \n",
       "4    30  septemb 30 2012 project instal digit record eq...      0.110000   \n",
       "\n",
       "   res_subjectivity  \n",
       "0          0.570000  \n",
       "1          0.488636  \n",
       "2          0.000000  \n",
       "3          0.638889  \n",
       "4          0.340000  "
      ]
     },
     "execution_count": 69,
     "metadata": {},
     "output_type": "execute_result"
    }
   ],
   "source": [
    "df3.head()"
   ]
  },
  {
   "cell_type": "code",
   "execution_count": 70,
   "metadata": {},
   "outputs": [],
   "source": [
    "def label_polarity (row):\n",
    "   if row['res_polarity'] > 0 :\n",
    "      return 'positive'\n",
    "   elif row['res_polarity'] == 0:\n",
    "      return 'neutral'\n",
    "   else: \n",
    "      return 'negative'"
   ]
  },
  {
   "cell_type": "code",
   "execution_count": 71,
   "metadata": {},
   "outputs": [],
   "source": [
    "def label_subj (row):\n",
    "   if row['res_subjectivity'] > 0.5 :\n",
    "      return 'subjective'\n",
    "   else: \n",
    "      return 'objective'"
   ]
  },
  {
   "cell_type": "code",
   "execution_count": 72,
   "metadata": {},
   "outputs": [],
   "source": [
    "df3['res_polarity_label'] = df3.apply(lambda row: label_polarity(row), axis=1)"
   ]
  },
  {
   "cell_type": "code",
   "execution_count": 73,
   "metadata": {},
   "outputs": [],
   "source": [
    "df3['res_subjectivity_label'] = df3.apply (lambda row: label_subj(row), axis=1)"
   ]
  },
  {
   "cell_type": "code",
   "execution_count": 74,
   "metadata": {},
   "outputs": [
    {
     "data": {
      "text/html": [
       "<div>\n",
       "<style scoped>\n",
       "    .dataframe tbody tr th:only-of-type {\n",
       "        vertical-align: middle;\n",
       "    }\n",
       "\n",
       "    .dataframe tbody tr th {\n",
       "        vertical-align: top;\n",
       "    }\n",
       "\n",
       "    .dataframe thead th {\n",
       "        text-align: right;\n",
       "    }\n",
       "</style>\n",
       "<table border=\"1\" class=\"dataframe\">\n",
       "  <thead>\n",
       "    <tr style=\"text-align: right;\">\n",
       "      <th></th>\n",
       "      <th>uuid</th>\n",
       "      <th>proj_res</th>\n",
       "      <th>res_polarity</th>\n",
       "      <th>res_subjectivity</th>\n",
       "      <th>res_polarity_label</th>\n",
       "      <th>res_subjectivity_label</th>\n",
       "    </tr>\n",
       "  </thead>\n",
       "  <tbody>\n",
       "    <tr>\n",
       "      <td>0</td>\n",
       "      <td>1</td>\n",
       "      <td>program develop work relationship high offic o...</td>\n",
       "      <td>0.430000</td>\n",
       "      <td>0.570000</td>\n",
       "      <td>positive</td>\n",
       "      <td>subjective</td>\n",
       "    </tr>\n",
       "    <tr>\n",
       "      <td>1</td>\n",
       "      <td>2</td>\n",
       "      <td>project set legal educ train judg help modern ...</td>\n",
       "      <td>0.009091</td>\n",
       "      <td>0.488636</td>\n",
       "      <td>positive</td>\n",
       "      <td>objective</td>\n",
       "    </tr>\n",
       "    <tr>\n",
       "      <td>2</td>\n",
       "      <td>3</td>\n",
       "      <td>project reach 37583 particip phase 1 project a...</td>\n",
       "      <td>0.000000</td>\n",
       "      <td>0.000000</td>\n",
       "      <td>neutral</td>\n",
       "      <td>objective</td>\n",
       "    </tr>\n",
       "    <tr>\n",
       "      <td>3</td>\n",
       "      <td>4</td>\n",
       "      <td>assess team found develop polit organ whether ...</td>\n",
       "      <td>0.388889</td>\n",
       "      <td>0.638889</td>\n",
       "      <td>positive</td>\n",
       "      <td>subjective</td>\n",
       "    </tr>\n",
       "    <tr>\n",
       "      <td>4</td>\n",
       "      <td>30</td>\n",
       "      <td>septemb 30 2012 project instal digit record eq...</td>\n",
       "      <td>0.110000</td>\n",
       "      <td>0.340000</td>\n",
       "      <td>positive</td>\n",
       "      <td>objective</td>\n",
       "    </tr>\n",
       "  </tbody>\n",
       "</table>\n",
       "</div>"
      ],
      "text/plain": [
       "   uuid                                           proj_res  res_polarity  \\\n",
       "0     1  program develop work relationship high offic o...      0.430000   \n",
       "1     2  project set legal educ train judg help modern ...      0.009091   \n",
       "2     3  project reach 37583 particip phase 1 project a...      0.000000   \n",
       "3     4  assess team found develop polit organ whether ...      0.388889   \n",
       "4    30  septemb 30 2012 project instal digit record eq...      0.110000   \n",
       "\n",
       "   res_subjectivity res_polarity_label res_subjectivity_label  \n",
       "0          0.570000           positive             subjective  \n",
       "1          0.488636           positive              objective  \n",
       "2          0.000000            neutral              objective  \n",
       "3          0.638889           positive             subjective  \n",
       "4          0.340000           positive              objective  "
      ]
     },
     "execution_count": 74,
     "metadata": {},
     "output_type": "execute_result"
    }
   ],
   "source": [
    "df3.head()"
   ]
  },
  {
   "cell_type": "code",
   "execution_count": 75,
   "metadata": {},
   "outputs": [],
   "source": [
    "df3.to_csv('proj_res_sentiment_Jen1.csv') #export to csv"
   ]
  },
  {
   "cell_type": "code",
   "execution_count": 76,
   "metadata": {},
   "outputs": [
    {
     "data": {
      "text/plain": [
       "Text(0.5, 1.0, 'Distribution of sentiment polarity score - proj_res')"
      ]
     },
     "execution_count": 76,
     "metadata": {},
     "output_type": "execute_result"
    },
    {
     "data": {
      "image/png": "[encoded data removed]",
      "text/plain": [
       "<Figure size 432x288 with 1 Axes>"
      ]
     },
     "metadata": {},
     "output_type": "display_data"
    }
   ],
   "source": [
    "plot = df3['res_polarity_label'].value_counts().plot(kind='bar')\n",
    "plt.ylabel('number of projects', fontsize = 15)\n",
    "plot.set_xticklabels(plot.get_xticklabels(), rotation=45, horizontalalignment='right')\n",
    "plt.title('Distribution of sentiment polarity score - proj_res', fontsize = 15)"
   ]
  },
  {
   "cell_type": "code",
   "execution_count": 77,
   "metadata": {},
   "outputs": [
    {
     "data": {
      "text/plain": [
       "Text(0.5, 1.0, 'Distribution of sentiment subjectivity score - proj_res')"
      ]
     },
     "execution_count": 77,
     "metadata": {},
     "output_type": "execute_result"
    },
    {
     "data": {
      "image/png": "[encoded data removed]",
      "text/plain": [
       "<Figure size 432x288 with 1 Axes>"
      ]
     },
     "metadata": {},
     "output_type": "display_data"
    }
   ],
   "source": [
    "plot = df3['res_subjectivity_label'].value_counts().plot(kind='bar')\n",
    "plt.ylabel('number of projects', fontsize = 15)\n",
    "plot.set_xticklabels(plot.get_xticklabels(), rotation=45, horizontalalignment='right')\n",
    "plt.title('Distribution of sentiment subjectivity score - proj_res', fontsize = 15)"
   ]
  },
  {
   "cell_type": "code",
   "execution_count": 78,
   "metadata": {},
   "outputs": [
    {
     "data": {
      "text/plain": [
       "Text(0.5, 1.0, 'Distribution of sentiment polarity score - proj_res')"
      ]
     },
     "execution_count": 78,
     "metadata": {},
     "output_type": "execute_result"
    },
    {
     "data": {
      "image/png": "[encoded data removed]",
      "text/plain": [
       "<Figure size 432x288 with 1 Axes>"
      ]
     },
     "metadata": {},
     "output_type": "display_data"
    }
   ],
   "source": [
    "df3['res_polarity'].hist() #distribution of polarity scores\n",
    "plt.ylabel('number of projects', fontsize = 15)\n",
    "plt.title('Distribution of sentiment polarity score - proj_res', fontsize = 15)"
   ]
  },
  {
   "cell_type": "code",
   "execution_count": 79,
   "metadata": {},
   "outputs": [
    {
     "data": {
      "text/plain": [
       "Text(0.5, 1.0, 'Distribution of sentiment polarity score - proj_res')"
      ]
     },
     "execution_count": 79,
     "metadata": {},
     "output_type": "execute_result"
    },
    {
     "data": {
      "image/png": "[encoded data removed]",
      "text/plain": [
       "<Figure size 432x288 with 1 Axes>"
      ]
     },
     "metadata": {},
     "output_type": "display_data"
    }
   ],
   "source": [
    "df3['res_subjectivity'].hist() #distribution of subjectivity scores\n",
    "plt.ylabel('number of projects', fontsize = 15)\n",
    "plt.title('Distribution of sentiment polarity score - proj_res', fontsize = 15)"
   ]
  },
  {
   "cell_type": "code",
   "execution_count": null,
   "metadata": {},
   "outputs": [],
   "source": []
  }
 ],
 "metadata": {
  "kernelspec": {
   "display_name": "Python 3",
   "language": "python",
   "name": "python3"
  },
  "language_info": {
   "codemirror_mode": {
    "name": "ipython",
    "version": 3
   },
   "file_extension": ".py",
   "mimetype": "text/x-python",
   "name": "python",
   "nbconvert_exporter": "python",
   "pygments_lexer": "ipython3",
   "version": "3.7.4"
  }
 },
 "nbformat": 4,
 "nbformat_minor": 2
}
