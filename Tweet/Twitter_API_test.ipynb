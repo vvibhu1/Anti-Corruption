{
 "cells": [
  {
   "cell_type": "code",
   "execution_count": 18,
   "metadata": {},
   "outputs": [],
   "source": [
    "#!pip install tweepy"
   ]
  },
  {
   "cell_type": "code",
   "execution_count": 9,
   "metadata": {},
   "outputs": [],
   "source": [
    "import tweepy\n",
    "import time\n",
    "import pandas as pd"
   ]
  },
  {
   "cell_type": "code",
   "execution_count": 10,
   "metadata": {},
   "outputs": [],
   "source": [
    "consumer_key = \"iJ6ZCsAi8h828KTkfFfiKImEq\"\n",
    "consumer_secret = \"x6vy2hqMOv2JoVCvhpmHhcYJe5edW0DMPBiPIU2Y6wyGAc8vu0\"\n",
    "access_token = \"1323886625080909826-9SPNh2q5Cr9MfDBvNwX4tG19AdNsmX\"\n",
    "access_token_secret = \"9juA7uz3anwbq7mobsXrvOiX4tWVTglmzTz8IF3Z6G9Fs\"\n",
    "auth = tweepy.OAuthHandler(consumer_key, consumer_secret)\n",
    "auth.set_access_token(access_token, access_token_secret)\n",
    "api = tweepy.API(auth,wait_on_rate_limit=True)"
   ]
  },
  {
   "cell_type": "code",
   "execution_count": 15,
   "metadata": {},
   "outputs": [],
   "source": [
    "text_query = 'corruption'\n",
    "count = 150\n",
    "try:\n",
    " # Creation of query method using parameters\n",
    "    tweets = tweepy.Cursor(api.search,q=text_query).items(count)\n",
    " \n",
    " # Pulling information from tweets iterable object\n",
    "    tweets_list = [[tweet.created_at, tweet.id, tweet.text] for tweet in tweets]\n",
    " \n",
    " # Creation of dataframe from tweets list\n",
    " # Add or remove columns as you remove tweet information\n",
    "    tweets_df = pd.DataFrame(tweets_list)\n",
    " \n",
    "except BaseException as e:\n",
    "    print('failed on_status,',str(e))\n",
    "    time.sleep(3)"
   ]
  },
  {
   "cell_type": "code",
   "execution_count": 16,
   "metadata": {},
   "outputs": [
    {
     "data": {
      "text/html": [
       "<div>\n",
       "<style scoped>\n",
       "    .dataframe tbody tr th:only-of-type {\n",
       "        vertical-align: middle;\n",
       "    }\n",
       "\n",
       "    .dataframe tbody tr th {\n",
       "        vertical-align: top;\n",
       "    }\n",
       "\n",
       "    .dataframe thead th {\n",
       "        text-align: right;\n",
       "    }\n",
       "</style>\n",
       "<table border=\"1\" class=\"dataframe\">\n",
       "  <thead>\n",
       "    <tr style=\"text-align: right;\">\n",
       "      <th></th>\n",
       "      <th>0</th>\n",
       "      <th>1</th>\n",
       "      <th>2</th>\n",
       "    </tr>\n",
       "  </thead>\n",
       "  <tbody>\n",
       "    <tr>\n",
       "      <th>0</th>\n",
       "      <td>2020-11-04 07:42:16</td>\n",
       "      <td>1323893308528103424</td>\n",
       "      <td>RT @vinay1011: All the three parties that are ...</td>\n",
       "    </tr>\n",
       "    <tr>\n",
       "      <th>1</th>\n",
       "      <td>2020-11-04 07:42:15</td>\n",
       "      <td>1323893306477129728</td>\n",
       "      <td>The level of internal corruption Trump is usin...</td>\n",
       "    </tr>\n",
       "    <tr>\n",
       "      <th>2</th>\n",
       "      <td>2020-11-04 07:42:14</td>\n",
       "      <td>1323893300030369794</td>\n",
       "      <td>RT @FrozenArctic: It really shouldn't be this ...</td>\n",
       "    </tr>\n",
       "    <tr>\n",
       "      <th>3</th>\n",
       "      <td>2020-11-04 07:42:14</td>\n",
       "      <td>1323893299917324290</td>\n",
       "      <td>@kirstiealley @realDonaldTrump If everyone wan...</td>\n",
       "    </tr>\n",
       "    <tr>\n",
       "      <th>4</th>\n",
       "      <td>2020-11-04 07:42:12</td>\n",
       "      <td>1323893293038620672</td>\n",
       "      <td>RT @PointBlanc999: @Dev_Fadnavis Why are these...</td>\n",
       "    </tr>\n",
       "    <tr>\n",
       "      <th>...</th>\n",
       "      <td>...</td>\n",
       "      <td>...</td>\n",
       "      <td>...</td>\n",
       "    </tr>\n",
       "    <tr>\n",
       "      <th>145</th>\n",
       "      <td>2020-11-04 07:40:26</td>\n",
       "      <td>1323892849365020672</td>\n",
       "      <td>RT @MichaelJStern1: Whatever happens, I will n...</td>\n",
       "    </tr>\n",
       "    <tr>\n",
       "      <th>146</th>\n",
       "      <td>2020-11-04 07:40:25</td>\n",
       "      <td>1323892846332620802</td>\n",
       "      <td>@TeamTrump @realDonaldTrump Wow, the corruptio...</td>\n",
       "    </tr>\n",
       "    <tr>\n",
       "      <th>147</th>\n",
       "      <td>2020-11-04 07:40:25</td>\n",
       "      <td>1323892844772397056</td>\n",
       "      <td>RT @MichaelJStern1: Whatever happens, I will n...</td>\n",
       "    </tr>\n",
       "    <tr>\n",
       "      <th>148</th>\n",
       "      <td>2020-11-04 07:40:25</td>\n",
       "      <td>1323892843866320896</td>\n",
       "      <td>RT @MohdUmair00786: My dear biharis,You people...</td>\n",
       "    </tr>\n",
       "    <tr>\n",
       "      <th>149</th>\n",
       "      <td>2020-11-04 07:40:24</td>\n",
       "      <td>1323892839051190272</td>\n",
       "      <td>RT @SDiaso: Only what's keeping the present da...</td>\n",
       "    </tr>\n",
       "  </tbody>\n",
       "</table>\n",
       "<p>150 rows × 3 columns</p>\n",
       "</div>"
      ],
      "text/plain": [
       "                      0                    1  \\\n",
       "0   2020-11-04 07:42:16  1323893308528103424   \n",
       "1   2020-11-04 07:42:15  1323893306477129728   \n",
       "2   2020-11-04 07:42:14  1323893300030369794   \n",
       "3   2020-11-04 07:42:14  1323893299917324290   \n",
       "4   2020-11-04 07:42:12  1323893293038620672   \n",
       "..                  ...                  ...   \n",
       "145 2020-11-04 07:40:26  1323892849365020672   \n",
       "146 2020-11-04 07:40:25  1323892846332620802   \n",
       "147 2020-11-04 07:40:25  1323892844772397056   \n",
       "148 2020-11-04 07:40:25  1323892843866320896   \n",
       "149 2020-11-04 07:40:24  1323892839051190272   \n",
       "\n",
       "                                                     2  \n",
       "0    RT @vinay1011: All the three parties that are ...  \n",
       "1    The level of internal corruption Trump is usin...  \n",
       "2    RT @FrozenArctic: It really shouldn't be this ...  \n",
       "3    @kirstiealley @realDonaldTrump If everyone wan...  \n",
       "4    RT @PointBlanc999: @Dev_Fadnavis Why are these...  \n",
       "..                                                 ...  \n",
       "145  RT @MichaelJStern1: Whatever happens, I will n...  \n",
       "146  @TeamTrump @realDonaldTrump Wow, the corruptio...  \n",
       "147  RT @MichaelJStern1: Whatever happens, I will n...  \n",
       "148  RT @MohdUmair00786: My dear biharis,You people...  \n",
       "149  RT @SDiaso: Only what's keeping the present da...  \n",
       "\n",
       "[150 rows x 3 columns]"
      ]
     },
     "execution_count": 16,
     "metadata": {},
     "output_type": "execute_result"
    }
   ],
   "source": [
    "tweets_df"
   ]
  },
  {
   "cell_type": "code",
   "execution_count": 17,
   "metadata": {},
   "outputs": [],
   "source": [
    "tweets_df.to_csv('tweet1.csv')"
   ]
  },
  {
   "cell_type": "code",
   "execution_count": null,
   "metadata": {},
   "outputs": [],
   "source": []
  }
 ],
 "metadata": {
  "kernelspec": {
   "display_name": "Python 3",
   "language": "python",
   "name": "python3"
  },
  "language_info": {
   "codemirror_mode": {
    "name": "ipython",
    "version": 3
   },
   "file_extension": ".py",
   "mimetype": "text/x-python",
   "name": "python",
   "nbconvert_exporter": "python",
   "pygments_lexer": "ipython3",
   "version": "3.7.7"
  }
 },
 "nbformat": 4,
 "nbformat_minor": 4
}
