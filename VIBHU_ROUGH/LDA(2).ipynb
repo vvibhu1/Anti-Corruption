{
 "cells": [
  {
   "cell_type": "code",
   "execution_count": 1,
   "metadata": {},
   "outputs": [],
   "source": [
    "# LDA with n-grams"
   ]
  },
  {
   "cell_type": "code",
   "execution_count": 2,
   "metadata": {},
   "outputs": [],
   "source": [
    "import re\n",
    "import numpy as np\n",
    "import pandas as pd\n",
    "from pprint import pprint\n",
    "\n",
    "# Gensim\n",
    "import gensim\n",
    "import gensim.corpora as corpora\n",
    "from gensim.utils import simple_preprocess\n",
    "from gensim.models import CoherenceModel\n",
    "\n",
    "# spacy for lemmatization\n",
    "import spacy\n",
    "import nltk\n",
    "\n",
    "# Plotting tools\n",
    "import pyLDAvis\n",
    "import pyLDAvis.gensim  # don't skip this\n",
    "import matplotlib.pyplot as plt\n",
    "%matplotlib inline\n",
    "\n",
    "# Enable logging for gensim - optional\n",
    "import logging\n",
    "logging.basicConfig(format='%(asctime)s : %(levelname)s : %(message)s', level=logging.ERROR)\n",
    "\n",
    "import warnings\n",
    "warnings.filterwarnings(\"ignore\",category=DeprecationWarning)"
   ]
  },
  {
   "cell_type": "code",
   "execution_count": 3,
   "metadata": {},
   "outputs": [],
   "source": [
    "# NLTK Stop words\n",
    "from nltk.corpus import stopwords\n",
    "stop_words = stopwords.words('english')\n",
    "#stop_words.extend(['list of words if needed'])"
   ]
  },
  {
   "cell_type": "code",
   "execution_count": 4,
   "metadata": {},
   "outputs": [],
   "source": [
    "df = pd.read_csv('/Users/vibhuverma/Desktop/CLASSWORK/BUSINESS PRACTICUM/Anti-Corruption/Data Provided/USAID_Project_Data/USAID_Anticorruption_Projects_Database.csv')"
   ]
  },
  {
   "cell_type": "code",
   "execution_count": 5,
   "metadata": {},
   "outputs": [],
   "source": [
    "df.drop(['proj_res','rfp_rftop','final_res','mind_eval','final_eval','audit','interim_rep','addl_docs','addl_info'],axis=1,inplace=True)"
   ]
  },
  {
   "cell_type": "code",
   "execution_count": 6,
   "metadata": {},
   "outputs": [
    {
     "data": {
      "text/html": [
       "<div>\n",
       "<style scoped>\n",
       "    .dataframe tbody tr th:only-of-type {\n",
       "        vertical-align: middle;\n",
       "    }\n",
       "\n",
       "    .dataframe tbody tr th {\n",
       "        vertical-align: top;\n",
       "    }\n",
       "\n",
       "    .dataframe thead th {\n",
       "        text-align: right;\n",
       "    }\n",
       "</style>\n",
       "<table border=\"1\" class=\"dataframe\">\n",
       "  <thead>\n",
       "    <tr style=\"text-align: right;\">\n",
       "      <th></th>\n",
       "      <th>proj_desc</th>\n",
       "    </tr>\n",
       "  </thead>\n",
       "  <tbody>\n",
       "    <tr>\n",
       "      <th>0</th>\n",
       "      <td>The five components of this program seek to ta...</td>\n",
       "    </tr>\n",
       "    <tr>\n",
       "      <th>1</th>\n",
       "      <td>The overall goal of the program was to support...</td>\n",
       "    </tr>\n",
       "    <tr>\n",
       "      <th>2</th>\n",
       "      <td>The project focused on strengthening and impro...</td>\n",
       "    </tr>\n",
       "    <tr>\n",
       "      <th>3</th>\n",
       "      <td>The Political Party Assessment team aimed to r...</td>\n",
       "    </tr>\n",
       "    <tr>\n",
       "      <th>4</th>\n",
       "      <td>The Justice Sector Strengthening Project (JuST...</td>\n",
       "    </tr>\n",
       "    <tr>\n",
       "      <th>...</th>\n",
       "      <td>...</td>\n",
       "    </tr>\n",
       "    <tr>\n",
       "      <th>310</th>\n",
       "      <td>The Yemen Responsive Governance Project (RGP) ...</td>\n",
       "    </tr>\n",
       "    <tr>\n",
       "      <th>311</th>\n",
       "      <td>The Enhancing Government Effectiveness (EGE) i...</td>\n",
       "    </tr>\n",
       "    <tr>\n",
       "      <th>312</th>\n",
       "      <td>The  Basic Health Services (BHS) project was d...</td>\n",
       "    </tr>\n",
       "    <tr>\n",
       "      <th>313</th>\n",
       "      <td>The program was designed to reduce administrat...</td>\n",
       "    </tr>\n",
       "    <tr>\n",
       "      <th>314</th>\n",
       "      <td>The Zambia Institutional Reform Program contri...</td>\n",
       "    </tr>\n",
       "  </tbody>\n",
       "</table>\n",
       "<p>315 rows × 1 columns</p>\n",
       "</div>"
      ],
      "text/plain": [
       "                                             proj_desc\n",
       "0    The five components of this program seek to ta...\n",
       "1    The overall goal of the program was to support...\n",
       "2    The project focused on strengthening and impro...\n",
       "3    The Political Party Assessment team aimed to r...\n",
       "4    The Justice Sector Strengthening Project (JuST...\n",
       "..                                                 ...\n",
       "310  The Yemen Responsive Governance Project (RGP) ...\n",
       "311  The Enhancing Government Effectiveness (EGE) i...\n",
       "312  The  Basic Health Services (BHS) project was d...\n",
       "313  The program was designed to reduce administrat...\n",
       "314  The Zambia Institutional Reform Program contri...\n",
       "\n",
       "[315 rows x 1 columns]"
      ]
     },
     "execution_count": 6,
     "metadata": {},
     "output_type": "execute_result"
    }
   ],
   "source": [
    "df= df[['proj_desc']]\n",
    "df\n"
   ]
  },
  {
   "cell_type": "code",
   "execution_count": 7,
   "metadata": {},
   "outputs": [
    {
     "name": "stdout",
     "output_type": "stream",
     "text": [
      "['The five components of this program seek to take what already exists and '\n",
      " 'improve upon it, implement it and find ways to ensure that the progress '\n",
      " 'achieved is sustainable over the long term. The project will help the '\n",
      " 'government of the Islamic Republic of Afghanistan strengthen its High Office '\n",
      " 'of Oversight (HOO) - making it a strong, effective institution that is able '\n",
      " 'to lead, monitor, coordinate and report on efforts to combat corruption '\n",
      " 'across the country. The project will work and implement a program of '\n",
      " 'institutional development and sustainability. It will also support the '\n",
      " 'office in carrying out its priority responsibilities in asset registration '\n",
      " 'and verification, complaints management and case tracking, and coordination '\n",
      " 'and monitoring of anticorruption performance across other government '\n",
      " 'agencies.']\n"
     ]
    }
   ],
   "source": [
    "# Convert to list\n",
    "data = df.proj_desc.values.tolist()\n",
    "\n",
    "# Remove Emails\n",
    "data = [re.sub('\\S*@\\S*\\s?', '', sent) for sent in data]\n",
    "\n",
    "# Remove new line characters\n",
    "data = [re.sub('\\s+', ' ', sent) for sent in data]\n",
    "\n",
    "# Remove distracting single quotes\n",
    "data = [re.sub(\"\\'\", \"\", sent) for sent in data]\n",
    "\n",
    "pprint(data[:1])"
   ]
  },
  {
   "cell_type": "code",
   "execution_count": 8,
   "metadata": {},
   "outputs": [
    {
     "name": "stdout",
     "output_type": "stream",
     "text": [
      "[['the', 'five', 'components', 'of', 'this', 'program', 'seek', 'to', 'take', 'what', 'already', 'exists', 'and', 'improve', 'upon', 'it', 'implement', 'it', 'and', 'find', 'ways', 'to', 'ensure', 'that', 'the', 'progress', 'achieved', 'is', 'sustainable', 'over', 'the', 'long', 'term', 'the', 'project', 'will', 'help', 'the', 'government', 'of', 'the', 'islamic', 'republic', 'of', 'afghanistan', 'strengthen', 'its', 'high', 'office', 'of', 'oversight', 'hoo', 'making', 'it', 'strong', 'effective', 'institution', 'that', 'is', 'able', 'to', 'lead', 'monitor', 'coordinate', 'and', 'report', 'on', 'efforts', 'to', 'combat', 'corruption', 'across', 'the', 'country', 'the', 'project', 'will', 'work', 'and', 'implement', 'program', 'of', 'institutional', 'development', 'and', 'sustainability', 'it', 'will', 'also', 'support', 'the', 'office', 'in', 'carrying', 'out', 'its', 'priority', 'in', 'asset', 'registration', 'and', 'verification', 'complaints', 'management', 'and', 'case', 'tracking', 'and', 'coordination', 'and', 'monitoring', 'of', 'anticorruption', 'performance', 'across', 'other', 'government', 'agencies']]\n"
     ]
    }
   ],
   "source": [
    "def sent_to_words(sentences):\n",
    "    for sentence in sentences:\n",
    "        yield(gensim.utils.simple_preprocess(str(sentence), deacc=True))  # deacc=True removes punctuations\n",
    "\n",
    "data_words = list(sent_to_words(data))\n",
    "\n",
    "print(data_words[:1])"
   ]
  },
  {
   "cell_type": "code",
   "execution_count": 9,
   "metadata": {},
   "outputs": [
    {
     "name": "stdout",
     "output_type": "stream",
     "text": [
      "['the', 'five', 'components', 'of', 'this', 'program', 'seek', 'to', 'take', 'what', 'already', 'exists', 'and', 'improve', 'upon', 'it', 'implement', 'it', 'and', 'find', 'ways', 'to', 'ensure', 'that', 'the', 'progress', 'achieved', 'is', 'sustainable', 'over', 'the', 'long_term', 'the', 'project', 'will', 'help', 'the', 'government', 'of', 'the', 'islamic_republic', 'of', 'afghanistan', 'strengthen', 'its', 'high', 'office', 'of', 'oversight', 'hoo', 'making', 'it', 'strong', 'effective', 'institution', 'that', 'is', 'able', 'to', 'lead', 'monitor', 'coordinate', 'and', 'report', 'on', 'efforts', 'to', 'combat', 'corruption', 'across', 'the', 'country', 'the', 'project', 'will', 'work', 'and', 'implement', 'program', 'of', 'institutional', 'development', 'and', 'sustainability', 'it', 'will', 'also', 'support', 'the', 'office', 'in', 'carrying', 'out', 'its', 'priority', 'in', 'asset', 'registration', 'and', 'verification', 'complaints', 'management', 'and', 'case', 'tracking', 'and', 'coordination', 'and', 'monitoring', 'of', 'anticorruption', 'performance', 'across', 'other', 'government', 'agencies']\n"
     ]
    }
   ],
   "source": [
    "# Build the bigram and trigram models\n",
    "bigram = gensim.models.Phrases(data_words, min_count=5, threshold=100) # higher threshold fewer phrases.\n",
    "trigram = gensim.models.Phrases(bigram[data_words], threshold=100)  \n",
    "\n",
    "# Faster way to get a sentence clubbed as a trigram/bigram\n",
    "bigram_mod = gensim.models.phrases.Phraser(bigram)\n",
    "trigram_mod = gensim.models.phrases.Phraser(trigram)\n",
    "\n",
    "# See trigram example\n",
    "print(trigram_mod[bigram_mod[data_words[0]]])"
   ]
  },
  {
   "cell_type": "code",
   "execution_count": 10,
   "metadata": {},
   "outputs": [
    {
     "name": "stdout",
     "output_type": "stream",
     "text": [
      "[['component', 'program', 'seek', 'take', 'already', 'exist', 'improve', 'implement', 'find', 'way', 'ensure', 'progress', 'achieve', 'sustainable', 'project', 'help', 'government', 'islamic_republic', 'strengthen', 'high', 'office', 'oversight', 'hoo', 'make', 'strong', 'effective', 'institution', 'able', 'lead', 'monitor', 'coordinate', 'report', 'effort', 'combat', 'corruption', 'country', 'project', 'work', 'implement', 'program', 'institutional', 'development', 'sustainability', 'also', 'support', 'office', 'carry', 'priority', 'asset', 'registration', 'verification', 'complaint', 'management', 'case', 'track', 'coordination', 'monitor', 'anticorruption', 'performance', 'government', 'agency']]\n"
     ]
    }
   ],
   "source": [
    "# Define functions for stopwords, bigrams, trigrams and lemmatization\n",
    "def remove_stopwords(texts):\n",
    "    return [[word for word in simple_preprocess(str(doc)) if word not in stop_words] for doc in texts]\n",
    "\n",
    "def make_bigrams(texts):\n",
    "    return [bigram_mod[doc] for doc in texts]\n",
    "\n",
    "def make_trigrams(texts):\n",
    "    return [trigram_mod[bigram_mod[doc]] for doc in texts]\n",
    "\n",
    "def lemmatization(texts, allowed_postags=['NOUN', 'ADJ', 'VERB', 'ADV']):\n",
    "    \"\"\"https://spacy.io/api/annotation\"\"\"\n",
    "    texts_out = []\n",
    "    for sent in texts:\n",
    "        doc = nlp(\" \".join(sent)) \n",
    "        texts_out.append([token.lemma_ for token in doc if token.pos_ in allowed_postags])\n",
    "    return texts_out\n",
    "\n",
    "\n",
    "\n",
    "\n",
    "# Remove Stop Words\n",
    "data_words_nostops = remove_stopwords(data_words)\n",
    "\n",
    "# Form Bigrams\n",
    "data_words_bigrams = make_bigrams(data_words_nostops)\n",
    "\n",
    "# Initialize spacy 'en' model, keeping only tagger component (for efficiency)\n",
    "# python3 -m spacy download en\n",
    "nlp = spacy.load('en', disable=['parser', 'ner'])\n",
    "\n",
    "# Do lemmatization keeping only noun, adj, vb, adv\n",
    "data_lemmatized = lemmatization(data_words_bigrams, allowed_postags=['NOUN', 'ADJ', 'VERB', 'ADV'])\n",
    "\n",
    "print(data_lemmatized[:1])"
   ]
  },
  {
   "cell_type": "code",
   "execution_count": 11,
   "metadata": {},
   "outputs": [
    {
     "name": "stdout",
     "output_type": "stream",
     "text": [
      "[[(0, 1), (1, 1), (2, 1), (3, 1), (4, 1), (5, 1), (6, 1), (7, 1), (8, 1), (9, 1), (10, 1), (11, 1), (12, 1), (13, 1), (14, 1), (15, 1), (16, 1), (17, 1), (18, 1), (19, 1), (20, 1), (21, 1), (22, 2), (23, 1), (24, 1), (25, 1), (26, 2), (27, 1), (28, 1), (29, 1), (30, 1), (31, 1), (32, 1), (33, 1), (34, 2), (35, 2), (36, 1), (37, 1), (38, 1), (39, 2), (40, 1), (41, 2), (42, 1), (43, 1), (44, 1), (45, 1), (46, 1), (47, 1), (48, 1), (49, 1), (50, 1), (51, 1), (52, 1), (53, 1), (54, 1)]]\n"
     ]
    }
   ],
   "source": [
    "# Create Dictionary\n",
    "id2word = corpora.Dictionary(data_lemmatized)\n",
    "\n",
    "# Create Corpus\n",
    "texts = data_lemmatized\n",
    "\n",
    "# Term Document Frequency\n",
    "corpus = [id2word.doc2bow(text) for text in texts]\n",
    "\n",
    "# View\n",
    "print(corpus[:1])"
   ]
  },
  {
   "cell_type": "code",
   "execution_count": 12,
   "metadata": {},
   "outputs": [
    {
     "data": {
      "text/plain": [
       "'able'"
      ]
     },
     "execution_count": 12,
     "metadata": {},
     "output_type": "execute_result"
    }
   ],
   "source": [
    "id2word[0]"
   ]
  },
  {
   "cell_type": "code",
   "execution_count": 13,
   "metadata": {},
   "outputs": [
    {
     "data": {
      "text/plain": [
       "[[('able', 1),\n",
       "  ('achieve', 1),\n",
       "  ('agency', 1),\n",
       "  ('already', 1),\n",
       "  ('also', 1),\n",
       "  ('anticorruption', 1),\n",
       "  ('asset', 1),\n",
       "  ('carry', 1),\n",
       "  ('case', 1),\n",
       "  ('combat', 1),\n",
       "  ('complaint', 1),\n",
       "  ('component', 1),\n",
       "  ('coordinate', 1),\n",
       "  ('coordination', 1),\n",
       "  ('corruption', 1),\n",
       "  ('country', 1),\n",
       "  ('development', 1),\n",
       "  ('effective', 1),\n",
       "  ('effort', 1),\n",
       "  ('ensure', 1),\n",
       "  ('exist', 1),\n",
       "  ('find', 1),\n",
       "  ('government', 2),\n",
       "  ('help', 1),\n",
       "  ('high', 1),\n",
       "  ('hoo', 1),\n",
       "  ('implement', 2),\n",
       "  ('improve', 1),\n",
       "  ('institution', 1),\n",
       "  ('institutional', 1),\n",
       "  ('islamic_republic', 1),\n",
       "  ('lead', 1),\n",
       "  ('make', 1),\n",
       "  ('management', 1),\n",
       "  ('monitor', 2),\n",
       "  ('office', 2),\n",
       "  ('oversight', 1),\n",
       "  ('performance', 1),\n",
       "  ('priority', 1),\n",
       "  ('program', 2),\n",
       "  ('progress', 1),\n",
       "  ('project', 2),\n",
       "  ('registration', 1),\n",
       "  ('report', 1),\n",
       "  ('seek', 1),\n",
       "  ('strengthen', 1),\n",
       "  ('strong', 1),\n",
       "  ('support', 1),\n",
       "  ('sustainability', 1),\n",
       "  ('sustainable', 1),\n",
       "  ('take', 1),\n",
       "  ('track', 1),\n",
       "  ('verification', 1),\n",
       "  ('way', 1),\n",
       "  ('work', 1)]]"
      ]
     },
     "execution_count": 13,
     "metadata": {},
     "output_type": "execute_result"
    }
   ],
   "source": [
    "# Human readable format of corpus (term-frequency)\n",
    "[[(id2word[id], freq) for id, freq in cp] for cp in corpus[:1]]"
   ]
  },
  {
   "cell_type": "code",
   "execution_count": 24,
   "metadata": {},
   "outputs": [],
   "source": [
    "# Build LDA model - base\n",
    "lda_model = gensim.models.ldamodel.LdaModel(corpus=corpus,\n",
    "                                           id2word=id2word,\n",
    "                                           num_topics=14, \n",
    "                                           random_state=100,\n",
    "                                           update_every=1,\n",
    "                                           chunksize=100,\n",
    "                                           passes=10,\n",
    "                                           alpha='auto',\n",
    "                                           per_word_topics=True)"
   ]
  },
  {
   "cell_type": "code",
   "execution_count": 25,
   "metadata": {},
   "outputs": [
    {
     "name": "stdout",
     "output_type": "stream",
     "text": [
      "[(0,\n",
      "  '0.050*\"government\" + 0.049*\"local\" + 0.041*\"service\" + 0.031*\"increase\" + '\n",
      "  '0.030*\"level\" + 0.030*\"public\" + 0.028*\"improve\" + 0.025*\"participation\" + '\n",
      "  '0.025*\"governance\" + 0.024*\"citizen\"'),\n",
      " (1,\n",
      "  '0.141*\"legal\" + 0.054*\"education\" + 0.044*\"reform\" + 0.037*\"respect\" + '\n",
      "  '0.035*\"law\" + 0.032*\"professional\" + 0.027*\"palestinian\" + '\n",
      "  '0.021*\"promotion\" + 0.019*\"bar\" + 0.019*\"citizen\"'),\n",
      " (2,\n",
      "  '0.057*\"palestinian\" + 0.057*\"health\" + 0.048*\"project\" + 0.028*\"improve\" + '\n",
      "  '0.023*\"sector\" + 0.022*\"service\" + 0.022*\"support\" + 0.020*\"objective\" + '\n",
      "  '0.020*\"provide\" + 0.019*\"quality\"'),\n",
      " (3,\n",
      "  '0.078*\"loan\" + 0.078*\"disbursement\" + 0.058*\"development\" + '\n",
      "  '0.051*\"multilateral\" + 0.051*\"goy\" + 0.051*\"financial\" + 0.028*\"externally\" '\n",
      "  '+ 0.027*\"bhs\" + 0.027*\"maternal\" + 0.026*\"evaluation\"'),\n",
      " (4,\n",
      "  '0.040*\"civic\" + 0.033*\"service_delivery\" + 0.030*\"dialogue\" + '\n",
      "  '0.030*\"finance\" + 0.028*\"election\" + 0.026*\"fund\" + 0.024*\"manner\" + '\n",
      "  '0.019*\"education\" + 0.019*\"reform\" + 0.017*\"conduct\"'),\n",
      " (5,\n",
      "  '0.054*\"woman\" + 0.044*\"csos\" + 0.041*\"advocate\" + 0.033*\"association\" + '\n",
      "  '0.029*\"advocacy\" + 0.028*\"fair\" + 0.027*\"grant\" + 0.026*\"commercial\" + '\n",
      "  '0.024*\"status\" + 0.024*\"bring\"'),\n",
      " (6,\n",
      "  '0.064*\"contribution\" + 0.013*\"stabilization\" + 0.013*\"achievement\" + '\n",
      "  '0.010*\"managerial\" + 0.003*\"oversee\" + 0.003*\"goc\" + 0.003*\"royalty\" + '\n",
      "  '0.001*\"accordance\" + 0.000*\"write\" + 0.000*\"enjoy\"'),\n",
      " (7,\n",
      "  '0.068*\"local\" + 0.046*\"capacity\" + 0.043*\"governance\" + 0.037*\"program\" + '\n",
      "  '0.037*\"democratic\" + 0.033*\"government\" + 0.031*\"build\" + 0.031*\"enhance\" + '\n",
      "  '0.026*\"need\" + 0.021*\"overall\"'),\n",
      " (8,\n",
      "  '0.036*\"political\" + 0.033*\"party\" + 0.024*\"youth\" + 0.015*\"put\" + '\n",
      "  '0.014*\"examine\" + 0.014*\"decentralize\" + 0.013*\"assessment\" + '\n",
      "  '0.013*\"programming\" + 0.013*\"trust\" + 0.013*\"place\"'),\n",
      " (9,\n",
      "  '0.044*\"project\" + 0.026*\"strengthen\" + 0.026*\"corruption\" + '\n",
      "  '0.023*\"capacity\" + 0.018*\"improve\" + 0.018*\"program\" + 0.018*\"support\" + '\n",
      "  '0.017*\"work\" + 0.016*\"government\" + 0.015*\"develop\"'),\n",
      " (10,\n",
      "  '0.049*\"infrastructure\" + 0.036*\"program\" + 0.033*\"construction\" + '\n",
      "  '0.025*\"term\" + 0.022*\"robust\" + 0.022*\"aim\" + 0.021*\"deliver\" + '\n",
      "  '0.021*\"opportunity\" + 0.018*\"practice\" + 0.017*\"community\"'),\n",
      " (11,\n",
      "  '0.073*\"justice\" + 0.053*\"law\" + 0.050*\"public\" + 0.041*\"sector\" + '\n",
      "  '0.040*\"judicial\" + 0.037*\"system\" + 0.036*\"increase\" + 0.030*\"court\" + '\n",
      "  '0.026*\"rule\" + 0.025*\"strengthen\"'),\n",
      " (12,\n",
      "  '0.033*\"improve\" + 0.033*\"reform\" + 0.033*\"policy\" + 0.030*\"program\" + '\n",
      "  '0.026*\"increase\" + 0.024*\"public\" + 0.024*\"sector\" + 0.021*\"government\" + '\n",
      "  '0.021*\"support\" + 0.018*\"business\"'),\n",
      " (13,\n",
      "  '0.044*\"utilize\" + 0.043*\"voice\" + 0.034*\"value\" + 0.032*\"introduce\" + '\n",
      "  '0.031*\"medium\" + 0.017*\"network\" + 0.014*\"would\" + 0.013*\"indonesian\" + '\n",
      "  '0.013*\"social\" + 0.011*\"lawyer\"')]\n"
     ]
    }
   ],
   "source": [
    "# Print the Keyword in the 10 topics\n",
    "pprint(lda_model.print_topics())\n",
    "doc_lda = lda_model[corpus]"
   ]
  },
  {
   "cell_type": "code",
   "execution_count": 26,
   "metadata": {},
   "outputs": [
    {
     "name": "stdout",
     "output_type": "stream",
     "text": [
      "\n",
      "Perplexity:  -7.7015291856173524\n",
      "\n",
      "Coherence Score:  0.42057126569786835\n"
     ]
    }
   ],
   "source": [
    "# Compute Perplexity\n",
    "print('\\nPerplexity: ', lda_model.log_perplexity(corpus))  # a measure of how good the model is. lower the better.\n",
    "\n",
    "# Compute Coherence Score\n",
    "coherence_model_lda = CoherenceModel(model=lda_model, texts=data_lemmatized, dictionary=id2word, coherence='c_v')\n",
    "coherence_lda = coherence_model_lda.get_coherence()\n",
    "print('\\nCoherence Score: ', coherence_lda)"
   ]
  },
  {
   "cell_type": "code",
   "execution_count": 27,
   "metadata": {},
   "outputs": [
    {
     "data": {
      "text/html": [
       "\n",
       "<link rel=\"stylesheet\" type=\"text/css\" href=\"https://cdn.rawgit.com/bmabey/pyLDAvis/files/ldavis.v1.0.0.css\">\n",
       "\n",
       "\n",
       "<div id=\"ldavis_el98211406226399028005114367419\"></div>\n",
       "<script type=\"text/javascript\">\n",
       "\n",
       "var ldavis_el98211406226399028005114367419_data = {\"mdsDat\": {\"x\": [-0.21465178048829514, -0.21294436879679235, -0.2130642999733655, -0.16365079423400905, -0.13800445730746472, -0.15972879586650798, 0.09690983772226301, 0.08713366717682583, 0.15727856135053386, 0.07559413969355976, 0.17852990056467485, 0.18254166733709343, 0.15480223674573815, 0.1692544860757457], \"y\": [-0.04452268973106996, 0.037024304149664566, -0.10130938860973752, 0.21186400290904425, -0.2301774013209851, 0.10842883024065422, -0.050965222891735995, -0.1156743581463938, -0.015104912529878861, 0.20499022851440282, -0.003932115604801843, -0.01198947335213168, 0.011660340775691745, -0.00029214440272314616], \"topics\": [1, 2, 3, 4, 5, 6, 7, 8, 9, 10, 11, 12, 13, 14], \"cluster\": [1, 1, 1, 1, 1, 1, 1, 1, 1, 1, 1, 1, 1, 1], \"Freq\": [29.700908660888672, 21.353105545043945, 12.745849609375, 7.508701324462891, 7.082193374633789, 6.5140581130981445, 4.461313724517822, 3.021625518798828, 2.621001720428467, 2.142136812210083, 1.1180747747421265, 0.9373414516448975, 0.6289849877357483, 0.1647081971168518]}, \"tinfo\": {\"Term\": [\"local\", \"development\", \"legal\", \"reform\", \"justice\", \"law\", \"public\", \"project\", \"sector\", \"increase\", \"government\", \"palestinian\", \"capacity\", \"service\", \"program\", \"health\", \"policy\", \"political\", \"governance\", \"medium\", \"grant\", \"system\", \"citizen\", \"democratic\", \"infrastructure\", \"judicial\", \"financial\", \"enhance\", \"build\", \"level\", \"monitoring\", \"state\", \"staff\", \"combat\", \"enforcement\", \"monitor\", \"regulation\", \"standard\", \"anti\", \"legislative\", \"mechanism\", \"initiative\", \"agency\", \"international\", \"authority\", \"external\", \"study\", \"coordinate\", \"body\", \"budget\", \"know\", \"integrated\", \"learn\", \"parliament\", \"recognize\", \"operate\", \"develop\", \"assess\", \"partner\", \"ethic\", \"purpose\", \"training\", \"work\", \"establish\", \"anticorruption\", \"include\", \"medium\", \"case\", \"corruption\", \"process\", \"performance\", \"project\", \"grant\", \"political\", \"strengthen\", \"seek\", \"capacity\", \"technical_assistance\", \"also\", \"support\", \"enhance\", \"organization\", \"program\", \"aim\", \"improve\", \"effort\", \"government\", \"development\", \"system\", \"activity\", \"public\", \"institution\", \"increase\", \"trade\", \"private\", \"investment\", \"efficiency\", \"business\", \"policy\", \"administrative\", \"environment\", \"procedure\", \"regulatory\", \"role\", \"broad\", \"barrier\", \"fiscal\", \"economy\", \"adopt\", \"bilateral\", \"document\", \"could\", \"analysis\", \"compliance\", \"counterpart\", \"gain\", \"tax\", \"freedom\", \"tackle\", \"streamline\", \"employment\", \"profession\", \"human\", \"component\", \"reduce\", \"reform\", \"economic\", \"order\", \"key\", \"sector\", \"implementation\", \"improve\", \"program\", \"increase\", \"public\", \"support\", \"transparency\", \"promote\", \"government\", \"effectiveness\", \"corruption\", \"project\", \"institution\", \"aim\", \"municipality\", \"municipal\", \"result\", \"revenue\", \"sustain\", \"budgeting\", \"decision_make\", \"control\", \"participation\", \"behavior\", \"step\", \"expand\", \"economic_growth\", \"decision_making\", \"risk\", \"responsiveness\", \"job\", \"credibility\", \"open\", \"official\", \"urban\", \"second\", \"ultimately\", \"population\", \"play\", \"scope\", \"great\", \"auditing\", \"collection\", \"variety\", \"service\", \"level\", \"target\", \"access\", \"accountability\", \"delivery\", \"citizen\", \"local\", \"management\", \"internal\", \"government\", \"practice\", \"governance\", \"responsive\", \"increase\", \"public\", \"regional\", \"improve\", \"provide\", \"strengthen\", \"aim\", \"transparency\", \"capacity\", \"development\", \"objective\", \"transparent\", \"support\", \"justice\", \"court\", \"judiciary\", \"essential\", \"curriculum\", \"range\", \"short\", \"independence\", \"judicial\", \"success\", \"meeting\", \"better\", \"facility\", \"informal\", \"renovation\", \"personnel\", \"dispute\", \"confidence\", \"resolution\", \"investigate\", \"prosecute\", \"ethical\", \"automation\", \"linkage\", \"commune\", \"investigation\", \"administer\", \"serve\", \"impartial\", \"element\", \"law\", \"professional\", \"rule\", \"system\", \"sector\", \"public\", \"institution\", \"outreach\", \"increase\", \"legal\", \"strengthen\", \"palestinian\", \"independent\", \"capacity\", \"improve\", \"project\", \"aim\", \"reform\", \"provide\", \"program\", \"assistance\", \"promote\", \"also\", \"activity\", \"transition\", \"participatory\", \"generate\", \"school\", \"professionalism\", \"foundation\", \"constituency\", \"period\", \"embed\", \"assume\", \"faculty\", \"peace\", \"underlie\", \"sidewalk\", \"reserve\", \"multisector\", \"living\", \"lgi\", \"unforeseeable\", \"sub\", \"govern\", \"elect\", \"council\", \"conflict\", \"select\", \"collaboration\", \"civil_society\", \"resolve\", \"subnational\", \"effectively\", \"accountable\", \"improvement\", \"leadership\", \"democratic\", \"local\", \"need\", \"build\", \"overall\", \"governance\", \"strategic\", \"infrastructure\", \"capacity\", \"communication\", \"enhance\", \"encourage\", \"program\", \"government\", \"respond\", \"national\", \"good\", \"community\", \"transparent\", \"promote\", \"institution\", \"health\", \"people\", \"benefit\", \"manage\", \"impact\", \"child\", \"prepare\", \"university\", \"availability\", \"agenda\", \"immediate\", \"credible\", \"commodity\", \"obligation\", \"intend\", \"enabling_environment\", \"educational\", \"tool\", \"scheme\", \"clinical\", \"eligible\", \"humanitarian\", \"intermediate\", \"amran\", \"governate\", \"reproductive\", \"tangible\", \"pace\", \"pa\", \"test\", \"number\", \"quality\", \"palestinian\", \"knowledge\", \"actor\", \"capable\", \"priority\", \"basic\", \"critical\", \"objective\", \"project\", \"relate\", \"community\", \"service\", \"sector\", \"provide\", \"development\", \"improve\", \"support\", \"help\", \"address\", \"achieve\", \"capacity\", \"financial\", \"design\", \"need\", \"increase\", \"ministry\", \"implement\", \"reform\", \"dialogue\", \"finance\", \"election\", \"manner\", \"reach\", \"scale\", \"code\", \"incentive\", \"electoral\", \"prioritize\", \"involve\", \"combination\", \"lgu\", \"authoritys\", \"undergo\", \"land\", \"partnership\", \"security\", \"central\", \"material\", \"voter\", \"inclusive\", \"civic\", \"analyze\", \"principle\", \"individual\", \"funding\", \"successful\", \"formulation\", \"face\", \"service_delivery\", \"fund\", \"conduct\", \"small\", \"education\", \"finally\", \"set\", \"planning\", \"reform\", \"use\", \"support\", \"construction\", \"term\", \"robust\", \"efficiently\", \"enhancement\", \"self\", \"initiate\", \"record\", \"guidance\", \"literacy\", \"processing\", \"sole\", \"repository\", \"acquisition\", \"developed\", \"acquire\", \"rather\", \"necessity\", \"birth\", \"identity\", \"duty\", \"continuous\", \"hope\", \"water\", \"natural\", \"supply\", \"wastewater\", \"forest\", \"distribution\", \"grow\", \"condition\", \"deliver\", \"infrastructure\", \"value\", \"contribute\", \"opportunity\", \"program\", \"sustainable\", \"service_delivery\", \"practice\", \"aim\", \"create\", \"community\", \"management\", \"base\", \"resource\", \"csos\", \"advocate\", \"association\", \"fair\", \"status\", \"bring\", \"involvement\", \"road\", \"capability\", \"woman\", \"secure\", \"meet\", \"free\", \"commercial\", \"growth\", \"launch\", \"emerge\", \"research\", \"gender\", \"hold\", \"field\", \"group\", \"autonomy\", \"update\", \"life\", \"expectation\", \"safeguard\", \"extension\", \"website\", \"co\", \"small\", \"advocacy\", \"grant\", \"opportunity\", \"contribute\", \"stakeholder\", \"organization\", \"provide\", \"program\", \"respect\", \"promotion\", \"bar\", \"culture\", \"arkan\", \"inculcate\", \"territory\", \"problem\", \"governmental\", \"protect\", \"right\", \"human_right\", \"understand\", \"pilap\", \"backlog\", \"legal\", \"instrument\", \"drafting\", \"marginalize\", \"education\", \"payment\", \"measurable\", \"debate\", \"assert\", \"ask\", \"stakeholder\", \"professional\", \"client\", \"mere\", \"publicity\", \"bound\", \"quality\", \"aid\", \"law\", \"reform\", \"palestinian\", \"assist\", \"achieve\", \"citizen\", \"rule\", \"goal\", \"community\", \"oversight\", \"judicial\", \"sector\", \"youth\", \"party\", \"put\", \"examine\", \"decentralize\", \"trust\", \"place\", \"programming\", \"diversify\", \"charge\", \"asset\", \"engineer\", \"mayor\", \"meaningful\", \"situation\", \"purchase\", \"away\", \"satisfaction\", \"capital\", \"climate\", \"vulnerability\", \"relative\", \"add\", \"advanced\", \"comparative\", \"front\", \"demonstrably\", \"bangladeshi\", \"bridge\", \"visible\", \"legitimate\", \"officer\", \"customer\", \"political\", \"assessment\", \"constituent\", \"deliver\", \"advisor\", \"income\", \"large\", \"primary\", \"make\", \"also\", \"lead\", \"utilize\", \"voice\", \"introduce\", \"indonesian\", \"lawyer\", \"path\", \"radio\", \"journalist\", \"characterize\", \"equity\", \"accounting\", \"deal\", \"communicate\", \"underserve\", \"importance\", \"news\", \"various\", \"value\", \"comprehensive\", \"amateur\", \"dynamic\", \"journalistic\", \"young\", \"significantly\", \"approval\", \"azerbaijan\", \"rationality\", \"adoption\", \"social\", \"family\", \"core\", \"expenditure\", \"medium\", \"would\", \"network\", \"understand\", \"rural\", \"new\", \"training\", \"strategic\", \"disbursement\", \"loan\", \"goy\", \"multilateral\", \"externally\", \"bhs\", \"maternal\", \"evaluation\", \"credit\", \"agricultural\", \"model\", \"creation\", \"positive\", \"asop\", \"channel\", \"intermediary\", \"ace\", \"profitability\", \"concomitant\", \"rapid\", \"neonatal\", \"infectious\", \"disease\", \"capacitie\", \"financial\", \"adoption\", \"hectare\", \"financing\", \"development\", \"real\", \"increase\", \"contribution\", \"stabilization\", \"achievement\", \"managerial\", \"goc\", \"royalty\", \"oversee\", \"write\", \"burdensome\", \"deregulate\", \"appropriately\", \"recently\", \"revise\", \"intermunicipal\", \"socially\", \"reward\", \"realize\", \"enjoy\", \"shift\", \"fulfill\", \"desire\", \"corporate\", \"intensify\", \"higher\", \"morocco\", \"harmonize\", \"equal\", \"express\", \"believe\", \"livelihood\", \"prosperity\", \"fill\", \"leak\", \"plant\", \"wise\", \"timely\", \"affair\", \"corporation\", \"participate\", \"lebanese\", \"accordance\", \"together\", \"modernize\", \"countrys\"], \"Freq\": [177.0, 100.0, 73.0, 152.0, 81.0, 90.0, 226.0, 328.0, 144.0, 228.0, 267.0, 80.0, 210.0, 105.0, 258.0, 55.0, 105.0, 42.0, 126.0, 39.0, 52.0, 102.0, 72.0, 78.0, 43.0, 48.0, 31.0, 120.0, 71.0, 76.0, 45.37556076049805, 32.92899703979492, 30.038341522216797, 29.22608757019043, 29.174806594848633, 25.609432220458984, 25.318866729736328, 25.069149017333984, 24.668243408203125, 23.738588333129883, 22.57046890258789, 18.486766815185547, 16.51593017578125, 16.998693466186523, 15.79952335357666, 15.060755729675293, 14.446414947509766, 13.861300468444824, 13.412909507751465, 17.130226135253906, 12.373530387878418, 12.21876049041748, 12.177348136901855, 11.98011302947998, 11.968194007873535, 11.967812538146973, 66.71947479248047, 11.641609191894531, 11.414978981018066, 11.18578815460205, 26.662763595581055, 40.980770111083984, 74.97318267822266, 25.992765426635742, 27.904029846191406, 41.69657516479492, 34.468849182128906, 29.093929290771484, 113.43050384521484, 65.82359313964844, 38.44105529785156, 193.98211669921875, 41.83030700683594, 34.0751953125, 113.6904525756836, 46.05952453613281, 101.576904296875, 32.139102935791016, 44.301631927490234, 77.81867980957031, 54.583839416503906, 42.69597625732422, 79.91321563720703, 58.244850158691406, 80.39125061035156, 40.99159240722656, 71.75309753417969, 41.90213394165039, 40.69056701660156, 32.909549713134766, 39.104637145996094, 33.39604568481445, 32.95484161376953, 44.07383346557617, 43.21434783935547, 41.45145797729492, 40.83026885986328, 57.59539031982422, 103.86461639404297, 47.51200866699219, 28.4719181060791, 27.998865127563477, 27.353769302368164, 25.799516677856445, 24.508594512939453, 21.111549377441406, 20.37732696533203, 19.15093421936035, 19.066755294799805, 18.672893524169922, 17.774513244628906, 15.746262550354004, 12.097654342651367, 11.736989974975586, 11.05860710144043, 11.010388374328613, 10.674002647399902, 10.409505844116211, 9.911498069763184, 9.779231071472168, 9.726712226867676, 9.720789909362793, 9.668710708618164, 42.59264373779297, 46.270015716552734, 104.0813980102539, 33.87495040893555, 20.213665008544922, 33.12504959106445, 74.52989959716797, 25.766643524169922, 104.8407974243164, 94.50994110107422, 81.22000885009766, 74.67668151855469, 64.59862518310547, 32.893165588378906, 37.12898254394531, 64.82373046875, 30.57992935180664, 42.631500244140625, 53.10332489013672, 27.088991165161133, 27.02828025817871, 37.59474563598633, 37.49897384643555, 32.199623107910156, 15.612476348876953, 14.613600730895996, 12.46364688873291, 11.680941581726074, 11.760555267333984, 47.09341812133789, 9.97515869140625, 9.842830657958984, 14.448063850402832, 5.7870683670043945, 5.4689741134643555, 4.995702743530273, 4.718948841094971, 5.479246616363525, 4.703548431396484, 4.081199645996094, 21.461734771728516, 3.8785297870635986, 3.802920341491699, 2.614051342010498, 7.387913227081299, 2.297638416290283, 2.2971034049987793, 18.968408584594727, 2.099264144897461, 4.383306503295898, 2.021263599395752, 77.72083282470703, 56.44218063354492, 27.692798614501953, 22.73670196533203, 42.041385650634766, 8.862467765808105, 44.81943893432617, 92.73712921142578, 40.281253814697266, 20.283166885375977, 93.80123901367188, 28.149818420410156, 46.90386962890625, 21.808677673339844, 57.49521255493164, 55.840232849121094, 13.320530891418457, 52.3878059387207, 27.554697036743164, 32.986854553222656, 27.201709747314453, 18.306203842163086, 24.71834373474121, 19.4674129486084, 18.01535415649414, 16.569034576416016, 17.772764205932617, 80.35888671875, 32.75627136230469, 16.418428421020508, 15.073979377746582, 12.563013076782227, 9.655916213989258, 7.955572128295898, 7.832157611846924, 44.5278205871582, 7.677746772766113, 7.630545616149902, 7.465137004852295, 7.4649505615234375, 6.654254913330078, 6.304924011230469, 4.32051420211792, 3.6417455673217773, 22.2740535736084, 3.1272990703582764, 2.9153106212615967, 2.726954460144043, 2.7269158363342285, 2.564192771911621, 2.4005041122436523, 1.7782347202301025, 1.754523754119873, 1.5663408041000366, 8.146746635437012, 1.3774584531784058, 1.3772034645080566, 58.018524169921875, 18.616960525512695, 29.245250701904297, 40.919979095458984, 45.573448181152344, 55.56816864013672, 27.272096633911133, 6.773648262023926, 40.0998420715332, 16.469038009643555, 27.964929580688477, 15.998125076293945, 7.467273235321045, 17.62407112121582, 17.253541946411133, 15.039652824401855, 12.277619361877441, 12.165592193603516, 10.758269309997559, 11.282011032104492, 8.555750846862793, 9.128942489624023, 8.81641960144043, 8.652204513549805, 16.917768478393555, 13.797284126281738, 12.534435272216797, 12.212127685546875, 10.775146484375, 8.011363983154297, 7.127870559692383, 6.513622283935547, 6.506968021392822, 6.367705821990967, 6.067686080932617, 5.71218204498291, 5.575817584991455, 5.575817584991455, 5.575817584991455, 5.575817584991455, 5.575817584991455, 5.575817584991455, 5.575817584991455, 4.6978759765625, 3.9889144897460938, 3.763634204864502, 3.6599020957946777, 7.290183067321777, 18.462303161621094, 2.977543592453003, 8.369976043701172, 2.486792802810669, 2.3455851078033447, 15.01793384552002, 19.467609405517578, 11.774850845336914, 7.145885944366455, 38.30143356323242, 70.92484283447266, 26.699581146240234, 32.3751335144043, 22.214296340942383, 44.93608093261719, 16.68169593811035, 20.269250869750977, 47.83169174194336, 11.287161827087402, 31.97570037841797, 9.674921035766602, 38.511253356933594, 34.32905578613281, 10.674877166748047, 13.602115631103516, 11.844691276550293, 11.964424133300781, 10.938371658325195, 10.745816230773926, 9.352015495300293, 54.739925384521484, 10.028953552246094, 11.952923774719238, 12.729196548461914, 7.4982733726501465, 6.626663684844971, 6.171904563903809, 6.058915138244629, 5.866980075836182, 5.639944553375244, 5.489323616027832, 5.489323616027832, 5.376516819000244, 5.252532958984375, 5.148496627807617, 5.147931098937988, 4.902895450592041, 4.775930881500244, 4.428264617919922, 4.427403450012207, 4.427403450012207, 4.427403450012207, 4.424901485443115, 4.424901485443115, 4.424901485443115, 4.424901485443115, 4.1660871505737305, 4.1660871505737305, 4.1660871505737305, 4.076447486877441, 6.91161584854126, 18.435251235961914, 55.08695983886719, 12.929899215698242, 11.01434326171875, 8.10099983215332, 9.410093307495117, 10.775808334350586, 7.9290771484375, 19.60868263244629, 46.27619934082031, 6.673239707946777, 16.59210968017578, 21.488452911376953, 21.890554428100586, 18.810195922851562, 17.329626083374023, 26.988033294677734, 20.840946197509766, 11.006044387817383, 10.889718055725098, 9.700804710388184, 17.098997116088867, 9.439046859741211, 10.993069648742676, 10.30383586883545, 13.626058578491211, 8.836039543151855, 9.098464012145996, 8.885574340820312, 19.97005271911621, 19.406431198120117, 18.08914566040039, 16.006282806396484, 10.750797271728516, 9.716286659240723, 9.452479362487793, 8.357881546020508, 8.131155967712402, 7.825654029846191, 7.815859794616699, 7.441445827484131, 6.810373783111572, 6.810373783111572, 6.810373783111572, 6.301035404205322, 6.298490524291992, 5.2641282081604, 5.117022514343262, 4.850100994110107, 3.962435245513916, 3.5768954753875732, 26.352663040161133, 2.6317319869995117, 2.6307942867279053, 9.028756141662598, 2.482578754425049, 2.454457998275757, 2.4528086185455322, 2.424664258956909, 21.69301986694336, 17.16892433166504, 10.895459175109863, 8.671097755432129, 12.520159721374512, 6.126611232757568, 7.918973445892334, 8.392744064331055, 12.516666412353516, 5.253091335296631, 5.401280403137207, 14.772327423095703, 10.928885459899902, 9.888139724731445, 7.279102325439453, 6.947946548461914, 6.0252299308776855, 5.882631301879883, 5.7842326164245605, 5.517628192901611, 5.40903377532959, 5.312730312347412, 4.778800964355469, 4.778800964355469, 4.778800964355469, 4.778800964355469, 4.778800964355469, 4.778800964355469, 4.778800964355469, 4.778800964355469, 4.778800964355469, 4.778800964355469, 4.778800964355469, 6.148584365844727, 6.186954498291016, 4.218273639678955, 3.090487480163574, 2.5771231651306152, 2.1709232330322266, 1.8424992561340332, 1.8403518199920654, 5.908036231994629, 9.544267654418945, 21.759157180786133, 7.626168251037598, 6.5340094566345215, 9.51140308380127, 15.886241912841797, 7.122407913208008, 7.202028274536133, 8.19809341430664, 9.635458946228027, 7.421058654785156, 7.634864807128906, 7.6299543380737305, 6.202186584472656, 5.431695461273193, 17.036611557006836, 15.676136016845703, 12.706521034240723, 10.91384506225586, 9.28863525390625, 9.150285720825195, 7.411834716796875, 7.267883777618408, 4.930966854095459, 20.665040969848633, 4.342839241027832, 4.342700004577637, 3.5850062370300293, 10.207744598388672, 4.994874000549316, 3.1926097869873047, 2.829090118408203, 2.325291872024536, 3.790477991104126, 1.7916010618209839, 1.6236369609832764, 6.07977819442749, 1.428468108177185, 1.4280685186386108, 6.888935565948486, 1.120804786682129, 1.1202012300491333, 1.1192651987075806, 1.1190605163574219, 1.1184698343276978, 7.817018032073975, 11.333612442016602, 10.522674560546875, 6.752274990081787, 3.3450708389282227, 3.1009202003479004, 4.830486297607422, 3.6642720699310303, 2.0183582305908203, 11.612635612487793, 6.4675798416137695, 6.061569690704346, 5.01416015625, 4.529529094696045, 4.529529094696045, 4.529529094696045, 2.8693885803222656, 2.460949659347534, 1.8782545328140259, 4.593494415283203, 1.5888147354125977, 5.775722026824951, 1.0450613498687744, 1.0261423587799072, 44.41767501831055, 0.9887351393699646, 0.9872437119483948, 0.8907468914985657, 16.91140365600586, 0.7745698690414429, 0.7744945287704468, 0.7740441560745239, 0.6401345729827881, 0.5423139929771423, 5.497591972351074, 9.945545196533203, 0.2909862995147705, 0.2909862995147705, 0.2909862995147705, 0.2909862995147705, 5.15070104598999, 0.9554964303970337, 10.978218078613281, 14.014907836914062, 8.622368812561035, 4.606294631958008, 4.286337852478027, 5.968061923980713, 4.679169654846191, 4.409952640533447, 4.7281904220581055, 3.525980234146118, 3.1637320518493652, 1.9437390565872192, 4.009959697723389, 5.45622444152832, 2.5244362354278564, 2.3738787174224854, 2.373164653778076, 2.0951004028320312, 2.0698368549346924, 2.1126110553741455, 1.464216709136963, 1.4636863470077515, 1.1598278284072876, 1.0336989164352417, 1.0336989164352417, 1.0074753761291504, 0.83376145362854, 0.8333773612976074, 0.7065026760101318, 0.7063683271408081, 1.7547434568405151, 1.269030213356018, 0.8930882215499878, 0.3791401982307434, 0.37914013862609863, 0.3791401982307434, 0.3791401982307434, 0.37905070185661316, 0.37905070185661316, 0.37903204560279846, 0.37903207540512085, 0.37875378131866455, 1.1146552562713623, 1.022547960281372, 0.9709063172340393, 5.973824501037598, 2.189422369003296, 0.6399756073951721, 1.8232349157333374, 0.6518821120262146, 0.4586747884750366, 0.7727375030517578, 0.8584800958633423, 1.051389217376709, 0.7912243604660034, 0.7359635233879089, 6.015369415283203, 5.910579681396484, 4.409931659698486, 1.8218501806259155, 1.5514661073684692, 1.1840678453445435, 1.0815176963806152, 0.8171659708023071, 0.8168830275535583, 0.8166263103485107, 0.8165473341941833, 0.8164122700691223, 0.6740385890007019, 0.6737468242645264, 0.6736432313919067, 0.5713076591491699, 1.2228792905807495, 4.747840404510498, 1.4556711912155151, 0.30658018589019775, 0.30658018589019775, 0.30658018589019775, 0.30658018589019775, 0.30652889609336853, 0.30652889609336853, 0.30652889609336853, 0.30652889609336853, 0.30652889609336853, 1.74480402469635, 0.2982061505317688, 1.017024040222168, 1.1992841958999634, 4.236687183380127, 1.8911513090133667, 2.290398120880127, 0.9496137499809265, 0.5712450742721558, 0.7318580746650696, 0.8711372017860413, 0.6521090865135193, 7.184131145477295, 7.184131145477295, 4.708802700042725, 4.708802700042725, 2.6175527572631836, 2.495558261871338, 2.495551586151123, 2.364691734313965, 1.1939775943756104, 0.9297500252723694, 0.8400494456291199, 0.8399735689163208, 0.40486371517181396, 0.2829674184322357, 0.45593324303627014, 0.15191984176635742, 0.1519198715686798, 0.1519198715686798, 0.1519198715686798, 0.1519198715686798, 0.15180906653404236, 0.15180906653404236, 0.15180903673171997, 0.1515631377696991, 4.685023784637451, 0.1519198715686798, 0.15191864967346191, 0.43103834986686707, 5.346410751342773, 0.029990069568157196, 1.3658089637756348, 1.5492585897445679, 0.31528952717781067, 0.3103097379207611, 0.24588556587696075, 0.08029425889253616, 0.08029425889253616, 0.08029428124427795, 0.011075159534811974, 0.011038515716791153, 0.011038515716791153, 0.011038515716791153, 0.011040087789297104, 0.011040087789297104, 0.011050296947360039, 0.011053677648305893, 0.011053677648305893, 0.011053677648305893, 0.011053677648305893, 0.011039884760975838, 0.011039884760975838, 0.011039884760975838, 0.011039884760975838, 0.011039884760975838, 0.011039884760975838, 0.011007142253220081, 0.011038514785468578, 0.011053666472434998, 0.01104008685797453, 0.011026850901544094, 0.011026850901544094, 0.011026850901544094, 0.011026850901544094, 0.011026850901544094, 0.011026850901544094, 0.011026850901544094, 0.011039882898330688, 0.01105028111487627, 0.011039870791137218, 0.011050271801650524, 0.01104695349931717, 0.01249299943447113, 0.01104008313268423, 0.011040064506232738, 0.011040055193006992], \"Total\": [177.0, 100.0, 73.0, 152.0, 81.0, 90.0, 226.0, 328.0, 144.0, 228.0, 267.0, 80.0, 210.0, 105.0, 258.0, 55.0, 105.0, 42.0, 126.0, 39.0, 52.0, 102.0, 72.0, 78.0, 43.0, 48.0, 31.0, 120.0, 71.0, 76.0, 46.002227783203125, 33.555660247802734, 30.667221069335938, 29.852741241455078, 29.801471710205078, 26.23672866821289, 25.945899963378906, 25.69659996032715, 25.29672622680664, 24.39234161376953, 23.314558029174805, 19.119211196899414, 17.142717361450195, 17.663991928100586, 16.426206588745117, 15.687417984008789, 15.07306957244873, 14.487956047058105, 14.039575576782227, 18.00078582763672, 13.005480766296387, 12.845423698425293, 12.80411148071289, 12.606766700744629, 12.594868659973145, 12.594656944274902, 70.23171997070312, 12.268271446228027, 12.041635513305664, 11.812457084655762, 28.21031951904297, 43.96737289428711, 87.05831909179688, 28.66629409790039, 31.214141845703125, 48.16777038574219, 39.292091369628906, 33.903160095214844, 156.62815856933594, 86.64584350585938, 46.913787841796875, 328.3711242675781, 52.92214584350586, 42.053958892822266, 190.62313842773438, 68.86864471435547, 210.93377685546875, 45.84354019165039, 76.82418060302734, 190.8793487548828, 120.64273071289062, 75.49198913574219, 258.9203186035156, 139.38706970214844, 291.69000244140625, 70.98165130615234, 267.4507751464844, 100.13292694091797, 102.8802490234375, 50.67811965942383, 226.69517517089844, 107.34761810302734, 228.4789581298828, 44.71154022216797, 43.852272033691406, 42.089168548583984, 41.46798324584961, 58.56010437011719, 105.91104125976562, 48.570457458496094, 29.109642028808594, 28.641843795776367, 27.991477966308594, 26.437376022338867, 25.14630699157715, 21.74925422668457, 21.035858154296875, 19.788860321044922, 19.704984664916992, 19.310606002807617, 18.4122314453125, 16.38399314880371, 12.73536205291748, 12.3746976852417, 11.69631576538086, 11.648122787475586, 11.313136100769043, 11.04721450805664, 10.549206733703613, 10.416943550109863, 10.364432334899902, 10.358537673950195, 10.306493759155273, 46.301021575927734, 53.07230758666992, 152.25076293945312, 43.064781188964844, 23.96142578125, 47.416908264160156, 144.4413299560547, 39.2357292175293, 291.69000244140625, 258.9203186035156, 228.4789581298828, 226.69517517089844, 190.8793487548828, 59.35511779785156, 78.0533218383789, 267.4507751464844, 55.628013610839844, 156.62815856933594, 328.3711242675781, 107.34761810302734, 139.38706970214844, 38.22469711303711, 38.12884521484375, 32.82956314086914, 16.24357795715332, 15.243460655212402, 13.109548568725586, 12.310800552368164, 12.39539623260498, 49.99370193481445, 10.60501766204834, 10.475643157958984, 15.452548027038574, 6.416927337646484, 6.121625900268555, 5.625561237335205, 5.348807334899902, 6.246389389038086, 5.415857791900635, 4.711063385009766, 24.8691463470459, 4.508394718170166, 4.432782173156738, 3.243908643722534, 9.390199661254883, 2.927501678466797, 2.9269654750823975, 24.62797737121582, 2.7291226387023926, 5.7089033126831055, 2.6511223316192627, 105.14032745361328, 76.1602783203125, 37.625396728515625, 30.948219299316406, 63.22311019897461, 12.18181324005127, 72.27201843261719, 177.67250061035156, 72.93291473388672, 33.9495849609375, 267.4507751464844, 57.909420013427734, 126.76338958740234, 45.18708419799805, 228.4789581298828, 226.69517517089844, 24.12149429321289, 291.69000244140625, 116.29471588134766, 190.62313842773438, 139.38706970214844, 59.35511779785156, 210.93377685546875, 100.13292694091797, 67.52976989746094, 42.177154541015625, 190.8793487548828, 81.01488494873047, 33.42320251464844, 17.074329376220703, 15.729846000671387, 13.21887493133545, 10.31187915802002, 8.611437797546387, 8.488020896911621, 48.30754470825195, 8.333624839782715, 8.28641128540039, 8.12100887298584, 8.120823860168457, 7.3101420402526855, 6.960790157318115, 4.976383686065674, 4.297861099243164, 26.767723083496094, 3.7856171131134033, 3.5711758136749268, 3.3828186988830566, 3.3827807903289795, 3.220062017440796, 3.0563716888427734, 2.434103488922119, 2.4103877544403076, 2.2222037315368652, 12.020808219909668, 2.033320426940918, 2.0330657958984375, 90.1446762084961, 29.178489685058594, 48.06996536254883, 102.8802490234375, 144.4413299560547, 226.69517517089844, 107.34761810302734, 13.676928520202637, 228.4789581298828, 73.59896087646484, 190.62313842773438, 80.28447723388672, 18.940879821777344, 210.93377685546875, 291.69000244140625, 328.3711242675781, 139.38706970214844, 152.25076293945312, 116.29471588134766, 258.9203186035156, 31.671571731567383, 78.0533218383789, 76.82418060302734, 50.67811965942383, 17.57853889465332, 14.458900451660156, 13.195246696472168, 12.872908592224121, 11.43591594696045, 8.672148704528809, 7.788921356201172, 7.17439079284668, 7.1677680015563965, 7.028472900390625, 6.728472709655762, 6.372949123382568, 6.298206329345703, 6.298206329345703, 6.298206329345703, 6.298206329345703, 6.298206329345703, 6.298206329345703, 6.298206329345703, 5.3593902587890625, 4.649682521820068, 4.424592971801758, 4.323818206787109, 8.848700523376465, 22.50057601928711, 3.6383185386657715, 10.260627746582031, 3.147559642791748, 3.0312564373016357, 19.41579246520996, 26.12763023376465, 16.023544311523438, 10.374709129333496, 78.51638793945312, 177.67250061035156, 55.40706253051758, 71.5152587890625, 44.46112823486328, 126.76338958740234, 31.193632125854492, 43.73085021972656, 210.93377685546875, 19.94851303100586, 120.64273071289062, 17.733386993408203, 258.9203186035156, 267.4507751464844, 23.977577209472656, 44.267391204833984, 41.466060638427734, 60.348655700683594, 42.177154541015625, 78.0533218383789, 107.34761810302734, 55.4123420715332, 10.703825950622559, 12.859220504760742, 13.864400863647461, 8.170693397521973, 7.299093246459961, 6.844324111938477, 6.731334686279297, 6.539403438568115, 6.312363147735596, 6.1617431640625, 6.161771297454834, 6.048935413360596, 5.925001621246338, 5.820914268493652, 5.8203511238098145, 5.575313091278076, 5.44835090637207, 5.10068416595459, 5.099822521209717, 5.099822521209717, 5.099822521209717, 5.097342014312744, 5.097342014312744, 5.097342014312744, 5.097342014312744, 4.842145919799805, 4.842145919799805, 4.842145919799805, 4.748865604400635, 8.054717063903809, 24.21929359436035, 80.28447723388672, 18.702789306640625, 16.3846435546875, 12.00765323638916, 15.219688415527344, 20.621780395507812, 12.875782012939453, 67.52976989746094, 328.3711242675781, 10.709875106811523, 60.348655700683594, 105.14032745361328, 144.4413299560547, 116.29471588134766, 100.13292694091797, 291.69000244140625, 190.8793487548828, 44.842769622802734, 45.141883850097656, 33.98616409301758, 210.93377685546875, 31.380542755126953, 71.2917251586914, 55.40706253051758, 228.4789581298828, 37.86279296875, 60.149803161621094, 152.25076293945312, 20.620624542236328, 20.057004928588867, 18.739713668823242, 16.656850814819336, 11.401374816894531, 10.36685562133789, 10.10306167602539, 9.008454322814941, 8.78172492980957, 8.476225852966309, 8.466476440429688, 8.092019081115723, 7.461636543273926, 7.461636543273926, 7.461636543273926, 6.951603889465332, 6.949060440063477, 5.914700508117676, 5.7675933837890625, 5.500670433044434, 4.613002300262451, 4.227468013763428, 31.429224014282227, 3.282299757003784, 3.2813642024993896, 11.339625358581543, 3.133146286010742, 3.105027437210083, 3.103381872177124, 3.0752317905426025, 29.504039764404297, 24.10468101501465, 15.218701362609863, 17.081296920776367, 30.044963836669922, 10.951716423034668, 16.829853057861328, 33.02202606201172, 152.25076293945312, 21.28720474243164, 190.8793487548828, 15.441672325134277, 11.598209381103516, 10.55746078491211, 7.948412895202637, 7.617267608642578, 6.69456672668457, 6.551965713500977, 6.4535417556762695, 6.186948776245117, 6.0783867835998535, 5.982038497924805, 5.448120594024658, 5.448120594024658, 5.448120594024658, 5.448120594024658, 5.448120594024658, 5.448120594024658, 5.448120594024658, 5.448120594024658, 5.448120594024658, 5.448120594024658, 5.448120594024658, 7.072727203369141, 7.118633270263672, 4.887582302093506, 3.759798765182495, 3.246431350708008, 2.840231418609619, 2.511807680130005, 2.510749101638794, 9.54643440246582, 16.746145248413086, 43.73085021972656, 13.001320838928223, 14.722513198852539, 39.860191345214844, 258.9203186035156, 23.450984954833984, 29.504039764404297, 57.909420013427734, 139.38706970214844, 42.66367721557617, 60.348655700683594, 72.93291473388672, 31.830591201782227, 25.667810440063477, 17.69039535522461, 16.329957962036133, 13.360310554504395, 11.567634582519531, 9.942429542541504, 9.804072380065918, 8.065624237060547, 7.92167854309082, 5.584752559661865, 23.65989112854004, 4.9966230392456055, 4.996484279632568, 4.238790988922119, 12.102476119995117, 6.009551048278809, 3.8463945388793945, 3.482875347137451, 2.9790751934051514, 5.026129722595215, 2.445385217666626, 2.277423620223999, 8.782217979431152, 2.0822525024414062, 2.081852436065674, 10.059571266174316, 1.7745881080627441, 1.7739850282669067, 1.7730512619018555, 1.772845983505249, 1.7722584009170532, 17.081296920776367, 33.10788345336914, 52.92214584350586, 39.860191345214844, 14.722513198852539, 15.098873138427734, 75.49198913574219, 116.29471588134766, 258.9203186035156, 12.284168243408203, 7.139115333557129, 6.733100414276123, 5.685691833496094, 5.2010602951049805, 5.2010602951049805, 5.2010602951049805, 3.5409228801727295, 3.132481813430786, 2.549790859222412, 6.325963497161865, 2.260371685028076, 9.214664459228516, 1.7165915966033936, 1.697676420211792, 73.59896087646484, 1.6602673530578613, 1.6587815284729004, 1.5622801780700684, 30.044963836669922, 1.4461034536361694, 1.4460290670394897, 1.445582389831543, 1.3116649389266968, 1.2138445377349854, 15.098873138427734, 29.178489685058594, 0.962516725063324, 0.962516725063324, 0.962516725063324, 0.962516725063324, 24.21929359436035, 3.9770281314849854, 90.1446762084961, 152.25076293945312, 80.28447723388672, 34.372215270996094, 33.98616409301758, 72.27201843261719, 48.06996536254883, 51.218685150146484, 60.348655700683594, 47.62721252441406, 48.30754470825195, 144.4413299560547, 4.671931266784668, 6.610337257385254, 3.183908700942993, 3.033355236053467, 3.032639980316162, 2.754575252532959, 2.729309320449829, 3.0281896591186523, 2.123690128326416, 2.123161792755127, 1.8193025588989258, 1.6931706666946411, 1.6931706666946411, 1.6669551134109497, 1.4932328462600708, 1.4928500652313232, 1.3659744262695312, 1.3658400774002075, 3.7895007133483887, 3.2232532501220703, 2.2811410427093506, 1.038611888885498, 1.038611888885498, 1.038611888885498, 1.038611888885498, 1.0385223627090454, 1.0385223627090454, 1.0385037660598755, 1.038503885269165, 1.0382267236709595, 3.1148736476898193, 3.2709109783172607, 3.5411739349365234, 42.053958892822266, 13.740269660949707, 2.250396490097046, 16.746145248413086, 3.0225188732147217, 1.5832479000091553, 5.232610702514648, 6.94907283782959, 15.869444847106934, 76.82418060302734, 11.274203300476074, 6.684783935546875, 6.580007553100586, 5.079346656799316, 2.4938838481903076, 2.220879554748535, 1.8534802198410034, 1.750928521156311, 1.4865756034851074, 1.4862933158874512, 1.486038327217102, 1.4859594106674194, 1.4858245849609375, 1.3434486389160156, 1.3431586027145386, 1.3430546522140503, 1.2407172918319702, 2.813138961791992, 13.001320838928223, 4.417313098907471, 0.9759897589683533, 0.9759897589683533, 0.9759897589683533, 0.9759897589683533, 0.9759384989738464, 0.9759384989738464, 0.9759384989738464, 0.9759384989738464, 1.1070395708084106, 6.365914821624756, 1.342100739479065, 5.6268415451049805, 6.983984470367432, 39.292091369628906, 13.35637378692627, 20.109819412231445, 9.214664459228516, 4.2932000160217285, 11.82854175567627, 43.96737289428711, 31.193632125854492, 7.874721050262451, 7.874721050262451, 5.399393081665039, 5.399393081665039, 3.3081448078155518, 3.1861512660980225, 3.186157703399658, 3.0552818775177, 1.8847273588180542, 1.6203407049179077, 1.5306411981582642, 1.5305665731430054, 1.0954557657241821, 0.9735648036003113, 1.9080772399902344, 0.8425098061561584, 0.8425098061561584, 0.8425098061561584, 0.8425098061561584, 0.8425098061561584, 0.8423996567726135, 0.8423996567726135, 0.8423995971679688, 0.8421564698219299, 31.380542755126953, 1.1070395708084106, 1.2055007219314575, 3.7645137310028076, 100.13292694091797, 0.7258134484291077, 228.4789581298828, 2.249673366546631, 1.0156934261322021, 1.0107150077819824, 0.9462904930114746, 0.7806967496871948, 0.7806967496871948, 1.1078102588653564, 0.7141846418380737, 0.7124667167663574, 0.7124667167663574, 0.7124667167663574, 0.7127212285995483, 0.7127212285995483, 0.7134552597999573, 0.7137439846992493, 0.7137439846992493, 0.7137439846992493, 0.7137439846992493, 0.7133698463439941, 0.7133698463439941, 0.7133698463439941, 0.7133698463439941, 0.7133698463439941, 0.7133698463439941, 0.7117534875869751, 0.7140896320343018, 0.715246856212616, 0.7143794894218445, 0.7135409116744995, 0.7135409116744995, 0.7135409116744995, 0.7135409116744995, 0.7135409116744995, 0.7135409116744995, 0.7135409116744995, 0.7152218818664551, 0.7171437740325928, 0.7164855003356934, 0.7240626811981201, 0.7218232154846191, 4.362663269042969, 0.717377781867981, 0.7190343737602234, 0.7326048016548157], \"Category\": [\"Default\", \"Default\", \"Default\", \"Default\", \"Default\", \"Default\", \"Default\", \"Default\", \"Default\", \"Default\", \"Default\", \"Default\", \"Default\", \"Default\", \"Default\", \"Default\", \"Default\", \"Default\", \"Default\", \"Default\", \"Default\", \"Default\", \"Default\", \"Default\", \"Default\", \"Default\", \"Default\", \"Default\", \"Default\", \"Default\", \"Topic1\", \"Topic1\", \"Topic1\", \"Topic1\", \"Topic1\", \"Topic1\", \"Topic1\", \"Topic1\", \"Topic1\", \"Topic1\", \"Topic1\", \"Topic1\", \"Topic1\", \"Topic1\", \"Topic1\", \"Topic1\", \"Topic1\", \"Topic1\", \"Topic1\", \"Topic1\", \"Topic1\", \"Topic1\", \"Topic1\", \"Topic1\", \"Topic1\", \"Topic1\", \"Topic1\", \"Topic1\", \"Topic1\", \"Topic1\", \"Topic1\", \"Topic1\", \"Topic1\", \"Topic1\", \"Topic1\", \"Topic1\", \"Topic1\", \"Topic1\", \"Topic1\", \"Topic1\", \"Topic1\", \"Topic1\", \"Topic1\", \"Topic1\", \"Topic1\", \"Topic1\", \"Topic1\", \"Topic1\", \"Topic1\", \"Topic1\", \"Topic1\", \"Topic1\", \"Topic1\", \"Topic1\", \"Topic1\", \"Topic1\", \"Topic1\", \"Topic1\", \"Topic1\", \"Topic1\", \"Topic1\", \"Topic1\", \"Topic1\", \"Topic2\", \"Topic2\", \"Topic2\", \"Topic2\", \"Topic2\", \"Topic2\", \"Topic2\", \"Topic2\", \"Topic2\", \"Topic2\", \"Topic2\", \"Topic2\", \"Topic2\", \"Topic2\", \"Topic2\", \"Topic2\", \"Topic2\", \"Topic2\", \"Topic2\", \"Topic2\", \"Topic2\", \"Topic2\", \"Topic2\", \"Topic2\", \"Topic2\", \"Topic2\", \"Topic2\", \"Topic2\", \"Topic2\", \"Topic2\", \"Topic2\", \"Topic2\", \"Topic2\", \"Topic2\", \"Topic2\", \"Topic2\", \"Topic2\", \"Topic2\", \"Topic2\", \"Topic2\", \"Topic2\", \"Topic2\", \"Topic2\", \"Topic2\", \"Topic2\", \"Topic2\", \"Topic2\", \"Topic2\", \"Topic2\", \"Topic2\", \"Topic2\", \"Topic3\", \"Topic3\", \"Topic3\", \"Topic3\", \"Topic3\", \"Topic3\", \"Topic3\", \"Topic3\", \"Topic3\", \"Topic3\", \"Topic3\", \"Topic3\", \"Topic3\", \"Topic3\", \"Topic3\", \"Topic3\", \"Topic3\", \"Topic3\", \"Topic3\", \"Topic3\", \"Topic3\", \"Topic3\", \"Topic3\", \"Topic3\", \"Topic3\", \"Topic3\", \"Topic3\", \"Topic3\", \"Topic3\", \"Topic3\", \"Topic3\", \"Topic3\", \"Topic3\", \"Topic3\", \"Topic3\", \"Topic3\", \"Topic3\", \"Topic3\", \"Topic3\", \"Topic3\", \"Topic3\", \"Topic3\", \"Topic3\", \"Topic3\", \"Topic3\", \"Topic3\", \"Topic3\", \"Topic3\", \"Topic3\", \"Topic3\", \"Topic3\", \"Topic3\", \"Topic3\", \"Topic3\", \"Topic3\", \"Topic3\", \"Topic3\", \"Topic4\", \"Topic4\", \"Topic4\", \"Topic4\", \"Topic4\", \"Topic4\", \"Topic4\", \"Topic4\", \"Topic4\", \"Topic4\", \"Topic4\", \"Topic4\", \"Topic4\", \"Topic4\", \"Topic4\", \"Topic4\", \"Topic4\", \"Topic4\", \"Topic4\", \"Topic4\", \"Topic4\", \"Topic4\", \"Topic4\", \"Topic4\", \"Topic4\", \"Topic4\", \"Topic4\", \"Topic4\", \"Topic4\", \"Topic4\", \"Topic4\", \"Topic4\", \"Topic4\", \"Topic4\", \"Topic4\", \"Topic4\", \"Topic4\", \"Topic4\", \"Topic4\", \"Topic4\", \"Topic4\", \"Topic4\", \"Topic4\", \"Topic4\", \"Topic4\", \"Topic4\", \"Topic4\", \"Topic4\", \"Topic4\", \"Topic4\", \"Topic4\", \"Topic4\", \"Topic4\", \"Topic4\", \"Topic5\", \"Topic5\", \"Topic5\", \"Topic5\", \"Topic5\", \"Topic5\", \"Topic5\", \"Topic5\", \"Topic5\", \"Topic5\", \"Topic5\", \"Topic5\", \"Topic5\", \"Topic5\", \"Topic5\", \"Topic5\", \"Topic5\", \"Topic5\", \"Topic5\", \"Topic5\", \"Topic5\", \"Topic5\", \"Topic5\", \"Topic5\", \"Topic5\", \"Topic5\", \"Topic5\", \"Topic5\", \"Topic5\", \"Topic5\", \"Topic5\", \"Topic5\", \"Topic5\", \"Topic5\", \"Topic5\", \"Topic5\", \"Topic5\", \"Topic5\", \"Topic5\", \"Topic5\", \"Topic5\", \"Topic5\", \"Topic5\", \"Topic5\", \"Topic5\", \"Topic5\", \"Topic5\", \"Topic5\", \"Topic5\", \"Topic5\", \"Topic5\", \"Topic5\", \"Topic5\", \"Topic5\", \"Topic6\", \"Topic6\", \"Topic6\", \"Topic6\", \"Topic6\", \"Topic6\", \"Topic6\", \"Topic6\", \"Topic6\", \"Topic6\", \"Topic6\", \"Topic6\", \"Topic6\", \"Topic6\", \"Topic6\", \"Topic6\", \"Topic6\", \"Topic6\", \"Topic6\", \"Topic6\", \"Topic6\", \"Topic6\", \"Topic6\", \"Topic6\", \"Topic6\", \"Topic6\", \"Topic6\", \"Topic6\", \"Topic6\", \"Topic6\", \"Topic6\", \"Topic6\", \"Topic6\", \"Topic6\", \"Topic6\", \"Topic6\", \"Topic6\", \"Topic6\", \"Topic6\", \"Topic6\", \"Topic6\", \"Topic6\", \"Topic6\", \"Topic6\", \"Topic6\", \"Topic6\", \"Topic6\", \"Topic6\", \"Topic6\", \"Topic6\", \"Topic6\", \"Topic6\", \"Topic6\", \"Topic6\", \"Topic6\", \"Topic6\", \"Topic6\", \"Topic6\", \"Topic6\", \"Topic6\", \"Topic7\", \"Topic7\", \"Topic7\", \"Topic7\", \"Topic7\", \"Topic7\", \"Topic7\", \"Topic7\", \"Topic7\", \"Topic7\", \"Topic7\", \"Topic7\", \"Topic7\", \"Topic7\", \"Topic7\", \"Topic7\", \"Topic7\", \"Topic7\", \"Topic7\", \"Topic7\", \"Topic7\", \"Topic7\", \"Topic7\", \"Topic7\", \"Topic7\", \"Topic7\", \"Topic7\", \"Topic7\", \"Topic7\", \"Topic7\", \"Topic7\", \"Topic7\", \"Topic7\", \"Topic7\", \"Topic7\", \"Topic7\", \"Topic7\", \"Topic7\", \"Topic7\", \"Topic7\", \"Topic7\", \"Topic8\", \"Topic8\", \"Topic8\", \"Topic8\", \"Topic8\", \"Topic8\", \"Topic8\", \"Topic8\", \"Topic8\", \"Topic8\", \"Topic8\", \"Topic8\", \"Topic8\", \"Topic8\", \"Topic8\", \"Topic8\", \"Topic8\", \"Topic8\", \"Topic8\", \"Topic8\", \"Topic8\", \"Topic8\", \"Topic8\", \"Topic8\", \"Topic8\", \"Topic8\", \"Topic8\", \"Topic8\", \"Topic8\", \"Topic8\", \"Topic8\", \"Topic8\", \"Topic8\", \"Topic8\", \"Topic8\", \"Topic8\", \"Topic8\", \"Topic8\", \"Topic8\", \"Topic8\", \"Topic8\", \"Topic8\", \"Topic8\", \"Topic8\", \"Topic8\", \"Topic8\", \"Topic9\", \"Topic9\", \"Topic9\", \"Topic9\", \"Topic9\", \"Topic9\", \"Topic9\", \"Topic9\", \"Topic9\", \"Topic9\", \"Topic9\", \"Topic9\", \"Topic9\", \"Topic9\", \"Topic9\", \"Topic9\", \"Topic9\", \"Topic9\", \"Topic9\", \"Topic9\", \"Topic9\", \"Topic9\", \"Topic9\", \"Topic9\", \"Topic9\", \"Topic9\", \"Topic9\", \"Topic9\", \"Topic9\", \"Topic9\", \"Topic9\", \"Topic9\", \"Topic9\", \"Topic9\", \"Topic9\", \"Topic9\", \"Topic9\", \"Topic9\", \"Topic9\", \"Topic10\", \"Topic10\", \"Topic10\", \"Topic10\", \"Topic10\", \"Topic10\", \"Topic10\", \"Topic10\", \"Topic10\", \"Topic10\", \"Topic10\", \"Topic10\", \"Topic10\", \"Topic10\", \"Topic10\", \"Topic10\", \"Topic10\", \"Topic10\", \"Topic10\", \"Topic10\", \"Topic10\", \"Topic10\", \"Topic10\", \"Topic10\", \"Topic10\", \"Topic10\", \"Topic10\", \"Topic10\", \"Topic10\", \"Topic10\", \"Topic10\", \"Topic10\", \"Topic10\", \"Topic10\", \"Topic10\", \"Topic10\", \"Topic10\", \"Topic10\", \"Topic10\", \"Topic10\", \"Topic10\", \"Topic10\", \"Topic10\", \"Topic10\", \"Topic10\", \"Topic11\", \"Topic11\", \"Topic11\", \"Topic11\", \"Topic11\", \"Topic11\", \"Topic11\", \"Topic11\", \"Topic11\", \"Topic11\", \"Topic11\", \"Topic11\", \"Topic11\", \"Topic11\", \"Topic11\", \"Topic11\", \"Topic11\", \"Topic11\", \"Topic11\", \"Topic11\", \"Topic11\", \"Topic11\", \"Topic11\", \"Topic11\", \"Topic11\", \"Topic11\", \"Topic11\", \"Topic11\", \"Topic11\", \"Topic11\", \"Topic11\", \"Topic11\", \"Topic11\", \"Topic11\", \"Topic11\", \"Topic11\", \"Topic11\", \"Topic11\", \"Topic11\", \"Topic11\", \"Topic11\", \"Topic11\", \"Topic11\", \"Topic11\", \"Topic12\", \"Topic12\", \"Topic12\", \"Topic12\", \"Topic12\", \"Topic12\", \"Topic12\", \"Topic12\", \"Topic12\", \"Topic12\", \"Topic12\", \"Topic12\", \"Topic12\", \"Topic12\", \"Topic12\", \"Topic12\", \"Topic12\", \"Topic12\", \"Topic12\", \"Topic12\", \"Topic12\", \"Topic12\", \"Topic12\", \"Topic12\", \"Topic12\", \"Topic12\", \"Topic12\", \"Topic12\", \"Topic12\", \"Topic12\", \"Topic12\", \"Topic12\", \"Topic12\", \"Topic12\", \"Topic12\", \"Topic12\", \"Topic12\", \"Topic12\", \"Topic12\", \"Topic12\", \"Topic13\", \"Topic13\", \"Topic13\", \"Topic13\", \"Topic13\", \"Topic13\", \"Topic13\", \"Topic13\", \"Topic13\", \"Topic13\", \"Topic13\", \"Topic13\", \"Topic13\", \"Topic13\", \"Topic13\", \"Topic13\", \"Topic13\", \"Topic13\", \"Topic13\", \"Topic13\", \"Topic13\", \"Topic13\", \"Topic13\", \"Topic13\", \"Topic13\", \"Topic13\", \"Topic13\", \"Topic13\", \"Topic13\", \"Topic13\", \"Topic13\", \"Topic14\", \"Topic14\", \"Topic14\", \"Topic14\", \"Topic14\", \"Topic14\", \"Topic14\", \"Topic14\", \"Topic14\", \"Topic14\", \"Topic14\", \"Topic14\", \"Topic14\", \"Topic14\", \"Topic14\", \"Topic14\", \"Topic14\", \"Topic14\", \"Topic14\", \"Topic14\", \"Topic14\", \"Topic14\", \"Topic14\", \"Topic14\", \"Topic14\", \"Topic14\", \"Topic14\", \"Topic14\", \"Topic14\", \"Topic14\", \"Topic14\", \"Topic14\", \"Topic14\", \"Topic14\", \"Topic14\", \"Topic14\", \"Topic14\", \"Topic14\", \"Topic14\", \"Topic14\", \"Topic14\", \"Topic14\", \"Topic14\", \"Topic14\"], \"logprob\": [30.0, 29.0, 28.0, 27.0, 26.0, 25.0, 24.0, 23.0, 22.0, 21.0, 20.0, 19.0, 18.0, 17.0, 16.0, 15.0, 14.0, 13.0, 12.0, 11.0, 10.0, 9.0, 8.0, 7.0, 6.0, 5.0, 4.0, 3.0, 2.0, 1.0, -4.567699909210205, -4.888299942016602, -4.980199813842773, -5.007599830627441, -5.009399890899658, -5.139699935913086, -5.151100158691406, -5.161099910736084, -5.177199840545654, -5.21560001373291, -5.26609992980957, -5.46560001373291, -5.578400135040283, -5.549600124359131, -5.622700214385986, -5.670599937438965, -5.712299823760986, -5.753600120544434, -5.786499977111816, -5.541900157928467, -5.867099761962891, -5.879700183868408, -5.8831000328063965, -5.899499893188477, -5.900400161743164, -5.9004998207092285, -4.182199954986572, -5.928100109100342, -5.947800159454346, -5.968100070953369, -5.099400043487549, -4.669600009918213, -4.0655999183654785, -5.124899864196777, -5.053899765014648, -4.652299880981445, -4.842599868774414, -5.012199878692627, -3.6514999866485596, -4.195700168609619, -4.73360013961792, -3.1149001121520996, -4.649099826812744, -4.854100227355957, -3.649199962615967, -4.552800178527832, -3.761899948120117, -4.912600040435791, -4.591700077056885, -4.028299808502197, -4.382999897003174, -4.628600120544434, -4.001800060272217, -4.317999839782715, -3.995800018310547, -4.669300079345703, -4.109499931335449, -4.64739990234375, -4.676700115203857, -4.888899803161621, -4.7164998054504395, -4.874300003051758, -4.887599945068359, -4.266900062561035, -4.286499977111816, -4.328199863433838, -4.343299865722656, -3.999300003051758, -3.409600019454956, -4.191699981689453, -4.703800201416016, -4.720600128173828, -4.743899822235107, -4.8024001121521, -4.853700160980225, -5.002900123596191, -5.038300037384033, -5.100399971008301, -5.104800224304199, -5.1255998611450195, -5.175000190734863, -5.29610013961792, -5.559700012207031, -5.590000152587891, -5.649499893188477, -5.653900146484375, -5.684899806976318, -5.710000038146973, -5.758999824523926, -5.772500038146973, -5.7778000831604, -5.778500080108643, -5.78380012512207, -4.301000118255615, -4.218200206756592, -3.4075000286102295, -4.53000020980835, -5.04640007019043, -4.5524001121521, -3.741499900817871, -4.803599834442139, -3.4003000259399414, -3.503999948501587, -3.655600070953369, -3.7395999431610107, -3.884500026702881, -4.559500217437744, -4.438300132751465, -3.88100004196167, -4.632400035858154, -4.300099849700928, -4.08050012588501, -4.753600120544434, -4.755799770355225, -3.909899950027466, -3.912400007247925, -4.064799785614014, -4.788700103759766, -4.854800224304199, -5.013899803161621, -5.078800201416016, -5.072000026702881, -3.6846001148223877, -5.236599922180176, -5.25, -4.866199970245361, -5.781099796295166, -5.837600231170654, -5.928100109100342, -5.985099792480469, -5.8358001708984375, -5.988399982452393, -6.130300045013428, -4.4704999923706055, -6.181300163269043, -6.201000213623047, -6.575799942016602, -5.536900043487549, -6.704800128936768, -6.705100059509277, -4.593999862670898, -6.795100212097168, -6.058899879455566, -6.833000183105469, -3.1835999488830566, -3.503499984741211, -4.21560001373291, -4.412700176239014, -3.798099994659424, -5.354899883270264, -3.734100103378296, -3.006999969482422, -3.8408000469207764, -4.526899814605713, -2.995500087738037, -4.19920015335083, -3.6886000633239746, -4.454400062561035, -3.484999895095825, -3.51419997215271, -4.947400093078613, -3.5780999660491943, -4.220600128173828, -4.040599822998047, -4.233399868011475, -4.629499912261963, -4.32919979095459, -4.567999839782715, -4.645500183105469, -4.7291998863220215, -4.65910005569458, -2.6210999488830566, -3.5185000896453857, -4.209199905395508, -4.294600009918213, -4.476799964904785, -4.739999771118164, -4.933700084686279, -4.9492998123168945, -3.2114999294281006, -4.969299793243408, -4.975399971008301, -4.997300148010254, -4.997399806976318, -5.112299919128418, -5.166299819946289, -5.5441999435424805, -5.715099811553955, -3.9042000770568848, -5.867400169372559, -5.937600135803223, -6.00439977645874, -6.00439977645874, -6.065899848937988, -6.131899833679199, -6.432000160217285, -6.445400238037109, -6.558800220489502, -4.909999847412109, -6.687300205230713, -6.6875, -2.9467999935150146, -4.083499908447266, -3.6319000720977783, -3.2960000038146973, -3.1882998943328857, -2.990000009536743, -3.70169997215271, -5.0945000648498535, -3.316200017929077, -4.206099987030029, -3.6765999794006348, -4.235099792480469, -4.997099876403809, -4.138299942016602, -4.159599781036377, -4.296899795532227, -4.499800205230713, -4.508999824523926, -4.631899833679199, -4.584400177001953, -4.861000061035156, -4.79610013961792, -4.830999851226807, -4.849800109863281, -4.120699882507324, -4.3246002197265625, -4.420599937438965, -4.446700096130371, -4.571899890899658, -4.868199825286865, -4.985099792480469, -5.075200080871582, -5.076200008392334, -5.097899913787842, -5.146100044250488, -5.206500053405762, -5.2307000160217285, -5.2307000160217285, -5.2307000160217285, -5.2307000160217285, -5.2307000160217285, -5.2307000160217285, -5.2307000160217285, -5.4019999504089355, -5.5655999183654785, -5.623700141906738, -5.651700019836426, -4.962600231170654, -4.033400058746338, -5.857999801635742, -4.82450008392334, -6.038099765777588, -6.09660005569458, -4.2399001121521, -3.9804000854492188, -4.483099937438965, -4.982600212097168, -3.3036000728607178, -2.6875, -3.6644999980926514, -3.4716999530792236, -3.848400115966797, -3.143899917602539, -4.134799957275391, -3.940000057220459, -3.081399917602539, -4.525400161743164, -3.484100103378296, -4.679599761962891, -3.2981998920440674, -3.413100004196167, -4.581200122833252, -4.338900089263916, -4.477200031280518, -4.467199802398682, -4.55679988861084, -4.5746002197265625, -4.713500022888184, -2.8629000186920166, -4.559999942779541, -4.384500026702881, -4.321599960327148, -4.850800037384033, -4.974400043487549, -5.045499801635742, -5.064000129699707, -5.096099853515625, -5.1356000900268555, -5.162700176239014, -5.162700176239014, -5.1834001541137695, -5.2067999839782715, -5.226799964904785, -5.226900100708008, -5.275700092315674, -5.3018999099731445, -5.377500057220459, -5.377699851989746, -5.377699851989746, -5.377699851989746, -5.378200054168701, -5.378200054168701, -5.378200054168701, -5.378200054168701, -5.438499927520752, -5.438499927520752, -5.438499927520752, -5.460299968719482, -4.932300090789795, -3.951200008392334, -2.856600046157837, -4.3059000968933105, -4.466300010681152, -4.773499965667725, -4.623700141906738, -4.4882001876831055, -4.794899940490723, -3.8894999027252197, -3.030900001525879, -4.967400074005127, -4.056600093841553, -3.7980000972747803, -3.779400110244751, -3.9310998916625977, -4.0131001472473145, -3.5701000690460205, -3.8285999298095703, -4.4670000076293945, -4.477700233459473, -4.593299865722656, -4.026500225067139, -4.62060022354126, -4.468200206756592, -4.5329999923706055, -4.253499984741211, -4.686600208282471, -4.657400131225586, -4.681099891662598, -3.4927000999450684, -3.521399974822998, -3.5917000770568848, -3.7139999866485596, -4.111999988555908, -4.213200092315674, -4.240699768066406, -4.363800048828125, -4.391300201416016, -4.429599761962891, -4.430799961090088, -4.479899883270264, -4.56850004196167, -4.56850004196167, -4.56850004196167, -4.646200180053711, -4.646699905395508, -4.826000213623047, -4.854400157928467, -4.9079999923706055, -5.110099792480469, -5.212500095367432, -3.215399980545044, -5.5192999839782715, -5.519700050354004, -4.286499977111816, -5.577700138092041, -5.589099884033203, -5.589700222015381, -5.60129976272583, -3.4100000858306885, -3.643899917602539, -4.098599910736084, -4.327000141143799, -3.9595999717712402, -4.674300193786621, -4.417699813842773, -4.359600067138672, -3.95989990234375, -4.828100204467773, -4.800300121307373, -3.404599905014038, -3.705899953842163, -3.805999994277954, -4.112299919128418, -4.158899784088135, -4.301400184631348, -4.325300216674805, -4.342199802398682, -4.389400005340576, -4.409200191497803, -4.427199840545654, -4.533100128173828, -4.533100128173828, -4.533100128173828, -4.533100128173828, -4.533100128173828, -4.533100128173828, -4.533100128173828, -4.533100128173828, -4.533100128173828, -4.533100128173828, -4.533100128173828, -4.281099796295166, -4.274899959564209, -4.657899856567383, -4.968999862670898, -5.150599956512451, -5.322199821472168, -5.486199855804443, -5.487400054931641, -4.321000099182129, -3.841399908065796, -3.0172998905181885, -4.065700054168701, -4.220300197601318, -3.8447999954223633, -3.331899881362915, -4.134099960327148, -4.123000144958496, -3.9934000968933105, -3.831899881362915, -4.0929999351501465, -4.064599990844727, -4.065199851989746, -4.27239990234375, -4.405099868774414, -3.1196999549865723, -3.202899932861328, -3.4130001068115234, -3.565000057220459, -3.726300001144409, -3.741300106048584, -3.9519999027252197, -3.97160005569458, -4.359499931335449, -2.9265999794006348, -4.486499786376953, -4.486599922180176, -4.678299903869629, -3.6319000720977783, -4.346700191497803, -4.7941999435424805, -4.91510009765625, -5.111199855804443, -4.622600078582764, -5.372000217437744, -5.470399856567383, -4.150100231170654, -5.598499774932861, -5.598800182342529, -4.025199890136719, -5.841000080108643, -5.841599941253662, -5.842400074005127, -5.842599868774414, -5.843100070953369, -3.8987998962402344, -3.5272998809814453, -3.6015000343322754, -4.045199871063232, -4.747600078582764, -4.823400020599365, -4.380099773406982, -4.656400203704834, -5.252799987792969, -3.3011999130249023, -3.8864998817443848, -3.9514000415802, -4.14109992980957, -4.242700099945068, -4.242700099945068, -4.242700099945068, -4.69920015335083, -4.852799892425537, -5.123000144958496, -4.228700160980225, -5.290299892425537, -3.9997000694274902, -5.709199905395508, -5.727499961853027, -1.9596999883651733, -5.764699935913086, -5.766200065612793, -5.86899995803833, -2.925299882888794, -6.008800029754639, -6.008900165557861, -6.009500026702881, -6.199399948120117, -6.365200042724609, -4.048999786376953, -3.456199884414673, -6.987800121307373, -6.987800121307373, -6.987800121307373, -6.987800121307373, -4.114200115203857, -5.798799991607666, -3.3573999404907227, -3.1131999492645264, -3.5989999771118164, -4.225900173187256, -4.297900199890137, -3.966900110244751, -4.21019983291626, -4.269499778747559, -4.19980001449585, -4.493199825286865, -4.601600170135498, -5.088699817657471, -3.7142999172210693, -3.406399965286255, -4.17710018157959, -4.23859977722168, -4.238900184631348, -4.363500118255615, -4.375699996948242, -4.355199813842773, -4.721799850463867, -4.7221999168396, -4.954899787902832, -5.070000171661377, -5.070000171661377, -5.095699787139893, -5.284900188446045, -5.285399913787842, -5.4506001472473145, -5.450699806213379, -4.540800094604492, -4.8649001121521, -5.21619987487793, -6.072999954223633, -6.072999954223633, -6.072999954223633, -6.072999954223633, -6.073200225830078, -6.073200225830078, -6.073299884796143, -6.073299884796143, -6.073999881744385, -4.99459981918335, -5.0808000564575195, -5.132699966430664, -3.315700054168701, -4.319499969482422, -5.549499988555908, -4.502500057220459, -5.531000137329102, -5.882500171661377, -5.360899925231934, -5.25570011138916, -5.052999973297119, -5.337299823760986, -5.4096999168396, -3.132499933242798, -3.150099992752075, -3.443000078201294, -4.327000141143799, -4.487599849700928, -4.757900238037109, -4.848400115966797, -5.128699779510498, -5.1290998458862305, -5.12939977645874, -5.129499912261963, -5.1296000480651855, -5.321300029754639, -5.321700096130371, -5.321899890899658, -5.486599922180176, -4.725599765777588, -3.3691000938415527, -4.551300048828125, -6.109099864959717, -6.109099864959717, -6.109099864959717, -6.109099864959717, -6.109300136566162, -6.109300136566162, -6.109300136566162, -6.109300136566162, -6.109300136566162, -4.370200157165527, -6.1367998123168945, -4.909900188446045, -4.745100021362305, -3.4830000400543213, -4.289599895477295, -4.098100185394287, -4.978499889373779, -5.486700057983398, -5.238999843597412, -5.064799785614014, -5.354400157928467, -2.555999994277954, -2.555999994277954, -2.9783999919891357, -2.9783999919891357, -3.5655999183654785, -3.6133999824523926, -3.6133999824523926, -3.6672000885009766, -4.350599765777588, -4.6006999015808105, -4.702199935913086, -4.702300071716309, -5.43209981918335, -5.790299892425537, -5.313300132751465, -6.412300109863281, -6.412300109863281, -6.412300109863281, -6.412300109863281, -6.412300109863281, -6.413000106811523, -6.413000106811523, -6.413000106811523, -6.414599895477295, -2.9835000038146973, -6.412300109863281, -6.412300109863281, -5.3694000244140625, -2.8513998985290527, -8.034799575805664, -4.216100215911865, -2.750200033187866, -4.342199802398682, -4.358099937438965, -4.590799808502197, -5.710000038146973, -5.710000038146973, -5.710000038146973, -7.690999984741211, -7.694300174713135, -7.694300174713135, -7.694300174713135, -7.694200038909912, -7.694200038909912, -7.69320011138916, -7.69290018081665, -7.69290018081665, -7.69290018081665, -7.69290018081665, -7.694200038909912, -7.694200038909912, -7.694200038909912, -7.694200038909912, -7.694200038909912, -7.694200038909912, -7.697199821472168, -7.694300174713135, -7.69290018081665, -7.694200038909912, -7.695400238037109, -7.695400238037109, -7.695400238037109, -7.695400238037109, -7.695400238037109, -7.695400238037109, -7.695400238037109, -7.694200038909912, -7.69320011138916, -7.694200038909912, -7.69320011138916, -7.69350004196167, -7.570499897003174, -7.694200038909912, -7.694200038909912, -7.694200038909912], \"loglift\": [30.0, 29.0, 28.0, 27.0, 26.0, 25.0, 24.0, 23.0, 22.0, 21.0, 20.0, 19.0, 18.0, 17.0, 16.0, 15.0, 14.0, 13.0, 12.0, 11.0, 10.0, 9.0, 8.0, 7.0, 6.0, 5.0, 4.0, 3.0, 2.0, 1.0, 1.2002999782562256, 1.195099949836731, 1.1933000087738037, 1.1928000450134277, 1.1927000284194946, 1.1898000240325928, 1.1894999742507935, 1.1892999410629272, 1.1887999773025513, 1.1868000030517578, 1.1815999746322632, 1.180400013923645, 1.1766999959945679, 1.1756000518798828, 1.1750999689102173, 1.173200011253357, 1.1714999675750732, 1.169800043106079, 1.1683000326156616, 1.1643999814987183, 1.164199948310852, 1.1640000343322754, 1.1638000011444092, 1.1629999876022339, 1.1629999876022339, 1.1628999710083008, 1.1627000570297241, 1.1615999937057495, 1.1605000495910645, 1.159500002861023, 1.1576000452041626, 1.1435999870300293, 1.0644999742507935, 1.1160999536514282, 1.1018999814987183, 1.069700002670288, 1.0829999446868896, 1.0609999895095825, 0.8913000226020813, 0.9391000270843506, 1.014799952507019, 0.6876000165939331, 0.9787999987602234, 1.003600001335144, 0.6972000002861023, 0.8116999864578247, 0.48330000042915344, 0.8587999939918518, 0.6635000109672546, 0.3167000114917755, 0.42089998722076416, 0.64410001039505, 0.03840000182390213, 0.34139999747276306, -0.07479999959468842, 0.664900004863739, -0.10170000046491623, 0.34279999136924744, 0.2863999903202057, 0.7822999954223633, -0.54339998960495, 0.04639999940991402, -0.7222999930381775, 1.5296000242233276, 1.5292999744415283, 1.5286999940872192, 1.528499960899353, 1.527400016784668, 1.5245000123977661, 1.5219000577926636, 1.5218000411987305, 1.521299958229065, 1.520900011062622, 1.5196000337600708, 1.5183000564575195, 1.51419997215271, 1.5121999979019165, 1.511199951171875, 1.5110000371932983, 1.5104000568389893, 1.5087000131607056, 1.5042999982833862, 1.4925999641418457, 1.4910999536514282, 1.4879000186920166, 1.4876999855041504, 1.48580002784729, 1.4845000505447388, 1.481600046157837, 1.4808000326156616, 1.4804999828338623, 1.4803999662399292, 1.4801000356674194, 1.4605000019073486, 1.4068000316619873, 1.163599967956543, 1.3039000034332275, 1.373900055885315, 1.1852999925613403, 0.8823000192642212, 1.1234999895095825, 0.5206999778747559, 0.5361999869346619, 0.5097000002861023, 0.4334999918937683, 0.46050000190734863, 0.9537000060081482, 0.8009999990463257, 0.1266999989748001, 0.9455999732017517, 0.24269999563694, -0.27790001034736633, 0.16699999570846558, -0.09640000015497208, 2.043299913406372, 2.043299913406372, 2.040600061416626, 2.0202999114990234, 2.0178000926971436, 2.009399890899658, 2.0074000358581543, 2.0074000358581543, 2.000200033187866, 1.9987000226974487, 1.9976999759674072, 1.992799997329712, 1.9566999673843384, 1.9471999406814575, 1.9412000179290771, 1.9347000122070312, 1.9289000034332275, 1.9190000295639038, 1.9163999557495117, 1.912600040435791, 1.909500002861023, 1.9067000150680542, 1.844099998474121, 1.820099949836731, 1.8177000284194946, 1.8176000118255615, 1.7989000082015991, 1.7976000308990479, 1.795699954032898, 1.788699984550476, 1.7577999830245972, 1.7603000402450562, 1.753499984741211, 1.7516000270843506, 1.651900053024292, 1.7417999505996704, 1.582200050354004, 1.4098000526428223, 1.4663000106811523, 1.5448999404907227, 1.0121999979019165, 1.3386000394821167, 1.0657000541687012, 1.3315000534057617, 0.6801999807357788, 0.6589000225067139, 1.4661999940872192, 0.34290000796318054, 0.6200000047683716, 0.3057999908924103, 0.4259999990463257, 0.8837000131607056, -0.08399999886751175, 0.4221999943256378, 0.7386000156402588, 1.125599980354309, -0.3140000104904175, 2.5810000896453857, 2.569000005722046, 2.5499000549316406, 2.5464999675750732, 2.5381999015808105, 2.523400068283081, 2.5099000930786133, 2.508699893951416, 2.5076000690460205, 2.5071001052856445, 2.5065999031066895, 2.5048999786376953, 2.5048999786376953, 2.4951000213623047, 2.4900999069213867, 2.4477999210357666, 2.4235000610351562, 2.4052999019622803, 2.398099899291992, 2.386199951171875, 2.3736000061035156, 2.3736000061035156, 2.3613998889923096, 2.347599983215332, 2.2751998901367188, 2.2715001106262207, 2.2393999099731445, 2.2000999450683594, 2.199700117111206, 2.1995999813079834, 2.1484999656677246, 2.139699935913086, 2.0922000408172607, 1.667199969291687, 1.4356000423431396, 1.1830999851226807, 1.2188999652862549, 1.8863999843597412, 0.8489999771118164, 1.0920000076293945, 0.6697999835014343, 0.9760000109672546, 1.6583000421524048, 0.10679999738931656, -0.2386000007390976, -0.4943000078201294, 0.15960000455379486, 0.062199998646974564, 0.2087000012397766, -0.5442000031471252, 1.2803000211715698, 0.4431999921798706, 0.42419999837875366, 0.821399986743927, 2.609299898147583, 2.6006999015808105, 2.5961999893188477, 2.594899892807007, 2.588099956512451, 2.5683000087738037, 2.5589001178741455, 2.5510001182556152, 2.5508999824523926, 2.5488998889923096, 2.5441999435424805, 2.538100004196167, 2.5257999897003174, 2.5257999897003174, 2.5257999897003174, 2.5257999897003174, 2.5257999897003174, 2.5257999897003174, 2.5257999897003174, 2.5157999992370605, 2.49429988861084, 2.48580002784729, 2.4809000492095947, 2.4537999629974365, 2.4498000144958496, 2.447200059890747, 2.4439001083374023, 2.4119999408721924, 2.3910999298095703, 2.390700101852417, 2.353300094604492, 2.3394999504089355, 2.2748000621795654, 1.929800033569336, 1.7293000221252441, 1.9175000190734863, 1.8551000356674194, 1.9536999464035034, 1.6104999780654907, 2.021699905395508, 1.878600001335144, 1.163699984550476, 2.0780999660491943, 1.319700002670288, 2.0416998863220215, 0.7419999837875366, 0.5946000218391418, 1.8384000062942505, 1.4675999879837036, 1.3946000337600708, 1.0293999910354614, 1.2979999780654907, 0.6646999716758728, 0.2071000039577484, 2.7190001010894775, 2.666100025177002, 2.658099889755249, 2.6458001136779785, 2.6452999114990234, 2.6345999240875244, 2.6277999877929688, 2.625999927520752, 2.6226999759674072, 2.6185998916625977, 2.6157000064849854, 2.615600109100342, 2.6133999824523926, 2.6106998920440674, 2.6085000038146973, 2.6084001064300537, 2.6026999950408936, 2.5994999408721924, 2.5897998809814453, 2.5897998809814453, 2.5897998809814453, 2.5897998809814453, 2.5896999835968018, 2.5896999835968018, 2.5896999835968018, 2.5896999835968018, 2.5808000564575195, 2.5808000564575195, 2.5808000564575195, 2.5785000324249268, 2.578200101852417, 2.4583001136779785, 2.3545000553131104, 2.3620998859405518, 2.3341000080108643, 2.3376998901367188, 2.2504000663757324, 2.082200050354004, 2.2464001178741455, 1.4946000576019287, 0.7717000246047974, 2.2581000328063965, 1.440000057220459, 1.143399953842163, 0.8443999886512756, 0.909500002861023, 0.9771000146865845, 0.35089999437332153, 0.5164999961853027, 1.3265000581741333, 1.3092000484466553, 1.4774999618530273, 0.21870000660419464, 1.5298999547958374, 0.8616999983787537, 1.0490000247955322, -0.08829999715089798, 1.2761000394821167, 0.8424999713897705, -0.10989999771118164, 3.077699899673462, 3.0768001079559326, 3.074399948120117, 3.0699000358581543, 3.0510001182556152, 3.0448999404907227, 3.0432000160217285, 3.0348000526428223, 3.0327999591827393, 3.029900074005127, 3.0297999382019043, 3.025899887084961, 3.018399953842163, 3.018399953842163, 3.018399953842163, 3.0114998817443848, 3.011399984359741, 2.9932000637054443, 2.990000009536743, 2.9839000701904297, 2.95770001411438, 2.9426000118255615, 2.9335999488830566, 2.8887999057769775, 2.8887999057769775, 2.8817999362945557, 2.877000093460083, 2.8745999336242676, 2.874500036239624, 2.871999979019165, 2.8022000789642334, 2.770400047302246, 2.7755000591278076, 2.4316999912261963, 2.2344000339508057, 2.528899908065796, 2.355799913406372, 1.73989999294281, 0.611299991607666, 1.7103999853134155, -0.4553000032901764, 3.4551000595092773, 3.4398999214172363, 3.4339001178741455, 3.411400079727173, 3.407399892807007, 3.3940000534057617, 3.3915998935699463, 3.389899969100952, 3.3849000930786133, 3.382699966430664, 3.38070011138916, 3.368299961090088, 3.368299961090088, 3.368299961090088, 3.368299961090088, 3.368299961090088, 3.368299961090088, 3.368299961090088, 3.368299961090088, 3.368299961090088, 3.368299961090088, 3.368299961090088, 3.3594000339508057, 3.359100103378296, 3.352099895477295, 3.303299903869629, 3.2685000896453857, 3.230600118637085, 3.189500093460083, 3.188800096511841, 3.0195000171661377, 2.9370999336242676, 2.8013999462127686, 2.96589994430542, 2.687000036239624, 2.066499948501587, 0.708299994468689, 2.3076999187469482, 2.089200019836426, 1.5443999767303467, 0.8276000022888184, 1.7503000497817993, 1.4320000410079956, 1.2418999671936035, 1.863800048828125, 1.9464000463485718, 3.6040000915527344, 3.600800037384033, 3.591399908065796, 3.583400011062622, 3.5736000537872314, 3.5725998878479004, 3.5571000576019287, 3.555500030517578, 3.5171000957489014, 3.5062999725341797, 3.5013999938964844, 3.5013999938964844, 3.474100112915039, 3.471400022506714, 3.456700086593628, 3.4553000926971436, 3.4337000846862793, 3.3938000202178955, 3.359499931335449, 3.3304998874664307, 3.3032000064849854, 3.273900032043457, 3.2648000717163086, 3.264699935913086, 3.263000011444092, 3.1821000576019287, 3.1819000244140625, 3.1816000938415527, 3.18149995803833, 3.181299924850464, 2.8598999977111816, 2.5696001052856445, 2.0262999534606934, 1.8660999536514282, 2.1596999168395996, 2.0587000846862793, 0.8924999833106995, 0.18410000205039978, -1.2125999927520752, 3.787100076675415, 3.7446000576019287, 3.738300085067749, 3.7177000045776367, 3.7051000595092773, 3.7051000595092773, 3.7051000595092773, 3.6331000328063965, 3.602099895477295, 3.5376999378204346, 3.5232999324798584, 3.490799903869629, 3.376199960708618, 3.347100019454956, 3.339900016784668, 3.338399887084961, 3.3250999450683594, 3.324399948120117, 3.2815001010894775, 3.268699884414673, 3.2190001010894775, 3.2190001010894775, 3.2186999320983887, 3.125999927520752, 3.0376999378204346, 2.8331000804901123, 2.7671000957489014, 2.6470999717712402, 2.6470999717712402, 2.6470999717712402, 2.6470999717712402, 2.295300006866455, 2.41729998588562, 1.7379000186920166, 1.4579999446868896, 1.6121000051498413, 1.8335000276565552, 1.7727999687194824, 1.3494000434875488, 1.513800024986267, 1.3911000490188599, 1.2968000173568726, 1.2401000261306763, 1.1174999475479126, -0.4648999869823456, 4.340799808502197, 4.301700115203857, 4.261499881744385, 4.2484002113342285, 4.2484002113342285, 4.219900131225586, 4.2170000076293945, 4.133500099182129, 4.121699810028076, 4.121600151062012, 4.043399810791016, 4.000100135803223, 4.000100135803223, 3.990000009536743, 3.910799980163574, 3.910599946975708, 3.8343000411987305, 3.834199905395508, 3.7237000465393066, 3.5613999366760254, 3.555799961090088, 3.48580002784729, 3.48580002784729, 3.48580002784729, 3.48580002784729, 3.4856998920440674, 3.4856998920440674, 3.485599994659424, 3.485599994659424, 3.4851999282836914, 3.46589994430542, 3.3308000564575195, 3.1995999813079834, 2.5420000553131104, 2.656899929046631, 3.2360999584198, 2.2760000228881836, 2.9595999717712402, 3.254699945449829, 2.5808000564575195, 2.402400016784668, 1.7792999744415283, -0.08209999650716782, 1.7645000219345093, 4.5644001960754395, 4.562600135803223, 4.528600215911865, 4.355899810791016, 4.311200141906738, 4.221799850463867, 4.1880998611450195, 4.071499824523926, 4.071300029754639, 4.071199893951416, 4.071100234985352, 4.071100234985352, 3.9802000522613525, 3.9800000190734863, 3.9798998832702637, 3.894399881362915, 3.8368000984191895, 3.6624999046325684, 3.559799909591675, 3.511899948120117, 3.511899948120117, 3.511899948120117, 3.511899948120117, 3.5118000507354736, 3.5118000507354736, 3.5118000507354736, 3.5118000507354736, 3.385699987411499, 3.3756000995635986, 3.1656999588012695, 2.959199905395508, 2.9079999923706055, 2.4426000118255615, 2.715100049972534, 2.4974000453948975, 2.39739990234375, 2.652899980545044, 1.8871999979019165, 0.7484999895095825, 0.8021000027656555, 4.9770002365112305, 4.9770002365112305, 4.932000160217285, 4.932000160217285, 4.834700107574463, 4.82450008392334, 4.82450008392334, 4.812600135803223, 4.612299919128418, 4.513299942016602, 4.468800067901611, 4.468800067901611, 4.073400020599365, 3.833199977874756, 3.6373000144958496, 3.355799913406372, 3.355799913406372, 3.355799913406372, 3.355799913406372, 3.355799913406372, 3.3552000522613525, 3.3552000522613525, 3.3552000522613525, 3.3538999557495117, 3.1670000553131104, 3.08270001411438, 2.997499942779541, 2.901599884033203, 2.138700008392334, 1.8824000358581543, -0.05090000107884407, 6.035699844360352, 5.238900184631348, 5.22790002822876, 5.061100006103516, 4.134300231933594, 4.134300231933594, 3.7843000888824463, 2.242300033569336, 2.2414000034332275, 2.2414000034332275, 2.2414000034332275, 2.2411999702453613, 2.2411999702453613, 2.2411000728607178, 2.240999937057495, 2.240999937057495, 2.240999937057495, 2.240999937057495, 2.240299940109253, 2.240299940109253, 2.240299940109253, 2.240299940109253, 2.240299940109253, 2.240299940109253, 2.2395999431610107, 2.2390999794006348, 2.2388999462127686, 2.2388999462127686, 2.238800048828125, 2.238800048828125, 2.238800048828125, 2.238800048828125, 2.238800048828125, 2.238800048828125, 2.238800048828125, 2.2376999855041504, 2.2358999252319336, 2.2358999252319336, 2.226300001144409, 2.229099988937378, 0.5530999898910522, 2.2346999645233154, 2.2323999404907227, 2.21370005607605]}, \"token.table\": {\"Topic\": [1, 3, 4, 1, 2, 3, 1, 3, 5, 12, 1, 2, 5, 6, 10, 8, 8, 1, 3, 4, 8, 1, 6, 1, 4, 6, 4, 2, 2, 3, 11, 1, 6, 9, 9, 1, 6, 13, 2, 10, 1, 2, 3, 4, 5, 6, 7, 8, 1, 2, 3, 4, 11, 6, 2, 7, 1, 1, 2, 4, 10, 10, 10, 1, 1, 7, 11, 11, 1, 2, 10, 1, 3, 4, 6, 7, 9, 5, 3, 1, 7, 4, 9, 6, 11, 10, 10, 2, 1, 2, 6, 8, 3, 6, 7, 3, 6, 4, 13, 2, 8, 1, 9, 2, 1, 3, 1, 2, 3, 5, 8, 2, 9, 4, 6, 1, 2, 3, 4, 5, 6, 8, 11, 1, 4, 7, 5, 12, 11, 6, 1, 3, 4, 5, 10, 2, 7, 5, 7, 3, 11, 6, 9, 7, 5, 3, 1, 7, 8, 9, 6, 4, 12, 2, 5, 7, 1, 3, 5, 6, 8, 10, 2, 2, 4, 1, 12, 3, 8, 1, 7, 3, 4, 1, 5, 5, 5, 11, 8, 8, 2, 5, 8, 9, 14, 3, 1, 2, 5, 6, 12, 1, 2, 2, 5, 2, 4, 1, 2, 3, 8, 13, 3, 6, 13, 4, 5, 6, 9, 10, 4, 1, 11, 12, 10, 11, 3, 3, 1, 8, 11, 3, 6, 1, 3, 5, 7, 1, 2, 4, 6, 1, 4, 8, 1, 2, 3, 5, 6, 13, 7, 13, 4, 8, 11, 2, 10, 8, 2, 3, 8, 9, 3, 2, 7, 10, 6, 5, 6, 1, 2, 2, 8, 1, 2, 4, 7, 5, 7, 7, 4, 6, 5, 9, 2, 6, 2, 5, 7, 1, 11, 1, 2, 3, 5, 8, 2, 12, 4, 1, 3, 1, 4, 13, 11, 3, 9, 1, 12, 9, 1, 13, 7, 4, 5, 9, 9, 1, 7, 7, 2, 3, 6, 7, 13, 1, 2, 8, 7, 5, 9, 2, 5, 7, 7, 2, 3, 9, 5, 1, 2, 3, 5, 6, 10, 1, 2, 3, 5, 5, 1, 2, 3, 5, 6, 7, 6, 1, 2, 3, 5, 7, 10, 13, 1, 9, 1, 3, 4, 9, 8, 9, 8, 6, 1, 2, 6, 8, 9, 8, 2, 10, 6, 8, 6, 6, 4, 1, 2, 5, 6, 1, 2, 3, 12, 1, 2, 3, 4, 5, 6, 8, 9, 10, 2, 5, 7, 1, 2, 7, 8, 1, 2, 3, 4, 5, 6, 13, 10, 4, 1, 4, 7, 2, 7, 10, 12, 4, 5, 7, 8, 8, 1, 1, 2, 3, 4, 5, 6, 7, 10, 1, 6, 6, 1, 3, 1, 12, 4, 4, 2, 7, 9, 3, 12, 4, 10, 4, 4, 2, 5, 7, 1, 3, 4, 6, 7, 2, 7, 11, 9, 2, 4, 10, 12, 1, 11, 1, 5, 1, 1, 2, 4, 10, 1, 3, 11, 1, 3, 5, 5, 7, 3, 9, 4, 8, 5, 13, 1, 3, 5, 7, 1, 6, 11, 6, 9, 1, 3, 4, 6, 8, 7, 10, 7, 13, 11, 11, 10, 1, 1, 12, 9, 4, 1, 6, 13, 1, 1, 13, 5, 3, 3, 1, 2, 5, 8, 8, 1, 2, 5, 6, 1, 12, 1, 2, 4, 12, 12, 6, 7, 1, 2, 3, 5, 6, 6, 2, 11, 3, 5, 3, 1, 1, 2, 8, 9, 2, 5, 9, 1, 2, 6, 9, 1, 4, 1, 2, 5, 1, 2, 3, 10, 6, 6, 4, 6, 10, 1, 3, 7, 5, 1, 7, 7, 11, 12, 10, 5, 6, 1, 6, 5, 4, 10, 11, 1, 2, 7, 3, 2, 5, 1, 2, 7, 11, 3, 4, 1, 3, 4, 8, 6, 1, 11, 7, 7, 1, 6, 2, 10, 2, 1, 2, 3, 7, 8, 2, 4, 10, 5, 1, 2, 3, 4, 5, 6, 7, 8, 9, 10, 11, 1, 2, 3, 4, 5, 6, 1, 2, 3, 4, 5, 10, 4, 10, 1, 2, 3, 4, 6, 7, 9, 1, 2, 3, 4, 6, 11, 1, 5, 11, 6, 10, 12, 4, 8, 7, 1, 8, 1, 2, 2, 4, 6, 7, 10, 1, 3, 1, 2, 2, 6, 7, 10, 4, 8, 6, 9, 5, 4, 5, 2, 3, 5, 8, 10, 1, 5, 6, 1, 3, 3, 3, 3, 7, 10, 3, 9, 8, 2, 2, 4, 10, 3, 8, 12, 9, 11, 7, 6, 5, 3, 3, 2, 4, 6, 10, 9, 7, 1, 2, 3, 4, 7, 4, 5, 8, 1, 4, 1, 2, 3, 6, 7, 8, 1, 6, 7, 4, 5, 11, 7, 9, 8, 12, 8, 1, 2, 9, 10, 1, 1, 9, 3, 1, 5, 7, 12, 2, 1, 2, 3, 4, 5, 6, 1, 5, 5, 4, 7, 8, 1, 2, 3, 4, 5, 6, 7, 3, 1, 2, 8, 1, 2, 3, 4, 2, 6, 1, 3, 5, 2, 1, 2, 8, 10, 6, 6, 2, 1, 7, 9, 12, 5, 1, 2, 3, 10, 1, 2, 3, 5, 11, 3, 7, 5, 12, 3, 7, 10, 12, 5, 6, 9, 3, 1, 2, 6, 7, 12, 8, 12, 3, 4, 12, 12, 7, 8, 11, 8, 8, 9, 7, 9, 1, 3, 5, 3, 5, 8, 10, 12, 11], \"Freq\": [0.03231203556060791, 0.7431768178939819, 0.19387221336364746, 0.9168711304664612, 0.3321570158004761, 0.6643140316009521, 0.19136829674243927, 0.07654731720685959, 0.7271994948387146, 0.6729658842086792, 0.11769495159387589, 0.35308486223220825, 0.08827121555805206, 0.2942373752593994, 0.11769495159387589, 0.9177476763725281, 0.9177476763725281, 0.6511685848236084, 0.15785905718803406, 0.17759142816066742, 0.019732382148504257, 0.30516380071640015, 0.6713603734970093, 0.553809404373169, 0.17721900343894958, 0.24367614090442657, 0.9000074863433838, 0.9882550239562988, 0.9642230272293091, 0.6616997718811035, 0.33084988594055176, 0.6040857434272766, 0.0604085735976696, 0.33224713802337646, 0.9797943234443665, 0.9916747808456421, 0.950515627861023, 0.6171541810035706, 0.5028880834579468, 0.2514440417289734, 0.4161074757575989, 0.19370520114898682, 0.19370520114898682, 0.08609119802713394, 0.014348533004522324, 0.014348533004522324, 0.007174266502261162, 0.07174266874790192, 0.5727363228797913, 0.27335143089294434, 0.013016735203564167, 0.11715061217546463, 0.013016735203564167, 0.7847226858139038, 0.9422582387924194, 0.9139932990074158, 0.9882701635360718, 0.8970292806625366, 0.032036762684583664, 0.06407352536916733, 0.961342453956604, 0.8238286972045898, 0.7623898386955261, 0.9781329035758972, 0.7277877330780029, 0.07277877628803253, 0.14555755257606506, 0.5496611595153809, 0.3200259208679199, 0.5236787796020508, 0.14546632766723633, 0.34731462597846985, 0.031574055552482605, 0.28416651487350464, 0.25259244441986084, 0.09472216665744781, 0.9730312824249268, 0.8536704778671265, 0.7328362464904785, 0.9740532636642456, 0.9381319880485535, 0.9316591024398804, 0.48024916648864746, 0.9175148606300354, 0.7320781350135803, 0.5890403985977173, 0.8911199569702148, 0.9655503630638123, 0.5026611089706421, 0.15708158910274506, 0.15708158910274506, 0.18849791586399078, 0.24246209859848022, 0.5334166288375854, 0.24246209859848022, 0.9429498910903931, 0.9331825375556946, 0.861961841583252, 0.627716600894928, 0.9839152693748474, 0.9177476763725281, 0.9259539246559143, 0.9179858565330505, 0.994181752204895, 0.9444032311439514, 0.9153633117675781, 0.4334739148616791, 0.027966059744358063, 0.06991515308618546, 0.447456955909729, 0.027966059744358063, 0.9904354214668274, 0.8952947854995728, 0.2498406618833542, 0.6662417650222778, 0.4835640788078308, 0.009481648914515972, 0.11852061003446579, 0.08533483743667603, 0.22755956649780273, 0.0805940181016922, 0.2638870179653168, 0.5277740359306335, 0.8553774952888489, 0.11798310279846191, 0.8669127225875854, 0.5240877866744995, 0.6728147268295288, 0.4709956645965576, 0.9590232372283936, 0.2628956735134125, 0.6226476430892944, 0.013836613856256008, 0.013836613856256008, 0.0830196812748909, 0.12727008759975433, 0.8272555470466614, 0.7796794176101685, 0.09745992720127106, 0.310245543718338, 0.310245543718338, 0.784341037273407, 0.5642517805099487, 0.8908190727233887, 0.8245567083358765, 0.700659990310669, 0.9714350700378418, 0.8650498390197754, 0.08262772113084793, 0.8262771964073181, 0.8265917301177979, 0.8216577768325806, 0.7443529963493347, 0.20051619410514832, 0.5514195561408997, 0.20051619410514832, 0.14913339912891388, 0.16570377349853516, 0.1988445222377777, 0.2816964089870453, 0.1325630247592926, 0.08285188674926758, 0.9697206616401672, 0.9287052154541016, 0.06479338556528091, 0.4527639150619507, 0.22638195753097534, 0.31425344944000244, 0.6285068988800049, 0.2628345191478729, 0.7227948904037476, 0.1494337022304535, 0.821885347366333, 0.1130109429359436, 0.7910766005516052, 0.8987123966217041, 0.44436612725257874, 0.44436612725257874, 0.9713973999023438, 0.9177476763725281, 0.20376956462860107, 0.06792318820953369, 0.47546228766441345, 0.20376956462860107, 0.8890179395675659, 0.9681013822555542, 0.9663198590278625, 0.3554391860961914, 0.1777195930480957, 0.1777195930480957, 0.1777195930480957, 0.7214539051055908, 0.27453556656837463, 0.9765629172325134, 0.9251082539558411, 0.9404670596122742, 0.9873380661010742, 0.5156611204147339, 0.04687828570604324, 0.25783056020736694, 0.16407398879528046, 0.6533528566360474, 0.9232147932052612, 0.8114549517631531, 0.5305806994438171, 0.07766518741846085, 0.23299555480480194, 0.6213214993476868, 0.9609734416007996, 0.8794004321098328, 0.9834422469139099, 0.5647844672203064, 0.2823922336101532, 0.673026978969574, 0.6917627453804016, 0.6594914197921753, 0.9747538566589355, 0.8167764544487, 0.2985761761665344, 0.5971523523330688, 0.11943046748638153, 0.7388062477111816, 0.24626874923706055, 0.28019627928733826, 0.1910429149866104, 0.4839754104614258, 0.03820858523249626, 0.4208061993122101, 0.3366449475288391, 0.07013436406850815, 0.15429560840129852, 0.9539849162101746, 0.04271574318408966, 0.9177476763725281, 0.41944244503974915, 0.12982742488384247, 0.18974778056144714, 0.019973449409008026, 0.16977432370185852, 0.049933623522520065, 0.969902753829956, 0.8889203667640686, 0.9306954741477966, 0.7962393164634705, 0.4708784818649292, 0.9776110053062439, 0.6028521656990051, 0.9177476763725281, 0.7895082235336304, 0.13932497799396515, 0.046441663056612015, 0.023220831528306007, 0.9350269436836243, 0.9601361155509949, 0.43268483877182007, 0.5658186078071594, 0.8968106508255005, 0.7725669741630554, 0.20601786673069, 0.43143731355667114, 0.5572731494903564, 0.9887145757675171, 0.8806789517402649, 0.5776140689849854, 0.2676748037338257, 0.08452888578176498, 0.07044073939323425, 0.9040379524230957, 0.9605269432067871, 0.9109827876091003, 0.4918679893016815, 0.784341037273407, 0.976594090461731, 0.8613572716712952, 0.9648382067680359, 0.859054684638977, 0.3947356343269348, 0.563908040523529, 0.056390807032585144, 0.973106324672699, 0.5906079411506653, 0.45589154958724976, 0.18235661089420319, 0.09117830544710159, 0.2652459740638733, 0.918964684009552, 0.961880624294281, 0.6729301810264587, 0.9536011815071106, 0.9069885611534119, 0.06976834684610367, 0.931220293045044, 0.8868443369865417, 0.6546040773391724, 0.6593359112739563, 0.9059994220733643, 0.563511073589325, 0.7159237265586853, 0.14318473637104034, 0.5639994740486145, 0.9561802744865417, 0.906852662563324, 0.6503574848175049, 0.8619815111160278, 0.8917328119277954, 0.9509290456771851, 0.8781853318214417, 0.36523956060409546, 0.5478593111038208, 0.9472999572753906, 0.12746752798557281, 0.38240256905555725, 0.28680193424224854, 0.031866881996393204, 0.15933440625667572, 0.7969156503677368, 0.9507575035095215, 0.7041679620742798, 0.6444582343101501, 0.9224933981895447, 0.9436653256416321, 0.9052055478096008, 0.24891430139541626, 0.7052571773529053, 0.6383360028266907, 0.9443581700325012, 0.19896024465560913, 0.7958409786224365, 0.9852032661437988, 0.3709583580493927, 0.31238600611686707, 0.01952412538230419, 0.058572374284267426, 0.15619300305843353, 0.07809650152921677, 0.02411610819399357, 0.6029027104377747, 0.09646443277597427, 0.2893933057785034, 0.8602737784385681, 0.08677584677934647, 0.1183306947350502, 0.3707695007324219, 0.3549920916557312, 0.03944356366991997, 0.0236661396920681, 0.7847226858139038, 0.2692084312438965, 0.24303537607192993, 0.3514665365219116, 0.12712620198726654, 0.007478011772036552, 0.6384713649749756, 0.9260299801826477, 0.7936186194419861, 0.20785249769687653, 0.20302113890647888, 0.7714803218841553, 0.22773289680480957, 0.6831986904144287, 0.7965750098228455, 0.8320088982582092, 0.969783365726471, 0.9925586581230164, 0.5129032135009766, 0.17840111255645752, 0.2453015297651291, 0.04460027813911438, 0.8178670406341553, 0.8483290672302246, 0.9702620506286621, 0.884810209274292, 0.784341037273407, 0.9177476763725281, 0.8114587068557739, 0.8567204475402832, 0.49180638790130615, 0.5153799057006836, 0.2826277017593384, 0.033250316977500916, 0.14962641894817352, 0.17840881645679474, 0.6626613140106201, 0.15292184054851532, 0.744571328163147, 0.27426376938819885, 0.35997119545936584, 0.17827145755290985, 0.058281052857637405, 0.01714148558676243, 0.09256402403116226, 0.010284891352057457, 0.0034282971173524857, 0.0034282971173524857, 0.24963265657424927, 0.7488979697227478, 0.8880546689033508, 0.8719523549079895, 0.12456461787223816, 0.9461928606033325, 0.63161301612854, 0.14443343877792358, 0.35451841354370117, 0.24947592616081238, 0.17507082223892212, 0.0043767704628407955, 0.06127478927373886, 0.0043767704628407955, 0.961342453956604, 0.9425047636032104, 0.5279585719108582, 0.3695710003376007, 0.052795857191085815, 0.0881863385438919, 0.793677031993866, 0.0881863385438919, 0.8019619584083557, 0.9575737118721008, 0.45734304189682007, 0.022867152467370033, 0.5030773282051086, 0.9157556891441345, 0.941461443901062, 0.3074125051498413, 0.2515193223953247, 0.018631061539053917, 0.2515193223953247, 0.0838397741317749, 0.0558931827545166, 0.009315530769526958, 0.6023126244544983, 0.9341848492622375, 0.8589715957641602, 0.7847226858139038, 0.3829207420349121, 0.5891088247299194, 0.9624098539352417, 0.7875028848648071, 0.8400594592094421, 0.8297420144081116, 0.9741223454475403, 0.9449031352996826, 0.8678807616233826, 0.8004624247550964, 0.6726869344711304, 0.9315314888954163, 0.06210210174322128, 0.9370792508125305, 0.9874728322029114, 0.6959542632102966, 0.18980571627616882, 0.10544762015342712, 0.9226879477500916, 0.10693591833114624, 0.21387183666229248, 0.695083498954773, 0.8631101846694946, 0.3822183907032013, 0.3822183907032013, 0.19110919535160065, 0.7799512147903442, 0.22186556458473206, 0.6434101462364197, 0.12202606350183487, 0.9005441069602966, 0.8869806528091431, 0.08869806677103043, 0.2891647219657898, 0.6747177243232727, 0.9371989369392395, 0.06793574243783951, 0.10869718343019485, 0.2173943668603897, 0.5978345274925232, 0.983915388584137, 0.3210403025150299, 0.3210403025150299, 0.15756244957447052, 0.7352914214134216, 0.10504163056612015, 0.9526521563529968, 0.9381319880485535, 0.29822343587875366, 0.6958547234535217, 0.6543706655502319, 0.8225866556167603, 0.9526521563529968, 0.8889203667640686, 0.05628332868218422, 0.5234349966049194, 0.3996116518974304, 0.016884999349713326, 0.5041134357452393, 0.37808504700660706, 0.06301417946815491, 0.9376531839370728, 0.07212717086076736, 0.19195722043514252, 0.5484492182731628, 0.0822673812508583, 0.06855615228414536, 0.10968984663486481, 0.9605657458305359, 0.6400900483131409, 0.908980131149292, 0.6277152895927429, 0.5906079411506653, 0.5998961925506592, 0.6915490031242371, 0.9865080714225769, 0.8653140664100647, 0.10180165618658066, 0.8005629181861877, 0.9654360413551331, 0.7395122647285461, 0.23770037293434143, 0.6533209681510925, 0.9909772276878357, 0.9782134890556335, 0.9260299801826477, 0.9526521563529968, 0.97039395570755, 0.9941216707229614, 0.47438982129096985, 0.20330992341041565, 0.31625989079475403, 0.8184005618095398, 0.9177476763725281, 0.1624341607093811, 0.1443859189748764, 0.4873025119304657, 0.1804824024438858, 0.8453581929206848, 0.09945390373468399, 0.16908255219459534, 0.5917889475822449, 0.16908255219459534, 0.08454127609729767, 0.8059853911399841, 0.869055986404419, 0.12415085732936859, 0.20731596648693085, 0.20731596648693085, 0.26654911041259766, 0.014808284118771553, 0.29616567492485046, 0.8438816070556641, 0.6114504337310791, 0.30572521686553955, 0.8444198369979858, 0.12063140422105789, 0.8490651845932007, 0.9527849555015564, 0.27596455812454224, 0.3010522425174713, 0.25087687373161316, 0.17561380565166473, 0.8346748948097229, 0.08346748352050781, 0.041733741760253906, 0.5695968866348267, 0.29142165184020996, 0.06623218953609467, 0.06623218953609467, 0.4386949837207794, 0.511810839176178, 0.044983115047216415, 0.44983112812042236, 0.4948142468929291, 0.35693880915641785, 0.3989315927028656, 0.1679711937904358, 0.0839855968952179, 0.8260800242424011, 0.8260800242424011, 0.19929133355617523, 0.6850639581680298, 0.11210136860609055, 0.951869785785675, 0.9401184320449829, 0.04000503942370415, 0.96826171875, 0.9134971499443054, 0.8634260892868042, 0.15127821266651154, 0.7563910484313965, 0.53952556848526, 0.6915134787559509, 0.9414793252944946, 0.9342454075813293, 0.8099964261054993, 0.17052556574344635, 0.9756925702095032, 0.8037965297698975, 0.5825497508049011, 0.7327861189842224, 0.48452508449554443, 0.27254536747932434, 0.24226254224777222, 0.6831763982772827, 0.9819561839103699, 0.009441886097192764, 0.8084850907325745, 0.023778975009918213, 0.023778975009918213, 0.14267385005950928, 0.7454580664634705, 0.1064940094947815, 0.2590252161026001, 0.483513742685318, 0.1036100834608078, 0.1381467878818512, 0.8766387701034546, 0.86342453956604, 0.14390408992767334, 0.9142538905143738, 0.9438163042068481, 0.32852184772491455, 0.5913392901420593, 0.9805649518966675, 0.8472367525100708, 0.9775906801223755, 0.7617214918136597, 0.18465974926948547, 0.034623704850673676, 0.011541234329342842, 0.8358354568481445, 0.965387225151062, 0.6511645913124084, 0.3427182137966156, 0.9618818759918213, 0.30897536873817444, 0.3669082522392273, 0.034759730100631714, 0.042484112083911896, 0.15062549710273743, 0.011586575768887997, 0.015448768623173237, 0.06179507449269295, 0.007724384311586618, 0.003862192155793309, 0.6604605913162231, 0.5907949209213257, 0.16140274703502655, 0.054816026240587234, 0.04568002000451088, 0.006090669427067041, 0.1400853991508484, 0.12811754643917084, 0.4740349054336548, 0.12811754643917084, 0.11530578881502151, 0.14092929661273956, 0.8404402732849121, 0.8868343830108643, 0.7843780517578125, 0.2579652965068817, 0.19777338206768036, 0.24076759815216064, 0.09458727389574051, 0.1633780151605606, 0.017197685316205025, 0.03439537063241005, 0.17203718423843384, 0.33084073662757874, 0.24702775478363037, 0.24702775478363037, 0.004411209840327501, 0.6698596477508545, 0.9570965766906738, 0.035448022186756134, 0.9422380924224854, 0.7432091236114502, 0.20644697546958923, 0.5711255669593811, 0.9697553515434265, 0.9177476763725281, 0.9647959470748901, 0.9527689814567566, 0.929722011089325, 0.11305330693721771, 0.8667420148849487, 0.6830835938453674, 0.07881733775138855, 0.05911300331354141, 0.08538544923067093, 0.09195356070995331, 0.4145680069923401, 0.5389384031295776, 0.9635433554649353, 0.9645792841911316, 0.18674354255199432, 0.6536024212837219, 0.09337177127599716, 0.09337177127599716, 0.8619710803031921, 0.9177476763725281, 0.7847226858139038, 0.671349287033081, 0.9526521563529968, 0.7924731969833374, 0.635412871837616, 0.5064709186553955, 0.19479651749134064, 0.07791860401630402, 0.19479651749134064, 0.976867139339447, 0.2919394075870514, 0.45876196026802063, 0.25023379921913147, 0.508994996547699, 0.48686477541923523, 0.9347878098487854, 0.9747312068939209, 0.9850046634674072, 0.15807868540287018, 0.7903934121131897, 0.8888002038002014, 0.883651077747345, 0.947197437286377, 0.9834561347961426, 0.29124215245246887, 0.6032872796058655, 0.104015052318573, 0.4658529758453369, 0.23292648792266846, 0.23292648792266846, 0.5637026429176331, 0.732150137424469, 0.9646126627922058, 0.7842085361480713, 0.9321902394294739, 0.6833015084266663, 0.9023678302764893, 0.519241988658905, 0.3184683918952942, 0.15231098234653473, 0.013846452347934246, 0.8005406856536865, 0.8453513383865356, 0.667938232421875, 0.20328554511070251, 0.02904079295694828, 0.07260198146104813, 0.01452039647847414, 0.13332991302013397, 0.7999795079231262, 0.8962491750717163, 0.24956724047660828, 0.6655126810073853, 0.03804439306259155, 0.009511098265647888, 0.7418656945228577, 0.19973306357860565, 0.7456606030464172, 0.23725564777851105, 0.41592758893966675, 0.11883644759654999, 0.47534579038619995, 0.9289970397949219, 0.9526521563529968, 0.6696879267692566, 0.5268920660018921, 0.46834850311279297, 0.6283464431762695, 0.31417322158813477, 0.9177476763725281, 0.9782431721687317, 0.39738065004348755, 0.19869032502174377, 0.33115053176879883, 0.9728913307189941, 0.983440637588501, 0.905211329460144, 0.9545953273773193, 0.3846938908100128, 0.5449830293655396, 0.03205782547593117, 0.03205782547593117, 0.959974467754364, 0.5980386137962341, 0.031475719064474106, 0.17311644554138184, 0.1468866765499115, 0.02098381146788597, 0.02622976526618004, 0.9288088083267212, 0.9329419732093811, 0.659792423248291, 0.9599664211273193, 0.6441166996955872, 0.7979150414466858, 0.40863507986068726, 0.3405292332172394, 0.09430040419101715, 0.0052389116026461124, 0.015716733410954475, 0.11001714318990707, 0.026194557547569275, 0.9840285181999207, 0.3411370515823364, 0.3411370515823364, 0.29849493503570557, 0.3985215723514557, 0.05832023173570633, 0.1360805481672287, 0.3985215723514557, 0.9479385614395142, 0.8260800242424011, 0.21262234449386597, 0.7441781759262085, 0.026577793061733246, 0.9723210334777832, 0.6980263590812683, 0.2835732102394104, 0.9484222531318665, 0.961342453956604, 0.8423064351081848, 0.9177088737487793, 0.9840859770774841, 0.9325096607208252, 0.022744137793779373, 0.022744137793779373, 0.022744137793779373, 0.9670883417129517, 0.1179342269897461, 0.5559756755828857, 0.3032594323158264, 0.016847746446728706, 0.18967613577842712, 0.14225710928440094, 0.40306180715560913, 0.260804682970047, 0.7260647416114807, 0.9248102903366089, 0.9381319880485535, 0.9526521563529968, 0.7445136904716492, 0.10852266848087311, 0.10852266848087311, 0.651136040687561, 0.10852266848087311, 0.9526521563529968, 0.8913536667823792, 0.48034143447875977, 0.8872337341308594, 0.3758126199245453, 0.09395315498113632, 0.2348828762769699, 0.2348828762769699, 0.8975607752799988, 0.6153221130371094, 0.38457632064819336, 0.754397451877594, 0.3554747998714447, 0.3554747998714447, 0.9118530750274658, 0.867114245891571, 0.43837711215019226, 0.43837711215019226, 0.924091637134552, 0.8428584337234497, 0.5640648007392883, 0.08453124016523361, 0.8875780701637268, 0.8614915013313293, 0.10337897390127182, 0.022973105311393738, 0.44922372698783875, 0.1497412472963333, 0.22461186349391937, 0.07487062364816666, 0.1497412472963333, 0.8561769723892212], \"Term\": [\"access\", \"access\", \"access\", \"accordance\", \"accountability\", \"accountability\", \"accountable\", \"accountable\", \"accountable\", \"accounting\", \"achieve\", \"achieve\", \"achieve\", \"achieve\", \"achieve\", \"acquire\", \"acquisition\", \"activity\", \"activity\", \"activity\", \"activity\", \"actor\", \"actor\", \"address\", \"address\", \"address\", \"administer\", \"administrative\", \"adopt\", \"advisor\", \"advisor\", \"advocacy\", \"advocacy\", \"advocacy\", \"advocate\", \"agency\", \"agenda\", \"agricultural\", \"aid\", \"aid\", \"aim\", \"aim\", \"aim\", \"aim\", \"aim\", \"aim\", \"aim\", \"aim\", \"also\", \"also\", \"also\", \"also\", \"also\", \"amran\", \"analysis\", \"analyze\", \"anti\", \"anticorruption\", \"anticorruption\", \"anticorruption\", \"arkan\", \"ask\", \"assert\", \"assess\", \"assessment\", \"assessment\", \"assessment\", \"asset\", \"assist\", \"assist\", \"assist\", \"assistance\", \"assistance\", \"assistance\", \"assistance\", \"assistance\", \"association\", \"assume\", \"auditing\", \"authority\", \"authoritys\", \"automation\", \"autonomy\", \"availability\", \"away\", \"backlog\", \"bar\", \"barrier\", \"base\", \"base\", \"base\", \"base\", \"basic\", \"basic\", \"basic\", \"behavior\", \"benefit\", \"better\", \"bhs\", \"bilateral\", \"birth\", \"body\", \"bring\", \"broad\", \"budget\", \"budgeting\", \"build\", \"build\", \"build\", \"build\", \"build\", \"business\", \"capability\", \"capable\", \"capable\", \"capacity\", \"capacity\", \"capacity\", \"capacity\", \"capacity\", \"capacity\", \"capital\", \"capital\", \"case\", \"case\", \"central\", \"channel\", \"characterize\", \"charge\", \"child\", \"citizen\", \"citizen\", \"citizen\", \"citizen\", \"citizen\", \"civic\", \"civic\", \"civil_society\", \"civil_society\", \"climate\", \"climate\", \"clinical\", \"co\", \"code\", \"collaboration\", \"collection\", \"combat\", \"combination\", \"commercial\", \"commercial\", \"commodity\", \"commune\", \"communicate\", \"communication\", \"communication\", \"communication\", \"community\", \"community\", \"community\", \"community\", \"community\", \"community\", \"compliance\", \"component\", \"component\", \"comprehensive\", \"comprehensive\", \"condition\", \"condition\", \"conduct\", \"conduct\", \"confidence\", \"confidence\", \"conflict\", \"conflict\", \"constituency\", \"constituent\", \"constituent\", \"construction\", \"continuous\", \"contribute\", \"contribute\", \"contribute\", \"contribute\", \"contribution\", \"control\", \"coordinate\", \"core\", \"core\", \"core\", \"core\", \"corruption\", \"corruption\", \"could\", \"council\", \"counterpart\", \"court\", \"create\", \"create\", \"create\", \"create\", \"creation\", \"credibility\", \"credible\", \"credit\", \"critical\", \"critical\", \"critical\", \"csos\", \"culture\", \"curriculum\", \"customer\", \"customer\", \"deal\", \"debate\", \"decentralize\", \"decision_make\", \"decision_making\", \"deliver\", \"deliver\", \"deliver\", \"delivery\", \"delivery\", \"democratic\", \"democratic\", \"democratic\", \"democratic\", \"design\", \"design\", \"design\", \"design\", \"develop\", \"develop\", \"developed\", \"development\", \"development\", \"development\", \"development\", \"development\", \"development\", \"dialogue\", \"disbursement\", \"dispute\", \"distribution\", \"diversify\", \"document\", \"drafting\", \"duty\", \"economic\", \"economic\", \"economic\", \"economic\", \"economic_growth\", \"economy\", \"education\", \"education\", \"educational\", \"effectively\", \"effectively\", \"effectiveness\", \"effectiveness\", \"efficiency\", \"efficiently\", \"effort\", \"effort\", \"effort\", \"effort\", \"elect\", \"election\", \"electoral\", \"element\", \"eligible\", \"embed\", \"emerge\", \"employment\", \"enabling_environment\", \"encourage\", \"encourage\", \"encourage\", \"enforcement\", \"engineer\", \"enhance\", \"enhance\", \"enhance\", \"enhance\", \"enhancement\", \"environment\", \"equity\", \"essential\", \"establish\", \"establish\", \"ethic\", \"ethical\", \"evaluation\", \"examine\", \"expand\", \"expectation\", \"expenditure\", \"expenditure\", \"extension\", \"external\", \"externally\", \"face\", \"facility\", \"faculty\", \"fair\", \"field\", \"finally\", \"finally\", \"finance\", \"financial\", \"financial\", \"financial\", \"financial\", \"financial\", \"financing\", \"fiscal\", \"forest\", \"formulation\", \"foundation\", \"free\", \"freedom\", \"fund\", \"fund\", \"funding\", \"gain\", \"gender\", \"gender\", \"generate\", \"goal\", \"goal\", \"goal\", \"goal\", \"goal\", \"goal\", \"good\", \"good\", \"good\", \"good\", \"govern\", \"governance\", \"governance\", \"governance\", \"governance\", \"governance\", \"governance\", \"governate\", \"government\", \"government\", \"government\", \"government\", \"government\", \"governmental\", \"goy\", \"grant\", \"grant\", \"great\", \"great\", \"group\", \"group\", \"grow\", \"growth\", \"guidance\", \"health\", \"help\", \"help\", \"help\", \"help\", \"hold\", \"hope\", \"human\", \"human_right\", \"humanitarian\", \"identity\", \"immediate\", \"impact\", \"impartial\", \"implement\", \"implement\", \"implement\", \"implement\", \"implementation\", \"implementation\", \"implementation\", \"importance\", \"improve\", \"improve\", \"improve\", \"improve\", \"improve\", \"improve\", \"improve\", \"improve\", \"improve\", \"improvement\", \"improvement\", \"incentive\", \"include\", \"include\", \"inclusive\", \"income\", \"increase\", \"increase\", \"increase\", \"increase\", \"increase\", \"increase\", \"increase\", \"inculcate\", \"independence\", \"independent\", \"independent\", \"independent\", \"individual\", \"individual\", \"individual\", \"indonesian\", \"informal\", \"infrastructure\", \"infrastructure\", \"infrastructure\", \"initiate\", \"initiative\", \"institution\", \"institution\", \"institution\", \"institution\", \"institution\", \"institution\", \"institution\", \"instrument\", \"integrated\", \"intend\", \"intermediate\", \"internal\", \"internal\", \"international\", \"introduce\", \"investigate\", \"investigation\", \"investment\", \"involve\", \"involvement\", \"job\", \"journalist\", \"judicial\", \"judicial\", \"judiciary\", \"justice\", \"key\", \"key\", \"key\", \"know\", \"knowledge\", \"knowledge\", \"knowledge\", \"land\", \"large\", \"large\", \"large\", \"launch\", \"law\", \"law\", \"law\", \"lawyer\", \"lead\", \"lead\", \"leadership\", \"leadership\", \"learn\", \"legal\", \"legal\", \"legal\", \"legal\", \"legislative\", \"legitimate\", \"legitimate\", \"level\", \"level\", \"level\", \"lgi\", \"lgu\", \"life\", \"life\", \"linkage\", \"literacy\", \"living\", \"loan\", \"local\", \"local\", \"local\", \"local\", \"make\", \"make\", \"make\", \"manage\", \"manage\", \"management\", \"management\", \"management\", \"management\", \"management\", \"manner\", \"marginalize\", \"material\", \"maternal\", \"mayor\", \"meaningful\", \"measurable\", \"mechanism\", \"medium\", \"medium\", \"meet\", \"meeting\", \"ministry\", \"ministry\", \"model\", \"monitor\", \"monitoring\", \"multilateral\", \"multisector\", \"municipal\", \"municipality\", \"national\", \"national\", \"national\", \"natural\", \"necessity\", \"need\", \"need\", \"need\", \"need\", \"network\", \"network\", \"new\", \"new\", \"new\", \"new\", \"news\", \"number\", \"number\", \"objective\", \"objective\", \"objective\", \"objective\", \"objective\", \"obligation\", \"officer\", \"officer\", \"official\", \"official\", \"open\", \"operate\", \"opportunity\", \"opportunity\", \"opportunity\", \"opportunity\", \"order\", \"order\", \"order\", \"organization\", \"organization\", \"organization\", \"organization\", \"outreach\", \"outreach\", \"overall\", \"overall\", \"overall\", \"oversight\", \"oversight\", \"oversight\", \"oversight\", \"pa\", \"pace\", \"palestinian\", \"palestinian\", \"palestinian\", \"parliament\", \"participation\", \"participation\", \"participatory\", \"partner\", \"partnership\", \"party\", \"party\", \"path\", \"payment\", \"peace\", \"people\", \"performance\", \"performance\", \"period\", \"personnel\", \"pilap\", \"place\", \"planning\", \"planning\", \"planning\", \"play\", \"policy\", \"policy\", \"political\", \"political\", \"political\", \"political\", \"population\", \"population\", \"practice\", \"practice\", \"practice\", \"practice\", \"prepare\", \"primary\", \"primary\", \"principle\", \"prioritize\", \"priority\", \"priority\", \"private\", \"problem\", \"procedure\", \"process\", \"process\", \"process\", \"process\", \"processing\", \"profession\", \"professional\", \"professional\", \"professionalism\", \"program\", \"program\", \"program\", \"program\", \"program\", \"program\", \"program\", \"program\", \"program\", \"program\", \"programming\", \"project\", \"project\", \"project\", \"project\", \"project\", \"project\", \"promote\", \"promote\", \"promote\", \"promote\", \"promote\", \"promotion\", \"prosecute\", \"protect\", \"provide\", \"provide\", \"provide\", \"provide\", \"provide\", \"provide\", \"provide\", \"public\", \"public\", \"public\", \"public\", \"public\", \"purchase\", \"purpose\", \"purpose\", \"put\", \"quality\", \"quality\", \"radio\", \"range\", \"rather\", \"reach\", \"recognize\", \"record\", \"reduce\", \"reduce\", \"reform\", \"reform\", \"reform\", \"reform\", \"reform\", \"regional\", \"regional\", \"regulation\", \"regulatory\", \"relate\", \"relate\", \"relate\", \"relate\", \"renovation\", \"repository\", \"reproductive\", \"research\", \"reserve\", \"resolution\", \"resolve\", \"resource\", \"resource\", \"resource\", \"resource\", \"respect\", \"respond\", \"respond\", \"respond\", \"responsive\", \"responsive\", \"responsiveness\", \"result\", \"revenue\", \"right\", \"right\", \"risk\", \"road\", \"robust\", \"role\", \"rule\", \"rule\", \"rule\", \"rural\", \"rural\", \"rural\", \"safeguard\", \"satisfaction\", \"scale\", \"scheme\", \"school\", \"scope\", \"second\", \"sector\", \"sector\", \"sector\", \"sector\", \"secure\", \"security\", \"seek\", \"seek\", \"seek\", \"seek\", \"seek\", \"select\", \"select\", \"self\", \"serve\", \"serve\", \"service\", \"service\", \"service\", \"service\", \"service_delivery\", \"service_delivery\", \"set\", \"set\", \"set\", \"short\", \"sidewalk\", \"situation\", \"small\", \"small\", \"social\", \"social\", \"sole\", \"staff\", \"stakeholder\", \"stakeholder\", \"stakeholder\", \"standard\", \"state\", \"status\", \"step\", \"strategic\", \"strategic\", \"strategic\", \"strategic\", \"streamline\", \"strengthen\", \"strengthen\", \"strengthen\", \"strengthen\", \"strengthen\", \"strengthen\", \"study\", \"sub\", \"subnational\", \"success\", \"successful\", \"supply\", \"support\", \"support\", \"support\", \"support\", \"support\", \"support\", \"support\", \"sustain\", \"sustainable\", \"sustainable\", \"sustainable\", \"system\", \"system\", \"system\", \"system\", \"tackle\", \"tangible\", \"target\", \"target\", \"target\", \"tax\", \"technical_assistance\", \"technical_assistance\", \"term\", \"territory\", \"test\", \"tool\", \"trade\", \"training\", \"training\", \"training\", \"training\", \"transition\", \"transparency\", \"transparency\", \"transparency\", \"transparency\", \"transparent\", \"transparent\", \"transparent\", \"transparent\", \"trust\", \"ultimately\", \"undergo\", \"underlie\", \"underserve\", \"understand\", \"understand\", \"understand\", \"understand\", \"unforeseeable\", \"university\", \"update\", \"urban\", \"use\", \"use\", \"use\", \"use\", \"utilize\", \"value\", \"value\", \"variety\", \"various\", \"various\", \"voice\", \"voter\", \"vulnerability\", \"vulnerability\", \"wastewater\", \"water\", \"website\", \"woman\", \"woman\", \"work\", \"work\", \"work\", \"would\", \"would\", \"would\", \"would\", \"would\", \"youth\"]}, \"R\": 30, \"lambda.step\": 0.01, \"plot.opts\": {\"xlab\": \"PC1\", \"ylab\": \"PC2\"}, \"topic.order\": [10, 13, 1, 12, 8, 3, 5, 11, 6, 2, 9, 14, 4, 7]};\n",
       "\n",
       "function LDAvis_load_lib(url, callback){\n",
       "  var s = document.createElement('script');\n",
       "  s.src = url;\n",
       "  s.async = true;\n",
       "  s.onreadystatechange = s.onload = callback;\n",
       "  s.onerror = function(){console.warn(\"failed to load library \" + url);};\n",
       "  document.getElementsByTagName(\"head\")[0].appendChild(s);\n",
       "}\n",
       "\n",
       "if(typeof(LDAvis) !== \"undefined\"){\n",
       "   // already loaded: just create the visualization\n",
       "   !function(LDAvis){\n",
       "       new LDAvis(\"#\" + \"ldavis_el98211406226399028005114367419\", ldavis_el98211406226399028005114367419_data);\n",
       "   }(LDAvis);\n",
       "}else if(typeof define === \"function\" && define.amd){\n",
       "   // require.js is available: use it to load d3/LDAvis\n",
       "   require.config({paths: {d3: \"https://cdnjs.cloudflare.com/ajax/libs/d3/3.5.5/d3.min\"}});\n",
       "   require([\"d3\"], function(d3){\n",
       "      window.d3 = d3;\n",
       "      LDAvis_load_lib(\"https://cdn.rawgit.com/bmabey/pyLDAvis/files/ldavis.v1.0.0.js\", function(){\n",
       "        new LDAvis(\"#\" + \"ldavis_el98211406226399028005114367419\", ldavis_el98211406226399028005114367419_data);\n",
       "      });\n",
       "    });\n",
       "}else{\n",
       "    // require.js not available: dynamically load d3 & LDAvis\n",
       "    LDAvis_load_lib(\"https://cdnjs.cloudflare.com/ajax/libs/d3/3.5.5/d3.min.js\", function(){\n",
       "         LDAvis_load_lib(\"https://cdn.rawgit.com/bmabey/pyLDAvis/files/ldavis.v1.0.0.js\", function(){\n",
       "                 new LDAvis(\"#\" + \"ldavis_el98211406226399028005114367419\", ldavis_el98211406226399028005114367419_data);\n",
       "            })\n",
       "         });\n",
       "}\n",
       "</script>"
      ],
      "text/plain": [
       "PreparedData(topic_coordinates=              x         y  topics  cluster       Freq\n",
       "topic                                                \n",
       "9     -0.214652 -0.044523       1        1  29.700909\n",
       "12    -0.212944  0.037024       2        1  21.353106\n",
       "0     -0.213064 -0.101309       3        1  12.745850\n",
       "11    -0.163651  0.211864       4        1   7.508701\n",
       "7     -0.138004 -0.230177       5        1   7.082193\n",
       "2     -0.159729  0.108429       6        1   6.514058\n",
       "4      0.096910 -0.050965       7        1   4.461314\n",
       "10     0.087134 -0.115674       8        1   3.021626\n",
       "5      0.157279 -0.015105       9        1   2.621002\n",
       "1      0.075594  0.204990      10        1   2.142137\n",
       "8      0.178530 -0.003932      11        1   1.118075\n",
       "13     0.182542 -0.011989      12        1   0.937341\n",
       "3      0.154802  0.011660      13        1   0.628985\n",
       "6      0.169254 -0.000292      14        1   0.164708, topic_info=             Term        Freq       Total Category  logprob  loglift\n",
       "118         local  177.000000  177.000000  Default  30.0000  30.0000\n",
       "16    development  100.000000  100.000000  Default  29.0000  29.0000\n",
       "75          legal   73.000000   73.000000  Default  28.0000  28.0000\n",
       "308        reform  152.000000  152.000000  Default  27.0000  27.0000\n",
       "72        justice   81.000000   81.000000  Default  26.0000  26.0000\n",
       "...           ...         ...         ...      ...      ...      ...\n",
       "1542     lebanese    0.011047    0.721823  Topic14  -7.6935   2.2291\n",
       "546    accordance    0.012493    4.362663  Topic14  -7.5705   0.5531\n",
       "1332     together    0.011040    0.717378  Topic14  -7.6942   2.2347\n",
       "1422    modernize    0.011040    0.719034  Topic14  -7.6942   2.2324\n",
       "1318     countrys    0.011040    0.732605  Topic14  -7.6942   2.2137\n",
       "\n",
       "[699 rows x 6 columns], token_table=      Topic      Freq            Term\n",
       "term                                 \n",
       "401       1  0.032312          access\n",
       "401       3  0.743177          access\n",
       "401       4  0.193872          access\n",
       "546       1  0.916871      accordance\n",
       "143       2  0.332157  accountability\n",
       "...     ...       ...             ...\n",
       "182       5  0.149741           would\n",
       "182       8  0.224612           would\n",
       "182      10  0.074871           would\n",
       "182      12  0.149741           would\n",
       "730      11  0.856177           youth\n",
       "\n",
       "[874 rows x 3 columns], R=30, lambda_step=0.01, plot_opts={'xlab': 'PC1', 'ylab': 'PC2'}, topic_order=[10, 13, 1, 12, 8, 3, 5, 11, 6, 2, 9, 14, 4, 7])"
      ]
     },
     "execution_count": 27,
     "metadata": {},
     "output_type": "execute_result"
    }
   ],
   "source": [
    "# Visualize the topics\n",
    "pyLDAvis.enable_notebook()\n",
    "vis = pyLDAvis.gensim.prepare(lda_model, corpus, id2word)\n",
    "vis"
   ]
  },
  {
   "cell_type": "code",
   "execution_count": 18,
   "metadata": {},
   "outputs": [],
   "source": [
    "def compute_coherence_values(dictionary, corpus, texts, limit, start=2, step=3):\n",
    "    \"\"\"\n",
    "    Compute c_v coherence for various number of topics\n",
    "\n",
    "    Parameters:\n",
    "    ----------\n",
    "    dictionary : Gensim dictionary\n",
    "    corpus : Gensim corpus\n",
    "    texts : List of input texts\n",
    "    limit : Max num of topics\n",
    "\n",
    "    Returns:\n",
    "    -------\n",
    "    model_list : List of LDA topic models\n",
    "    coherence_values : Coherence values corresponding to the LDA model with respective number of topics\n",
    "    \"\"\"\n",
    "    coherence_values = []\n",
    "    model_list = []\n",
    "    for num_topics in range(start, limit, step):\n",
    "        model = gensim.models.ldamodel.LdaModel(corpus=corpus, num_topics=num_topics, id2word=id2word)\n",
    "        model_list.append(model)\n",
    "        coherencemodel = CoherenceModel(model=model, texts=texts, dictionary=dictionary, coherence='c_v')\n",
    "        coherence_values.append(coherencemodel.get_coherence())\n",
    "\n",
    "    return model_list, coherence_values\n",
    "\n",
    "# Can take a long time to run.\n",
    "model_list, coherence_values = compute_coherence_values(dictionary=id2word, corpus=corpus, texts=data_lemmatized, start=2, limit=40, step=6)"
   ]
  },
  {
   "cell_type": "code",
   "execution_count": 19,
   "metadata": {},
   "outputs": [
    {
     "data": {
      "image/png": "[encoded data removed]",
      "text/plain": [
       "<Figure size 432x288 with 1 Axes>"
      ]
     },
     "metadata": {
      "needs_background": "light"
     },
     "output_type": "display_data"
    }
   ],
   "source": [
    "# Show graph\n",
    "limit=40; start=2; step=6;\n",
    "x = range(start, limit, step)\n",
    "plt.plot(x, coherence_values)\n",
    "plt.xlabel(\"Num Topics\")\n",
    "plt.ylabel(\"Coherence score\")\n",
    "plt.legend((\"coherence_values\"), loc='best')\n",
    "plt.show()"
   ]
  },
  {
   "cell_type": "code",
   "execution_count": 20,
   "metadata": {},
   "outputs": [
    {
     "name": "stdout",
     "output_type": "stream",
     "text": [
      "Num Topics = 2  has Coherence Value of 0.3559\n",
      "Num Topics = 8  has Coherence Value of 0.3625\n",
      "Num Topics = 14  has Coherence Value of 0.3799\n",
      "Num Topics = 20  has Coherence Value of 0.3571\n",
      "Num Topics = 26  has Coherence Value of 0.3575\n",
      "Num Topics = 32  has Coherence Value of 0.3555\n",
      "Num Topics = 38  has Coherence Value of 0.3693\n"
     ]
    }
   ],
   "source": [
    "# Print the coherence scores\n",
    "for m, cv in zip(x, coherence_values):\n",
    "    print(\"Num Topics =\", m, \" has Coherence Value of\", round(cv, 4))"
   ]
  },
  {
   "cell_type": "code",
   "execution_count": 21,
   "metadata": {},
   "outputs": [],
   "source": [
    "# Build LDA model\n",
    "lda_model_final = gensim.models.ldamodel.LdaModel(corpus=corpus,\n",
    "                                           id2word=id2word,\n",
    "                                           num_topics=14, \n",
    "                                           random_state=100,\n",
    "                                           update_every=1,\n",
    "                                           chunksize=100,\n",
    "                                           passes=10,\n",
    "                                           alpha='auto',\n",
    "                                           per_word_topics=True)"
   ]
  },
  {
   "cell_type": "code",
   "execution_count": 22,
   "metadata": {},
   "outputs": [],
   "source": [
    "## USING TF-IDF\n",
    "## TOPICS = 30\n",
    "# minimum_probability=0.0 - total probability = 1\n",
    "train_vecs = []\n",
    "for i in range(len(df)):\n",
    "    top_topics = (\n",
    "        lda_model_final.get_document_topics(corpus\n",
    "                                      ,minimum_probability=0.0))\n",
    "    topic_vec = [top_topics[i][1] for i in range(10)]\n",
    "    #topic_vec.extend([len(df.iloc[i].proj_desc)])\n",
    "    train_vecs.append(topic_vec)\n"
   ]
  },
  {
   "cell_type": "code",
   "execution_count": 23,
   "metadata": {},
   "outputs": [
    {
     "data": {
      "text/html": [
       "<div>\n",
       "<style scoped>\n",
       "    .dataframe tbody tr th:only-of-type {\n",
       "        vertical-align: middle;\n",
       "    }\n",
       "\n",
       "    .dataframe tbody tr th {\n",
       "        vertical-align: top;\n",
       "    }\n",
       "\n",
       "    .dataframe thead th {\n",
       "        text-align: right;\n",
       "    }\n",
       "</style>\n",
       "<table border=\"1\" class=\"dataframe\">\n",
       "  <thead>\n",
       "    <tr style=\"text-align: right;\">\n",
       "      <th></th>\n",
       "      <th>0</th>\n",
       "      <th>1</th>\n",
       "      <th>2</th>\n",
       "      <th>3</th>\n",
       "      <th>4</th>\n",
       "      <th>5</th>\n",
       "      <th>6</th>\n",
       "      <th>7</th>\n",
       "      <th>8</th>\n",
       "      <th>9</th>\n",
       "    </tr>\n",
       "  </thead>\n",
       "  <tbody>\n",
       "    <tr>\n",
       "      <th>0</th>\n",
       "      <td>(1, 0.00091324234)</td>\n",
       "      <td>(1, 0.0008990198)</td>\n",
       "      <td>(1, 0.0025479372)</td>\n",
       "      <td>(1, 0.0010255082)</td>\n",
       "      <td>(1, 0.06992756)</td>\n",
       "      <td>(1, 0.0012995835)</td>\n",
       "      <td>(1, 0.0007895756)</td>\n",
       "      <td>(1, 0.0016722439)</td>\n",
       "      <td>(1, 0.001299409)</td>\n",
       "      <td>(1, 0.00067927374)</td>\n",
       "    </tr>\n",
       "    <tr>\n",
       "      <th>1</th>\n",
       "      <td>(1, 0.00091324246)</td>\n",
       "      <td>(1, 0.00089901994)</td>\n",
       "      <td>(1, 0.002547937)</td>\n",
       "      <td>(1, 0.0010255083)</td>\n",
       "      <td>(1, 0.06992762)</td>\n",
       "      <td>(1, 0.0012995836)</td>\n",
       "      <td>(1, 0.0007895757)</td>\n",
       "      <td>(1, 0.0016722444)</td>\n",
       "      <td>(1, 0.0012994088)</td>\n",
       "      <td>(1, 0.00067927374)</td>\n",
       "    </tr>\n",
       "    <tr>\n",
       "      <th>2</th>\n",
       "      <td>(1, 0.0009132424)</td>\n",
       "      <td>(1, 0.00089901994)</td>\n",
       "      <td>(1, 0.0025479367)</td>\n",
       "      <td>(1, 0.0010255078)</td>\n",
       "      <td>(1, 0.069927506)</td>\n",
       "      <td>(1, 0.0012995835)</td>\n",
       "      <td>(1, 0.0007895757)</td>\n",
       "      <td>(1, 0.0016722439)</td>\n",
       "      <td>(1, 0.001299409)</td>\n",
       "      <td>(1, 0.0006792738)</td>\n",
       "    </tr>\n",
       "    <tr>\n",
       "      <th>3</th>\n",
       "      <td>(1, 0.0009132424)</td>\n",
       "      <td>(1, 0.0008990198)</td>\n",
       "      <td>(1, 0.002547937)</td>\n",
       "      <td>(1, 0.0010255078)</td>\n",
       "      <td>(1, 0.069927625)</td>\n",
       "      <td>(1, 0.0012995835)</td>\n",
       "      <td>(1, 0.00078957574)</td>\n",
       "      <td>(1, 0.0016722439)</td>\n",
       "      <td>(1, 0.001299409)</td>\n",
       "      <td>(1, 0.00067927374)</td>\n",
       "    </tr>\n",
       "    <tr>\n",
       "      <th>4</th>\n",
       "      <td>(1, 0.0009132423)</td>\n",
       "      <td>(1, 0.00089901994)</td>\n",
       "      <td>(1, 0.002547937)</td>\n",
       "      <td>(1, 0.001025508)</td>\n",
       "      <td>(1, 0.069927484)</td>\n",
       "      <td>(1, 0.0012995836)</td>\n",
       "      <td>(1, 0.0007895755)</td>\n",
       "      <td>(1, 0.0016722444)</td>\n",
       "      <td>(1, 0.0012994088)</td>\n",
       "      <td>(1, 0.00067927374)</td>\n",
       "    </tr>\n",
       "  </tbody>\n",
       "</table>\n",
       "</div>"
      ],
      "text/plain": [
       "                    0                   1                  2  \\\n",
       "0  (1, 0.00091324234)   (1, 0.0008990198)  (1, 0.0025479372)   \n",
       "1  (1, 0.00091324246)  (1, 0.00089901994)   (1, 0.002547937)   \n",
       "2   (1, 0.0009132424)  (1, 0.00089901994)  (1, 0.0025479367)   \n",
       "3   (1, 0.0009132424)   (1, 0.0008990198)   (1, 0.002547937)   \n",
       "4   (1, 0.0009132423)  (1, 0.00089901994)   (1, 0.002547937)   \n",
       "\n",
       "                   3                 4                  5                   6  \\\n",
       "0  (1, 0.0010255082)   (1, 0.06992756)  (1, 0.0012995835)   (1, 0.0007895756)   \n",
       "1  (1, 0.0010255083)   (1, 0.06992762)  (1, 0.0012995836)   (1, 0.0007895757)   \n",
       "2  (1, 0.0010255078)  (1, 0.069927506)  (1, 0.0012995835)   (1, 0.0007895757)   \n",
       "3  (1, 0.0010255078)  (1, 0.069927625)  (1, 0.0012995835)  (1, 0.00078957574)   \n",
       "4   (1, 0.001025508)  (1, 0.069927484)  (1, 0.0012995836)   (1, 0.0007895755)   \n",
       "\n",
       "                   7                  8                   9  \n",
       "0  (1, 0.0016722439)   (1, 0.001299409)  (1, 0.00067927374)  \n",
       "1  (1, 0.0016722444)  (1, 0.0012994088)  (1, 0.00067927374)  \n",
       "2  (1, 0.0016722439)   (1, 0.001299409)   (1, 0.0006792738)  \n",
       "3  (1, 0.0016722439)   (1, 0.001299409)  (1, 0.00067927374)  \n",
       "4  (1, 0.0016722444)  (1, 0.0012994088)  (1, 0.00067927374)  "
      ]
     },
     "execution_count": 23,
     "metadata": {},
     "output_type": "execute_result"
    }
   ],
   "source": [
    "topic_score = pd.DataFrame(train_vecs)\n",
    "topic_score.head()"
   ]
  },
  {
   "cell_type": "code",
   "execution_count": null,
   "metadata": {},
   "outputs": [],
   "source": []
  }
 ],
 "metadata": {
  "kernelspec": {
   "display_name": "Python 3",
   "language": "python",
   "name": "python3"
  },
  "language_info": {
   "codemirror_mode": {
    "name": "ipython",
    "version": 3
   },
   "file_extension": ".py",
   "mimetype": "text/x-python",
   "name": "python",
   "nbconvert_exporter": "python",
   "pygments_lexer": "ipython3",
   "version": "3.7.7"
  }
 },
 "nbformat": 4,
 "nbformat_minor": 4
}
