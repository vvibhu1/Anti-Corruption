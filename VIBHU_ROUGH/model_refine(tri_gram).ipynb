{
 "cells": [
  {
   "cell_type": "code",
   "execution_count": 1,
   "metadata": {},
   "outputs": [],
   "source": [
    "import pandas as pd\n",
    "import numpy as np"
   ]
  },
  {
   "cell_type": "code",
   "execution_count": 2,
   "metadata": {},
   "outputs": [],
   "source": [
    "df= pd.read_csv('/Users/yanglingxi/Documents/GitHub/Anti-Corruption/Data Provided/USAID_Project_Data/USAID_Anticorruption_Projects_Database.csv')"
   ]
  },
  {
   "cell_type": "code",
   "execution_count": 3,
   "metadata": {},
   "outputs": [
    {
     "data": {
      "text/html": [
       "<div>\n",
       "<style scoped>\n",
       "    .dataframe tbody tr th:only-of-type {\n",
       "        vertical-align: middle;\n",
       "    }\n",
       "\n",
       "    .dataframe tbody tr th {\n",
       "        vertical-align: top;\n",
       "    }\n",
       "\n",
       "    .dataframe thead th {\n",
       "        text-align: right;\n",
       "    }\n",
       "</style>\n",
       "<table border=\"1\" class=\"dataframe\">\n",
       "  <thead>\n",
       "    <tr style=\"text-align: right;\">\n",
       "      <th></th>\n",
       "      <th>uuid</th>\n",
       "      <th>region</th>\n",
       "      <th>country</th>\n",
       "      <th>proj_nm</th>\n",
       "      <th>st_date</th>\n",
       "      <th>end_date</th>\n",
       "      <th>awd_amount</th>\n",
       "      <th>awd_value</th>\n",
       "      <th>implementer</th>\n",
       "      <th>sector</th>\n",
       "      <th>...</th>\n",
       "      <th>rfp_rftop</th>\n",
       "      <th>final_res</th>\n",
       "      <th>mind_eval</th>\n",
       "      <th>final_eval</th>\n",
       "      <th>audit</th>\n",
       "      <th>interim_rep</th>\n",
       "      <th>addl_docs</th>\n",
       "      <th>addl_info</th>\n",
       "      <th>corruption</th>\n",
       "      <th>stability</th>\n",
       "    </tr>\n",
       "  </thead>\n",
       "  <tbody>\n",
       "    <tr>\n",
       "      <th>0</th>\n",
       "      <td>1</td>\n",
       "      <td>South and Central Asia (SCA)</td>\n",
       "      <td>Afghanistan</td>\n",
       "      <td>Assistance for Afghanistan's Anti-Corruption A...</td>\n",
       "      <td>2010</td>\n",
       "      <td>2013</td>\n",
       "      <td>e) $25 M-$50 M</td>\n",
       "      <td>26642989</td>\n",
       "      <td>Management Systems International (MSI)</td>\n",
       "      <td>Independent Agencies, Civil Society</td>\n",
       "      <td>...</td>\n",
       "      <td>NaN</td>\n",
       "      <td>http://pdf.usaid.gov/pdf_docs/PA00JP3T.pdf</td>\n",
       "      <td>NaN</td>\n",
       "      <td>NaN</td>\n",
       "      <td>NaN</td>\n",
       "      <td>NaN</td>\n",
       "      <td>http://www.msiworldwide.com/project/supporting...</td>\n",
       "      <td>NaN</td>\n",
       "      <td>High Corruption</td>\n",
       "      <td>Unstable</td>\n",
       "    </tr>\n",
       "    <tr>\n",
       "      <th>1</th>\n",
       "      <td>2</td>\n",
       "      <td>South and Central Asia (SCA)</td>\n",
       "      <td>Afghanistan</td>\n",
       "      <td>Rule of Law Stabilization Program - Formal Com...</td>\n",
       "      <td>2010</td>\n",
       "      <td>2012</td>\n",
       "      <td>e) $25 M-$50 M</td>\n",
       "      <td>33700000</td>\n",
       "      <td>TetraTech ARD</td>\n",
       "      <td>Rule of Law</td>\n",
       "      <td>...</td>\n",
       "      <td>NaN</td>\n",
       "      <td>NaN</td>\n",
       "      <td>NaN</td>\n",
       "      <td>http://pdf.usaid.gov/pdf_docs/PDACU496.pdf</td>\n",
       "      <td>NaN</td>\n",
       "      <td>NaN</td>\n",
       "      <td>NaN</td>\n",
       "      <td>NaN</td>\n",
       "      <td>Very High Corruption</td>\n",
       "      <td>Very Unstable</td>\n",
       "    </tr>\n",
       "    <tr>\n",
       "      <th>2</th>\n",
       "      <td>3</td>\n",
       "      <td>South and Central Asia (SCA)</td>\n",
       "      <td>Afghanistan</td>\n",
       "      <td>Afghanistan Rule of Law Stabilization Project ...</td>\n",
       "      <td>2011</td>\n",
       "      <td>2012</td>\n",
       "      <td>c) $5 M-$10 M</td>\n",
       "      <td>10000000</td>\n",
       "      <td>Checchi and Company Consulting, Inc.</td>\n",
       "      <td>Rule of Law</td>\n",
       "      <td>...</td>\n",
       "      <td>NaN</td>\n",
       "      <td>http://pdf.usaid.gov/pdf_docs/PDACY340.pdf</td>\n",
       "      <td>NaN</td>\n",
       "      <td>http://pdf.usaid.gov/pdf_docs/PDACW029.pdf</td>\n",
       "      <td>NaN</td>\n",
       "      <td>NaN</td>\n",
       "      <td>http://www.checchiconsulting.com/index.php?opt...</td>\n",
       "      <td>NaN</td>\n",
       "      <td>Very High Corruption</td>\n",
       "      <td>Very Unstable</td>\n",
       "    </tr>\n",
       "    <tr>\n",
       "      <th>3</th>\n",
       "      <td>4</td>\n",
       "      <td>South and Central Asia (SCA)</td>\n",
       "      <td>Afghanistan</td>\n",
       "      <td>Political Party Assessment</td>\n",
       "      <td>2012</td>\n",
       "      <td>2012</td>\n",
       "      <td>a) &lt;$1 M</td>\n",
       "      <td>NaN</td>\n",
       "      <td>Checchi and Company Consulting, Inc.</td>\n",
       "      <td>Elections and Political Processes</td>\n",
       "      <td>...</td>\n",
       "      <td>NaN</td>\n",
       "      <td>http://pdf.usaid.gov/pdf_docs/PNADZ833.pdf</td>\n",
       "      <td>NaN</td>\n",
       "      <td>NaN</td>\n",
       "      <td>NaN</td>\n",
       "      <td>NaN</td>\n",
       "      <td>NaN</td>\n",
       "      <td>NaN</td>\n",
       "      <td>Very High Corruption</td>\n",
       "      <td>Very Unstable</td>\n",
       "    </tr>\n",
       "    <tr>\n",
       "      <th>4</th>\n",
       "      <td>30</td>\n",
       "      <td>Europe and Eurasia (E&amp;E)</td>\n",
       "      <td>Albania</td>\n",
       "      <td>Justice Sector Strengthening Project (JuST)</td>\n",
       "      <td>2010</td>\n",
       "      <td>2015</td>\n",
       "      <td>c) $5 M-$10 M</td>\n",
       "      <td>9012613</td>\n",
       "      <td>Chemonics</td>\n",
       "      <td>Rule of Law, Civil Society</td>\n",
       "      <td>...</td>\n",
       "      <td>https://www.fbo.gov/index?s=opportunity&amp;mode=f...</td>\n",
       "      <td>NaN</td>\n",
       "      <td>NaN</td>\n",
       "      <td>NaN</td>\n",
       "      <td>NaN</td>\n",
       "      <td>http://pdf.usaid.gov/pdf_docs/PA00HWM1.pdf</td>\n",
       "      <td>NaN</td>\n",
       "      <td>NaN</td>\n",
       "      <td>High Corruption</td>\n",
       "      <td>Unstable</td>\n",
       "    </tr>\n",
       "  </tbody>\n",
       "</table>\n",
       "<p>5 rows × 24 columns</p>\n",
       "</div>"
      ],
      "text/plain": [
       "   uuid                        region      country  \\\n",
       "0     1  South and Central Asia (SCA)  Afghanistan   \n",
       "1     2  South and Central Asia (SCA)  Afghanistan   \n",
       "2     3  South and Central Asia (SCA)  Afghanistan   \n",
       "3     4  South and Central Asia (SCA)  Afghanistan   \n",
       "4    30      Europe and Eurasia (E&E)      Albania   \n",
       "\n",
       "                                             proj_nm  st_date end_date  \\\n",
       "0  Assistance for Afghanistan's Anti-Corruption A...     2010     2013   \n",
       "1  Rule of Law Stabilization Program - Formal Com...     2010     2012   \n",
       "2  Afghanistan Rule of Law Stabilization Project ...     2011     2012   \n",
       "3                         Political Party Assessment     2012     2012   \n",
       "4        Justice Sector Strengthening Project (JuST)     2010     2015   \n",
       "\n",
       "       awd_amount awd_value                             implementer  \\\n",
       "0  e) $25 M-$50 M  26642989  Management Systems International (MSI)   \n",
       "1  e) $25 M-$50 M  33700000                           TetraTech ARD   \n",
       "2   c) $5 M-$10 M  10000000    Checchi and Company Consulting, Inc.   \n",
       "3        a) <$1 M       NaN    Checchi and Company Consulting, Inc.   \n",
       "4   c) $5 M-$10 M   9012613                               Chemonics   \n",
       "\n",
       "                                sector  ...  \\\n",
       "0  Independent Agencies, Civil Society  ...   \n",
       "1                          Rule of Law  ...   \n",
       "2                          Rule of Law  ...   \n",
       "3    Elections and Political Processes  ...   \n",
       "4           Rule of Law, Civil Society  ...   \n",
       "\n",
       "                                           rfp_rftop  \\\n",
       "0                                                NaN   \n",
       "1                                                NaN   \n",
       "2                                                NaN   \n",
       "3                                                NaN   \n",
       "4  https://www.fbo.gov/index?s=opportunity&mode=f...   \n",
       "\n",
       "                                    final_res mind_eval  \\\n",
       "0  http://pdf.usaid.gov/pdf_docs/PA00JP3T.pdf       NaN   \n",
       "1                                         NaN       NaN   \n",
       "2  http://pdf.usaid.gov/pdf_docs/PDACY340.pdf       NaN   \n",
       "3  http://pdf.usaid.gov/pdf_docs/PNADZ833.pdf       NaN   \n",
       "4                                         NaN       NaN   \n",
       "\n",
       "                                   final_eval audit  \\\n",
       "0                                         NaN   NaN   \n",
       "1  http://pdf.usaid.gov/pdf_docs/PDACU496.pdf   NaN   \n",
       "2  http://pdf.usaid.gov/pdf_docs/PDACW029.pdf   NaN   \n",
       "3                                         NaN   NaN   \n",
       "4                                         NaN   NaN   \n",
       "\n",
       "                                  interim_rep  \\\n",
       "0                                         NaN   \n",
       "1                                         NaN   \n",
       "2                                         NaN   \n",
       "3                                         NaN   \n",
       "4  http://pdf.usaid.gov/pdf_docs/PA00HWM1.pdf   \n",
       "\n",
       "                                           addl_docs addl_info  \\\n",
       "0  http://www.msiworldwide.com/project/supporting...       NaN   \n",
       "1                                                NaN       NaN   \n",
       "2  http://www.checchiconsulting.com/index.php?opt...       NaN   \n",
       "3                                                NaN       NaN   \n",
       "4                                                NaN       NaN   \n",
       "\n",
       "             corruption      stability  \n",
       "0       High Corruption       Unstable  \n",
       "1  Very High Corruption  Very Unstable  \n",
       "2  Very High Corruption  Very Unstable  \n",
       "3  Very High Corruption  Very Unstable  \n",
       "4       High Corruption       Unstable  \n",
       "\n",
       "[5 rows x 24 columns]"
      ]
     },
     "execution_count": 3,
     "metadata": {},
     "output_type": "execute_result"
    }
   ],
   "source": [
    "df.head()"
   ]
  },
  {
   "cell_type": "code",
   "execution_count": 4,
   "metadata": {},
   "outputs": [],
   "source": [
    "df.drop(['proj_res','rfp_rftop','final_res','mind_eval','final_eval','audit','interim_rep','addl_docs','addl_info'],axis=1,inplace=True)"
   ]
  },
  {
   "cell_type": "code",
   "execution_count": 5,
   "metadata": {},
   "outputs": [
    {
     "data": {
      "text/plain": [
       "0    the five components of this program seek to ta...\n",
       "1    the overall goal of the program was to support...\n",
       "2    the project focused on strengthening and impro...\n",
       "3    the political party assessment team aimed to r...\n",
       "4    the justice sector strengthening project (just...\n",
       "Name: proj_desc, dtype: object"
      ]
     },
     "execution_count": 5,
     "metadata": {},
     "output_type": "execute_result"
    }
   ],
   "source": [
    "# Load the regular expression library\n",
    "import re\n",
    "# Remove punctuation\n",
    "df['proj_desc'] = df['proj_desc'].map(lambda x: re.sub('[,\\.!?]', '', x))\n",
    "# Convert the titles to lowercase\n",
    "df['proj_desc'] = df['proj_desc'].map(lambda x: x.lower())\n",
    "# Print out the first rows of papers\n",
    "df['proj_desc'].head()"
   ]
  },
  {
   "cell_type": "code",
   "execution_count": 6,
   "metadata": {},
   "outputs": [
    {
     "name": "stdout",
     "output_type": "stream",
     "text": [
      "[['the', 'five', 'components', 'of', 'this', 'program', 'seek', 'to', 'take', 'what', 'already', 'exists', 'and', 'improve', 'upon', 'it', 'implement', 'it', 'and', 'find', 'ways', 'to', 'ensure', 'that', 'the', 'progress', 'achieved', 'is', 'sustainable', 'over', 'the', 'long', 'term', 'the', 'project', 'will', 'help', 'the', 'government', 'of', 'the', 'islamic', 'republic', 'of', 'afghanistan', 'strengthen', 'its', 'high', 'office', 'of', 'oversight', 'hoo', 'making', 'it', 'strong', 'effective', 'institution', 'that', 'is', 'able', 'to', 'lead', 'monitor', 'coordinate', 'and', 'report', 'on', 'efforts', 'to', 'combat', 'corruption', 'across', 'the', 'country', 'the', 'project', 'will', 'work', 'and', 'implement', 'program', 'of', 'institutional', 'development', 'and', 'sustainability', 'it', 'will', 'also', 'support', 'the', 'office', 'in', 'carrying', 'out', 'its', 'priority', 'in', 'asset', 'registration', 'and', 'verification', 'complaints', 'management', 'and', 'case', 'tracking', 'and', 'coordination', 'and', 'monitoring', 'of', 'anticorruption', 'performance', 'across', 'other', 'government', 'agencies']]\n",
      "CPU times: user 1.41 s, sys: 731 ms, total: 2.14 s\n",
      "Wall time: 6.19 s\n"
     ]
    }
   ],
   "source": [
    "%%time\n",
    "import gensim\n",
    "from gensim.utils import simple_preprocess\n",
    "def sent_to_words(sentences):\n",
    "    for sentence in sentences:\n",
    "        yield(gensim.utils.simple_preprocess(str(sentence), deacc=True))  # deacc=True removes punctuations\n",
    "data =df.proj_desc.values.tolist()\n",
    "data_words = list(sent_to_words(data))\n",
    "print(data_words[:1])"
   ]
  },
  {
   "cell_type": "code",
   "execution_count": 16,
   "metadata": {},
   "outputs": [],
   "source": [
    "# Build the bigram and trigram models\n",
    "\n",
    "trigram = gensim.models.Phrases(bigram[data_words], threshold=100)\n",
    "# Faster way to get a sentence clubbed as a trigram/bigram\n",
    "\n",
    "trigram_mod = gensim.models.phrases.Phraser(trigram)"
   ]
  },
  {
   "cell_type": "code",
   "execution_count": 17,
   "metadata": {},
   "outputs": [],
   "source": [
    "\n",
    "from nltk.corpus import stopwords\n",
    "stop_words = stopwords.words('english')\n",
    "stop_words.extend(['from', 'subject', 're', 'edu', 'use'])\n",
    "# Define functions for stopwords, bigrams, trigrams and lemmatization\n",
    "def remove_stopwords(texts):\n",
    "    return [[word for word in simple_preprocess(str(doc)) if word not in stop_words] for doc in texts]\n",
    "def make_trigrams(texts):\n",
    "    return [trigram_mod[bigram_mod[doc]] for doc in texts]\n",
    "def lemmatization(texts, allowed_postags=['NOUN', 'ADJ', 'VERB', 'ADV']):\n",
    "    \"\"\"https://spacy.io/api/annotation\"\"\"\n",
    "    texts_out = []\n",
    "    for sent in texts:\n",
    "        doc = nlp(\" \".join(sent)) \n",
    "        texts_out.append([token.lemma_ for token in doc if token.pos_ in allowed_postags])\n",
    "    return texts_out"
   ]
  },
  {
   "cell_type": "code",
   "execution_count": 18,
   "metadata": {},
   "outputs": [
    {
     "name": "stdout",
     "output_type": "stream",
     "text": [
      "[['component', 'program', 'seek', 'take', 'already', 'exist', 'improve', 'implement', 'find', 'way', 'ensure', 'progress', 'achieve', 'sustainable', 'project', 'help', 'government', 'islamic_republic', 'strengthen', 'high', 'office', 'oversight', 'hoo', 'make', 'strong', 'effective', 'institution', 'able', 'lead', 'monitor', 'coordinate', 'report', 'effort', 'combat', 'corruption', 'country', 'project', 'work', 'implement', 'program', 'institutional', 'development', 'sustainability', 'also', 'support', 'office', 'carry', 'priority', 'asset', 'registration', 'verification', 'complaint', 'management', 'case', 'track', 'coordination', 'monitor', 'anticorruption', 'performance', 'government', 'agency']]\n"
     ]
    }
   ],
   "source": [
    "import spacy\n",
    "import en_core_web_sm\n",
    "# Remove Stop Words\n",
    "data_words_nostops = remove_stopwords(data_words)\n",
    "# Form trigrams\n",
    "data_words_trigrams = make_trigrams(data_words_nostops)\n",
    "# Initialize spacy 'en' model, keeping only tagger component (for efficiency)\n",
    "nlp = en_core_web_sm.load()\n",
    "# Do lemmatization keeping only noun, adj, vb, adv\n",
    "data_lemmatized = lemmatization(data_words_trigrams, allowed_postags=['NOUN', 'ADJ', 'VERB', 'ADV'])\n",
    "print(data_lemmatized[:1])"
   ]
  },
  {
   "cell_type": "code",
   "execution_count": 19,
   "metadata": {},
   "outputs": [
    {
     "name": "stdout",
     "output_type": "stream",
     "text": [
      "[[(0, 1), (1, 1), (2, 1), (3, 1), (4, 1), (5, 1), (6, 1), (7, 1), (8, 1), (9, 1), (10, 1), (11, 1), (12, 1), (13, 1), (14, 1), (15, 1), (16, 1), (17, 1), (18, 1), (19, 1), (20, 1), (21, 1), (22, 2), (23, 1), (24, 1), (25, 1), (26, 2), (27, 1), (28, 1), (29, 1), (30, 1), (31, 1), (32, 1), (33, 1), (34, 2), (35, 2), (36, 1), (37, 1), (38, 1), (39, 2), (40, 1), (41, 2), (42, 1), (43, 1), (44, 1), (45, 1), (46, 1), (47, 1), (48, 1), (49, 1), (50, 1), (51, 1), (52, 1), (53, 1), (54, 1)]]\n"
     ]
    }
   ],
   "source": [
    "import gensim.corpora as corpora\n",
    "# Create Dictionary\n",
    "id2word = corpora.Dictionary(data_lemmatized)\n",
    "# Create Corpus\n",
    "texts = data_lemmatized\n",
    "# Term Document Frequency\n",
    "corpus = [id2word.doc2bow(text) for text in texts]\n",
    "# View\n",
    "print(corpus[:1])"
   ]
  },
  {
   "cell_type": "code",
   "execution_count": 20,
   "metadata": {},
   "outputs": [],
   "source": [
    "# Build LDA model\n",
    "lda_model = gensim.models.LdaMulticore(corpus=corpus,\n",
    "                                       id2word=id2word,\n",
    "                                       num_topics=10, \n",
    "                                       random_state=100,\n",
    "                                       chunksize=100,\n",
    "                                       passes=10,\n",
    "                                       per_word_topics=True)"
   ]
  },
  {
   "cell_type": "code",
   "execution_count": 21,
   "metadata": {},
   "outputs": [
    {
     "name": "stdout",
     "output_type": "stream",
     "text": [
      "[(0,\n",
      "  '0.030*\"improve\" + 0.028*\"increase\" + 0.025*\"service\" + 0.025*\"health\" + '\n",
      "  '0.023*\"project\" + 0.018*\"capacity\" + 0.015*\"community\" + 0.014*\"transition\" '\n",
      "  '+ 0.014*\"design\" + 0.013*\"level\"'),\n",
      " (1,\n",
      "  '0.036*\"project\" + 0.018*\"support\" + 0.018*\"capacity\" + 0.015*\"actor\" + '\n",
      "  '0.015*\"local\" + 0.014*\"provide\" + 0.013*\"financial\" + 0.013*\"relate\" + '\n",
      "  '0.013*\"program\" + 0.013*\"critical\"'),\n",
      " (2,\n",
      "  '0.032*\"program\" + 0.019*\"aim\" + 0.016*\"service_delivery\" + 0.015*\"document\" '\n",
      "  '+ 0.014*\"improve\" + 0.013*\"contribute\" + 0.013*\"system\" + 0.013*\"reform\" + '\n",
      "  '0.013*\"facilitate\" + 0.012*\"national\"'),\n",
      " (3,\n",
      "  '0.024*\"corruption\" + 0.022*\"program\" + 0.019*\"support\" + 0.018*\"government\" '\n",
      "  '+ 0.017*\"improve\" + 0.013*\"trade\" + 0.013*\"reduce\" + 0.012*\"investment\" + '\n",
      "  '0.012*\"reform\" + 0.011*\"system\"'),\n",
      " (4,\n",
      "  '0.041*\"reform\" + 0.032*\"legal\" + 0.029*\"project\" + 0.023*\"health\" + '\n",
      "  '0.021*\"policy\" + 0.021*\"sector\" + 0.020*\"increase\" + 0.019*\"support\" + '\n",
      "  '0.018*\"palestinian\" + 0.016*\"improve\"'),\n",
      " (5,\n",
      "  '0.031*\"infrastructure\" + 0.026*\"program\" + 0.024*\"local\" + 0.021*\"capacity\" '\n",
      "  '+ 0.018*\"government\" + 0.016*\"governance\" + 0.015*\"address\" + '\n",
      "  '0.014*\"community\" + 0.014*\"need\" + 0.014*\"improve\"'),\n",
      " (6,\n",
      "  '0.030*\"democratic\" + 0.021*\"local\" + 0.021*\"government\" + '\n",
      "  '0.019*\"governance\" + 0.019*\"program\" + 0.015*\"palestinian\" + '\n",
      "  '0.015*\"enhance\" + 0.015*\"support\" + 0.013*\"strategic\" + '\n",
      "  '0.012*\"accountable\"'),\n",
      " (7,\n",
      "  '0.032*\"project\" + 0.025*\"increase\" + 0.020*\"public\" + 0.020*\"government\" + '\n",
      "  '0.019*\"development\" + 0.019*\"system\" + 0.018*\"justice\" + 0.016*\"improve\" + '\n",
      "  '0.014*\"sector\" + 0.013*\"efficiency\"'),\n",
      " (8,\n",
      "  '0.033*\"local\" + 0.029*\"government\" + 0.023*\"project\" + 0.021*\"strengthen\" + '\n",
      "  '0.020*\"improve\" + 0.017*\"capacity\" + 0.015*\"governance\" + 0.015*\"support\" + '\n",
      "  '0.015*\"corruption\" + 0.014*\"public\"'),\n",
      " (9,\n",
      "  '0.039*\"justice\" + 0.033*\"law\" + 0.027*\"capacity\" + 0.025*\"public\" + '\n",
      "  '0.024*\"court\" + 0.022*\"improve\" + 0.022*\"project\" + 0.021*\"increase\" + '\n",
      "  '0.021*\"sector\" + 0.018*\"judicial\"')]\n"
     ]
    }
   ],
   "source": [
    "from pprint import pprint\n",
    "# Print the Keyword in the 10 topics\n",
    "pprint(lda_model.print_topics())\n",
    "doc_lda = lda_model[corpus]"
   ]
  },
  {
   "cell_type": "code",
   "execution_count": 22,
   "metadata": {},
   "outputs": [
    {
     "name": "stdout",
     "output_type": "stream",
     "text": [
      "\n",
      "Coherence Score:  0.4202927717059278\n"
     ]
    }
   ],
   "source": [
    "from gensim.models import CoherenceModel\n",
    "# Compute Coherence Score\n",
    "coherence_model_lda = CoherenceModel(model=lda_model, texts=data_lemmatized, dictionary=id2word, coherence='c_v')\n",
    "coherence_lda = coherence_model_lda.get_coherence()\n",
    "print('\\nCoherence Score: ', coherence_lda)"
   ]
  },
  {
   "cell_type": "code",
   "execution_count": null,
   "metadata": {},
   "outputs": [],
   "source": []
  }
 ],
 "metadata": {
  "kernelspec": {
   "display_name": "Python 3",
   "language": "python",
   "name": "python3"
  },
  "language_info": {
   "codemirror_mode": {
    "name": "ipython",
    "version": 3
   },
   "file_extension": ".py",
   "mimetype": "text/x-python",
   "name": "python",
   "nbconvert_exporter": "python",
   "pygments_lexer": "ipython3",
   "version": "3.7.7"
  }
 },
 "nbformat": 4,
 "nbformat_minor": 4
}
