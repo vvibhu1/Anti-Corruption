{
 "cells": [
  {
   "cell_type": "code",
   "execution_count": 2,
   "metadata": {},
   "outputs": [],
   "source": [
    "#libraries we need\n",
    "\n",
    "import pandas as pd\n",
    "import numpy as np\n",
    "import matplotlib.pyplot as plt\n",
    "import seaborn as sns\n",
    "import glob\n",
    "import os\n",
    "\n",
    "#Give the path with all the files \n",
    "os.chdir('/Users/vibhuverma/Desktop/CLASSWORK/BUSINESS PRACTICUM/Anti-Corruption/Final Data/Date_by_category/data')\n",
    "files = glob.glob(\"*.csv\")"
   ]
  },
  {
   "cell_type": "code",
   "execution_count": 3,
   "metadata": {},
   "outputs": [],
   "source": [
    "for i in range(len(files)):\n",
    "    df = pd.read_csv(files[i])\n",
    "    df.drop(['Unnamed: 0'],axis=1, inplace=True)\n",
    "    corr = df.corr()\n",
    "\n",
    "    missing = pd.DataFrame(df.isna().sum()*100/df.shape[0]).reset_index()\n",
    "    missing = missing.rename(columns={\"index\": \"col_name\", 0: \"percentage\"})\n",
    "    drop_missing = missing[missing['percentage'] > 30].col_name.to_list() #30 corresponds to 30% for a column\n",
    "    df.drop(drop_missing, axis=1,inplace=True)\n",
    "\n",
    "    cor_matrix = df.corr().abs()\n",
    "    #print(cor_matrix)\n",
    "\n",
    "    upper_tri = cor_matrix.where(np.triu(np.ones(cor_matrix.shape),k=1).astype(np.bool))\n",
    "    #print(upper_tri)\n",
    "\n",
    "    to_drop = [column for column in upper_tri.columns if any(upper_tri[column] > 0.90)] \n",
    "    #print(to_drop)\n",
    "\n",
    "    df_final = df.drop(to_drop, axis=1)\n",
    "    \n",
    "    df_final.head()\n",
    "    \n",
    "    outdir = './New'\n",
    "    if not os.path.exists(outdir):\n",
    "        os.mkdir(outdir)\n",
    "    \n",
    "    \n",
    "    file_name=\"New/\"+files[i]\n",
    "    df_final.to_csv(file_name)"
   ]
  },
  {
   "cell_type": "code",
   "execution_count": null,
   "metadata": {},
   "outputs": [],
   "source": []
  }
 ],
 "metadata": {
  "kernelspec": {
   "display_name": "Python 3",
   "language": "python",
   "name": "python3"
  },
  "language_info": {
   "codemirror_mode": {
    "name": "ipython",
    "version": 3
   },
   "file_extension": ".py",
   "mimetype": "text/x-python",
   "name": "python",
   "nbconvert_exporter": "python",
   "pygments_lexer": "ipython3",
   "version": "3.7.7"
  }
 },
 "nbformat": 4,
 "nbformat_minor": 4
}
