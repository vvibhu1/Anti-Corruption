{
 "cells": [
  {
   "cell_type": "code",
   "execution_count": 24,
   "metadata": {},
   "outputs": [],
   "source": [
    "import os\n",
    "import pandas as pd\n",
    "import matplotlib.pyplot as plt\n",
    "import seaborn as sns\n",
    "import itertools\n",
    "import collections\n",
    "\n",
    "import tweepy as tw\n",
    "import nltk\n",
    "from nltk.corpus import stopwords\n",
    "import re\n",
    "import networkx\n",
    "\n",
    "import warnings\n",
    "warnings.filterwarnings(\"ignore\")\n",
    "\n",
    "sns.set(font_scale=1.5)\n",
    "sns.set_style(\"whitegrid\")"
   ]
  },
  {
   "cell_type": "code",
   "execution_count": 18,
   "metadata": {},
   "outputs": [],
   "source": [
    "consumer_key= 'FClKz1M8I3Lnc1XCMu7O6uD1F'\n",
    "consumer_secret= 'Awjr9Lrx0P8TvuNVAhhBKAAgYcLLu6RqgKsMAY0mif4EE4XmQf'\n",
    "access_token= '1236437118353883139-rR0Jr7KHV8LqeIGDETmw5gpuv7dKik'\n",
    "access_token_secret= 'mGWIGAmPXY1ya6jadTeEY7l1v56B7vp34L46OiuJVCO6L'"
   ]
  },
  {
   "cell_type": "code",
   "execution_count": 19,
   "metadata": {},
   "outputs": [],
   "source": [
    "auth = tw.OAuthHandler(consumer_key, consumer_secret)\n",
    "auth.set_access_token(access_token, access_token_secret)\n",
    "api = tw.API(auth, wait_on_rate_limit=True)"
   ]
  },
  {
   "cell_type": "code",
   "execution_count": 20,
   "metadata": {},
   "outputs": [],
   "source": [
    "# Define the search term and the date_since date as variables\n",
    "search_term = \"#corruption\"\n",
    "date_since = \"2007-01-01\""
   ]
  },
  {
   "cell_type": "code",
   "execution_count": 21,
   "metadata": {},
   "outputs": [
    {
     "data": {
      "text/plain": [
       "['.@bbcnews (finally) reporting the #Corruption &amp; #cronyism at the heart of UKGOV #PPE #COVID19 procurement.',\n",
       " 'We ARE OUTRAGED!  THE #VOTERFRAUD AND #VOTERTAMPERING AND #CORRUPTION IS #EVIDENT! https://t.co/UOl0oaxfxT',\n",
       " 'RT @BombshellDAILY: MCCONNELL SUPPRESSION TACTICS LEAKED\\nAfter receiving large donations from voting machine manufacturers, the Senate Lead…',\n",
       " 'The mistake we’re all making of course, is that £21m is not that much money to these mooks. #Corruption',\n",
       " 'Better late than never. #corruption https://t.co/8I5nHiDiRk']"
      ]
     },
     "execution_count": 21,
     "metadata": {},
     "output_type": "execute_result"
    }
   ],
   "source": [
    "tweets = tw.Cursor(api.search,\n",
    "                   q=search_term,\n",
    "                   lang=\"en\",\n",
    "                   since='2018-11-01').items(1000)\n",
    "\n",
    "all_tweets = [tweet.text for tweet in tweets]\n",
    "\n",
    "all_tweets[:5]"
   ]
  },
  {
   "cell_type": "code",
   "execution_count": 22,
   "metadata": {},
   "outputs": [],
   "source": [
    "def remove_url(txt):\n",
    "    \"\"\"Replace URLs found in a text string with nothing \n",
    "    (i.e. it will remove the URL from the string).\n",
    "\n",
    "    Parameters\n",
    "    ----------\n",
    "    txt : string\n",
    "        A text string that you want to parse and remove urls.\n",
    "\n",
    "    Returns\n",
    "    -------\n",
    "    The same txt string with url's removed.\n",
    "    \"\"\"\n",
    "\n",
    "    return \" \".join(re.sub(\"([^0-9A-Za-z \\t])|(\\w+:\\/\\/\\S+)\", \"\", txt).split())"
   ]
  },
  {
   "cell_type": "code",
   "execution_count": 25,
   "metadata": {},
   "outputs": [
    {
     "data": {
      "text/plain": [
       "['bbcnews finally reporting the Corruption amp cronyism at the heart of UKGOV PPE COVID19 procurement',\n",
       " 'We ARE OUTRAGED THE VOTERFRAUD AND VOTERTAMPERING AND CORRUPTION IS EVIDENT',\n",
       " 'RT BombshellDAILY MCCONNELL SUPPRESSION TACTICS LEAKEDAfter receiving large donations from voting machine manufacturers the Senate Lead',\n",
       " 'The mistake were all making of course is that 21m is not that much money to these mooks Corruption',\n",
       " 'Better late than never corruption']"
      ]
     },
     "execution_count": 25,
     "metadata": {},
     "output_type": "execute_result"
    }
   ],
   "source": [
    "all_tweets_no_urls = [remove_url(tweet) for tweet in all_tweets]\n",
    "all_tweets_no_urls[:5]"
   ]
  },
  {
   "cell_type": "code",
   "execution_count": null,
   "metadata": {},
   "outputs": [],
   "source": []
  }
 ],
 "metadata": {
  "kernelspec": {
   "display_name": "Python 3",
   "language": "python",
   "name": "python3"
  },
  "language_info": {
   "codemirror_mode": {
    "name": "ipython",
    "version": 3
   },
   "file_extension": ".py",
   "mimetype": "text/x-python",
   "name": "python",
   "nbconvert_exporter": "python",
   "pygments_lexer": "ipython3",
   "version": "3.7.7"
  }
 },
 "nbformat": 4,
 "nbformat_minor": 4
}
